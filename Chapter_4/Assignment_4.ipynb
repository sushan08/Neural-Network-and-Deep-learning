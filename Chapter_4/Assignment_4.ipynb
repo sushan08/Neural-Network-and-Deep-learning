{
  "nbformat": 4,
  "nbformat_minor": 0,
  "metadata": {
    "colab": {
      "provenance": []
    },
    "kernelspec": {
      "name": "python3",
      "display_name": "Python 3"
    },
    "language_info": {
      "name": "python"
    }
  },
  "cells": [
    {
      "cell_type": "code",
      "execution_count": null,
      "metadata": {
        "id": "0xYC4rao6A4G"
      },
      "outputs": [],
      "source": [
        "import numpy as np"
      ]
    },
    {
      "cell_type": "markdown",
      "source": [
        "Initialize all the weights, $U$, $W$, and $V$, by randomly drawing from the\n",
        "uniform distribution:"
      ],
      "metadata": {
        "id": "kDLfKBTECxJ2"
      }
    },
    {
      "cell_type": "markdown",
      "source": [
        "# Forward propagation in RNN"
      ],
      "metadata": {
        "id": "t3LAzvfoEG0B"
      }
    },
    {
      "cell_type": "code",
      "source": [
        "input_dim = 10\n",
        "hidden_dim = 10\n",
        "output_dim = 10"
      ],
      "metadata": {
        "id": "RpBBMZTUCtap"
      },
      "execution_count": null,
      "outputs": []
    },
    {
      "cell_type": "code",
      "source": [
        "U = np.random.uniform(-np.sqrt(1.0 / input_dim), np.sqrt(1.0 / input_dim), (hidden_dim, input_dim))\n",
        "W = np.random.uniform(-np.sqrt(1.0 / hidden_dim), np.sqrt(1.0 / hidden_dim), (hidden_dim, hidden_dim))\n",
        "V = np.random.uniform(-np.sqrt(1.0 / hidden_dim), np.sqrt(1.0 / hidden_dim), (input_dim, hidden_dim))"
      ],
      "metadata": {
        "id": "Yi76ETt1C1GX"
      },
      "execution_count": null,
      "outputs": []
    },
    {
      "cell_type": "markdown",
      "source": [
        "Define the number of time steps, which will be the length of our input\n",
        "sequence, $x$:"
      ],
      "metadata": {
        "id": "cJVRlWstDCnc"
      }
    },
    {
      "cell_type": "code",
      "source": [
        "x = [10, 12, 14, 16, 18]"
      ],
      "metadata": {
        "id": "AC3rI6QxC3MH"
      },
      "execution_count": null,
      "outputs": []
    },
    {
      "cell_type": "code",
      "source": [
        "num_time_steps = len(x)"
      ],
      "metadata": {
        "id": "2OEH8Mt2DFTu"
      },
      "execution_count": null,
      "outputs": []
    },
    {
      "cell_type": "code",
      "source": [
        "hidden_state = np.zeros((num_time_steps + 1, hidden_dim))"
      ],
      "metadata": {
        "id": "08bjO2arDH33"
      },
      "execution_count": null,
      "outputs": []
    },
    {
      "cell_type": "code",
      "source": [
        "hidden_state[-1] = np.zeros(hidden_dim)"
      ],
      "metadata": {
        "id": "8iuBToErDMUW"
      },
      "execution_count": null,
      "outputs": []
    },
    {
      "cell_type": "code",
      "source": [
        "YHat = np.zeros((num_time_steps, output_dim))"
      ],
      "metadata": {
        "id": "B8k2_zCJDOHu"
      },
      "execution_count": null,
      "outputs": []
    },
    {
      "cell_type": "code",
      "source": [
        "def softmax(x):\n",
        "    return np.exp(x) / np.exp(x).sum(axis=0)"
      ],
      "metadata": {
        "id": "peKbm96rDQDX"
      },
      "execution_count": null,
      "outputs": []
    },
    {
      "cell_type": "code",
      "source": [
        "for t in np.arange(num_time_steps):\n",
        "    # h_t = tanh(UX + Wh_{t-1})\n",
        "    # hidden_state[t] = np.tanh(U[:, x[t]] + W.dot(hidden_state[t - 1]))\n",
        "    # yhat_t = softmax(vh)\n",
        "    YHat[t] = softmax(V.dot(hidden_state[t]))\n",
        "YHat"
      ],
      "metadata": {
        "colab": {
          "base_uri": "https://localhost:8080/"
        },
        "id": "Tcqpp3NpDb7G",
        "outputId": "f2ee3960-56e6-4303-9ae2-60f09be03533"
      },
      "execution_count": null,
      "outputs": [
        {
          "output_type": "execute_result",
          "data": {
            "text/plain": [
              "array([[0.1, 0.1, 0.1, 0.1, 0.1, 0.1, 0.1, 0.1, 0.1, 0.1],\n",
              "       [0.1, 0.1, 0.1, 0.1, 0.1, 0.1, 0.1, 0.1, 0.1, 0.1],\n",
              "       [0.1, 0.1, 0.1, 0.1, 0.1, 0.1, 0.1, 0.1, 0.1, 0.1],\n",
              "       [0.1, 0.1, 0.1, 0.1, 0.1, 0.1, 0.1, 0.1, 0.1, 0.1],\n",
              "       [0.1, 0.1, 0.1, 0.1, 0.1, 0.1, 0.1, 0.1, 0.1, 0.1]])"
            ]
          },
          "metadata": {},
          "execution_count": 10
        }
      ]
    },
    {
      "cell_type": "markdown",
      "source": [
        "# Generating song lyrics using RNNs\n"
      ],
      "metadata": {
        "id": "N6O2M74cD0m1"
      }
    },
    {
      "cell_type": "code",
      "source": [
        "import warnings\n",
        "warnings.filterwarnings('ignore')\n",
        "import random\n",
        "import numpy as np\n",
        "import tensorflow as tf\n",
        "import warnings\n",
        "warnings.filterwarnings('ignore')\n",
        "import pandas as pd"
      ],
      "metadata": {
        "id": "FVWfu1tnDh24"
      },
      "execution_count": null,
      "outputs": []
    },
    {
      "cell_type": "code",
      "source": [
        "from google.colab import files\n",
        "uploaded = files.upload()"
      ],
      "metadata": {
        "colab": {
          "base_uri": "https://localhost:8080/",
          "height": 73
        },
        "id": "PuRAIFnBHwbe",
        "outputId": "8448339e-f0cd-474e-ee9e-44a8ebe8b039"
      },
      "execution_count": 25,
      "outputs": [
        {
          "output_type": "display_data",
          "data": {
            "text/plain": [
              "<IPython.core.display.HTML object>"
            ],
            "text/html": [
              "\n",
              "     <input type=\"file\" id=\"files-18a14129-e7ce-4bbc-ad66-70f0911e0a0b\" name=\"files[]\" multiple disabled\n",
              "        style=\"border:none\" />\n",
              "     <output id=\"result-18a14129-e7ce-4bbc-ad66-70f0911e0a0b\">\n",
              "      Upload widget is only available when the cell has been executed in the\n",
              "      current browser session. Please rerun this cell to enable.\n",
              "      </output>\n",
              "      <script>// Copyright 2017 Google LLC\n",
              "//\n",
              "// Licensed under the Apache License, Version 2.0 (the \"License\");\n",
              "// you may not use this file except in compliance with the License.\n",
              "// You may obtain a copy of the License at\n",
              "//\n",
              "//      http://www.apache.org/licenses/LICENSE-2.0\n",
              "//\n",
              "// Unless required by applicable law or agreed to in writing, software\n",
              "// distributed under the License is distributed on an \"AS IS\" BASIS,\n",
              "// WITHOUT WARRANTIES OR CONDITIONS OF ANY KIND, either express or implied.\n",
              "// See the License for the specific language governing permissions and\n",
              "// limitations under the License.\n",
              "\n",
              "/**\n",
              " * @fileoverview Helpers for google.colab Python module.\n",
              " */\n",
              "(function(scope) {\n",
              "function span(text, styleAttributes = {}) {\n",
              "  const element = document.createElement('span');\n",
              "  element.textContent = text;\n",
              "  for (const key of Object.keys(styleAttributes)) {\n",
              "    element.style[key] = styleAttributes[key];\n",
              "  }\n",
              "  return element;\n",
              "}\n",
              "\n",
              "// Max number of bytes which will be uploaded at a time.\n",
              "const MAX_PAYLOAD_SIZE = 100 * 1024;\n",
              "\n",
              "function _uploadFiles(inputId, outputId) {\n",
              "  const steps = uploadFilesStep(inputId, outputId);\n",
              "  const outputElement = document.getElementById(outputId);\n",
              "  // Cache steps on the outputElement to make it available for the next call\n",
              "  // to uploadFilesContinue from Python.\n",
              "  outputElement.steps = steps;\n",
              "\n",
              "  return _uploadFilesContinue(outputId);\n",
              "}\n",
              "\n",
              "// This is roughly an async generator (not supported in the browser yet),\n",
              "// where there are multiple asynchronous steps and the Python side is going\n",
              "// to poll for completion of each step.\n",
              "// This uses a Promise to block the python side on completion of each step,\n",
              "// then passes the result of the previous step as the input to the next step.\n",
              "function _uploadFilesContinue(outputId) {\n",
              "  const outputElement = document.getElementById(outputId);\n",
              "  const steps = outputElement.steps;\n",
              "\n",
              "  const next = steps.next(outputElement.lastPromiseValue);\n",
              "  return Promise.resolve(next.value.promise).then((value) => {\n",
              "    // Cache the last promise value to make it available to the next\n",
              "    // step of the generator.\n",
              "    outputElement.lastPromiseValue = value;\n",
              "    return next.value.response;\n",
              "  });\n",
              "}\n",
              "\n",
              "/**\n",
              " * Generator function which is called between each async step of the upload\n",
              " * process.\n",
              " * @param {string} inputId Element ID of the input file picker element.\n",
              " * @param {string} outputId Element ID of the output display.\n",
              " * @return {!Iterable<!Object>} Iterable of next steps.\n",
              " */\n",
              "function* uploadFilesStep(inputId, outputId) {\n",
              "  const inputElement = document.getElementById(inputId);\n",
              "  inputElement.disabled = false;\n",
              "\n",
              "  const outputElement = document.getElementById(outputId);\n",
              "  outputElement.innerHTML = '';\n",
              "\n",
              "  const pickedPromise = new Promise((resolve) => {\n",
              "    inputElement.addEventListener('change', (e) => {\n",
              "      resolve(e.target.files);\n",
              "    });\n",
              "  });\n",
              "\n",
              "  const cancel = document.createElement('button');\n",
              "  inputElement.parentElement.appendChild(cancel);\n",
              "  cancel.textContent = 'Cancel upload';\n",
              "  const cancelPromise = new Promise((resolve) => {\n",
              "    cancel.onclick = () => {\n",
              "      resolve(null);\n",
              "    };\n",
              "  });\n",
              "\n",
              "  // Wait for the user to pick the files.\n",
              "  const files = yield {\n",
              "    promise: Promise.race([pickedPromise, cancelPromise]),\n",
              "    response: {\n",
              "      action: 'starting',\n",
              "    }\n",
              "  };\n",
              "\n",
              "  cancel.remove();\n",
              "\n",
              "  // Disable the input element since further picks are not allowed.\n",
              "  inputElement.disabled = true;\n",
              "\n",
              "  if (!files) {\n",
              "    return {\n",
              "      response: {\n",
              "        action: 'complete',\n",
              "      }\n",
              "    };\n",
              "  }\n",
              "\n",
              "  for (const file of files) {\n",
              "    const li = document.createElement('li');\n",
              "    li.append(span(file.name, {fontWeight: 'bold'}));\n",
              "    li.append(span(\n",
              "        `(${file.type || 'n/a'}) - ${file.size} bytes, ` +\n",
              "        `last modified: ${\n",
              "            file.lastModifiedDate ? file.lastModifiedDate.toLocaleDateString() :\n",
              "                                    'n/a'} - `));\n",
              "    const percent = span('0% done');\n",
              "    li.appendChild(percent);\n",
              "\n",
              "    outputElement.appendChild(li);\n",
              "\n",
              "    const fileDataPromise = new Promise((resolve) => {\n",
              "      const reader = new FileReader();\n",
              "      reader.onload = (e) => {\n",
              "        resolve(e.target.result);\n",
              "      };\n",
              "      reader.readAsArrayBuffer(file);\n",
              "    });\n",
              "    // Wait for the data to be ready.\n",
              "    let fileData = yield {\n",
              "      promise: fileDataPromise,\n",
              "      response: {\n",
              "        action: 'continue',\n",
              "      }\n",
              "    };\n",
              "\n",
              "    // Use a chunked sending to avoid message size limits. See b/62115660.\n",
              "    let position = 0;\n",
              "    do {\n",
              "      const length = Math.min(fileData.byteLength - position, MAX_PAYLOAD_SIZE);\n",
              "      const chunk = new Uint8Array(fileData, position, length);\n",
              "      position += length;\n",
              "\n",
              "      const base64 = btoa(String.fromCharCode.apply(null, chunk));\n",
              "      yield {\n",
              "        response: {\n",
              "          action: 'append',\n",
              "          file: file.name,\n",
              "          data: base64,\n",
              "        },\n",
              "      };\n",
              "\n",
              "      let percentDone = fileData.byteLength === 0 ?\n",
              "          100 :\n",
              "          Math.round((position / fileData.byteLength) * 100);\n",
              "      percent.textContent = `${percentDone}% done`;\n",
              "\n",
              "    } while (position < fileData.byteLength);\n",
              "  }\n",
              "\n",
              "  // All done.\n",
              "  yield {\n",
              "    response: {\n",
              "      action: 'complete',\n",
              "    }\n",
              "  };\n",
              "}\n",
              "\n",
              "scope.google = scope.google || {};\n",
              "scope.google.colab = scope.google.colab || {};\n",
              "scope.google.colab._files = {\n",
              "  _uploadFiles,\n",
              "  _uploadFilesContinue,\n",
              "};\n",
              "})(self);\n",
              "</script> "
            ]
          },
          "metadata": {}
        },
        {
          "output_type": "stream",
          "name": "stdout",
          "text": [
            "Saving songdata.csv to songdata.csv\n"
          ]
        }
      ]
    },
    {
      "cell_type": "markdown",
      "source": [
        "Read the downloaded input dataset:"
      ],
      "metadata": {
        "id": "ov79CyZaJY65"
      }
    },
    {
      "cell_type": "code",
      "source": [
        "df = pd.read_csv('songdata.csv')"
      ],
      "metadata": {
        "id": "ZPr5dSG7En5H"
      },
      "execution_count": 26,
      "outputs": []
    },
    {
      "cell_type": "markdown",
      "source": [
        "Dataset exploration"
      ],
      "metadata": {
        "id": "6rdo2rpmJcMw"
      }
    },
    {
      "cell_type": "code",
      "source": [
        "df.head()"
      ],
      "metadata": {
        "id": "Qqa8Ce9HEuS2",
        "colab": {
          "base_uri": "https://localhost:8080/",
          "height": 206
        },
        "outputId": "837185bc-2c4c-47c5-aad1-a6f49e934485"
      },
      "execution_count": 27,
      "outputs": [
        {
          "output_type": "execute_result",
          "data": {
            "text/plain": [
              "  artist                   song                                        link  \\\n",
              "0   ABBA  Ahe's My Kind Of Girl  /a/abba/ahes+my+kind+of+girl_20598417.html   \n",
              "1   ABBA       Andante, Andante       /a/abba/andante+andante_20002708.html   \n",
              "2   ABBA         As Good As New        /a/abba/as+good+as+new_20003033.html   \n",
              "3   ABBA                   Bang                  /a/abba/bang_20598415.html   \n",
              "4   ABBA       Bang-A-Boomerang      /a/abba/bang+a+boomerang_20002668.html   \n",
              "\n",
              "                                                text  \n",
              "0  Look at her face, it's a wonderful face  \\nAnd...  \n",
              "1  Take it easy with me, please  \\nTouch me gentl...  \n",
              "2  I'll never know why I had to go  \\nWhy I had t...  \n",
              "3  Making somebody happy is a question of give an...  \n",
              "4  Making somebody happy is a question of give an...  "
            ],
            "text/html": [
              "\n",
              "  <div id=\"df-6c1322dc-4977-474f-a402-446eb0f53290\" class=\"colab-df-container\">\n",
              "    <div>\n",
              "<style scoped>\n",
              "    .dataframe tbody tr th:only-of-type {\n",
              "        vertical-align: middle;\n",
              "    }\n",
              "\n",
              "    .dataframe tbody tr th {\n",
              "        vertical-align: top;\n",
              "    }\n",
              "\n",
              "    .dataframe thead th {\n",
              "        text-align: right;\n",
              "    }\n",
              "</style>\n",
              "<table border=\"1\" class=\"dataframe\">\n",
              "  <thead>\n",
              "    <tr style=\"text-align: right;\">\n",
              "      <th></th>\n",
              "      <th>artist</th>\n",
              "      <th>song</th>\n",
              "      <th>link</th>\n",
              "      <th>text</th>\n",
              "    </tr>\n",
              "  </thead>\n",
              "  <tbody>\n",
              "    <tr>\n",
              "      <th>0</th>\n",
              "      <td>ABBA</td>\n",
              "      <td>Ahe's My Kind Of Girl</td>\n",
              "      <td>/a/abba/ahes+my+kind+of+girl_20598417.html</td>\n",
              "      <td>Look at her face, it's a wonderful face  \\nAnd...</td>\n",
              "    </tr>\n",
              "    <tr>\n",
              "      <th>1</th>\n",
              "      <td>ABBA</td>\n",
              "      <td>Andante, Andante</td>\n",
              "      <td>/a/abba/andante+andante_20002708.html</td>\n",
              "      <td>Take it easy with me, please  \\nTouch me gentl...</td>\n",
              "    </tr>\n",
              "    <tr>\n",
              "      <th>2</th>\n",
              "      <td>ABBA</td>\n",
              "      <td>As Good As New</td>\n",
              "      <td>/a/abba/as+good+as+new_20003033.html</td>\n",
              "      <td>I'll never know why I had to go  \\nWhy I had t...</td>\n",
              "    </tr>\n",
              "    <tr>\n",
              "      <th>3</th>\n",
              "      <td>ABBA</td>\n",
              "      <td>Bang</td>\n",
              "      <td>/a/abba/bang_20598415.html</td>\n",
              "      <td>Making somebody happy is a question of give an...</td>\n",
              "    </tr>\n",
              "    <tr>\n",
              "      <th>4</th>\n",
              "      <td>ABBA</td>\n",
              "      <td>Bang-A-Boomerang</td>\n",
              "      <td>/a/abba/bang+a+boomerang_20002668.html</td>\n",
              "      <td>Making somebody happy is a question of give an...</td>\n",
              "    </tr>\n",
              "  </tbody>\n",
              "</table>\n",
              "</div>\n",
              "    <div class=\"colab-df-buttons\">\n",
              "\n",
              "  <div class=\"colab-df-container\">\n",
              "    <button class=\"colab-df-convert\" onclick=\"convertToInteractive('df-6c1322dc-4977-474f-a402-446eb0f53290')\"\n",
              "            title=\"Convert this dataframe to an interactive table.\"\n",
              "            style=\"display:none;\">\n",
              "\n",
              "  <svg xmlns=\"http://www.w3.org/2000/svg\" height=\"24px\" viewBox=\"0 -960 960 960\">\n",
              "    <path d=\"M120-120v-720h720v720H120Zm60-500h600v-160H180v160Zm220 220h160v-160H400v160Zm0 220h160v-160H400v160ZM180-400h160v-160H180v160Zm440 0h160v-160H620v160ZM180-180h160v-160H180v160Zm440 0h160v-160H620v160Z\"/>\n",
              "  </svg>\n",
              "    </button>\n",
              "\n",
              "  <style>\n",
              "    .colab-df-container {\n",
              "      display:flex;\n",
              "      gap: 12px;\n",
              "    }\n",
              "\n",
              "    .colab-df-convert {\n",
              "      background-color: #E8F0FE;\n",
              "      border: none;\n",
              "      border-radius: 50%;\n",
              "      cursor: pointer;\n",
              "      display: none;\n",
              "      fill: #1967D2;\n",
              "      height: 32px;\n",
              "      padding: 0 0 0 0;\n",
              "      width: 32px;\n",
              "    }\n",
              "\n",
              "    .colab-df-convert:hover {\n",
              "      background-color: #E2EBFA;\n",
              "      box-shadow: 0px 1px 2px rgba(60, 64, 67, 0.3), 0px 1px 3px 1px rgba(60, 64, 67, 0.15);\n",
              "      fill: #174EA6;\n",
              "    }\n",
              "\n",
              "    .colab-df-buttons div {\n",
              "      margin-bottom: 4px;\n",
              "    }\n",
              "\n",
              "    [theme=dark] .colab-df-convert {\n",
              "      background-color: #3B4455;\n",
              "      fill: #D2E3FC;\n",
              "    }\n",
              "\n",
              "    [theme=dark] .colab-df-convert:hover {\n",
              "      background-color: #434B5C;\n",
              "      box-shadow: 0px 1px 3px 1px rgba(0, 0, 0, 0.15);\n",
              "      filter: drop-shadow(0px 1px 2px rgba(0, 0, 0, 0.3));\n",
              "      fill: #FFFFFF;\n",
              "    }\n",
              "  </style>\n",
              "\n",
              "    <script>\n",
              "      const buttonEl =\n",
              "        document.querySelector('#df-6c1322dc-4977-474f-a402-446eb0f53290 button.colab-df-convert');\n",
              "      buttonEl.style.display =\n",
              "        google.colab.kernel.accessAllowed ? 'block' : 'none';\n",
              "\n",
              "      async function convertToInteractive(key) {\n",
              "        const element = document.querySelector('#df-6c1322dc-4977-474f-a402-446eb0f53290');\n",
              "        const dataTable =\n",
              "          await google.colab.kernel.invokeFunction('convertToInteractive',\n",
              "                                                    [key], {});\n",
              "        if (!dataTable) return;\n",
              "\n",
              "        const docLinkHtml = 'Like what you see? Visit the ' +\n",
              "          '<a target=\"_blank\" href=https://colab.research.google.com/notebooks/data_table.ipynb>data table notebook</a>'\n",
              "          + ' to learn more about interactive tables.';\n",
              "        element.innerHTML = '';\n",
              "        dataTable['output_type'] = 'display_data';\n",
              "        await google.colab.output.renderOutput(dataTable, element);\n",
              "        const docLink = document.createElement('div');\n",
              "        docLink.innerHTML = docLinkHtml;\n",
              "        element.appendChild(docLink);\n",
              "      }\n",
              "    </script>\n",
              "  </div>\n",
              "\n",
              "\n",
              "<div id=\"df-f18a2959-7162-4810-b4ae-c9399a8aca3c\">\n",
              "  <button class=\"colab-df-quickchart\" onclick=\"quickchart('df-f18a2959-7162-4810-b4ae-c9399a8aca3c')\"\n",
              "            title=\"Suggest charts\"\n",
              "            style=\"display:none;\">\n",
              "\n",
              "<svg xmlns=\"http://www.w3.org/2000/svg\" height=\"24px\"viewBox=\"0 0 24 24\"\n",
              "     width=\"24px\">\n",
              "    <g>\n",
              "        <path d=\"M19 3H5c-1.1 0-2 .9-2 2v14c0 1.1.9 2 2 2h14c1.1 0 2-.9 2-2V5c0-1.1-.9-2-2-2zM9 17H7v-7h2v7zm4 0h-2V7h2v10zm4 0h-2v-4h2v4z\"/>\n",
              "    </g>\n",
              "</svg>\n",
              "  </button>\n",
              "\n",
              "<style>\n",
              "  .colab-df-quickchart {\n",
              "      --bg-color: #E8F0FE;\n",
              "      --fill-color: #1967D2;\n",
              "      --hover-bg-color: #E2EBFA;\n",
              "      --hover-fill-color: #174EA6;\n",
              "      --disabled-fill-color: #AAA;\n",
              "      --disabled-bg-color: #DDD;\n",
              "  }\n",
              "\n",
              "  [theme=dark] .colab-df-quickchart {\n",
              "      --bg-color: #3B4455;\n",
              "      --fill-color: #D2E3FC;\n",
              "      --hover-bg-color: #434B5C;\n",
              "      --hover-fill-color: #FFFFFF;\n",
              "      --disabled-bg-color: #3B4455;\n",
              "      --disabled-fill-color: #666;\n",
              "  }\n",
              "\n",
              "  .colab-df-quickchart {\n",
              "    background-color: var(--bg-color);\n",
              "    border: none;\n",
              "    border-radius: 50%;\n",
              "    cursor: pointer;\n",
              "    display: none;\n",
              "    fill: var(--fill-color);\n",
              "    height: 32px;\n",
              "    padding: 0;\n",
              "    width: 32px;\n",
              "  }\n",
              "\n",
              "  .colab-df-quickchart:hover {\n",
              "    background-color: var(--hover-bg-color);\n",
              "    box-shadow: 0 1px 2px rgba(60, 64, 67, 0.3), 0 1px 3px 1px rgba(60, 64, 67, 0.15);\n",
              "    fill: var(--button-hover-fill-color);\n",
              "  }\n",
              "\n",
              "  .colab-df-quickchart-complete:disabled,\n",
              "  .colab-df-quickchart-complete:disabled:hover {\n",
              "    background-color: var(--disabled-bg-color);\n",
              "    fill: var(--disabled-fill-color);\n",
              "    box-shadow: none;\n",
              "  }\n",
              "\n",
              "  .colab-df-spinner {\n",
              "    border: 2px solid var(--fill-color);\n",
              "    border-color: transparent;\n",
              "    border-bottom-color: var(--fill-color);\n",
              "    animation:\n",
              "      spin 1s steps(1) infinite;\n",
              "  }\n",
              "\n",
              "  @keyframes spin {\n",
              "    0% {\n",
              "      border-color: transparent;\n",
              "      border-bottom-color: var(--fill-color);\n",
              "      border-left-color: var(--fill-color);\n",
              "    }\n",
              "    20% {\n",
              "      border-color: transparent;\n",
              "      border-left-color: var(--fill-color);\n",
              "      border-top-color: var(--fill-color);\n",
              "    }\n",
              "    30% {\n",
              "      border-color: transparent;\n",
              "      border-left-color: var(--fill-color);\n",
              "      border-top-color: var(--fill-color);\n",
              "      border-right-color: var(--fill-color);\n",
              "    }\n",
              "    40% {\n",
              "      border-color: transparent;\n",
              "      border-right-color: var(--fill-color);\n",
              "      border-top-color: var(--fill-color);\n",
              "    }\n",
              "    60% {\n",
              "      border-color: transparent;\n",
              "      border-right-color: var(--fill-color);\n",
              "    }\n",
              "    80% {\n",
              "      border-color: transparent;\n",
              "      border-right-color: var(--fill-color);\n",
              "      border-bottom-color: var(--fill-color);\n",
              "    }\n",
              "    90% {\n",
              "      border-color: transparent;\n",
              "      border-bottom-color: var(--fill-color);\n",
              "    }\n",
              "  }\n",
              "</style>\n",
              "\n",
              "  <script>\n",
              "    async function quickchart(key) {\n",
              "      const quickchartButtonEl =\n",
              "        document.querySelector('#' + key + ' button');\n",
              "      quickchartButtonEl.disabled = true;  // To prevent multiple clicks.\n",
              "      quickchartButtonEl.classList.add('colab-df-spinner');\n",
              "      try {\n",
              "        const charts = await google.colab.kernel.invokeFunction(\n",
              "            'suggestCharts', [key], {});\n",
              "      } catch (error) {\n",
              "        console.error('Error during call to suggestCharts:', error);\n",
              "      }\n",
              "      quickchartButtonEl.classList.remove('colab-df-spinner');\n",
              "      quickchartButtonEl.classList.add('colab-df-quickchart-complete');\n",
              "    }\n",
              "    (() => {\n",
              "      let quickchartButtonEl =\n",
              "        document.querySelector('#df-f18a2959-7162-4810-b4ae-c9399a8aca3c button');\n",
              "      quickchartButtonEl.style.display =\n",
              "        google.colab.kernel.accessAllowed ? 'block' : 'none';\n",
              "    })();\n",
              "  </script>\n",
              "</div>\n",
              "\n",
              "    </div>\n",
              "  </div>\n"
            ],
            "application/vnd.google.colaboratory.intrinsic+json": {
              "type": "dataframe",
              "variable_name": "df",
              "summary": "{\n  \"name\": \"df\",\n  \"rows\": 57650,\n  \"fields\": [\n    {\n      \"column\": \"artist\",\n      \"properties\": {\n        \"dtype\": \"category\",\n        \"num_unique_values\": 643,\n        \"samples\": [\n          \"Ziggy Marley\",\n          \"O.A.R.\",\n          \"Styx\"\n        ],\n        \"semantic_type\": \"\",\n        \"description\": \"\"\n      }\n    },\n    {\n      \"column\": \"song\",\n      \"properties\": {\n        \"dtype\": \"string\",\n        \"num_unique_values\": 44824,\n        \"samples\": [\n          \"Tear Me Down\",\n          \"Lakky Lady\",\n          \"They All Went To Mexico\"\n        ],\n        \"semantic_type\": \"\",\n        \"description\": \"\"\n      }\n    },\n    {\n      \"column\": \"link\",\n      \"properties\": {\n        \"dtype\": \"string\",\n        \"num_unique_values\": 57650,\n        \"samples\": [\n          \"/w/wishbone+ash/right+or+wrong_20147150.html\",\n          \"/a/aerosmith/this+little+light+of+mine_20644484.html\",\n          \"/f/fall+out+boy/dance+dance_10113666.html\"\n        ],\n        \"semantic_type\": \"\",\n        \"description\": \"\"\n      }\n    },\n    {\n      \"column\": \"text\",\n      \"properties\": {\n        \"dtype\": \"string\",\n        \"num_unique_values\": 57494,\n        \"samples\": [\n          \"When the grey skies turn to blue  \\nAnd the dark clouds blow away  \\nIn the morning of a new life  \\nWhen the sun comes shining through  \\nWhen the grey skies turn to blue  \\nIn the morning of a new life  \\nWhen the sun comes shining through  \\nWhen the grey skies turn to blue  \\nMeet me on a bright and windy day  \\nWhen the breeze has blown  \\nThe gray skies far away  \\nHigh upon a hillside  \\nWhen the sun comes shining through  \\nAnd the grey skies turn to blue  \\nWhen the grey skies turn to blue  \\nWhen the grey skies turn to blue  \\n\\n\",\n          \"I met a girl a wonderful girl  \\nWho's really got a lot to recommend her for a girl  \\nFabulous creature without any doubt  \\nHey what am I getting so excited about  \\nShe's just a girl an everyday girl  \\nAnd yet I guess she's really rather special for a girl  \\nFor once you've seen her the others are not  \\nHey what am I getting so excited about  \\nBut so what what has she got others have not  \\nTwo eyes two lips a nose all girls have some of those  \\nBut when she looks up at me what do I see  \\nThe most enchanting face my pulse begins to race  \\nHey I met a girl a marvelous girl  \\nShe rarer than uranium and fairer than a pearl  \\nFound me a treasure and I want to shout  \\nHey what am I getting so excited about  \\nBut so what what has she got others have not  \\nTwo eyes two lips a nose all girls have some of those  \\nBut when she looks up at me what do I see  \\nThe most enchanting face my pulse begins to race  \\n(I got a girl a marvelous girl)  \\n(She rarer than uranium and fairer than a pearl)  \\nFound me a treasure and I want to shout  \\nThis is what am I getting so excited about  \\n(He met a girl) and I fell in love today\\n\\n\",\n          \"She's over by the corner  \\nGot her hands by her sides  \\nThey hit her harder harder harder  \\nTill they thought she might die  \\n  \\nWell I got a foggy notion,  \\nDo it again  \\nOver by the corner,  \\nDo it again  \\nI got my calamine lotion baby,  \\nDo it again  \\nI got a foggy notion,  \\nDo it again  \\n  \\nShe made me do something  \\nThat I never did before  \\nI rushed right down  \\nTo a flower store  \\nI bought her a bundle  \\nA beautiful batch  \\nDon't you know something,  \\nShe sent 'em right back  \\n  \\nSally Mae, Sally Mae,  \\nSally Mae, Sally Mae  \\nSally Mae, Sally Mae,  \\nSally Mae, Sally Mae\\n\\n\"\n        ],\n        \"semantic_type\": \"\",\n        \"description\": \"\"\n      }\n    }\n  ]\n}"
            }
          },
          "metadata": {},
          "execution_count": 27
        }
      ]
    },
    {
      "cell_type": "code",
      "source": [
        "df.shape[0]"
      ],
      "metadata": {
        "colab": {
          "base_uri": "https://localhost:8080/"
        },
        "id": "IzdCqdhlJpuo",
        "outputId": "e254ee17-3478-4e10-a9e0-a92f4515230d"
      },
      "execution_count": 28,
      "outputs": [
        {
          "output_type": "execute_result",
          "data": {
            "text/plain": [
              "57650"
            ]
          },
          "metadata": {},
          "execution_count": 28
        }
      ]
    },
    {
      "cell_type": "code",
      "source": [
        "len(df['artist'].unique())"
      ],
      "metadata": {
        "colab": {
          "base_uri": "https://localhost:8080/"
        },
        "id": "UBC0ST08JvP-",
        "outputId": "c4939af4-19a0-41ba-c7f6-e49801361cc3"
      },
      "execution_count": 29,
      "outputs": [
        {
          "output_type": "execute_result",
          "data": {
            "text/plain": [
              "643"
            ]
          },
          "metadata": {},
          "execution_count": 29
        }
      ]
    },
    {
      "cell_type": "code",
      "source": [
        "df['artist'].value_counts()[:10]"
      ],
      "metadata": {
        "colab": {
          "base_uri": "https://localhost:8080/",
          "height": 429
        },
        "id": "Po01sFmAJ2J2",
        "outputId": "57d0bf0a-f9c8-4224-f0f0-0bb42b5ccf38"
      },
      "execution_count": 30,
      "outputs": [
        {
          "output_type": "execute_result",
          "data": {
            "text/plain": [
              "artist\n",
              "Donna Summer        191\n",
              "Gordon Lightfoot    189\n",
              "Bob Dylan           188\n",
              "George Strait       188\n",
              "Loretta Lynn        187\n",
              "Alabama             187\n",
              "Cher                187\n",
              "Reba Mcentire       187\n",
              "Chaka Khan          186\n",
              "Dean Martin         186\n",
              "Name: count, dtype: int64"
            ],
            "text/html": [
              "<div>\n",
              "<style scoped>\n",
              "    .dataframe tbody tr th:only-of-type {\n",
              "        vertical-align: middle;\n",
              "    }\n",
              "\n",
              "    .dataframe tbody tr th {\n",
              "        vertical-align: top;\n",
              "    }\n",
              "\n",
              "    .dataframe thead th {\n",
              "        text-align: right;\n",
              "    }\n",
              "</style>\n",
              "<table border=\"1\" class=\"dataframe\">\n",
              "  <thead>\n",
              "    <tr style=\"text-align: right;\">\n",
              "      <th></th>\n",
              "      <th>count</th>\n",
              "    </tr>\n",
              "    <tr>\n",
              "      <th>artist</th>\n",
              "      <th></th>\n",
              "    </tr>\n",
              "  </thead>\n",
              "  <tbody>\n",
              "    <tr>\n",
              "      <th>Donna Summer</th>\n",
              "      <td>191</td>\n",
              "    </tr>\n",
              "    <tr>\n",
              "      <th>Gordon Lightfoot</th>\n",
              "      <td>189</td>\n",
              "    </tr>\n",
              "    <tr>\n",
              "      <th>Bob Dylan</th>\n",
              "      <td>188</td>\n",
              "    </tr>\n",
              "    <tr>\n",
              "      <th>George Strait</th>\n",
              "      <td>188</td>\n",
              "    </tr>\n",
              "    <tr>\n",
              "      <th>Loretta Lynn</th>\n",
              "      <td>187</td>\n",
              "    </tr>\n",
              "    <tr>\n",
              "      <th>Alabama</th>\n",
              "      <td>187</td>\n",
              "    </tr>\n",
              "    <tr>\n",
              "      <th>Cher</th>\n",
              "      <td>187</td>\n",
              "    </tr>\n",
              "    <tr>\n",
              "      <th>Reba Mcentire</th>\n",
              "      <td>187</td>\n",
              "    </tr>\n",
              "    <tr>\n",
              "      <th>Chaka Khan</th>\n",
              "      <td>186</td>\n",
              "    </tr>\n",
              "    <tr>\n",
              "      <th>Dean Martin</th>\n",
              "      <td>186</td>\n",
              "    </tr>\n",
              "  </tbody>\n",
              "</table>\n",
              "</div><br><label><b>dtype:</b> int64</label>"
            ]
          },
          "metadata": {},
          "execution_count": 30
        }
      ]
    },
    {
      "cell_type": "code",
      "source": [
        "df['artist'].value_counts().values.mean()"
      ],
      "metadata": {
        "colab": {
          "base_uri": "https://localhost:8080/"
        },
        "id": "Zr7i3g5yJ5-F",
        "outputId": "ba3cf5f7-567e-4aa1-c4d0-1cf7bc801ffa"
      },
      "execution_count": 31,
      "outputs": [
        {
          "output_type": "execute_result",
          "data": {
            "text/plain": [
              "np.float64(89.65785381026438)"
            ]
          },
          "metadata": {},
          "execution_count": 31
        }
      ]
    },
    {
      "cell_type": "code",
      "source": [
        "data = ', '.join(df['text'])"
      ],
      "metadata": {
        "id": "3xcFKiHeJ_H-"
      },
      "execution_count": 32,
      "outputs": []
    },
    {
      "cell_type": "code",
      "source": [
        "data[:369]"
      ],
      "metadata": {
        "colab": {
          "base_uri": "https://localhost:8080/",
          "height": 54
        },
        "id": "Qe71XByjKBo3",
        "outputId": "0e9686f5-0e55-461d-9dad-dc22e447676e"
      },
      "execution_count": 33,
      "outputs": [
        {
          "output_type": "execute_result",
          "data": {
            "text/plain": [
              "\"Look at her face, it's a wonderful face  \\nAnd it means something special to me  \\nLook at the way that she smiles when she sees me  \\nHow lucky can one fellow be?  \\n  \\nShe's just my kind of girl, she makes me feel fine  \\nWho could ever believe that she could be mine?  \\nShe's just my kind of girl, without her I'm blue  \\nAnd if she ever leaves me what could I do, what co\""
            ],
            "application/vnd.google.colaboratory.intrinsic+json": {
              "type": "string"
            }
          },
          "metadata": {},
          "execution_count": 33
        }
      ]
    },
    {
      "cell_type": "markdown",
      "source": [
        "Since we are building a char-level RNN, we will store all the unique\n",
        "characters in our dataset into a variable called chars; this is basically our vocabulary:\n"
      ],
      "metadata": {
        "id": "yAkKlvKYKLTP"
      }
    },
    {
      "cell_type": "code",
      "source": [
        "chars = sorted(list(set(data)))"
      ],
      "metadata": {
        "id": "vCwsgPXjKDoN"
      },
      "execution_count": 34,
      "outputs": []
    },
    {
      "cell_type": "code",
      "source": [
        "vocab_size = len(chars)"
      ],
      "metadata": {
        "id": "pvHIx4yPKRSO"
      },
      "execution_count": 35,
      "outputs": []
    },
    {
      "cell_type": "code",
      "source": [
        "char_to_ix = {ch: i for i, ch in enumerate(chars)}\n",
        "ix_to_char = {i: ch for i, ch in enumerate(chars)}"
      ],
      "metadata": {
        "id": "hLiFXzKlKS0O"
      },
      "execution_count": 36,
      "outputs": []
    },
    {
      "cell_type": "code",
      "source": [
        "print(char_to_ix['s'])"
      ],
      "metadata": {
        "colab": {
          "base_uri": "https://localhost:8080/"
        },
        "id": "w0bdm6dbKXOf",
        "outputId": "6703a2d3-3841-4d47-d80a-272708b5d0f2"
      },
      "execution_count": 37,
      "outputs": [
        {
          "output_type": "stream",
          "name": "stdout",
          "text": [
            "68\n"
          ]
        }
      ]
    },
    {
      "cell_type": "code",
      "source": [
        "print(ix_to_char[68])"
      ],
      "metadata": {
        "colab": {
          "base_uri": "https://localhost:8080/"
        },
        "id": "21mjwMmFKZIe",
        "outputId": "28d43575-8a43-4a91-ef3b-292bb53a15e5"
      },
      "execution_count": 38,
      "outputs": [
        {
          "output_type": "stream",
          "name": "stdout",
          "text": [
            "s\n"
          ]
        }
      ]
    },
    {
      "cell_type": "code",
      "source": [
        "vocabSize = 7\n",
        "char_index = 4\n",
        "print(np.eye(vocabSize)[char_index])"
      ],
      "metadata": {
        "colab": {
          "base_uri": "https://localhost:8080/"
        },
        "id": "iGJznzI8KbY-",
        "outputId": "c0b8bf7c-778f-44c6-fc1a-ac9e95374e89"
      },
      "execution_count": 39,
      "outputs": [
        {
          "output_type": "stream",
          "name": "stdout",
          "text": [
            "[0. 0. 0. 0. 1. 0. 0.]\n"
          ]
        }
      ]
    },
    {
      "cell_type": "markdown",
      "source": [
        "As we can see above, we now have a <strong>one hot encoded</strong>  value of each character.<br>We will encapsulate this one hot encoder into a function"
      ],
      "metadata": {
        "id": "tYVbT25uKqo2"
      }
    },
    {
      "cell_type": "code",
      "source": [
        "def one_hot_encoder(index):\n",
        "    return np.eye(vocab_size)[index]"
      ],
      "metadata": {
        "id": "brNtx8yyKoT2"
      },
      "execution_count": 41,
      "outputs": []
    },
    {
      "cell_type": "markdown",
      "source": [
        "## Defining the network parameters\n"
      ],
      "metadata": {
        "id": "1rll9Qf0LABO"
      }
    },
    {
      "cell_type": "code",
      "source": [
        "hidden_size = 100"
      ],
      "metadata": {
        "id": "0sPEXiDvKt-3"
      },
      "execution_count": 42,
      "outputs": []
    },
    {
      "cell_type": "code",
      "source": [
        "seq_length = 25"
      ],
      "metadata": {
        "id": "E_3KKPpILDzt"
      },
      "execution_count": 43,
      "outputs": []
    },
    {
      "cell_type": "code",
      "source": [
        "learning_rate = 1e-1"
      ],
      "metadata": {
        "id": "r0kElg1kLFJF"
      },
      "execution_count": 44,
      "outputs": []
    },
    {
      "cell_type": "code",
      "source": [
        "import tensorflow as tf\n",
        "import random"
      ],
      "metadata": {
        "id": "vNbLpo0bLGnl"
      },
      "execution_count": 45,
      "outputs": []
    },
    {
      "cell_type": "code",
      "source": [
        "seed_value = 42\n",
        "tf.compat.v1.set_random_seed(seed_value)\n",
        "random.seed(seed_value)"
      ],
      "metadata": {
        "id": "juQVgi_-LJNd"
      },
      "execution_count": 46,
      "outputs": []
    },
    {
      "cell_type": "markdown",
      "source": [
        "## Defining placeholders"
      ],
      "metadata": {
        "id": "6bRmYoEcLTP5"
      }
    },
    {
      "cell_type": "code",
      "source": [
        "tf.compat.v1.disable_v2_behavior()"
      ],
      "metadata": {
        "colab": {
          "base_uri": "https://localhost:8080/"
        },
        "id": "-bRSKf91LM2l",
        "outputId": "294f4555-f463-468f-d79c-a82b2b08a8e9"
      },
      "execution_count": 47,
      "outputs": [
        {
          "output_type": "stream",
          "name": "stderr",
          "text": [
            "WARNING:tensorflow:From /usr/local/lib/python3.11/dist-packages/tensorflow/python/compat/v2_compat.py:98: disable_resource_variables (from tensorflow.python.ops.resource_variables_toggle) is deprecated and will be removed in a future version.\n",
            "Instructions for updating:\n",
            "non-resource variables are not supported in the long term\n"
          ]
        }
      ]
    },
    {
      "cell_type": "code",
      "source": [
        "inputs = tf.compat.v1.placeholder(shape=[None, vocab_size],dtype=tf.float32, name=\"inputs\")\n",
        "targets = tf.compat.v1.placeholder(shape=[None, vocab_size], dtype=tf.float32, name=\"targets\")"
      ],
      "metadata": {
        "id": "9Dn3JdRFLX0d"
      },
      "execution_count": 48,
      "outputs": []
    },
    {
      "cell_type": "code",
      "source": [
        "init_state = tf.compat.v1.placeholder(shape=[1, hidden_size], dtype=tf.float32, name=\"state\")"
      ],
      "metadata": {
        "id": "wB4XvE1fLbg-"
      },
      "execution_count": 49,
      "outputs": []
    },
    {
      "cell_type": "code",
      "source": [
        "initializer = tf.random_normal_initializer(stddev=0.1)"
      ],
      "metadata": {
        "id": "E_uZTSaALfPd"
      },
      "execution_count": 50,
      "outputs": []
    },
    {
      "cell_type": "markdown",
      "source": [
        "## Defining forward propagation"
      ],
      "metadata": {
        "id": "rK2cE2A-LlUh"
      }
    },
    {
      "cell_type": "code",
      "source": [
        "with tf.compat.v1.variable_scope(\"RNN\") as scope:\n",
        "    h_t = init_state\n",
        "    y_hat = []\n",
        "\n",
        "    for t, x_t in enumerate(tf.split(inputs, seq_length, axis=0)):\n",
        "        if t > 0:\n",
        "            scope.reuse_variables()\n",
        "\n",
        "        #input to hidden layer weights\n",
        "        U = tf.compat.v1.get_variable(\"U\", [vocab_size, hidden_size], initializer=initializer)\n",
        "        #hidden to hidden layer weights\n",
        "        W = tf.compat.v1.get_variable(\"W\", [hidden_size, hidden_size], initializer=initializer)\n",
        "        #output to hidden layer weights\n",
        "        V = tf.compat.v1.get_variable(\"V\", [hidden_size, vocab_size], initializer=initializer)\n",
        "        #bias for hidden layer\n",
        "        bh = tf.compat.v1.get_variable(\"bh\", [hidden_size], initializer=initializer)\n",
        "        #bias for output layer\n",
        "        by = tf.compat.v1.get_variable(\"by\", [vocab_size], initializer=initializer)\n",
        "        h_t = tf.tanh(tf.matmul(x_t, U) + tf.matmul(h_t, W) + bh)\n",
        "        y_hat_t = tf.matmul(h_t, V) + by\n",
        "        y_hat.append(y_hat_t)"
      ],
      "metadata": {
        "id": "AhadWAe8LhZ1"
      },
      "execution_count": 51,
      "outputs": []
    },
    {
      "cell_type": "markdown",
      "source": [
        "Apply $softmax$ on the output and get the probabilities"
      ],
      "metadata": {
        "id": "vjKVn-x_LuEb"
      }
    },
    {
      "cell_type": "code",
      "source": [
        "output_softmax = tf.nn.softmax(y_hat[-1])\n",
        "outputs = tf.concat(y_hat, axis=0)"
      ],
      "metadata": {
        "id": "vxlBBeZjLpZ9"
      },
      "execution_count": 52,
      "outputs": []
    },
    {
      "cell_type": "code",
      "source": [
        "loss = tf.reduce_mean(tf.nn.softmax_cross_entropy_with_logits(labels=targets, logits=outputs))"
      ],
      "metadata": {
        "id": "uib9jnd3Lttt"
      },
      "execution_count": 53,
      "outputs": []
    },
    {
      "cell_type": "code",
      "source": [
        "hprev = h_t"
      ],
      "metadata": {
        "id": "P8pLU2-HL0J9"
      },
      "execution_count": 54,
      "outputs": []
    },
    {
      "cell_type": "markdown",
      "source": [
        "## Defining BPTT"
      ],
      "metadata": {
        "id": "hdq_vvAuL2a8"
      }
    },
    {
      "cell_type": "code",
      "source": [
        "minimizer = tf.compat.v1.train.AdamOptimizer()"
      ],
      "metadata": {
        "id": "zYN3O5hCL1-V"
      },
      "execution_count": 55,
      "outputs": []
    },
    {
      "cell_type": "code",
      "source": [
        "gradients = minimizer.compute_gradients(loss)"
      ],
      "metadata": {
        "id": "TejEptIlL8v9"
      },
      "execution_count": 56,
      "outputs": []
    },
    {
      "cell_type": "code",
      "source": [
        "threshold = tf.constant(5.0, name=\"grad_clipping\")"
      ],
      "metadata": {
        "id": "g1atlWvlL-n9"
      },
      "execution_count": 57,
      "outputs": []
    },
    {
      "cell_type": "code",
      "source": [
        "clipped_gradients = []\n",
        "for grad, var in gradients:\n",
        "    clipped_grad = tf.clip_by_value(grad, -threshold, threshold)\n",
        "    clipped_gradients.append((clipped_grad, var))"
      ],
      "metadata": {
        "id": "5qPST6oFMATd"
      },
      "execution_count": 58,
      "outputs": []
    },
    {
      "cell_type": "code",
      "source": [
        "updated_gradients = minimizer.apply_gradients(clipped_gradients)"
      ],
      "metadata": {
        "id": "x6Mg3hxEMB51"
      },
      "execution_count": 59,
      "outputs": []
    },
    {
      "cell_type": "markdown",
      "source": [
        "# Start generating songs"
      ],
      "metadata": {
        "id": "BTa6euYuMJBy"
      }
    },
    {
      "cell_type": "code",
      "source": [
        "sess = tf.compat.v1.Session()\n",
        "init = tf.compat.v1.global_variables_initializer()\n",
        "sess.run(init)"
      ],
      "metadata": {
        "id": "Ye9lmnkVMDwV"
      },
      "execution_count": 60,
      "outputs": []
    },
    {
      "cell_type": "code",
      "source": [
        "pointer = 0\n",
        "iteration = 0"
      ],
      "metadata": {
        "id": "Z1-4s2pyMLy-"
      },
      "execution_count": 61,
      "outputs": []
    },
    {
      "cell_type": "code",
      "source": [
        "while iteration < 50001:\n",
        "\n",
        "    if pointer + seq_length+1 >= len(data) or iteration == 0:\n",
        "        hprev_val = np.zeros([1, hidden_size])\n",
        "        pointer = 0\n",
        "\n",
        "    #select input sentence\n",
        "    input_sentence = data[pointer:pointer + seq_length]\n",
        "\n",
        "    #select output sentence\n",
        "    output_sentence = data[pointer + 1:pointer + seq_length + 1]\n",
        "\n",
        "    #get the indices of input and output sentence\n",
        "    input_indices = [char_to_ix[ch] for ch in input_sentence]\n",
        "    target_indices = [char_to_ix[ch] for ch in output_sentence]\n",
        "\n",
        "    #convert the input and output sentence to a one-hot encoded vectors with the help of their indices\n",
        "    input_vector = one_hot_encoder(input_indices)\n",
        "    target_vector = one_hot_encoder(target_indices)\n",
        "\n",
        "\n",
        "    #train the network and get the final hidden state\n",
        "    hprev_val, loss_val, _ = sess.run([hprev, loss, updated_gradients],\n",
        "                                      feed_dict={inputs: input_vector,targets: target_vector,init_state: hprev_val})\n",
        "\n",
        "\n",
        "    #make predictions on every 500th iteration\n",
        "    if iteration % 500 == 0:\n",
        "\n",
        "        #length of characters we want to predict\n",
        "        sample_length = 500\n",
        "\n",
        "        #randomly select index\n",
        "        random_index = random.randint(0, len(data) - seq_length)\n",
        "\n",
        "        #sample the input sentence with the randomly selected index\n",
        "        sample_input_sent = data[random_index:random_index + seq_length]\n",
        "\n",
        "        #get the indices of the sampled input sentence\n",
        "        sample_input_indices = [char_to_ix[ch] for ch in sample_input_sent]\n",
        "\n",
        "        #store the final hidden state in sample_prev_state_val\n",
        "        sample_prev_state_val = np.copy(hprev_val)\n",
        "\n",
        "        #for storing the indices of predicted characters\n",
        "        predicted_indices = []\n",
        "\n",
        "\n",
        "        for t in range(sample_length):\n",
        "\n",
        "            #convert the sampled input sentence into one-hot encoded vector using their indices\n",
        "            sample_input_vector = one_hot_encoder(sample_input_indices)\n",
        "\n",
        "            #compute the probability of all the words in the vocabulary to be the next character\n",
        "            probs_dist, sample_prev_state_val = sess.run([output_softmax, hprev],\n",
        "                                                      feed_dict={inputs: sample_input_vector,init_state: sample_prev_state_val})\n",
        "\n",
        "            #we randomly select the index with the probabilty distribtuion generated by the model\n",
        "            ix = np.random.choice(range(vocab_size), p=probs_dist.ravel())\n",
        "\n",
        "            sample_input_indices = sample_input_indices[1:] + [ix]\n",
        "\n",
        "\n",
        "            #store the predicted index in predicted_indices list\n",
        "            predicted_indices.append(ix)\n",
        "\n",
        "        #convert the predicted indices to their character\n",
        "        predicted_chars = [ix_to_char[ix] for ix in predicted_indices]\n",
        "\n",
        "        #combine the predcited characters\n",
        "        text = ''.join(predicted_chars)\n",
        "\n",
        "        #predict the predict text on every 50000th iteration\n",
        "        if iteration % 5000 == 0:\n",
        "            print ('\\n')\n",
        "            print (' After %d iterations' %(iteration))\n",
        "            print('\\n %s \\n' % (text,))\n",
        "            print('-'*115)\n",
        "\n",
        "\n",
        "    #increment the pointer and iteration\n",
        "    pointer += seq_length\n",
        "    iteration += 1"
      ],
      "metadata": {
        "colab": {
          "base_uri": "https://localhost:8080/"
        },
        "id": "jcOk_gXIMNrF",
        "outputId": "bcfb4e77-bc1a-436a-dea7-9a3d16fe416d"
      },
      "execution_count": 62,
      "outputs": [
        {
          "output_type": "stream",
          "name": "stdout",
          "text": [
            "\n",
            "\n",
            " After 0 iterations\n",
            "\n",
            " eTTmn5nj4UC?3jb7zO[n:scB9-3?AKGprD9aRw\n",
            "zswMa.?IB58qQxV1gq\n",
            "G\n",
            "3yB3ugx7h89RXz!w!1cAxeP9VG1[eo0cm!-PDtKdw1OrxEH:oKaXdbS0j8r[rGllnd40OePcl0t C[Scx2)DL?NG)W'oqIw5Uu:Y-1TPXFoSMwtpq7CtriWPvWS4eyY\n",
            "PmcN,wRKHAEgTr5-ew)Sw0XEjnz:-21PSVA:A(OrT,0iGbJidze.A3qyIt4dyP-qZZCC999c1'9Ar,5BT4E9!R!A8NtVz6Z]tg24yV\n",
            "j5rEegDB1.7]lw0,9DkR,im?GpZpvHriUrvr0]9(O\n",
            "5-)1[M:gz1zQr,ZwB!F6Zv39gsndQ:G,IykQbgPx[bDGwgcRF)!rA(!B\n",
            "yBpb\"'i!tKwOJ-mP1zqRI4!i(Q.-so1p:SSERYU)6Oidu4:z(4QXtJitV40fWs-NtsvRmZV ocAgU7rvieb 1ZJ\"iGHjI.oq,ieA:sb!'dC1,  \n",
            "\n",
            "-------------------------------------------------------------------------------------------------------------------\n",
            "\n",
            "\n",
            " After 5000 iterations\n",
            "\n",
            " d bever bee arr o s it reverenmid  \n",
            "Ha'me  \n",
            "Ald waigft bucing ta sha s aly  \n",
            "Bummet jfongeind ou to  \n",
            "So Kfak hame get aloull tho sos tho cyouke wo  \n",
            " foun't sBver bean alorn be  \n",
            "B at ave ooTent I cizesir seen jat dwastin bI fou met ow me, I'r siy tit't in do bole  \n",
            "O dow me ancery in tould nime  \n",
            "Ag7 uthengen  \n",
            "Thos go line you man't ke ther  \n",
            "I mancrore at in fit one  \n",
            "Theyk Can's ouon wast lage  \n",
            "Ws I male wound  \n",
            "  \n",
            "Mame to bullongfing  \n",
            "S m fine I meine , I I'm the  \n",
            "What kofey  \n",
            "DSanlifen \n",
            "\n",
            "-------------------------------------------------------------------------------------------------------------------\n",
            "\n",
            "\n",
            " After 10000 iterations\n",
            "\n",
            " t  \n",
            "Thepfire......  \n",
            "Do me  \n",
            "Bubew  \n",
            "Reret....  \n",
            "Never,  \n",
            "Rimk's ou bo ye  \n",
            "Ronkes  \n",
            "Itt ther  \n",
            "Samer the wath do ceaye heak, in then me the lide  \n",
            "rovin'seseide the busk, wand ty hornthwsat tronk, my my un \n",
            "\n",
            ", NeCner, night  \n",
            "Ald mes  \n",
            "Whengy s\n",
            " is ononive thad herey, I  \n",
            "Tams  \n",
            "Hernne she be mover, nive oney, over me's youre  \n",
            "Rigete she sigetone seer, wa neart  \n",
            "Stt geind  \n",
            "  Take youndee  \n",
            "Rogester, in't ie't whit it  \n",
            "Rint ol that bodys  \n",
            "Retring nn got the sonde,  \n",
            "Oht negher, whinkeyadn w \n",
            "\n",
            "-------------------------------------------------------------------------------------------------------------------\n",
            "\n",
            "\n",
            " After 15000 iterations\n",
            "\n",
            " s to th, get hear ih aprend on livere  \n",
            "The wooreal  \n",
            "  \n",
            "That wp all the for aly  \n",
            "V and you knink you ws in I roo speeld strilgs wo the ald It wrill  \n",
            "(mays to do go so ophag awat whe ruchile  \n",
            "  \n",
            "\n",
            "  \n",
            "I'romy sseer is around all bo been sache...  \n",
            "Love ad whah of love alw yourons verouth me to I  \n",
            "Onoce th oughtit wout)  \n",
            "\n",
            "  \n",
            "\n",
            ", I nrid then to you know the to till aceings the I've are nom heaking thare  \n",
            "I love and I  hat we are ile to I dan's fall  \n",
            "AnHe just a dar alway hain tome rot arears te \n",
            "\n",
            "-------------------------------------------------------------------------------------------------------------------\n",
            "\n",
            "\n",
            " After 20000 iterations\n",
            "\n",
            " know a pit it theres of the lybel wh, laams..  \n",
            "  I'm ut like sverosin't has to that ptreads not on thay erestor  \n",
            "Mayol axraw-lose, me what pomin' to that bamy dall by ore is lun  \n",
            "Well you lokin anot leell the won turagrs I'm shidss  \n",
            "By'mour la-e I'm sham I'm nay drimere  \n",
            "Tonit's that ever mood whrt'sone what ruen why a over the wan't it tainine I'm songreny, belyhand the foref dreapys resser lrte've andin' lestross..\n",
            "\n",
            ", I mlool the ravel that glesp snoly lixl I'm a hour it' s  \n",
            "  \n",
            "If's ston \n",
            "\n",
            "-------------------------------------------------------------------------------------------------------------------\n",
            "\n",
            "\n",
            " After 25000 iterations\n",
            "\n",
            " down the whink to and ah, Am Whes I wnain, docratcerteht tomer me gonna hear of thauce  \n",
            "Sam me tout ofued  \n",
            "Down my hims dongront it throubhey rupt  \n",
            "Sory woth redys goole one out lood  \n",
            "Burnicomad at craver uplore  \n",
            "Bready fare  \n",
            "Booore frowhreace thoughts toulg  \n",
            "Dew  \n",
            "  \n",
            "Thet's and it pliof that pill  \n",
            "  \n",
            "Swist and Woes  \n",
            "Yee crayginater mife  \n",
            "I sookmortetent, I arruch cempy of's beal to you've  \n",
            "Uver ant to ingernond drad ma  \n",
            "  \n",
            "Whe mound  \n",
            "A morrscenth, gade cough  \n",
            "It tick down  \n",
            "You ju \n",
            "\n",
            "-------------------------------------------------------------------------------------------------------------------\n",
            "\n",
            "\n",
            " After 30000 iterations\n",
            "\n",
            "  see  \n",
            "I gord gurrss for lifes)  \n",
            "The burcenbwey bes curs wish I chisibin' card  \n",
            "Cander me tean gooder time forrony downt  \n",
            "Is it's jus  \n",
            "Dire your lore a sand at a com, be thay thereasebe on the ailds for staes deer gease nowoober fart nearteng tilo frow and the sull  \n",
            "May  \n",
            "\n",
            ", Scaling your lown  \n",
            " Cerlifgelly sagh  \n",
            "Oh collets  \n",
            "'tound thlough gaidbyes aroundert the wasts all all stor sordaw yPurswing bratme fire  \n",
            "Leollderaht  \n",
            "Oh tilpuys bloiles chant that wo's your himers  \n",
            "Nowher turs  \n",
            "T \n",
            "\n",
            "-------------------------------------------------------------------------------------------------------------------\n",
            "\n",
            "\n",
            " After 35000 iterations\n",
            "\n",
            "  got parmepply  \n",
            "Onny is gan in  \n",
            "Paight  \n",
            "Butter chatue  \n",
            "We look in Iveendin' gred  \n",
            "Whem go tongona(d op  \n",
            "Baby piple plise yous have  \n",
            "We'd is-all  \n",
            "Fone ppind  \n",
            "  \n",
            "[Rend the peakin' iver love pank hipl-o heast  \n",
            "Sonatore An let lake me Calk foumprecc in the worken't care on And have a there it one to lidelin' counts bainkentipe  \n",
            "Oo hom-oh m\n",
            " like me  \n",
            "Lone exppaice you, goodbev on saer it pues chast in ly blakn  \n",
            "Oousune  \n",
            "Ooucken)  \n",
            "Make to  \n",
            "Like fiak  \n",
            "[as I)  \n",
            "Oh listle pait) I'm a lit \n",
            "\n",
            "-------------------------------------------------------------------------------------------------------------------\n",
            "\n",
            "\n",
            " After 40000 iterations\n",
            "\n",
            " oss  \n",
            "So I barueh his be buAn  \n",
            "I deet to I wasine we bruny Courdpied mytory ok, our puacf  \n",
            "Our heart. \n",
            "I was can't be Nulder cofs aroner alley  \n",
            "(HEy is one teen't ereaker couls you'Cer \n",
            "Wher wond thringly got levUyers coesin  \n",
            "We're ir ollin incer Elouch letts  \n",
            "Wish robby inn  \n",
            "BuCHuar  \n",
            "In wetry plith a brillers one have or beots minime Bay would tecour in trouss  \n",
            "Ame's arousing unvahe isselering anyer and Say  \n",
            "I sher)y  \n",
            "Arause to me  \n",
            "To our canter en the and beer.  \n",
            "And it swertiom  \n",
            "W \n",
            "\n",
            "-------------------------------------------------------------------------------------------------------------------\n",
            "\n",
            "\n",
            " After 45000 iterations\n",
            "\n",
            "  that came you  \n",
            "But must tong, once tright you back it and me \"I,'th as I eath  \n",
            "God you  \n",
            "She a alore your feelest wittoee  \n",
            "I stile  \n",
            "I want tcreste  \n",
            "Fordy becter if arouth to bom me is ust'Youns  \n",
            "Pack  \n",
            "Don't gottore is you say  \n",
            "I'm so feal  \n",
            "Bat my bor tonet (need  \n",
            "Oh  \n",
            "I doud you can't need verel  \n",
            "I mant in that qust's to give mach it thattles  \n",
            "I'm love ture you  \n",
            "  \n",
            "[Chorus] you ones you washar I cann war  \n",
            "Babying me and some in that insed you oursa time and I hat I andugh you have \n",
            "\n",
            "-------------------------------------------------------------------------------------------------------------------\n",
            "\n",
            "\n",
            " After 50000 iterations\n",
            "\n",
            " [Red:-] , days I dreakee  \n",
            "[Mrish Donels, I dad, hat  \n",
            "Ald shrees, Fromsed uping  \n",
            "A mines around fire I wishey I'd shinn's me. herp me  \n",
            "I muss  \n",
            "[Ard is guze is, away around:]  \n",
            "Everyever try a llopf]  \n",
            "[Ather gave, I can you sarkss prays-].....  \n",
            "[Grous]  \n",
            "[Eruse s2].  \n",
            "Move-  \n",
            "[They and a drommes]  \n",
            "Mote a comet w?  \n",
            "I need fros,  \n",
            "You're me frum, Side same moree:], Just finds of now  \n",
            "[Light thing  \n",
            "Do neave wharsed  \n",
            "Shime  \n",
            "Finday  \n",
            "[Masbess I ney, from your hander:]]  \n",
            "[Brur-sick what cl \n",
            "\n",
            "-------------------------------------------------------------------------------------------------------------------\n"
          ]
        }
      ]
    },
    {
      "cell_type": "markdown",
      "source": [
        "# Different types of RNN architectures"
      ],
      "metadata": {
        "id": "e2dZVhIFO2sb"
      }
    },
    {
      "cell_type": "markdown",
      "source": [
        "1.   One-to-one architecture<br>\n",
        "In a one-to-one architecture, a single input is mapped to a single output,\n",
        "and the output from the time step t is fed as an input to the next time step."
      ],
      "metadata": {
        "id": "SdmhHWiATa6a"
      }
    },
    {
      "cell_type": "markdown",
      "source": [
        "![image.png](data:image/png;base64,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)"
      ],
      "metadata": {
        "id": "Jyr57j6OT4Qu"
      }
    },
    {
      "cell_type": "markdown",
      "source": [
        "2.   One-to-many architecture<br>\n",
        "In a one-to-many architecture, a single input is mapped to multiple hidden\n",
        "states and multiple output values, which means RNN takes a single input and\n",
        "maps it to an output sequence."
      ],
      "metadata": {
        "id": "af_MV3-LT6Jl"
      }
    },
    {
      "cell_type": "markdown",
      "source": [
        "![image.png](data:image/png;base64,iVBORw0KGgoAAAANSUhEUgAAApYAAAHdCAYAAACnhTk4AAAAAXNSR0IArs4c6QAAAARnQU1BAACxjwv8YQUAAAAJcEhZcwAADsMAAA7DAcdvqGQAAPYWSURBVHhe7N1nWFTX1zbwe6hSBQSkC6goNrCjgr2gxt6VaDTWWOI/scQYuzGxl8QYW4yxRo0aOxasWFBUpKiA0nvvDMPMej88Mq9zMInAgIOs33XNB/faMyBn9jnr7HZERERgjDHGGGOsgtSEBYwxxhhjjJUHJ5aMMcYYY0wpOLFkjDHGGGNKwYklY4wxxhhTCk4sGWOMMcaYUnBiyRhjjDHGlIITS8YYY4wxphScWDLGGGOMMaXgxJIxxhhjjCkFJ5aMMcYYY0wpOLFkjDHGGGNKwYklY4wxxhhTCk4sGWOMMcaYUnBiyRhjjDHGlIITS8YYY4wxphScWDLGGGOMMaXgxJIxxhhjjCkFJ5aMMcYYY0wpOLFkjDHGGGNKwYklY4wxxhhTCk4sGWOMMcaYUnBiyRhjjDHGlIITS8YYY4wxphTqy5cvXy4sVGUZGRnYsWMHpFIp7OzshGEQEf766y/4+vqidevWwjBjyM/Px5YtWyCRSGBvb4+kpCTs378fMpkMNjY2wupMiY4dO4b79++jVatWwhCrBry9veHt7Y0WLVpAQ0NDGGYfQFJSEo4dO4bz58/j6dOniIiIwOXLl+Hm5gaRSCSs/q/8/f1x6NAhODs7Q0dHRxiWKyoqwoEDBxAWFgYnJyeoq6sLqzAVExkZiZ9//hnW1tYwMTERhpWq2vVYZmRk4IcffsCNGzeEIbnDhw9j+/btwmKmAu7evYuAgABhcZUqKCjAqlWrcPXqVQBAYmIiNm3aBF9fX2FVpmSHDh3CL7/8IixmKiY3Nxc+Pj6Ii4tTKD937hw2b96MwsJChXL2YSQnJ2Po0KH4/vvvcf36ddy/fx8nTpzADz/8ACISVv9Pfn5+WL16NdLS0oQhBUVFRdi9ezcOHz6M4uJiYZipoNevX2PJkiUICwsThpSu2iWWrHqbPn06Vq1aJSz+oOrVq4effvoJn3zyiTBUYYWFhcjMzIRYLBaGaqQFCxbgxx9/FBYzFRMVFYUhQ4bA29tbGGIq5Pr163j06BG2bduGS5cu4fDhw1i8eDH27NlT5t5KxpSFE0tW4xkZGaFfv35o1KiRMFQhycnJGDt2LMzNzbF3715huEbq1KkTevXqJSxmjJXDo0ePUL9+fbRs2RKampoAgJYtW2LQoEGcWKqQnJwc3L17FxkZGcLQB+fn54fIyMhy9XD/kxqTWEqlUly9ehUTJ06Ek5MTnJ2dMW3aNDx48ABSqVReLzIyEn369MEff/yBJ0+eYMiQIejTpw8iIyMRFhaGGTNmoHnz5nBycoKXlxd8fHwU3i+TyeDr64svv/wSTk5OaNy4MT799FPcuXMHEolEXu9jU1hYiD///BP9+vWDk5MT2rRpgxUrViAxMRFEhEmTJsHJyQkvX76Et7e3vM79+/cBANHR0di0aRM6d+4MJycnODk5Yfz48fDx8VEYajl+/Dh69eqFZ8+e4dixY+jevTucnJzQp08fXLx4UeFvTESIjY3F4sWL0aRJE7Rs2RLLli1DcnKyvA4APH/+HD169FBI/i5duoQePXrg4cOHOH36tPz/1a1bN5w4cQJFRUUKn5Geno6ffvoJHTt2hJOTE/r374958+ahsLAQt27dwtixYxXq11TTp0/HkCFD5P/esGEDBg0ahMjISOzatQvt27eHk5MThg8fjocPHyq0LVb5iouL5d/f3NxcfPvtt3ByckKvXr1QUFAgr5eRkYGNGzeibdu2cHJywtixY/H48WPIZDJ5HSJCVFQUvvvuO7Ru3RpOTk7o168fjh49ivz8fHk9VnYHDhyAs7Mzdu/ejVevXsHd3R2NGjXCH3/8gVWrVqF9+/YKx0ImkyEgIAALFixAkyZN0KhRIwwfPhyXLl36z9GUzMxM7Ny5E82bN0fTpk0xbdo0vHr1SliNCRQWFiIoKAirVq1Cjx49sHXr1lLf+/fNF7777juMHDkScXFx2Lx5M9q0aSO/Rj59+lThWEulUjx//hxjxoxB48aN4ebmhv379yMvL09e523379/HoEGDMHnyZJw/fx7p6ekVTjJrRGIplUpx6tQpeHl5IS4uDosWLcKsWbMQFBSEkSNH4uLFi/I/pEQiQVRUFAIDAzFz5kxcuHABSUlJePnyJYYPH46AgAB88cUX+PrrrxEeHo6JEyfi7t27ICIQEXx8fODl5YVnz55h0aJFmD9/PiQSCUaPHq3wcz4mxcXF2LdvH7744gvY2dlh2bJl6NGjB3bs2IHZs2cjPz8fXl5eWLZsGczNzeHs7Ixly5Zh4cKFsLe3R1xcHD7//HNs3LgR3bt3x7JlyzBr1iwEBARg/PjxuHfvnvzvlp2djYiICOzfvx9r167F0KFDsWjRIqSlpWHKlCnyRBUA8vLy8Omnn+LgwYPw8vLCl19+ifDwcHz99dcKJ9OioiJERkYiMzNTXpabm4uIiAj89ddfWLZsmfz3KioqwowZM3D16lX57ySVSrFs2TKsXLkSvXv3xrJly2BjYyOfBN++fXsYGRnJP7smS0hIQHR0tPzfaWlpiIyMxA8//IADBw5g+vTpmDNnDp49e4YJEyYgKipK4f2scqmpqWHZsmWYMWMGtLW1MXDgQCxbtgyzZ8+W94jJZDKsWrUKFy9exBdffIEvvvgC9+/fx2effYaEhAT5Z0VGRmLcuHH466+/5O3f0dERX3/9tXzxHCufdu3aYcmSJWjTpg3q1q2Lr7/+GkuXLkX79u2RkpKC169fK9T39/eHl5cXbty4gS+//BLffvstDAwM8Pnnn+PgwYP/eF0Si8VYunQpFi5ciL59++Kbb76Bnp4eZs6cqdCO2f+RyWQQi8U4d+4cpk2bhsGDB+POnTv44osvsHbtWlhbW8vrliVfSE5ORlRUFJYsWYJLly5h5syZmD59Om7evInPPvsMKSkp8s8NDAzEiBEj8PLlS3z55ZeYOnUq9u7d+49z26dMmYItW7ZAQ0MDs2bNwqhRo7B9+3bExsZCKpX+43fjX1E18+rVKzI1NaV+/frRli1bSr02b95MzZs3JxcXF4X32NnZ0cyZMyk3N1denpubS5988gk1b96coqKiiIgoNDSUnJycyMHBgfr37093794lmUxGS5YsIX19fUpMTJS/PyYmhtq2bUtffvkl5efnU1paGjVr1oy8vLwUfo5UKqX58+dT8+bNKTY2Vl7+sYiMjKRmzZrRjBkzqKioSF5+6NAhqlu3Lt2+fVte1rx5cxo2bJj83zKZjPbu3Us2NjZ06dIleTkRUVBQENnb29O8efOouLiYiIj27NlD2tra1LJlS/kxIyKKiIggOzs7mjRpEtGbv/kPP/xAdevWpTt37sjrFRQU0Pz580lNTY0WL15MRERPnz4lR0dH2rBhg7ze8ePHSV9fnxwdHenVq1fy8tjYWPn/oeT/eunSJapduzb99ttv8npisZi++OILatiwIT1//lxeXtMNHDiQWrVqJf/3N998QxoaGjRo0CBKSUmRlwcEBJC6ujqtX79eXsaqTlBQEBkaGtLevXsVymfNmkUaGho0atQoSktLk5f7+vqSuro67dixg4iIJBIJTZgwgerXr69Qj4jozJkzpKenRw8ePFAoZ2U3Y8YMatGiBSUkJMjLZs+eTaampiSVSomIqKioiDp16kQ9e/akrKyst95NtHnzZrK0tKTXr18TEdEvv/xChoaGFBoaSjKZjE6cOEF169alPXv2kEwmk79v586dpKenR4MHD6b8/Py3PrHm8vf3px9++IGcnZ2pRYsWNG/ePAoICBBWkytLvjBlyhTS1NSkTz/9lDIyMuR1fXx8SF1dXX7tkUgk9Mknn5CzszOlp6fL66WkpFCfPn0IAF28eFFeLpSTk0O7d++m3r17k5mZGU2ZMoXOnz9PmZmZwqr/qtr2WAYGBuLPP/9850u4kvHSpUuIj4/HrFmzoKenJy/X1dXFrFmzkJiYiAcPHsjLiQj6+vrYsGEDOnToAJFIhJycHMhkMmRnZ8u7na2srHD8+HEsXrwY2traePjwIUJDQzFnzhyFn6OmpoYRI0YgPz8fd+7cKd8dgAqTSCQoKChAXl6eQk/gkCFD4Ovri5YtWyrUFxoyZAiuX7+Odu3aITIyEn5+frh79y7i4+OhpaWF6OjoUkNsEydOVNhuyt7eHvXr15eveMvIyMDVq1fh7u4OV1dXeb1atWph7Nix0NbWlpf9E5lMBi8vLzg6OsrLrK2t0bhxY7x+/Vo+TBscHAxjY2OFLXS0tLTQtWtXZGdnIzIyUl7OSpNKpZg1axZMTU3lZc7OzrCwsEB4eLhCXfbhSaVSfPnllwpbljRt2hTm5uby9hcREYHbt29jxowZpbY26dChA1q0aIE///xToV2zyhEUFISnT5/iiy++gKGhoUKsX79+MDExwblz50pdl4gI3t7eMDExwYABAxTmbHp6esLBwUGhfk2UkJCA8+fPY+TIkZg8eTJu3bqF7777DhcvXsQPP/yAFi1aCN8iV9Z8QSqVYu7cuQqjX82bN4eZmZm83b169QpPnjzB2LFjYWxsLK9namqKkSNHyv/9T/T19TF58mQcPXoU3t7e0NLSwvLly9GzZ0/s2LEDz58//8+pE6jOQ+FTp07F3bt33/nq0qWLQt0XL17A0tJSoRsaAEQiEZo1awZ1dXU8e/ZMIdapUyc0aNBA/m83NzdIJBKMGDEC27ZtQ3BwMKRSKWxtbWFmZgY1NTUEBQVBTU0NGzZswKRJkxRea9euRVJSEoKDg0s14OrO1NQUzZo1w4kTJzBlyhQcP34cOTk50NLSgqOjo0KjERKJRDAyMsLLly8xdepUDBw4EF27dkXnzp3Rt29fhIaGlvp76erqonnz5gpleNMoSuaRZGZmIjo6Gi4uLqV+vq2t7Xvtwaejo6OQlJZ4++fgzYlALBYrbMFCRPI6JUOI7N2MjY1LLZwSiUSl/s5MNZiYmMDJyUmhTE1NDXp6evLjFRUVhZycHFy4cKHUufB///sfYmNjERwcXGrOGVO+58+fg4iwb9++Usdi6dKlSEpKQmBgYKmpCUSEoKAgNGzYEObm5goxExOTUklqTbRq1SoMGzYMUqkUv/zyC/766y+MHTsWVlZW/3mNKWu+YGJigoYNGyp8hpqaGnR1deXt7vXr1yAiuLi4KNTDm86X92VsbIyWLVvi559/xuHDh+VTXry8vN5rfm21TSzLQiwWo1atWu9cJaerqwt1dXVkZ2fLy0QiEczNzRW+GEOGDMHRo0dhbGyMJUuWoFmzZrCxscGUKVPw5MkTeW+mhoYGtLW1S73MzMzg5eWFpk2byj/zY2FkZIS9e/di0qRJ8nmrhoaG8PDwwIYNGxT+tkIymQy//fYbPv30U+Tm5mLz5s1ITk5GcXExMjIy3rmRtq6u7r9u3ou3elH19fWFofemra1dKil9l5IVmOvWrZPPMXv27Bm2bNkCJyendybB7P8zNDT8z5MwUx1GRkb/uSF2fn4+pFIpatWqVepcqK+vj/79+/PuAFUkJycHampq7zwWxsbGGD58ONq3by98G/DmvRU5h37shg8fjk8//VS+/+fBgwffe154WfMFY2NjqKn9e8qWn58PkUiEWrVqCUNlJhaL4e3tjc2bN2PJkiXw9PTE9OnTYWFhIaxayr//lh8JU1NTpKWllVrJizdd2UVFRe98is/btLS0MHToUBw/fhx3797F4cOHMXDgQHk3eHR0NGxtbaGtrY2VK1dix44d73yNGjXqP78c1VGdOnWwYcMGXLhwAf7+/li1ahU0NTWxYsUKrF69utTdcAmxWIzdu3fDxcUFf/zxB3r06CE/kSUnJyMnJ0f4lveio6MDIyOjUsPoeLMwR1hWEaamphg+fDhu3bqFXr16oVWrVhg9ejS0tLTw/fffl7rbZ+xjZ2ZmBgMDA0yYMKHUObDk9fXXX3PSUgWsra2hra2Nr776qtQxKHl9/vnn0NLSEr4VFhYWiImJKbU7Q2Fh4TuvpzVN9+7d8fPPP8PHxwceHh44ePAghgwZgq+//hp37tz51+2FKiNfqFOnDiQSicJinhLvcy0tLi5GeHg4fvrpJ/Tv3x/fffcdiAi///47jhw5gsmTJ5ea2vIu7/8bV2MdOnRAenq6wjxKvLXUX11d/V8f/5ibm4ujR49i9+7dMDY2RvPmzTFmzBjs3r0b27ZtQ3h4OPz8/NCuXTtkZ2fD399f+BGIiYnB6tWr8fLlS2Go2nv58iWWL18uT65btWqF7777DmfOnIGHhweuX7+usMXP23M0ZDIZEhMT0bhxY5iZmcnLAcDHxwexsbEKZe/LxMQE9erVQ2BgYKnG/fjx439MdMtKIpHgp59+wtWrV7F3714sWLAAU6dOxerVq3H27Fl4eHgI38JYtVHe5KFhw4bQ19fHrVu3hCHk5eVh48aN8PHxEYZYJWjVqhWKiooUdswokZKSgjVr1uDJkyfCEEQiEVxdXRETE4OIiAiFWFRUlMIOADWZtrY2GjZsiIULF+LcuXNYvXo14uLiMGLECIwePRoHDhxAVlaW8G2Vki80bNgQ2trapXIdAO8se9vt27fx9ddfo1evXjhy5Aj69u2LEydO4Oeff0bPnj1hZGT0zlHfd6kRiWXnzp0xatQofPXVV7h06RKKi4uRl5eH8+fP47vvvkPfvn3h5uYmfJucnp4efH19MWvWLOzatUu+LU1KSgr8/PxgZGSEJk2aoHHjxvj888+xcOFCnDlzBsXFxSguLsbLly/x+eef4+TJk0rpolY1IpEIf/zxh3xroOLiYkilUgQHByMmJgaNGzeWTyS2tLTE06dP5QtaNDU10alTJ1y5ckX+mM78/HwcO3YM27Ztg7a2NoqLi0vNs/wv+vr6mDdvHnx9fbFu3TqkpqaiqKgIPj4+2LVrV6k78IrIzc1FRkaGfJ6SpqYmsrKyEBQUhBcvXrzXZGfGVEnJMOn169f/dSrLP6lTpw7mzZuHvXv3Ys+ePfJzZlxcHFatWoWVK1e+s4eMKZ+lpSXmzp2LH3/8EUeOHEFhYSFkMhlev36NuXPnYufOndDV1RW+DSKRCBMnToSWlha++uorREVFQSqV4uXLl1izZg3Pf34HAwMD9OvXD4cPH0ZgYCA++eQT7Nq1C02bNsWiRYsU2lJl5AtWVlaYMWMGdu3ahUOHDqGgoAAFBQXYuXMnrl+/LqwOvHlMq6urK6ZNm4b8/Hz8/fffuHXrFr766ivUq1evTD2mJcr+jmrI0NAQa9euhYODA7788kt06tQJXbp0wVdffYXevXtj5cqV/3oARSIR5s2bh9GjR+PHH39Ejx490KFDB3h6euL8+fNYuXIlnJycoKWlJd9bbN68eejYsSM6deqEMWPGIC8vDz///DPq1asn/Phqz8HBAT///DOys7MxceJEdOrUCR07dsT06dNhZGSEb7/9Vn7imjlzJvT09ODp6YkOHTrg999/x4IFC2BmZoZJkyahQ4cO6NmzJ3744QesWbMGTZo0QXJycpmHrkUiEdzd3TF//nwcO3YM3bp1Q9euXbFixQpMnjz5nSfS8lBTU0ObNm1gZGSEQ4cOYcuWLdiyZQtWrFiB2bNnY8SIERg3bhwSExOFb2VMZVlbW2PKlCm4desWunTpgg4dOiA4OFhY7R+JRCIMGzYM3377LdasWSM/Zw4YMAAXLlzA1q1b0aFDB+HbWCUQiUSYPXs2hg4diiVLlsDDwwMdO3bE8OHDERoaiu3bt5daPFfyvsaNG2PZsmV48eIF+vTpA3d3d0yYMAFdunT5KNcLKIuamhpMTU0xe/ZsnDhxAr///jv09fUVei4rI18QiUT4/PPPMWrUKHzzzTfw8PBAz549cfr0acyYMUNYHXhzszdnzhycOXMG27dvR4sWLaChofHevZPvIqKydgV9YFlZWfjzzz/h6uqKdu3aCcMgIly4cAFZWVmlnnaSk5ODBw8eICQkBGpqamjWrBnc3d0VFg5kZmbizJkzcHJyemcv5p07dxAcHAyxWAwjIyO0a9cOjRs3VqiTn5+PR48e4enTpwCABg0awM3N7b3mJlRnKSkp8PX1lW+c26RJE7Ru3Vph2wO8WaV/7do1SKVStGvXDm5ubkhOToaPjw+Sk5NhZGSEnj17wtLSEt7e3oiOjsbEiROhqamJ4OBg3L9/H/379y81ifjs2bPIzc3FmDFj5GXFxcV48uQJ7t27B11dXXTs2BFNmjTBr7/+ChcXF3To0AEpKSm4cOECmjdvLl8sFBYWhlu3bqFnz56lGvfVq1cRHx+PsWPHIjo6Gp07d8YXX3yB//3vf/JFRa9evUJGRgYePHiAFStWYMaMGVi2bFm57v4+JsJj5Ovri7CwMIwYMUJhoZRMJsOhQ4dgbm6OPn36vPUJrCpdvnwZL1++BBFh5MiRePHiBaKiojB69Ghov7VlV1FREY4cOQJbW1t0795d4TMePXqEx48fo7CwEGZmZujYsWOpNsXK5/r160hISMCgQYPk7efmzZt4+fIlpkyZopAcFBUVwd/fH/7+/pDJZLC1tUWHDh0UzqPPnj3D3bt3MXr0aPm2NjKZDJGRkTh//jw0NDTk194zZ85AU1MTnp6evPiuAt4nX7h27Rri4uIwZswYhV1GSp54Z29vr7AbjlgsxuXLlxEREQFjY2P07t0b6urqOHz4MAYNGlTp7a/aJZaMqZKLFy+iX79+OH78OIYPHy4MIyIiAgMHDoS7uzt++uknPgEzxhj7qHFiyVgFRERE4JNPPoGGhgbGjx+PTz75RB57/fo1du/ejfv372P37t3o37+/wnsZY4yxjw0nloxVgEwmQ3BwMH755Rfcvn1bYR6ao6Mj3NzcMGHCBPTu3VvhfYwxxtjHiBNLxpRAIpGgqKhIYRsjDQ0NaGlp8epXxhhjNQYnlowxxhhjTClq9hJVxhhjjDGmNJxYMsYYY4wxpeDEkjHGGGOMKQXPsXwjIyMDaWlpSEhIkD/uz8jICEZGRqhXr16FdqFnlUcikSA5ORmpqanyZ4Krq6vDwsICderU+eg3pa/OsrKykJaWhvj4eBQXFwNvnpJlZmaGunXr8qInFRYdHS0/fnjzxA9zc3OYmZnB1NRUWJ2piJycHCQnJyMpKUn+HHhtbW1YWlrC3NxcaU8kY8qVlZWFjIwMREVFyR9vrKOjAwsLC5ibm8sfzKEqamRimZOTg9DQUAQGBuLGjRvw9/dHdnY2tLW1oaurC3V1dQCQP2dTTU0NDg4O6NSpEzw8PNCwYUPY2NjI67GqIZVKER8fj6CgIPj7++P27dt4/vw5NDQ0UKtWLdSqVQsikQjFxcUoLCxEfn4+DA0N0bZtW7i7u6Nly5Zo2LAhDA0NhR/NKlleXh7CwsIQEBAAX19f+Pv7Izk5GTo6OtDS0oK2tjaICGKxGEVFRSgoKEDjxo3h5uaG9u3bo3nz5rCxseEN5quYTCZDQkICXr9+jZs3b+Lhw4cICQlBcXExNDU1YWBgIK+Xm5sLiUQCHR0duLi4oGPHjmjXrh2cnZ1Ru3Zt4UezSlZYWIiIiAg8e/YMN27cQGBgICIjI6Grqytvc3hznZNIJBCLxbCxsYG7uzvatWuHpk2bon79+nyDV8XEYjFevHiBgIAAPHjwAA8ePEBCQgL09fWhqampcNyKi4uRm5uLpk2bwsXFBR4eHnB2doa9vf0HPW41JrGUSqVIS0vDhQsXcOzYMbx8+RISiQRubm5wc3NDo0aNYGBgAGNjY/nFKzs7Gzk5OUhISEBAQABu376NqKgo2NjYoEOHDpg0aRKcnZ3/9TnjrGKICEVFRQgJCcEff/whf2SktbU1unXrBldXV1hYWMDAwAAGBgYQiUSQSCTIyspCVlYWwsLC8ODBA9y7dw+amppwcnLCgAEDMGrUKNSuXZtvDipRSbJR0uaCgoKQn58vT/Tr168PY2NjGBoaolatWiAi5OXlITc3F8nJyXj8+DFu376N8PBw2NnZoU2bNpg4cSKaN28OHR0dHkWoREVFRYiOjsaePXtw8+ZNREdHw8LCAq1bt0a7du1Qr1496OjooE6dOsCbY52Wloa8vDy8evUKfn5+uHv3LoqLi+Hk5IS+ffti1KhRMDc355uDSiSTyZCTk4P79+9jz549eP78OdLT09GqVSu0a9cOTZo0gZmZGQwMDOS9XCVtLjExEcHBwXjw4AECAwNhYmKCNm3aYOzYsejUqRP09PS4zVWSknPl5cuXcezYMQQEBCA3Nxft2rVD+/bt0aBBA5ibm8PAwECeb+Tk5KCgoACxsbEICgrCo0eP8OzZM5ibm6NVq1aYNm0aWrRo8WGOG9UAycnJ9OOPP1KDBg3I2tqaZs+eTT4+PlRQUCCs+p9CQ0Np27Zt1KtXLzIwMKBRo0bRrVu3SCKRCKuyCpJIJHT79m2aMGEC6evrU9euXWnz5s0UFhZGxcXFwur/SiwW07Vr12ju3LlkZ2dHDRs2pLVr11JiYqKwKlOCtLQ02r59OzVr1ozq1q1Ln3/+OZ0/f56ysrKEVf9TXFwc7dixgz755BMyMDCgPn360Pnz57nNVQKZTEaPHj2izz//nAwMDMjd3Z1Wr15Njx8/JqlUKqz+r8RiMd29e5fmz59Pzs7OZGJiQt988w1FREQIqzIlKCwspL1791Lr1q3JwMCAxo8fT0ePHqXU1FRh1f+UkJBABw4coGHDhpGxsTG1b9+e/vrrL8rPzxdWZRWUlZVFO3fuJGdnZ6pbty55eXnR2bNnKSMjQ1j1X8lkMoqJiaE9e/bQ0KFDSU9Pj3r16kV//vknyWQyYfVK9VEnlgUFBXT06FFydXWlJk2a0NatWykiIoLEYrGwapnIZDLKzMyks2fPUr9+/cjW1pbmzJlDoaGhwqqsHKRSKUVFRdEXX3xBDg4O5OnpSZcvX6aMjIwyX9yExGIxxcXF0fr168nFxYVcXV3pzz//pNzcXGFVVg6FhYXk4+NDrVu3pkaNGtHcuXMpLCysXDdxb5PJZJSdnU1+fn40evRosre3Jy8vL3rx4kWFvxPs/8TGxtLq1avJxsaGunbtSn/++SelpaVV+O8rkUgoLi6O9u7dS66urtSoUSPasWNHmS+c7N0kEgn5+PhQz549ydHRkebMmUMBAQFKaXO5ubn06NEjmjJlCtnb29Mnn3xCDx48qPB3gv3ftcjb25s6dOhA9evXpwULFtDLly+Vdtzu3r1L48aNI1tbWxozZgw9ffq0yo7bR5lYymQySk5Opq+++orMzMzo888/p+fPn1fKHzU7O5sOHjxI9evXp1atWtGdO3fK3JvG/r/i4mK6c+cOdejQgRo0aEB79+6lzMxMYbUKKy4uppCQEJoxYwbVrVuXpk6dSqmpqVV+Z/exkMlklJOTQ8uXLycLCwsaM2YMPXr0qFLaQl5eHp05c4ZcXFyoRYsWdPLkSe69rACpVEqPHj2inj17kpWVFe3evbtcvVzvIzIykhYtWkTGxsb06aefUkREBLe5CigoKKDNmzeTra0tdenShR48eEBFRUXCahUmkUjo0qVL1K1bN7K3t6cDBw5UOAGqyTIzM2nt2rVkYWFBgwYNort37wqrKEVhYSFdvnyZWrRoQc2aNaOjR49WyvdD6KNLLGUyGQUEBFCXLl2oQYMGdP78+Uq5uAlFR0fTtGnTyNDQkLZt28aNrhykUilt3ryZ6tatS6NGjaKEhARhlUpx6tQpatq0KbVr144CAgKEYfYeIiMjydPTk+zs7GjPnj3CcKXIzMykL7/8kurUqUMrV67kYbpyEIvFdOrUKTI3N6chQ4bQ8+fPhVWUTiqV0t27d8nV1ZWaNm1K9+/f5+SyHFJSUmjatGlUp04d2rZtG+Xl5QmrKF1OTg59//33ZGJiQl988UW5prbUdElJSTR06FCqW7cu7du3jwoLC4VVlC4tLY2++eYbMjIyoiVLllB2drawilJ9VImlTCajFy9eUNOmTalXr14UGBhYpSes7OxsWrNmDdnY2NDSpUur5AvzscjLy6MNGzaQhYUF/fDDD5SdnV1lx664uJiCg4Ope/fu1LZtW7p//76wCvsXgYGB1LVrV2rfvj35+vpWyY1ciby8PNq3bx9ZWVnRokWLKv2E+TERi8W0detWsrGxoYULF1JycrKwSqV69eoVjR49murXr09nz57lXuf3JJPJKCIignr16kWNGzema9euVenfrqioiP78809ydnamESNGVFkHwMcgJCSE3N3dqV27duTj41Mpo6j/pLCwkA4cOED29vY0YcIESktLE1ZRmo8qsXz+/Dm1b9+eunTpQmFhYcJwlSguLqatW7dSnTp1aNOmTZxcvgepVErr168nIyMj+uWXXz7Y3yw6Opq6dOlCLVq0oJcvX1ZZYltdyWQyioyMpC5dulDz5s3p1atXwipVQiKR0P79+6lu3bq0cOHCKk1sqyuJREK7d+8mCwsLWrp0aZUmJm9LSkqiiRMnkqOjI92+fZvb3HvIyMggT09PcnV1rbQh1P9SXFxMN27cIHt7e5o4cWKlJikfi+joaOrVqxe1bdv2g46MnTp1iuzt7WnKlCmVNsrz0SSWUVFR1KpVK/Lw8KD09HRhuEoVFxfTwYMHSVdXl3bu3CkMs7cUFxfTjh07yMrKin755RdhuMrFx8fTwIEDycXF5YPdnFQXaWlp1KNHD+rUqdMHSyrfduTIEbK0tKTly5dXeIHex+78+fNkZGREa9eu/WBJZQmxWExjxowhe3t7evbsmTDM3pKZmUkTJkygBg0aVMm0hf/y+PFjsra2pqlTp37w75Eqy8nJIU9PT2rWrBnFxMQIw1Xu+vXrZGZmRitWrKiU5PKjSCxzc3NpzJgx1K5dOwoODhaGPwixWEzfffcdNWzYkK5duyYMszfu3r1LlpaWtHjx4g/WUyn06tUrat68OY0dO5ZXrv6DgoICmjdvHtWvX5/8/PyE4Q9CLBbTL7/8QqampnTy5MkqHWaqTp48eUKurq40a9YslZkjFxUVRZ6entS7d2/eAuwfSKVSWrVqFdnZ2dGVK1dUpmf+8OHDZGtrS7/++isnl+9QUFBAixYtIicnJ7px44Yw/EFIJBL67bffyMrKig4cOCAMV1i1TyxlMhnt3buX6tSpQ5cvXxaGP6isrCwaOHAgubq6qkzSpEqSk5OpT58+1Ldv3w/ey/w2mUxGV65cIWtra9qxYwcPz73DX3/9RXXr1qWjR4+q1MWksLCQJkyYQK6urhQeHi4M13hisZiGDBlCzZs3p5SUFGH4g3r27BlZWlrS6tWruc0JyGQyun//PllaWtIPP/wgDH9QYrGYli5dShYWFhQUFCQM12gl1xJDQ0P6448/VOpmVyKR0PTp06l+/foUHh6u1DZX7RPLZ8+ekaOjI61bt06lLnAlgoKCqEGDBrRkyRIenhNYsWIFWVpaqsTQwLts2LCBTE1NeUhcICkpiZo0aULTp08XhlRCYmIiubq60qeffioM1WhSqZR27txJ9vb2dPv2bWH4g5NKpfTHH3/Ie+TY/5eRkUHu7u7k5eWlkgvUsrKyqEePHjRs2DCV/P0+lNjYWGrbti1NnTpVJTuX4uLiqHPnzjRhwgSl7mRTrRPL4uJimjJlCrm6uqrMkI6QRCKhX3/9lezs7Hj+0FtCQ0OpQYMGtG7dOmFIZcTGxlKXLl1oxowZvIH6GxKJhFatWkXNmzenkJAQYVhlHDp0iCwtLcnX11cYqrFiY2PJ2dmZ5s+fr7I3uXl5edS/f3/q37+/SnYUfCh//PEHmZmZUWBgoDCkEmQyGV27do3s7e3p8OHDwnCNtXHjRmrYsCG9ePFCGFIZZ86cIRMTE/Lx8RGGyk1N+IjH6uTp06fw9vbG3LlzYWhoKAyrBA0NDXh5ecHAwAAHDx4Uhmuk4uJiHDhwAGZmZvDy8hKGVYa1tTW++uorHDlyBCEhIcJwjZScnIzdu3djzJgxcHZ2FoZVRr9+/dCyZUvs2LED+fn5wnCNdOzYMWRnZ2PWrFnQ0tIShlWCrq4uZs2ahYcPH+L+/fvCcI2UmpqKvXv3YsKECWjUqJEwrBJEIhG6d+8Od3d3bN68WRiukXJzc/Hzzz/js88+U9njBgA9evRAt27d8NNPPyntXFltE0uJRIJDhw7B0dERgwYNEoZViq6uLubMmYNTp05xgvImOfn1118xZcoUWFhYCMMqxdPTE40bN8Zvv/0mDNVIBw8eRK1atTBp0iRhSKXUrl0b8+bNw99//43nz58LwzVOXFwcDh8+jOnTp8Pa2loYVinu7u7o2rUrtm7ditzcXGG4xjlz5gwiIiIwZcoUaGpqCsMqZc6cOUhOTsb58+eFoRpFJpNhz5490NPTw8iRI4VhlaKjo4M5c+bg8ePHePDggTBcLtU2sczKysKxY8cwevRoGBkZCcMqRSQSoV+/ftDV1YW3tzdkMpmwSo1y7tw51K5dG7169YJIJBKGVYqmpibGjx+PO3fuIDIyUhiuUVJSUnD+/HkMGzYMderUEYZVikgkgpubGxo2bIgTJ04IwzWOn58fkpKSMGjQIKirqwvDKkVfXx+ffvopbt26haioKGG4RpHJZDh+/Di6du2KBg0aCMMqp0mTJmjVqhX++usvFBQUCMM1RlZWFs6fP48+ffrA3t5eGFYpJedKKysrnD59Whgul2qbWN6+fRtisRg9evQQhlSSjY0NunXrhnPnzkEqlQrDNUZBQQEuXLgAT09P1K1bVxj+T0VFRVixYgX2798vDEEqleL333/Hb7/9BrFYLAyXS8kQT1FREe7duycM1yjBwcF4/fo1+vXrBw0NDWH4X8lkMpw9exarV69GQkKCMIygoCAsWLAAycnJwlC5aWtrY8SIEbh69SrS09OF4RrlzJkzaNasGZo3by4M/afY2FjMnz8fd+7cEYZQVFSE5cuXw9vbWxiqkG7dukFXVxdXrlwRhmqUyMhI3L9/H8OGDYOaWtkv1zKZDKdOncL333//zrb19OlTLFq0CCkpKcJQuZT00F29ehWpqanCcI3x6tUr3LlzB6NGjSrzuRJvpott3boV27ZtK5UvyGQy/P3330rt0dfS0sK4ceNw+vRppQyHl/2bqgJkMhkuXLiArl27wtLSUhhWWUOGDMGdO3eQlZUlDNUYL168QEhICDw9Pcs1rKOpqYnIyEgsXbq01Mnw9evXWL9+PSQSiVLnkDk5OaFZs2a4cOFCje5tvn37NszMzNCxY0dh6D+JRCJoa2tj7dq1uHbtmjCMLVu24O7duzA1NRWGyk1NTQ3dunVDbm4unjx5IgzXGPn5+fD29saYMWOEofeipaWFO3fuYPPmzaUuZD4+Pvjjjz+gq6urUF5R2traGDhwIC5evAiJRCIM1xhXrlyBg4NDuW4I8Fa7+/7773Hz5k1hGBs3bsTDhw+VOgLRu3dvZGdnw9/fXxiqMXx8fGBvb49mzZoJQ+9FXV0dmZmZWLhwIWJjYxViGRkZWL16NVJSUqCnp6cQq4gOHTpAW1v7nTeQZVUtE8u0tDSEhoaiffv2FTqhSSQSvHr16p29GTKZDNHR0UhJSQERCcPlYmtrC1tbW6UcuOoqJiYG2dnZcHNzE4bei0gkwqBBg5CXl4dbt24pHJuAgAAkJCRg0KBBSh1iF4lE6NGjB3x9fZX2XaiOfHx80KNHj3L1nIhEIri7u8PS0hJnz55VSNDT0tJw69YtjBw5slyf/W9atGgBLS0tBAcHC0M1RkBAAGrVqoXGjRsLQ+/FxMQEvXv3xpMnTxARESEvl0gkuHbtGhwcHODi4qLwnorS0NBA+/btkZSUVOrCWlMUFRXB398fDRo0gI2NjTD8XkQiEbp27Qpzc/NS7S41NRV37tzBiBEjlNrudHR04ObmVmOvczKZDL6+vujSpUu5Ok/w5rj1798f2trauHDhgsJ159WrV3j+/DlGjBih1Oucvb09rK2t8ejRowpf55T3bapC8fHxSExMROvWrSv0h01PT0ePHj2wcOFCFBcXK8RiYmLQp08fHDp0SKG8IkxMTODs7AxfX19hqMZ4+PAh7O3tK3SH3KpVK9jY2ODkyZMoLCyUl58+fRru7u6VsiCoTZs2iIuLK9VLWlPk5+fj+fPnaNeunTD03nR1dTFw4ED4+Pjg9evX8vI7d+5AXV0dHh4eCvWVQUdHBy4uLvDz8xOGaoynT5/C0tKy3It2NDQ0MHDgQCQkJCj0Nufm5sLb2xt9+/atlF05XFxcIJPJauw8y5ycHISGhqJTp07lTlDwpt0NGDAAV69eVZgnfuPGDejo6KBDhw4K9StKS0sLrVq1QkBAQKnrak2Qnp6OuLg4tG/fvlzD4CUcHR3Rtm1b/PXXX8jIyJCX//3333BxcYGjo6NC/YoyMTFBgwYN8Pz5c4XranlUy8QyNTUVGRkZ5b4DL2FiYoKBAwfC19dX4U6ciODj4wO82bakIsnr2wwNDdGwYUPExMSgqKhIGK4Rnj9/jlatWgmLy8TGxgZ9+vSBj4+PPNELDw/Hw4cPMW7cOGF1pTA2NoaVlVWNXdX/+vVr6Ovrw9bWVhgqkwEDBkBLS0u+iE0sFuPUqVNo2bIlmjRpIqyuFC1atEBQUJCwuEaQyWQIDw+Hubk5zMzMhOH35urqipYtW+LkyZPyc1fJgqDBgwcLqytFvXr1IBaLa2ximZubi/DwcDRt2lQYKrOSY3T16lUQEQoKCnDq1Cm0a9euwtdRIXV1dTRq1AgZGRlISkoShj96UVFRKCoqgp2dnTBUJsbGxhg8eDACAgIQGhoKvOlUu3btGkaMGKHUYfASrq6uCAsLq/A8y2qZWJZMQq7o/EpNTU307dsXSUlJCgszZDIZLl26hBYtWih1JZ5IJIKNjQ3S09NLzVWqKRISElCvXj1hcZmoqalh+PDhSE1Nxc2bN0FEuHbtGmrVqoU2bdoIqyuFnp4ezMzM3rnwpCZISEiAnp4eateuLQyViaurK5ycnHDx4kUUFBQgMzMTly5dkg/7VIZ69eohOjpaWFwjiMViJCcno169ehXq9VJXV8eoUaPw4sULBAYGQiqV4vjx4+jQoUOljBDgzepwCwuLGnvsCgsLkZycrJRrUKtWreDg4ICLFy+isLAQqampuHLlCj755BOlzkcvYW1tDalUqtDTVlOkp6eDiGBlZSUMlYlIJMKQIUOQn58vX8Tm7++PpKQkdO/eXanTF0o0bNgQycnJFe74Uv5vVgWSk5OV1g1cMu/r2LFj8rK0tDRcuXKlUuZ8WVpa1ujE8vXr1xXu9cKbBTXt27fHX3/9hczMTJw7dw6dOnVC/fr1hVWVQldXF6ampjV2vldqaip0dXWhr68vDJVJ7dq1MXDgQNy8eROxsbG4du0adHR00L17d2FVpbG1tUVmZqawuEaQSCTIzMxUylB1165dYWBggAsXLuDVq1fw9/fH4MGDK/yd+DfGxsYV7j2prmQyGSQSCYyNjYWhMjM2NsaAAQNw7do1JCYm4urVqzAwMEDXrl2FVZVCR0cHRKS03TmqE4lEAjU1NRgYGAhDZWZlZYUePXrg77//Rm5uLs6cOQNnZ2e0aNFCWFUp9PT0UFhYWGolelkpN2uqhgwMDDB8+HDcvn1bPv/k1KlTsLOzq9B8sn9iaGgImUxW4cmx1VlFFlyV0NfXx6BBgxAUFIRbt27B19cXo0ePFlZTGjU1NZXf/68y5ebmolatWko5diW9k6dOncLJkyfxySefVGjOLftnEokE6enpFR4lAIDGjRujTZs2uHTpEm7evIns7Gz07dtXWI0pSUZGRoV6mYU++eQTaGpq4tSpUzh9+jQGDRpU4RGIf2JlZYXi4uJ3Loz92OXl5UEikVRofuXbRo4ciYSEBFy9ehXe3t4YO3assIrSODo6IikpqcI3BDU+sQSAvn37Qk9PD5cuXUJWVhbOnTsHd3f3cu2zyKqGuro6+vbti5ycHCxduhQNGjRQ6UcMfgyISCk3RNbW1ujatSt+/vlnPHr0CP369auU4Tj2f5Q1R1xbWxtDhw7Fo0ePsHXrVnh4ePA5shIpM6nEmykh7u7u2LJlC549e4a+ffsq/WeUKC4uBhEp7btXnairqyt1pLNjx44wMjLCd999B0NDQ7Rv315YRWmUtbWX8v73VUxZfwC8tU/h+fPnERgYCH9/f3h5eVXKxS47Oxuampo1tvdLQ0NDaUNbzZo1Q+vWrREYGIh+/frBxMREIU5ECAwMxMmTJxXKy0Mmk1V4eKA609fXR35+PvLy8oShMtPT08OgQYOQkpKCWrVqoUuXLgrxlJQU7Ny5E6tWrcLRo0drZK+HsmhpacHMzExpC2C6dOkCW1tbREREYOjQoQqx4uJiXLp0CatWrcK6deuU9ni4mkpfX1+p1zkDAwMMGjQICQkJMDAwgLu7u7AKiAgPHz7E9u3bK7TwJjk5Gdra2hVaMFZd1apVC+rq6kpbEe/o6IguXbogODgYbm5uCqMPISEhWLVqlcLr8uXLCu8vi5iYGFhbW0NHR0cYKpNqmVja2NgodUK3kZERRo4ciTt37mDnzp0wNzevtEUgsbGxMDIyqpQVXdVBvXr1EBMTIywuN09PT+jo6GDw4MEKybpYLMbdu3fx2Wef4cCBAwrvKY+8vDylzu2tburWrYvCwkKlzQ328PCAvr4+hg4dqjC8/urVK3z11VcwNzfH+PHjkZSUhK+//rpCSf2rV69q5AUOb27k9PX1lTbHtHbt2ujQoQOcnZ0VdneQSCRYuXIlHj58iGHDhqFz587YsmVLhR8Rl5SUpPKP7K0sampq0NbWVtqxw5t5sjo6Ohg2bNg7k4eEhASsWrUKO3bsqFBimZOTAyJS2nBwdaKlpQUiUtq5EgD69OkDABg1apRCh9eTJ0+goaGB8ePHy19t27Z9651lk5GRAS0trQr3NFfLxNLU1BQaGhpKW6ErEonQt29fEBGOHz+OgQMHlmoQhYWFyMjIQGZmZrlXTBERYmNjYWxsXGMTSzs7O6X1nshkMkRERKB58+alnnDw22+/4dtvv4Wnp2eFGwneSiwruhNBdWVhYYG8vDxkZ2cLQ2VGRIiJiYGBgQF69+4tL5fJZLh37x6aN2+OIUOGoF69ehg3bhzi4uIqdDMSGRmplDmG1ZG2tjbMzc0RGRmplN6vwsJCxMfHo2vXrgqrXkUiEXr16oWvvvoKTZo0gZubG3r27Inz588rvL8sMjMzkZ6eXu7Nwau7WrVqwdzcXL7VTEUREaKjo2FkZISePXsKwxCLxdizZw969epV4ZX+sbGx0NDQKDWKVBPUqVMHIpEIcXFxwlC5EBEiIyPh6OhYat2HWCyGpaUlDA0NYWhoCDMzswrdiIWFhaFu3boVHq2tlollnTp1YGxsrNSnaZiZmaFPnz4wMTFBv379FGKxsbFYuHAhli5dioULF2LFihXluhvJyMjA8+fP0ahRowofuOqqfv36ePz4sbC4zIqLi3HhwgWcPHkSM2fOLHUj4OrqiuPHj8PJyUmhvLySk5MRHx9fY+dx2tvbIy8vT2G/1/KKiIjA6tWr0bFjR4WRATU1NXh5eWHBggXyspKEviJzwYKCgpSyF2B1pKamBmdnZ6SkpFSoBwpvFnDt27cPISEh+PzzzxXmkWloaMDDw0N+w5yYmIg7d+6gU6dOb31C2UREREBDQ6PcG7tXdwYGBmjYsCECAgKEoXIJDw/HqlWr0K1bN7i6ugrD+PvvvxEeHo4pU6ZUaKqWVCrF69evYWJiUiNvxO3t7aGpqanwEIiKuHHjBnbv3o1p06aV2oEhMTER165dw48//ojVq1fj008/xd27dxXqlEVISAicnJwq3PFVLRNLS0tLWFhYwN/fX2nPbhaJRDA0NESTJk1KLeVfu3YtXF1dsXHjRmzZsgXa2trYu3dvmYfnMjMzER4eXuENwquzdu3aISoqComJicLQeyvZ1Hf27NkYPnw4hgwZIqyCDh06wNzcXFhcbvfv34eTk1OF7garM11dXbRq1apCT4368ccf0bBhQ3Tr1g15eXlYtmxZqRPl23JycrBz5060adOm3Beo7OxshISEVNrUluqgWbNmSEhIQHx8vDD0XsLCwtCwYUM0b94cu3fvxooVK9CwYUNhNQBAYGAgpkyZgtmzZyMnJ6fU/Nn3RUQICgqCpqZmje1t1tfXh5OTEx48eFDuUTIAWLlyJRo2bIiePXuiqKgIy5YtK5U4RERE4M8//8ScOXMUystDLBbj3r17pXrXagojIyPY2dnBz8+vQvMshwwZgoYNG2LixIlo2bIlpk6dWirhnz59OtatW4c1a9Zg/fr1+Oyzz7Bu3TqkpaUp1HsfycnJePHiBZo1a1bhPYWrZWJpbGwMZ2dn+Pn5KWUhCBEhPj4e3t7eGDlypMKcL5lMhuDgYHTr1g1aWlrQ0dHB0KFD4e3tXebHHoWHhyMxMbFCd/HVXf369WFqaop79+6Ve4XxwoULsXLlSuzZswerV6/+1+REGejNk5g8PDyUMqxeXbm7u+POnTvlvpnr3bs3VqxYgQ0bNuDEiRP/2pssFouxcuVKxMTEYNWqVeVeZRkYGIiioqIa22OJN08ekslkePjwoTD0XszNzbFixQp8//33OHjwICZNmlRqhKDkKUrNmjXD7t27sXfvXvTq1Qtr165VqPe+pFIpHjx4ABsbmxo7FK6lpYXWrVsjLCysQvvn9uvXDytWrMDGjRtx4sQJODg4KMTFYjF+/PFHtG3bFs7OzsjLy4NUKkVBQUG5pk9kZWXh0aNH71wcVBOIRCK4u7vj5s2bFbohmDZtGlasWIEdO3Zg+/bt7+zUKOkVLlmJ3q1bN+Tk5JRr6lBERATi4uLQtm3bCl/nyne2/sBKnrxy69atCvV85eXlYcuWLVizZg0GDRoEFxcXjBgxQqFOTExMqc1OTUxMUFRUVOa7kaNHj6J79+7v/ILUFA4ODnB0dMSZM2fKvVfWsGHDMHbsWPTo0eOdE9CV7fnz53j9+jV69+5d7gTnY9C5c2fk5OQoPKWqLFq1aoWxY8dixIgRsLCw+MeTV1hYGCZPngwDAwNs37693L2VMpkMV69ehYmJSYUmtFd3urq66NGjB44fPy4MvZfatWtj7NixGDt2LFq3bl0qqcSbBVJDhgxBamoq8Ga/Xjc3N7x69UpY9b2UbAZdsvdiTdWvXz/Ex8fj6dOnwtB7a9OmDcaOHYvhw4ejbt26pdqdVCqFhYUFEhMTsXjxYixfvhxhYWHy7cDK6tKlS7CxsSk18leT9O7dG0lJSRWaxuDp6YmxY8eib9++73zAQWFhIby9vRVuOmJjY6Grq1uubcBu374NLS0tuLm5CUNlVm2vki4uLjA0NKzQ5HCxWIzjx4/jwoUL6NmzJ3bs2FEq6dPW1gYRKfTSlOzPJWyg/yYsLAwPHjzAwIEDS3Vn1yQ6OjoYMmQIfHx85I/mrAxhYWHw9fVFWFgY0tLS4OvriydPnpS5l1kmk+HixYvQ1tZWSoOrzpo2bQpHR0f89ddf5erJ+C9EhOvXr2PMmDGwtLRE586dERgYCF9f33JtOZSfn4/jx4+jT58+pYb+apphw4YhMjIS/v7+wpBS2NraokmTJli3bh0uX76Mv//+G7/88gvGjBkjrPpefHx8IBaL0a1bN2GoRrGyskKHDh1w9OjRco8U/BddXV2sWLECW7ZswZYtW7B+/Xo0btwY8+fPR4cOHYTV/1V2djZOnjyJ7t271+iHHtjY2MDd3R2HDh2qlHMl3uxzGh4ejqVLl8LHxweXL1/G999/j/Hjx5c5sSwsLMSRI0cwePBgpaz/qLaJpaGhIYYNG4ajR4+We1K6iYkJfH194evriw0bNsDGxqZUsljSs/L2M09L7gredef+LkSEq1evQiqVomfPnqV+Rk3Tp08fiEQiXLx4sdzD4f8lKSkJoaGhqF+/Pj777DOEhoYiKiqqzI28uLgY+/fvR48ePWrsIoISxsbGGDRoEE6dOlWuRO+/EBH09PQwc+ZMODs7IyIiAqGhoQgNDS3z/pn05vnx8fHxGDx4sDBc47Rt2xYWFhY4duxYmdvA+6hVqxa+//57DB06FHFxccjKysK0adMwYcIEYdX/lJubiwMHDqBv376ws7MThmucMWPG4N69e3j+/HmlnS/fpqGhga+//rpcUxCePHmCx48fY8CAAUpJUKorIyMjDBo0CFevXi13r/1/UVdXx7Rp0zBt2jTExsYiISEBixYtwrBhw8o0slZyrkxNTYWnp6cwXD5Ujb148YLs7e1p27ZtwpBSbdq0iRYtWkQZGRkUHx9PEyZMoEuXLgmr/aPMzEyyt7enBQsWCEM1kkQioSVLlpCLiwtFRUUJwyrlt99+I0tLSwoMDBSGaqS0tDRycnKi77//noqLi4VhlZGamkq9e/emWbNmUUFBgTBcI+3fv59MTEzoxYsXwpBKOXfuHNWpU4du374tDNVIKSkp5OHhQdOmTaPCwkJhWGVIJBIaMGAAde/eXRiqkXJycsjBwUHlr/tZWVnUo0cP8vLyUtr36/3TWhXUsGFDDBs2DNu3b0dKSoowrDRTpkxBvXr15FsN9evXD927dxdWe6fi4mLs2rULGhoa+Oyzz4ThGklDQwOffvopCgsLsXv3bmFYZURGRmLnzp0YPXo0GjRoIAzXSLVr18aMGTNw6NAhPHv2TBhWGSdPnsTjx48xbdo01KpVSxiukfr27QtHR0ds27atzFNCqkpOTg7Wr1+Prl271vipJyVMTU0xc+ZMHD9+vEJzLSuTTCaDt7c3AgICMHfuXGG4RtLX18f//vc/nDx5Ev7+/lXS21xWMpkMly5dwpMnTzBr1qwKrwaXE2aa1c2LFy+oadOmtHTpUhKLxcLwBxcQEEB2dna0adMmle7h+RC2bNlCdevWVdnewO+++47q1q1LsbGxwlCNlpKSQi4uLuTl5SUMqYSIiAhq1qwZzZo1Sxiq0aRSKe3fv5+sra3p4sWLwvAHV1xcTNu2baN69erRrVu3hOEaLSsri/r06UNDhgyhzMxMYfiDy8zMpPbt29O4ceMoPz9fGK6xEhMTycPDg8aNG6eSIyeRkZHUrl07+uKLL5TWW0lEVO0TS5lMRqdOnaLatWvT8ePHheEPKiUlhbp160adO3dW6kH7WKSmptKQIUPIw8ODEhMTheEPRiqV0vHjx8nKyor27dsnDDMiunr1KllZWdEvv/xCEolEGP5gsrOzaejQodSpUyeKjo4Whms8mUxGn376KTk7O6vcDdODBw/I2NiYNm/eTDKZTBiu0WQyGQUHB5ONjQ198803wvAHVVBQQF9//TU5OjpSeHi4MFyjyWQyun//PpmamtLWrVtV6lwpkUho3Lhx1KxZM4qPj1dqm6v2iSURkVgspqlTp5Krqyv5+/sLwx9Efn4+zZkzh5o0aUL3798Xhtkbz58/JxsbG/rf//5Hubm5wnCVk8lkFBISQk5OTjRt2jSV+J1UUWFhIa1cuZJsbGzo9u3bJJVKhVWqXEFBAW3YsIEsLCzoypUrwjB74/nz59ShQwcaN24cpaWlCcMfRGhoKHXu3JmGDRumMr+TKtq8eTPZ2NjQ8ePHVWIETCqV0i+//EK2trZ06NAhlfidVE1hYSH98MMPZG9vT2fOnBGGPwixWEybNm0iW1tbOnnypDBcYR9FYklElJCQQD169KDWrVtTenq6MFylCgoKaN26dWRoaEgHDx4UhtlbpFIpHTt2jOrWrUsrVqwQhqtcbGwsde3albp06UIJCQnCMHtLdnY2DRw4kJo1a0YPHz4UhqvcH3/8QWZmZrRr1y4qKioShtlbbt26RUZGRjR//nzKy8sThqtUZmYmDR48mJo2bUqvX78WhtlbcnNzafbs2WRra0u+vr7CcJWSSqV06dIlsrS0pEWLFqlUb5yqKSgooFGjRlHDhg0pICBAGK5yR48eJRMTE9q2bVulTCH8aBJLIqLw8HBq3749denShYKCgoThKpGfn0/ffPMNGRgY0KFDh7ixvQepVEp//PEHGRkZ0Y8//kg5OTnCKpVOJpPJe01cXFwoNjZWqUMDHyOZTEZpaWk0fPhwsrW1JT8/vw/ScykWi2nPnj1Ut25dWrhw4Qf5HaobqVRK586dI1tbW/r8888/WHIZHx9P/fv3pxYtWpCfn58wzN4hOzubPv30U6pfv/4HmytbXFxMJ06cIFNTU1q4cOEHOWdXN4mJiTRmzBhycHCgu3fvCsNVZseOHWRpaUnLli2rlKSSPrbEUiaT0YsXL8jFxYU6duxI9+7dq9Ku+dTUVFq0aBHVq1ePtm3bxr0mZZCXl0c7duygunXr0oIFCyg5ObnKEjuJREJ+fn7Upk0b6ty5M09dKKPo6GgaMWIENWvWjM6fP1+l3/usrCxav349WVlZ0aJFiyg7O1tYhf0DqVRKR48eJQcHB5o6dSpFRkYKq1SqgIAA6t+/PzVu3Jju3bvHNwRlkJqaSmPGjKEGDRrQ4cOHq3QOf35+Pv3666/k6OhIM2fOVMnFRKoqJiZG3jt/8uTJKj1XZmdn07Zt28ja2poWLVpUqdO8PqrEskR0dDQNGjSILCws6NChQ1XS6IKDg2no0KFkYWFBf/zxR5UmtB8LmUxGR44cIVtbW/L09KSQkBBhlUqxe/dusre3pz59+lT5xfVjkZaWRmPGjCFLS0tau3Ztpd0Jvy0hIYFGjx5NpqamtH379ir5mR+b4uJi8vHxIVtbW/Lw8KiSm6qioiI6d+4cNWrUiNzc3CgoKKjKbiI/JhkZGbRgwQIyNjam7777rkqmgKWkpND//vc/MjIyou+++65Sk5OPVWpqKk2ePJlMTU3phx9+qJLRgvj4eJo8eTLp6urSzz//XOnH7aNMLOnNvJ21a9eShYUFDRs2jHx9fSsl2UtOTqZNmzaRjY0NeXh40JMnT/jOuwKkUik9fvyYPD09ycLCgjZs2ECJiYlKv/BIJBJ6+PAhDR8+nGxsbGjJkiWUnZ2t9J9TU8hkMhKLxbR9+3aytbWlXr160bVr1yrljjw1NZX27NlDjo6O1KlTJ7py5UqltO2aQiaT0cuXL2nkyJFUt25dWrVqVaWtqH/27BlNnjyZTExM6Ouvv1ap3SCqI7FYTIcOHaImTZpQ8+bN6eLFi5Wy3U9hYSEdPHiQWrZsSU2aNKGzZ8/yNK8KyM/Pp3379lG9evWoc+fOdO7cuUr5e2ZlZdGhQ4eoQYMG1LZtW/L29q6Sc+VHm1jSm7vxixcvUvfu3cnR0ZFmzZpFz549o/z8/AolEBKJhJKTk2n//v3UpUsXsre3p2XLllFcXJywKiun5ORkWrJkCTVs2JDc3Nzo4MGDFB8fX+FGkZ+fTy9evKCZM2dSo0aNqGPHjnT16tUq6dWuCYqKiujBgwfUp08fcnBwoM8++4yePXtW4TlYUqmUUlJS6Ny5c/I2N3fuXIqIiBBWZeWUnp5O27dvJ3t7e2rfvj3t2LGD4uPjK3xzUFBQQGFhYbRmzRpydnYmV1dX+vPPPyslAaqJiouLyd/fn7y8vMjW1pa8vLzo3r17lJOTU6HrnEwmo/T0dLpx4waNHDmSrKysaOLEiRQSEsKdJ0pQXFxM9+/fp4EDB5KdnR1NmzaN/P39lXKuTE9Pp4sXL9KAAQPIxsaGZs+eTaGhocKqleajTixLZGZm0u+//06tWrWiOnXq0Lhx4+jYsWNlTgTFYjHdu3ePli1bRi4uLmRsbEzTpk2j4ODgCjVg9s8CAgLoyy+/JCMjI2rSpAl9++235OfnV+bNZlNSUujgwYM0fvx4MjU1pbZt29LOnTspIyNDWJUpQV5eHh0+fJg8PDzI0NCQBg0aRPv27Stzm5NIJBQUFEQrV64kNzc30tPTo6lTp9K9e/eEVZkSyGQyev36Nc2fP58sLCyoYcOGNHfuXPL29i5zm0tPT6czZ87QhAkTyMLCgpydnenXX3+llJQUYVWmBFKplE6fPk2enp6kq6tLAwYMoK1bt1JYWFiZE8Fnz57R5s2bycPDgwwMDKh///7k4+NTKb1qNV1+fj6dPn2aPDw8qHbt2jRgwADatWtXmadllYz2ff/999SlSxfS0dGhESNG0K1bt6o8PxGRKj5nqBIQETIzM3Hv3j0cOHAAwcHBSE5ORtOmTdG6dWs0a9YM5ubm0NPTk79HKpUiKysLoaGhCAgIwP379yGTyVCvXj307t0b48aNg4WFBbS0tBR+FlMuiUSC2NhYnDhxAufPn0dUVBQ0NDTQqlUrtGvXDvXq1YOpqSnU1dXl78nLy0NKSgpCQkLg5+eH4OBgmJubo2nTphg5ciS6d+8OAwMDqKlV66eaqjQiQl5eHh49eoQDBw7A398fSUlJsLa2hru7O1q0aAFLS0vo6+vL3yOVSpGRkYHY2Fg8evQIjx49QnZ2NhwcHNC1a1eMGTMG9evX5zZXySQSCdLT03H48GFcuHABr169QnFxMVq3bo0WLVqgWbNmMDExUTgOBQUF8jb36NEjBAYGwsDAAE2bNsWYMWPQvXt3GBsbc5urRESEgoICBAYGYv/+/fDz80N8fDysrKzQpk0buLq6wtraGoaGhvLjQETIyMhAZGQkXr58iRs3biA7OxsWFhbo0aMHRo8ejcaNG6NWrVoQiUTCH8mUoORc+fDhQxw7dgx3795FSkoKrKys0KlTJzRt2hRWVlYwNDSUHwOpVIrMzExER0fLz5W5ubmwsbFB586dMX78eDg6On6QR9rWmMTybRKJBK9fv0ZISAju378PPz8/REZGQiaTKRwEmUyGgoIC1KlTB23btkWrVq3QqlUrNGjQAKampgqfySpfyQkwNDQUT58+xb179xAYGIjk5GTUqlVLIbEsKCiAVCpFixYt0KRJE7i5uaFFixZwcHDgpOQDKC4uRmRkJEJDQ+Hv749Hjx4hODgYEomkVJvLz8+HiYmJ/Li1adMGzs7OMDEx4aTkA8jMzERYWBiCgoLkF7C4uDhoaWlBU1NTXk8sFoOIYGNjgw4dOqBt27Zo3LgxnJycoKOjo/CZrPIVFxcjLi4OERERuHXrFvz9/fHy5Uvk5uZCR0dHIbHMy8uDkZGRvM21bNkS9evXR7169YQfyypZybkyPDwcfn5+ePToEUJCQiAWi6Gjo6OQWBYWFsLExATNmjVD69at0b59ezg6OsLCwuKDnitrZGL5LkSEpKQkFBYWysvU1dVhbm6uvAezs0ohlUoRExOjUKalpQUrKyuFMqZ60tPTkZ2drVBmZmamMHLAVI9EIkFSUhKKi4vlZdra2jA3N1e4wWOqJzMzE5mZmQplderUgYGBgUIZUy3vOleam5tDV1dXoUwVcGLJGGOMMcaU4sP1lTLGGGOMsY8KJ5bvIJFIhEVMxRUXF0MmkwmLWTUhlUohlUqFxUyFERGfK6spIlKYxsCqF4lEAlUebObEUiAvLw8LFizAy5cvhSGmomQyGQ4ePIiDBw8KQ6wakEql2LZtG65cuSIMMRV28+ZNrFu3jhOUaig8PBwLFy5EXl6eMMRUXEpKCubMmYO0tDRhSGVwYilw//59HDhwAOvXr+dGV01kZWVh48aN2LhxI16/fi0MMxVGRAgMDMSGDRvwww8/cJJSTWRkZGDt2rXYvn07QkNDhWGmwsRiMTZt2oTt27fj7t27Kt3zxRQREU6ePIldu3bh8OHDKjtKx4nlW7Kzs7FmzRqkpaXhwIED8PHxEVZhKkYqlWL79u0ICgpCYGAgfv31V2EVpsLEYjHWrVuH+Ph4+Pr6Yv/+/Sp7smT/35EjR3D16lUkJCRg7dq1yM/PF1ZhKurmzZs4fvw4xGIxVqxYgZSUFGEVpqJCQ0OxceNGyGQybNu2DS9evBBWUQmcWL4hk8lw9OhR3L17FwBQVFSEdevWqXR3MwP8/f2xZ88e4M3d3M6dO/HkyRNhNaairl+/jpMnTwJvbhJ++uknREVFCasxFRIfH49NmzbJe5fPnTuHa9euCasxFVRQUIAff/xRfl3z8/PDgQMHhNWYCpJKpdi8eTNevXoFAHj9+jXWr1+vknPTObF8Iz09HevXr1fYx/Lhw4f466+/eKhARclkMuzYsUMhEcnOzsaWLVuQm5urUJepnpSUFGzbtg1isVheFhAQgN9//53bnIoqKirC9u3bERERIS9717mTqR4iwpkzZ+Dr6ysvk0gk2LZtGxISEhTqMtVCRHj69CmOHj0qH9EhIpw+fRr3799XufMlJ5ZvVhRv27YN4eHhCuVisRjfffcdkpOTFcrZh0dEuHjxIk6cOCEM4c8//8Tly5eFxUzFHDx48J3Haffu3Xj48KGwmKmAoKAg7Nixo9R0hXv37uG3335Tyd4T9n9iY2OxfPlyFBUVKZTHxMRg9erVCjd4TLVkZWVh+fLlyMrKUijPzMzEypUrkZOTo1D+oXFi+WY49ffffxcWA296VTZs2MCNTsWkp6djw4YN7+yZFIvFWL9+PZKSkoQhpiKio6Oxbdu2UgkKACQmJmLt2rWcpKiY/Px8bNiwARkZGcKQ/OacpzGoJqlUit9+++2du50QEQ4fPoynT58KQ0xFXLhw4Z034XhrOtG7zqUfSo1PLIkImzdvLvVIwLft378fgYGBwmL2gRARzp8/j1u3bglDco8fP8aRI0eExUwFFBUVYceOHYiOjhaGgDfH9+zZs7hz547KDfHUZN7e3jh//rywWO7ly5fYt28fHzMVFBgYiN9+++0fj01mZibvhKKikpKS8NNPP5XqaS4hkUjwyy+/IDY2Vhj6cKgGk8lkdOLECdLV1SUA//rq168f5efnCz+CfQAvX76kxo0blzpGwpexsTElJCQI384+sHv37lGtWrVKHS/hy83NjY+fisjMzKTmzZuXOkbCl7m5OV2/fl34dvaBjRgxotSxEr50dHRo3759wreyD2zp0qUkEolKHa+3X2pqarRo0SLhWz+YGt1jmZ6eji1btrzXVhm3b9/G33///Y93fKxqyGQy7Ny5E2FhYcJQKRkZGfjxxx9RUFAgDLEPJCcn570Xevj7++PYsWMqNcRTExUXF+PAgQMICQkRhkpJTk7G5s2beT9SFUFEuHTpEs6ePSsMlVJQUID169cjOztbGGIfyOvXr7F9+/b/zDtkMhn27NmDoKAgYeiDENF//cYfsUePHmHZsmUKZQUFBfD394eTkxPMzc0VYi4uLlixYgU0NTUVylnVyc7OxvTp0xUmMctkMgQHBwMAmjdv/lZtwMTEBGvWrIGtra1COfswnj17hjVr1pSabO7n5wdjY2M0bNhQobxRo0ZYuXIl9PX1FcpZ1cnMzMTy5ctL3cxFR0cjLi4Obdq0UTgnamho4KeffoKdnZ1CfVb1CgoKsG3btlLThlJTU/Hs2TO4u7tDS0tLXq6mpoa5c+eiR48eCvXZh3Ho0CEcOXJEIbEsKCjA9evX0aNHD2hra8vLRSIRhg0bhvHjx0NdXV1e/iHU6MSSiEr1hkRHR2Po0KFYuXIl+vXrpxATiUTyF/sw3nXMJBIJ5syZAyJ65wbpampqfMxUxLuOHwD069cPbm5uWLp0qUI5t7kPj4jkr7ft2rULR44cwenTp1G7dm2FGLc51fBPx+7atWuYMmUKHj58iDp16ijERCIR1NRq9GCmypDJZKWOXVRUFOrXr4/4+PhSnV+qcr6s0d8ekUgEdXV1hVfJCVFNTe0fY+zDedcxU1dXlzcmYXlJjKmGfztG3OZU038dG2F5yfFkH95/Hbt/ijHV8G/H559iqtD2+BvEGGOMMcaUghNLxhhjjDGmFJxYMsYYY4wxpeDEkjHGGGOMKQUnlowxxhhjTCk4sWSMMcYYY0rBiSVjjDHGGFMKTiwZY4wxxphScGLJGGOMMcaUghNLxhhjjDGmFJxYMsYYY4wxpeDEkjHGGGOMKQUnlowxxhhjTCk4sWSMMcYYY0rBiSVjjDHGGFMKTiwZY4wxxphScGLJGGOMMcaUghNLxhhjjDGmFJxYMsYYY4wxpeDEkjHGGGOMKQUnlowxxhhjTCk4sWSMMcYYY0rBiSVjjDHGGFMKTiwZY4wxxphScGLJGGOMMcaUghNLxhhjjDGmFJxYMsYYY4wxpeDEkjHGGGOMKQUnlowxxhhjTCk4sWSMMcYYY0rBiSVjjDHGGFMKTiwZY4wxxphScGLJGGOMMcaUghNLxhhjjDGmFJxYMsYYY4wxpeDEkjHGGGOMKQUnlowxxhhjTCk4sWSMMcYYY0rBiSVjjDHGGFMKTiwZY4wxxphScGLJGGOMMcaUghNLxhhjjDGmFJxYMsYYY4wxpeDEkjHGGGOMKQUnlowxxhhjTCk4sWSMMcYYY0rBiSVjjDHGGFMKTiwZY4wxxphScGLJGGOMMcaUghNLxhhjjDGmFJxYMsYYY4wxpeDEkjHGGGOMKQUnlowxxhhjTCk4sWSMMcYYY0rBiSVjjDHGGFMKTiwZY4wxxphScGLJGGOMMcaUghNLxhhjjDGmFJxYMsYYY4wxpeDEkjHGGGOMKQUnlowxxhhjTCk4sWSMMcYYY0rBiSVjjDHGGFMKTiwZY4wxxphScGLJGGOMMcaUghNLxhhjjDGmFJxYMsYYY4wxpeDEkjHGGGOMKQUnlowxxhhjTCk4sWSMMcYYY0rBiSVjjDHGGFMKTiwZY4wxxphScGLJGGOMMcaUghNLxhhjjDGmFJxYMsYYY4wxpeDEkjHGGGOMKQUnlowxxhhjTCk4sWSMMcYYY0rBiSVjjDHGGFMKTiwZY4wxxphScGLJGGOMMcaUghNLxhhjjDGmFJxYMsYYY4wxpeDEkjHGGGOMKQUnlowxxhhjTCk4sWSMMcYYY0rBiSVjjDHGGFMKTiwZY4wxxphScGLJGGOMMcaUghNLxhhjjDGmFJxYMsYYY4wxpeDEkjHGGGOMKQUnlowxxhhjTCk4sWSMMcYYY0rBiSVjjDHGGFMKTiwZY4wxxphScGLJGGOMMcaUghNLxhhjjDGmFJxYMsYYY4wxpeDEkjHGGGOMKQUnlowxxhhjTCk4sWSMMcYYY0rBiSVjjDHGGFMKTiwZY4wxxphScGLJGGOMMcaUghNLxhhjjDGmFJxYMsYYY4wxpRAREQkLa5LMzEw8efIEcXFxSEpKQmxsLI4ePYru3bujcePGMDc3h62tLZycnGBvbw8NDQ3hR7APQCqVIiIiAuHh4YiJicHOnTtBRBgwYAAAQE9PD2ZmZnB2dkaDBg1Qp04d4UewDyQrKwuhoaEIDw9HQkICsrOzcfDgQdja2qJLly6wsrKCmZkZHB0d0bhxY2hraws/gn0AUqkUcXFxCA4ORlxcHM6fP48nT55gzJgx0NbWhra2NqysrGBlZQUXFxeYmppCTY37LlRBbm4unj9/jsjISMTFxeHx48c4c+YMpk6dCj09PZiYmMDKygr169dHo0aNoKOjI/wI9oEUFRUhLCwML1++RFJSEsLCwrB582bMmzcPenp6qF27NiwtLdGgQQM4OTnB0NBQ+BFVrsYllnl5eQgODsaNGzdw8eJFhIWFwcDAAEZGRtDR0UGtWrXkdWUyGQoKCpCVlYXs7Gyoq6ujV69e6N27N1q1agUbGxs+cVYRmUyGhIQE+Pv749KlS7h+/ToKCwthYmICXV1d6OrqQl1dXV5fLBYjPz8fubm5yMzMRIMGDdC/f3+4u7ujadOmMDAwUPh8VnkKCgrw/Plz3LlzB97e3ggKCoKenh4MDQ2hra0NPT09eV2ZTIb8/Hzk5+cjIyMDANCpUycMHjwYLi4usLe3VzjOrHIlJCQgICAAly5dwo0bN5CVlQU9PT35+VJTU1NeVywWy8+Xubm5sLGxQZ8+fdC7d284Ozujdu3aCp/NKo9UKkVISAju3buHq1ev4v79+6hVqxZq164tP1+KRCIAABEhLy9P/ioqKkL79u3Rs2dPdO7cGfb29grHmVUuIkJYWBiePn2K8+fP49atW1BTU4OxsTH09PSgo6MjzzuISH6ty8zMRE5ODlq1aoWePXuia9eucHJy+iA3CTUisSQi5Ofn49KlSzh48CCePHkCPT09dO/eHd26dUO9evVQt25dGBkZQV9fX/6+4uJiZGVlISkpCfHx8QgMDIS3tzcCAwNhZWWF/v3749NPP0W9evW4J7OSFBcXIzExETt27ICPjw9ev36Ntm3bonPnzmjdujVsbW1hbGwMExMThYQjLy8PmZmZSE5OxuvXr3H//n2cOXMGRUVFaN68OT7//HN07doVhoaG8hMsU56Si9W9e/ewe/duPHnyBFKpFD169EC3bt3QoEEDWFhYwNDQEEZGRvL3SaVSZGZmIiMjA3FxcQgJCcG1a9dw+/ZtWFlZoXPnzvjyyy9ha2vLF7tKIpVKkZCQgOPHj+P48eOIjIyEnZ0dhgwZAhcXF1hZWcnPl2/3Jpdc3JKTkxETE4P79+/j/PnzyMjIQJMmTTB27FgMGjQI+vr6fENeCUqSjODgYOzYsQO3b99GXl4eevbsiZ49e8LR0RGWlpYwNjaGoaGh/BjIZDJkZmYiLS0NqampCAkJwaVLl3Dnzh2YmZnB3d0dkydPRtOmTXn0oJIQESQSCcLDw7F3715cuXIFaWlpaNWqFQYOHAgnJydYW1vDxMQEtWvXll/riAi5ubnIyMhAfHw8wsPDcfv2bfj4+EAkEqFNmzaYMGECPDw8oKOjU3XXOvrIicViOn36NHXp0oWMjIxowoQJdPXqVSoqKhJWfW+vX7+m9evXU4sWLcjU1JQWL15MCQkJwmqsgmJiYujbb78lMzMzatmyJa1evZpev35NUqlUWPW9FBYW0uXLl2natGlUu3Zt6tChAx0/frxC3wX2bpcvX6Y+ffqQnp4eeXl50V9//UU5OTnCau8tPj6etm/fTm5ubmRsbEyzZs2i0NBQkslkwqqsAjIyMmjNmjVkY2NDDRs2pOXLl1NAQICwWpncuHGDZs6cSVZWVuTm5kb79u2jgoICYTVWAVKplB4/fkwjRowgIyMj6tOnDx05coTS09OFVd9beno67dq1izw9PUlHR4emTJlCT548EVZjSvDq1SuaNm0amZiYUJs2bWjv3r0UHx8vrPbeCgsL6dixYzRixAjS09OjgQMH0rVr14TVKs1Hm1jKZDKKiIggLy8vcnBwIC8vL3ry5Anl5+cLq5aLVCql+Ph42r17N7m6upKLiwsdOnSICgsLhVVZGRUUFNDp06epUaNG5OLiQj///DMlJSVRcXGxsGq5FBYWkr+/P02ePJmsra3ps88+o5CQEGE1Vg6RkZE0Z84csrGxoZEjR9Ldu3eV2ubS0tJo79691KFDB2rQoAHt37+fsrKyhFVZGYnFYrp8+TJ17NiRnJycaMOGDRQTE6PUNvf69WuaPXs2OTg4kKenJz19+lRpn19TyWQySkpKoqVLl5KtrS15enqSj48PZWVlKeWmSyaTUVZWFl29epU6depEjo6O9OOPP1YoYWX/X05ODu3atYucnZ3Jzc2NDhw4QCkpKcJq5Zabm0sPHjygIUOGkJ2dHc2cOZPi4uKE1ZTuo0wsi4uL6fr169S6dWtq2bIlnTp1qtLukKVSKYWFhdHnn39OdevWpW+//ZYyMjKE1dh7kMlklJOTQ99++y2ZmprSpEmTKjXhE4vFdObMGWrSpAm5urrSjRs3yt0bWtPJZDLy9/en7t27k62tLR0+fJiys7OF1ZQmOjqaFi1aRHXr1qXJkydTamqqUi6kNVFBQQH9+OOPZGNjQ0OHDqXAwMBKS/iKioro2rVr5ObmRo0aNaKjR49W2s/62MlkMgoLC6N+/fqRnZ0drVu3rlLbXFJSEq1bt47q1q1LXl5eFBkZyW2unEpuCKZMmULW1tb0zTffVKiH8r9kZ2fT3r17qV69etSjRw/y9/ev1GvdR5dYymQy+vnnn8nCwoLGjRun1Oz/3xQXF9OJEyfIysqKBgwYUCV3BR+bjIwM6tu3Lzk4ONDvv/9eqV/8tyUlJdH06dOpdu3a9Ntvv1XaTcjHSiqV0oULF8jc3JyGDBlCERERwiqV5vz589SsWTPq0qULBQcHC8PsP6SmptKMGTPIxMSEtm7dWmXf/by8PJo9ezaZmprSqlWrquznfkyuXLlCjRs3pi5dulBgYKAwXCmkUik9ePCAWrduTc2bNyc/Pz9OLsvh2bNn1LlzZ2rUqBFdvnxZGK40kZGR1LdvX7KwsKBz585V2jX2o0os8/PzadOmTWRpaUmLFi1S2nDA+5JKpeTr60uurq7k6elJSUlJwirsH4SFhVHv3r3JxcWFbt26RRKJRFilUmVlZdGyZcvI1taWVqxYwfMu35NUKqXjx49TvXr16H//+1+Vf+elUikFBgaSh4cHtW/fnh48eCCswv5BamoqjRs3jurXr0/Xrl2r8u98Xl4e7d27l6ysrOi7776r0BzcmqS4uJguXbpEDRs2pHHjxlF8fHyVXufozZzAESNGUKNGjejBgweVlqB8bGQyGT158oRcXFyoY8eOFBwcXOV/u+TkZPriiy/IxsaGLl68WCnX2o8msZRKpXT48GGqXbs2bd++/YPeAd+6dYsaNWpEw4cPp+TkZGGYvUUmk1F6ejqNHDmSGjRoQCEhIVXe0EqIxWLauHEjmZqa0pEjR3iI7j+U9FTa2dnRZ599Rrm5ucIqVSYqKorc3d2pVatWlJKSUuUX2uomNzeXJkyYQA4ODnTu3DlhuMoUFRXR77//Tubm5rRmzZoP1varC5lMRn5+fmRnZ0deXl5VNiL3LrGxsdS3b19ycXGhZ8+eCcPsHeLi4qhDhw7Uu3fvKh3ZEUpPT6fPPvuMHBwc6NKlS0o/X34UiaVMJqOLFy/K5yqoguDgYHJwcKDJkyd/0AuuqhOLxTRu3Dhq0qSJSvQ2FRQU0A8//EB16tShCxcuCMPsLU+ePCELCwv63//+pxLf8VevXpGbmxt5enp+0AuuqissLKTly5eTpaUl3bx5Uxj+IPbu3Uumpqb0xx9/8A3dvwgJCSFXV1caMWJEpc6nfF+ZmZnUs2dPatOmTaXOEfwYpKSkkKenJ7Vu3Zqio6OF4SonFotp0qRJZG9vX+GdH4Q+isQyPj6eGjduTOPHj1eZhTMymYzOnj1LDg4OtGnTJmGYEZFEIqG9e/dS3bp16ezZsyrTW5GTk0Pjx4+nNm3a0PPnz4Vh9qa3olevXjRgwIAqH/7+JzKZjB49ekQ2Nja0bNky3qHhHxw5coRsbGxo//79lTIMVh75+fn03XffkYODA/n7+wvD7M3UgYEDB1Lr1q0pNjZW6b1M5fXs2TNq164dTZkyRSVuMFWRVCqlBQsWUP369en+/fsqc62Lj4+nQYMGUY8ePSgxMVEYLrdqn1gWFBTQ7NmzydXVlV69eiUMf1DFxcW0cuVKMjIyoqioKJU5EaiKwMBAcnBwoMWLF6tcEhAZGUmurq7k5eXFx01AJpPRihUryNramoKCgoThD6q4uJh27NhBdnZ2dPXqVWG4RpPJZBQXF0dOTk40ceJElUkqS2RkZFDHjh1p6NChvIWUgFQqpb1795KdnV2VLvZ4XxcuXCADAwM6deoUny8FZDIZ3bx5k8zNzWn37t3C8Af39OlTsrCwoB9++EFpx67aJ5Z///03mZmZqWRjIyJKS0uj/v3707Bhw/hk+ZbCwkIaMmQIubm5kVgsFoZVwvnz58nExITOnj0rDNVovr6+ZGFhQb/99pswpBKKiopo9OjR5Orq+kHnWquagoICmjFjBrVp04aioqKEYZXw4MEDsrW1pZ07dwpDNVpoaChZWVnRmjVrhCGVUFRURPPnz6cWLVrQ69evheEaLTU1lTp27EiTJk1S2p6+yvT2Tcvt27eF4XKp1s/VKigowJYtW9C1a1d069ZNGFYJJiYm+Oabb+Dj44MbN24IwzUSEeHy5csICAjAkiVLoKWlJazyn7Zs2YJBgwbJnyddGbp27YohQ4Zgy5YtSE1NFYZrpMLCQuzZswctWrTAwIEDheH/9PjxY/Tt2xcXLlwQhpRGU1MTc+fORXp6Ok6ePAmZTCasUiOFhobi2LFjmDNnDmxsbITh//TZZ59h7ty5wmKlatOmDUaPHo2NGzdym3tDIpFgx44dMDU1xaRJk4Th9+Ln54e+ffvi8uXLwpBSaGpqYtasWcjPz8eBAweE4RrtzJkzePnyJebNm1eu53bfv38fffv2xbVr14QhpVBTU8OoUaPg4OCArVu3ori4WFilzKp1Yunt7Y3Xr19j2rRpKv2s7o4dO6Jbt27YtWsXJBKJMFzjFBYW4vfff4erqyu6du0qDL+X2NhYBAYGKqUR/BNdXV18+eWXuHv3Lm7fvi0M10ihoaE4ffo05s+fjzp16gjD/yk3NxfPnj1Denq6MKRUrVq1wpAhQ7Br165K/1nVQXFxMXbu3AlHR0cMGDCgXM/qfv78OcLCwoTFSqWmpoaJEydCJBLhxIkTwnCN9OLFC1y8eBEzZsyAmZmZMPxecnJy8OzZs0q9Ebezs8Nnn32GPXv2ICUlRRiukVJTU7Fnzx6MGjUK9evXF4bfS3Z2dqUfOz09PXz55Ze4c+cOgoODheEyK/vZRUUUFBRg9+7dcHd3R+fOnYXhMrly5QrOnTsnLFYakUiE6dOn48WLF9xr+eZEeenSJcyePRu6urrCsEpp0qQJhg8fjj179tT4m4Li4mJs374drVu3Rrt27YRhlaKpqYnZs2fj4cOHuHfvnjBc44SEhOD69euYM2cOateuLQyrlMaNG2PIkCHYt28fkpOTheEa5+TJk1BXV4eXl1e5bgiq0ujRo1GnTh0cPXqURwoAXLt2DQkJCZg5cyY0NTWFYZXSrVs3uLi44Ndff4VYLBaGy0S1v6X/IjExEbdv38bYsWMrfMA2b96M1atXC4uVRiQSoX379rCysoKPj0+NbnAymQwnTpxA69at4eLiIgyXS1ZWFkJDQxEcHIzo6Gil9mKqqalh6NChePXqFZ48eSIM1yhRUVHw8/PDyJEjYWBgIAyXWVFREaKiohAcHIzQ0FDk5uYKq1SInZ0dPD09cfToUUilUmG4RvHx8YFYLEa/fv0gEomE4TJLSkrCixcvEBwcjJSUFKWe00QiEby8vBAcHIznz58LwzWKRCLBsWPHMHToUOjr6wvD5SIWi+XtLiwsDHl5ecIq5VavXj106dIFly5dQk5OjjBc4xw7dgyurq5o3LixUtqdWCxGZGRkpRw7IyMjDB06FNevX6/wKE+1TSy9vb3h4OCA1q1bC0MqydDQEP3798fJkyeVmvhUN2lpabh16xZ69OgBQ0NDYbjMwsPDMXXqVLRq1QrNmjVD9+7d8ccff6CoqEhYtVxEIhG6desGTU1N3L59G0QkrFJjPH78GElJSUpJToqKirB+/Xp07doVzZo1Q5s2bfDFF18odbhHQ0MDAwcORFBQEGJjY4XhGuX06dPo2bMnTExMhKEykclkuHPnDgYNGgQXFxc0a9ZMfjFSpvr166Nt27aVOhe3Onj06BGys7MxYMAAYahcioqKsGbNGnTu3Fne7ubMmYPMzExh1XLR0NDAyJEj4evri8TERGG4RsnMzMStW7cwZswYpfQ0FxUVYfXq1fJj17ZtW8ydO1dpxw4A+vXrh/j4eAQEBAhDZVLx/+0HIBaLcfXqVXh4eFT4RFmV+vbti/j4eKXMYagsJ0+exL59+5R6gX9baGgoYmJiMGDAAKirqwvDZVJQUIB58+ahUaNGiI6ORlRUFNq1a4cvv/wSDx8+FFYvt9q1a6NLly64du2ayiaW+fn52LVrFx4+fFhpQ/bXr19Hy5YtYWVlJQyViVQqxa5du/D06VOcPn0aOTk5WLNmDc6dO4c1a9Yo7fcXiUTw8PBAUVERHj16JAyrjIiICKxZs6bSFqtER0cjODgYn3zyiTBUZq9fv8bChQvxv//9D8nJyXj69Clyc3MxefJkpZ4ztLS00KdPH9y8eVOle75+/fVXXLlypVI6C2QyGa5cuYL69evDwcFBGC4zqVSK7du348WLFzh//jxycnKwfPlynDp1CuvWrVNau2vWrBnMzMxw584dYUilHDx4EAcPHkRhYaEwpBQ3b96EqakpWrRoIQyVmVQqxU8//YTw8HBcvHgROTk5+O677/DXX39h48aNSvv+1alTB927d8epU6eEoTKplollYmIioqKi0Lp16woPg5cgImRnZ+Pnn3/GJ598gm7duuHHH39EXFyc0pIJU1NTODk5wd/fXxhSGQkJCZgzZw5GjhyJa9euoaCgQFilQkJCQgAATZs2FYbKLDk5GR4eHli0aBFMTExgZ2eHdevWQSqVKn0uq7u7O+7du6e0BqxsMpkM3t7eGDp0KL799ltER0crdXhSJpPB19cXHh4eFe6tlEgkKCwsxPr16+Hi4gJ9fX18/vnn6N27N27fvq3UBMXOzg5mZmZ4/PixMKQyMjMzsWzZMowYMQKnT59Gbm6u0s45APDs2TNYWFigQYMGwlCZJSYmYvr06Rg+fDhq164NFxcXLFq0CGlpaUq9mVNTU0OLFi2Qn5+PiIgIYVhlXL9+HWPHjsVXX32FFy9eKPX8UFBQgODgYLRo0UIpHShFRUUoKirCxo0b0axZM+jr62P69Ono0qULbt26pbQEXltbG+3atVP5xDIkJARTp07FpEmT4Ofnp7RRLrzJJ/z8/GBvbw8LCwthuMzEYjEkEgk2btyIpk2bQl9fH1988QXc3d2VevOlra2NNm3aICQkpEJTk6plYpmamorMzEy0bNlSGCo3iUSCr776CqdPn0bHjh3RokUL/PDDD5g0aZLSLtDGxsZo1KiRys/VKygowNWrV9G/f3989dVXePnypbBKuQUFBcHV1RXa2trCUJmpqanh008/VdjCwdTUFBYWFoiKilKoW1FNmjSBVCpFXFycMKRSYmNjsWHDBvTq1Qu///670ubgpKSkIDk5WSlTT0QiEfr16wdbW1t5mY6ODho0aIDk5GSl9iBoaGigRYsWePbsmTCkUoqLi3Hjxg2MGjUKEydOVOo54tmzZzA3N1fKBc7MzAxDhgxRGG2oV68e9PT0lD7dwMnJCWKxWKUTS7y5Hv3000/o27cv1q1bh/z8fGGVcsnOzsbz58/RsmVLpQylikQiDBw4UGHEoaTdJSYmVnjBRgktLS24uLjg5cuXSvtbVJaCggIcOXIEnp6e+Oabb5CQkCCsUi6FhYWIiIiAs7OzUhbLiUQiDB48WKEN6+rqon79+khISFBaUqympoZmzZohLy8P8fHxwvB7q/i39QNISUlBWloaGjduLAyVW0nydPToUSxatAgbN27E999/j2vXruHu3bvC6uVSq1YtODo6Ijo6Wml3GJVJLBZj586d6NSpE1auXIno6GhhlTJ7+fIlGjZsKCwuF3Nzc5iamiqUiUQiaGpqKm1Yp4ShoSFsbGwQGBgoDKmk0NBQTJ8+Hd26dcP58+cr3PMcEREBAwMDGBsbC0NlpqmpCUdHx1JTITQ1NSGVSpXaW4c3Q3PKvDmqTEVFRThx4gR69uyJr7/+GuHh4RX6exQVFSE6OhoWFhYwMjIShsvMzs6u1CISdXV1qKmpKbW3DgAcHR2hqalZoQtcVYqMjMTSpUvRqVMnHD58uMLn+IKCAiQmJsLV1VUYKhctLS04OjqWSlKV3e5EIhEcHBwgkUiqzar+jIwMbNmyBR06dMCWLVuQnJxcob9HTk4OIiIi0KxZM2GoXLS1teHg4PCPx06ZHBwcUFBQUKEku1omljExMTAzM0OtWrWEoQr56quvYGpqCpFIBA0NDXTt2hUGBgZKW5koEolgYWGBvLw8pd0dVjYiQlpaGpYvX44RI0Zg//79FRqqS0hIgJ2dnbC4XLS1tUs1tMqiq6sLU1PTCjW2qiaRSPDw4UOMGzcOM2fORFBQULkv/llZWdDX11fK3beamprS2+6/qVevHmJiYoTFKi0jIwObN2/GgAEDsHfv3nLPv5RIJMjMzIS1tXWFpzDgTQ9XVVFTU4O1tbXSe0Irk1QqxdOnTzF16lSMHz8eDx8+LPe5XiwWIzU1tVyb2b+LmpqaUkaK3oeZmRkkEgmysrKEIZVFRIiKisI333yD4cOHw9vbu9w9roWFhUhOToalpaUwVC5Veezq1KkDqVRaodGuqrkqK1l+fr5Sek7eZmFhgSZNmiiUaWpqQk9PD9nZ2QrlFeHg4IC0tDSEhoYiIiJC5V6pqanvTBpL5oxMmjQJY8eOxa1bt8qVpCQnJysMgVYXtWrVQu3atREdHV3qb6YKr8jIyH88EWRlZWHfvn3o1q0bVq1ahaSkJGGV/xQdHQ1dXV2lbDNU1YyNjeVDU6r4+qfpFUSEFy9eYOrUqRg4cCC8vb3L3BMvkUiQnp6u9PNlVdHR0UF2dnapv5mqvP5pHlpeXh5Onz6NPn36YOHCheW+sSGicj2Z7EPT19eHTCZDampqqb+Zqrz+aTW1WCzG7du3MXToUEyZMgWBgYFlng4nlUohFotRt25dYUjl2djYQCqVVuimQETvyiJU3NatW3HkyBHcv39fGCqXfv36IS0tDQ8ePFAof/nyJXr06IG5c+di3rx5CrHyOn/+PGbMmIHatWsrdS6ZsmRlZb3XUxPq1q2LdevWYfz48cLQv7K0tMSOHTswePBgYahM5s2bh5MnT+LBgwcKT6MQi8Vo0aIFOnbsiH379im8pyKys7Mxbtw4RERElLsHojIRERITE/8xuSyhrq6OXr164ZdffinTStPdu3fj8OHDOHHiRLmeuFOiZPuNtWvXwsvLSyG2YsUK/Pbbb7h16xbq1aunEKuI+/fvo0OHDkpZvFIZxGLxeyUetWvXxrJlyzB79uz3ftJYWloaBg4ciMmTJ2PixInCcJm0b98epqamOH/+vEL5o0ePMGjQICxbtgxTp05ViFXU4MGDERoaWuaEuqokJib+Y3JZomTe2p9//lmm6VvXr1/HwIEDERcXV+Gt2a5du4bx48dj06ZNGDVqlELs22+/xZEjR+Dr61vhHR9KREZGon///ujdu3elPnykItLS0v5zoaBIJIKNjQ327duHHj16CMP/KCIiAh4eHjhz5gxatWolDJfJ5cuXMXHiRGzduhXDhw9XiC1YsAAnTpzAvXv3lJrE1q9fH6tXr8aYMWOEoffCieWbxDI9Pb3U51VGYnn27FksWrQI33//fan5garg5MmT2LJlyz/eoampqcHR0RH/+9//MGLEiDI/YszS0hK//PILhgwZIgyVyYdKLOvXr48RI0YIwx9cQUEBVq9ejZs3bwpDcrq6uvD09MS8efPQunXrMvWE7N69GwcPHsSJEyfKfMzf9iETS1VdpRoWFvavSZ+amhqsrKwwe/ZsjB07tkxDo2lpaRg8eDCGDRtW4ed8f6jE0tTU9F//Ph/S0qVL4ePjIyyWq1WrFtzc3LB48WK4u7uXaQpIQEAAWrVqhfT09ApPQanqxPLZs2cYN24cVq1aVaHzRWXauXPnvz7XXENDA87Ozli8eDH69+9fam7xv6nOiaVMJkODBg3w/ffflzuxBFVDP//8MzVu3FhYXG59+/al9u3bC4vpxYsXZG1tTevXrxeGyu3XX38ld3d3SkhIEIZUws8//0zq6uoEoNTLzMyMFixYQImJicK3vTcnJyfasWOHsLjMvv76a3JwcKDk5GSF8sLCQnJycqLPPvtMobyoqIj27t1L8fHxCuXvKzk5mbp06UJbt24VhlRCTk4ODR06tNQxK3l5eHjQsWPHqKioSPjW93Ly5Elq2bIlhYWFCUNlcvPmTbKysqIDBw4IQ7R8+XKys7OjyMhIIiLKzc2lU6dO0cqVK2n79u0UExMjfMt7uXbtGolEImGxynj8+HGp41Xy0tPTo1mzZtHLly+Fb3sveXl5NHr0aPrmm2+EoTJr164d9evXT1hMDx8+JCsrK9q5cycREclkMvL396e1a9fSypUr6eLFi5SXlyd823sZNGiQUn73yjJy5MhSx6zk1bhxYzp06FC5/+8hISEEgDIzM4WhMrt69SpZWVnR0aNHhSFatGgR2dvbU1xcnEJ5YWEhbdiwgW7fvq1Q/j7u3LlDLVu2pKdPnwpDKmPRokWljlnJy8LCgjZs2EBpaWnCt72X169fk52dHfn4+AhDZebt7U1WVlZ0/PhxYYjmz59PDg4OlJiYSBKJhI4fP04rV66Uv9atW0evXr0Svu1fJSQkkKOjI50+fVoYem/Vco5lvXr1lL4tSVVJTU2FkZER9PT0hCGVVbt2bYwZMwaXL1/GqlWrKnRnZGtrq5QFMIsXL8adO3dK7e+mpaWF69evY8OGDfKyyMhILFmyBEuWLCn3zy4oKEB6errSFh5VBZFIBCcnJ2zatAknT57EsGHDyr3vq6mpKcRi8X8Otf+Xdu3awc/P75091nPnzsXdu3dhbW2NoqIifPnllwgJCcGECRNgZ2eH+fPnI6IcW89ERkaWadhfFejp6aF///64evUqNmzYACcnJ2GV96KhoQF9ff1yzasV+vvvv985CtC8eXP4+flh7Nix8npr1qxB165dMWHCBFy8eBFr164Vvu0/SaVSvHr1qkw9tKrA3t4eK1asgI+PD0aPHg1dXV1hlfeiqamJ2rVrIywsTBgqs06dOsHPz++dm+QvWLAAd+7cgbm5ubxMLBZj06ZN2L9//7+OgvyTktXg5f2/fyjm5uaYOXMmbt68iblz55a6vrwvXV1dpW175+HhAT8/P/Tr108YwqJFi3Dnzh2YmpqiuLgYFy5cQI8ePTBhwgRMmDABY8aMKXMvdGZmJmrVqlWhXSSqZWJpbGwMXV1dREZGCkOVLiQkBF9//TUmT56MEydOlCm5LSoqQlhYGExMTKpFYqmhoYEOHTpg79692L17N1xdXcs0fPoudnZ2CAoKEhaXmbGxMaysrEptWSMSiWBlZSWfB/j8+XPMnTsXderUKdMwlFBubi4SExOrTWKpq6uLOXPm4MSJE/jf//4HU1PTCq2gr1evHjIyMiq8fUitWrVgbW39zu9/7dq1YW1tDQ0NDcTFxUEqlWLq1Kmws7PDJ598gkaNGpXr0YERERGwt7cXFqskdXV11K9fH7t378ahQ4fg5uZWodWgWlpasLW1RWxsbIUXIVpYWCgkHyW0tbVhbW0tHyps2LAh1q9fj3bt2sHOzg5eXl7w8/Mr8wrblJQUFBcXK2X/zaqgp6eHsWPH4tSpU1i8eDEsLS0r1OZ0dXVhY2NTrpspoX9rd0ZGRvJ2V+LJkyd4/Phxuab9EBFiYmKgpaWlssPgQtra2ujatSuOHDmCjRs3wsnJqdS1pSx0dHRQt25dpdwU6OjowNra+p1J+tvXQSKCpqYmzMzMoK+vD0NDQ5ibm5f5uhcREQF1dfUKLfgr/7f+A7KwsICZmZnSNj0ePnx4qfleAGBiYoIZM2agbdu2wJvnUi9fvhxTpkzB1q1bERAQgO3btwvf9o8yMzMRHh6O1q1bV+iEUxXq16+PTZs24fLlyxg2bNg7T0jl4ebmprTj9j709PSwbNkyzJ8/v0J/85iYGOTk5MDZ2VkYUimampoYPHgwrl+/jk2bNqF58+bCKuViZ2cHAwMDhIeHC0OVwsHBAfv27ZPPQy4uLkZcXFy5TvZ37txR6sMUKouNjQ2WL1+OR48eYcyYMRWeV1fCyckJycnJSum1fB9NmzZV6CG+ePEimjRp8s4L47958eIFNDU1lTrftrL06dMHx48fx6FDh+Dq6lqu76mQvr4+HBwcSi0qrWwpKSlYv3495s2bV67zvkQiwbNnz2Bra1uhXq+q0qZNG+zduxcXL15E9+7dK3QjV0JfXx9OTk4IDg4uU+dTRchkMsTExODXX3/F2rVrMW/ePMyfP79M7b5kJwp9ff0KdaKU/0r7AVlYWMDa2hr3798v15Y3QpMmTcKsWbOExTAzM8PixYvRpUsXFBcXY/fu3RgxYgQaNWoEPT09jB8/Ht7e3khMTBS+9Z2Sk5Px/PlzdOrUSRhSGaampli4cCEuXbqEL774okwTlt9Hw4YNUVBQUGUbjdvZ2SklqfDx8UGbNm2UctKpDCUrT48ePYr9+/ejXbt2FUqk36V9+/b/ulChMh06dAgxMTHo1auXMPSv4uLikJiYWOEJ9JVJV1cX48ePx/Xr1/HNN98o/WLcoUMHJCYmVukIT1JSEhYuXIgpU6bAx8cHPXv2FFb5V0SEp0+folatWqhfv74wrDKaN2+OXbt24ejRo/D09BSGK0RfXx8tWrRAQEDAP26No2zFxcXYsmUL3Nzcyt1mioqK4Ofnp9LXOby5NixZsgQXLlzAmDFjytyz92/U1NTQtm1bvHr1qsr2YdXR0cGuXbuwZMkSrF27Flu3bkWtWrWwa9eud24h+C5isRh+fn5o0qRJhW5slXvlqSJ6enpo06YN/Pz8KrTXUllkZ2fj0aNHaNu2rXyjYQcHB5iZmeH169fC6u/05MkTiESiUvtlqpIBAwZg1apVaNCggVLuuoUcHBxgYWGBO3fuvPeX/UPLy8vD9evX0b17d6VsMl0ZatWqhcWLF2PIkCEV3prkn3Tv3h0PHjyo8JBqWUilUpw9exa///47Fi9eXKb5QkSEhw8fypNuVdWgQQPs2bMHDRo0eO9thMqiXr16sLa2xr1794QhpZPJZCgsLIS5uTnWrl2L3bt3Y/78+di+fXuZntxVVFSE69evw8XFpUJDcpVt3rx5mDJlCoyMjJR+blBTU4O7uzvCw8OVMhz+Pu7fvw9fX18MGzYMhYWFEIvFKCoqQn5+/nufr+Pj4xEWFobOnTsLQyplwoQJWLZsGczMzJR+E443o3MxMTHvnR9UlJqaGmxsbOQ3pnp6eujVq1eZerzz8/Nx9+5deHh4VOj7rPy/ZhUZMmQIHj58WGWPaivZ8PTtoQENDQ1oaWm9176GRUVF+PPPPzF8+PAKz1OsTLq6upXSyErY29ujY8eOOHfuXIUfeVZVSm5gunbtWqHGVpnU1NSgpaVVqb9f69atoa+vjzNnzghDlSItLQ2rVq3C0aNHcezYMXh4eAir/KuSpNTe3l6lb+bU1dXLvajqfY0YMQJHjx6t8OKr/5KcnIyBAwcqzKPu0qUL1NTUyjQ/NykpCT4+PhgwYIAwpFKU2cv1Lp07d5Zv2F0VMjIy4Orqim3btmHJkiW4ePEirly5gl9++eUft6ATOnjwIFq3bq3yUxh0dHQqpfOkRL169dCyZUscOXJEGKoUqampOHv2rMLje8PCwsp07rt16xbEYjG6d+8uDJVJ5WUQlaxBgwbo2LEjDh8+rPRnZb6Lrq4urK2tFe4cMzMzkZ6e/p/7UZb0nISGhsLT07NSE7fqYPjw4fD19UVoaKgwpHSZmZl48OABfH19UVBQgICAAPj6+r73vBOpVIq//voL5ubmaNeunTBcozRu3BitWrXCyZMn/3NT6IpKSUnB8OHD8eLFC3h5eSE0NBS+vr6IiIh4756TtLQ0nD59GsOGDauUnsDqpGvXrigqKoK3t/d7//3Kw9TUFJMmTcKSJUtw6tQp+Pr6YvHixXB2dn7vXmOpVIo///wT9evXR5s2bYThGkVPTw8jR47E4cOHFRKGyjJgwABs2bIFW7ZswebNmzF48GD0798f8+bNe68kLCYmBt7e3hgwYIBK9zRXlXHjxuH27dtVMg1FU1MThw8fxi+//II7d+5gz549ePDgASZPniys+k65ubk4ePAgevXqVaGHYKA6J5a1atXCmDFjcP369SrptdTT00OfPn1w+fJlSCQSEBGePXsGNTW1/9wKhIhw4sQJmJiYqHSvV1Vp1aoVmjZtigMHDlTqRQ5vuvZfvXqFsLAwrF69GiKRCGFhYe89nJuRkYFjx47By8urXBPZPyaampoYP348rly5gpCQEGFYqQoLCzFhwgR4enoiKSkJYWFhCAsL+8dHjgoREfbv3w8zM7Myz+/7GLm6uqJp06b4888/KzVB0dDQwMiRI7Fy5Urk5+cjLCwMgwcPxrJly967dy8hIQHHjx/H4MGD37kKvaYZNmwYUlNTcf369ff67itTnz593rlF0T+5desWIiIiMGrUqBrfgQIAPXv2hL6+Pk6cOFHpHWC1a9fG9u3b0bRpU4SHh8PY2Fi+Vdn75BzPnj2Dn58fRo0aVeaFdqUIN7asTtLS0qhFixY0c+ZMYajSLF68mBYtWkTr1q2jzz//nIKCgoRVSgkJCSEdHR06duyYMFRjHT16lOzt7enWrVvCkMooLCykBQsWkIuLS7k35/7Y5OTkUL9+/WjEiBHl3vi5KgQHB1OjRo1ow4YNJJVKheEa6ebNm6Srq0tXrlwRhlTKunXryNbWlpKSkoShGkkikdDUqVOpa9eulJOTIwyrjPT0dHJxcaEZM2YIQzXamjVryNbWVqWvIRKJhPr27Uu9e/cWhsqlWieWRER79uyhunXr0qNHj0gmkwnDSpeXl0dBQUH0+PFjSkxM/M+fmZWVRRMmTKBevXqVekpMTZafn0//j70/D7I0O+t73+9a6532kHPWPPU8t6aWWrNQY8ERSNdIgGyMUJjB4IgbtsOBbGQcNobARhhEHAbJAYJrCMK6gMTVQVggCSQZNEut1tRzd3XNU865x3daw/3j3ZlVnQcwR6SqG9XzgVRV73fnzsy9K6t++ay1nue+++4Lb3zjG0NZljsvPyt8+tOfDseOHQu/8zu/E6y1Oy9fk7z34Y//+I/D4cOHwx/+4R/uvPysUFVV+Ff/6l+FG264IaysrOy8fM0ajUbhB37gB8JrXvOav9P0rG+kRx99NNx0003hp37qp3ZeuqZ96UtfCnv27Am//du//az8u6iqqvBzP/dz4a677gpf/vKXd16+pp06dSrcdddd4d/9u38XiqLYefkZ55wLf/RHfxSOHDkS/uRP/mTn5a/L3/tgub6+Hl772teG17/+9WF9fX3n5Wfc7/7u74Z2ux3+1//6XzsvXfM+9KEPhT179oT3vve9z7qq0ng8Dq9//evDK17xipDn+c7L17S6rsM/+Sf/JNx9993Pyu+5P//zPw/79+/fHjEoLnvggQfC4cOHwy/90i/tvPSMK4oi/OiP/mh40YteFM6cObPz8jWtLMvw1re+Ndx1113hscce23n5Gfe1r30t7N27N/ziL/7iszL4PpOsteG3fuu3wsGDB8NHP/rRnZefcRcuXAjPec5zwj/9p/80jMfjnZe/Ln/vg6X3Pjz22GNh//794W1ve9uzJgR478P9998fbrzxxvATP/ET/9vK5rWoruvwMz/zM+HgwYPhc5/73M7Lz5i6rsNP/MRPhJtvvjk88MADOy+LEMKTTz4Znvvc54Yf/MEfDP1+f+flZ8yJEyfCTTfdFH70R3/0WfN3wbOJ9z782q/9WlhcXAwf//jHnzU/0NV1Hd71rneFubm58KlPfUr+vvwrbGxshJe97GXhNa95zbPqe+7cuXPhW77lW8J3fud3hl6vt/OymHzfff/3f3+49dZbw8mTJ3defsb0+/3wgz/4g+H2228PFy5c2Hn56/b3PliGSSn3v//3/x6OHTsWfvM3f/NZ8Zfl+fPnw7333hte97rXyRL432B1dTW85jWvCa9+9avDiRMndl6+6qqqCn/4h38Y9uzZE37zN39Tfvr+azjnwoc+9KGwb9++8I53vONZscRz/vz58I//8T8O99xzTzh+/PjOy2Jic3Mz/MiP/Ei44447njXLlu9///vDddddF37u537uWfFn6dnqL//yL8Ott94a3vrWt4bhcLjz8lU3Go3Cm9/85nDLLbeEhx9+WH4g+Bs88cQT4RWveEV405ve9KzYilJVVfiFX/iFcOzYsfCnf/qnu5qbvimCZZiUm3/yJ38yzMzMhPe///3PaCC4ePFieOMb3xhuvfXW8Mgjj+y8LHZ47LHHwt133x1e/epXP+NLq+9973vDgQMHwtve9rZdWxb4ZmWtDe94xzueFcvOvV4vvOlNbwpHjhwJX/jCF3ZeFjtcuHAhvPjFLw7f+q3f+oz/QPflL3853HDDDeGHfuiHntWHU54NrLXhfe97X5iZmQm/+qu/Guq63nmXqybP8/AzP/Mz4dChQ+GP/uiPdl4Wf4XPfe5z4dChQ+GHfuiHwtra2s7LV01VVeG3fuu3wvz8fPjFX/zFnZf/zr5pgmWY/PT09re/PczNzT0j1SbvfXjqqafCt37rt4Y777wzPPbYY/IT3N+C9z489NBD4UUvelG47777wuOPP77zLt9wdV2H3/md3wn79+8P/+bf/Jur/mfn7ytrbfj5n//5MD8/H37t137tGQnjly5dCq9//evDbbfdFj7xiU/I99zfgvc+nDhxIrziFa8Iz3ve88JDDz20qxWLvw1rbfjABz4QDh8+HN785jfLKfC/pbquw2/8xm+Effv2hbe+9a3PSHeG5eXl8OM//uNhcXExvO9977vqf3b+vvLeh8997nPhlltuCW94wxuekcOFw+Ew/NIv/VKYmZkJ73znO78hh2e/qYJlmBy6+Lf/9t+GY8eOhbe//e1Xbc9HXdfh/vvvDy9+8YvDvffeGz772c/uvIv4G3jvw8MPPxzuvvvu8IpXvCJ84hOfuGrhbm1tLfziL/5iOHToUHjb29521f7MfLMYjUbhv/7X/xoOHToU/v2///dXLSA458JXvvKV8PrXvz7ccsst4ZOf/ORV+zPzzeKrX/1qeO1rXxue85znhD/90z/9hvwj81cZjUbh13/918ONN94YfviHf3hX93ddC8qyDO9+97vDsWPHwo/92I+F06dPX5UfqJxz4cyZM+F7v/d7w4033hh+//d//xmtmv599Wd/9mfh7rvvDq973evCI488clWCufc+rK+vh3/9r/91OHr0aHj729/+DduH/k0XLMMkXL7zne8M8/Pz4S1veUt44okndt5lV1VVFX75l385HD16NHznd35nePLJJ3feRfwteO/D8ePHw3d/93eHxcXF8N/+23/7hu8jOnnyZHjTm94UFhYWwi//8i9/w77Rvtk558J73vOecPjw4fDqV7/6b9Xf9e+iqqrw+7//++HGG28ML3vZy8KXv/zlq/IP6zej1dXV8H3f931h//794ad+6qe+4eHy3Llz4cd+7MfCzMxM+A//4T98w7/Hv1lZa8OHP/zhcP3114eXv/zl4SMf+cjOu+y6j3zkI+F5z3teeP7zny+dTv6OvvKVr4QXv/jF4bbbbgvvec97dl7edffff3/4tm/7tnD48OHwnve85xv6A8E3ZbAMk2+6+++/P9x3333h4MGD4T//5/8czp8/v/Nufyfj8Th8+MMfDvfdd184cuRI+Nmf/dlQFIX8A/d3tLm5GX7pl34pHDp0KLz61a8OH/rQh3b9H7tz586Fn//5nw8HDx4Mr3nNa65qhfSblXMuPPTQQ+GNb3xjWFhYCG9729t2/afxuq7DX/zFX4Tv+Z7vCQcOHAg/+ZM/+YwsJ30z8d6HsizDb/7mb4Zbb701vOhFLwrvfe97d71yv7KyEn7t134t3HLLLeH5z39++NCHPvQN/cftWrC1peH7v//7w/z8fPiX//Jfhq997Wu7+ndZVVXhy1/+cnjLW94S9u/fH/7ZP/tnYXl5Wf6d+zvy3oe1tbXwtre9LRw8eDB813d9V/j0pz8dqqraedevm3MunDhxIvz4j/94OHDgQPiO7/iOcPz48V39O/mv8k0bLLdcvHgxvP3tbw833XRTeMlLXhJ+/ud/Ppw4ceLr3gtmrQ2rq6vh4x//ePiu7/qucN1114XXve514TOf+cyuh59rmbU2fOITnwjf8z3fE2644Ybw3d/93eEjH/lIWF1d/br/0hyPx+HEiRPhV37lV8ILX/jCcPPNN39DfuC41m1sbIRf+ZVfCXfccUe4/fbbw8/+7M+Gxx57LIxGo6/rHyPnXFhbWwuf+tSnwo/8yI+EG264IXzbt31b+PCHPyzfc7vIWhseeeSR8I/+0T8KR48eDa95zWvCBz/4wXDhwoWv+x+7oijC6dOnw7vf/e7wyle+Mhw9ejT8xE/8RDh16tQ3/B+3a0mv1wu/93u/F57znOeEO+64I7z1rW8NDz/8cOj1el/399zm5ma4//77w7/4F/8i3HzzzeHFL35xeO973/uM7On8ZpbnefizP/uz8KpXvSrceuut4S1veUv47Gc/GzY2Nr6u7xHvfRiNRuGxxx4L//E//sfw3Oc+N9xxxx3hXe96V1hdXf26/jz8P6XC1R4++gw5ceIEv/3bv80f/MEf0Ov1+PZv/3Ze9apX8dKXvpTbbruNKIp2vsvTrK2t8cUvfpFPfepTfOQjH+GRRx7hta99LT/8wz/Mt3/7t/9v3198faqq4tOf/jTvfOc7+ehHP8qtt97Kt33bt/Gyl72Ml770pczPz+98l6ex1vLEE0/whS98gY997GN8/OMfJ4oi/vk//+e8+c1v5tixYzvfReySS5cu8fu///u8+93vZnl5mfvuu49Xv/rVvPzlL+fOO+8kjuOd7/I0vV6Pr3zlK/zlX/4lH/nIR3jwwQd55StfyVve8hZe//rX0+12d76L2AXWWj796U/zu7/7u7zvfe/jyJEj3Hfffbz2ta/lhS98Ifv379/5Lk/jveepp57igQce4GMf+xgf+chHcM7xpje9iR/5kR/hzjvvlDnS3yCrq6v8wR/8Af/jf/wPHnnkEV7+8pfzD/7BP+BbvuVbuPPOO2m1Wjvf5WkGgwEPPvggn/jEJ/j4xz/OZz7zGZ73vOfxlre8hR/4gR+g0+nsfBexS8bjMR/84Af53d/9XT7+8Y9z7733ct999/GqV72K5z//+czOzu58l6dxzvHVr36Vz372s3zyk5/kT/7kT7j++ut5y1vewg//8A+zsLCw812+Ya6ZYMnkid/c3OSTn/wk73//+3n88ce5cOECSinuuOMODhw4wHXXXUeapgBcuHCBixcv8sQTT3Dp0iXm5+c5duwYr3zlK3njG9/IDTfcQJqmf6sB7+LvpigKTp06xQc+8AE++tGPcuHCBVZXVzl8+DA333wz+/btY9++fWitKYqCc+fOcf78eR555BFCCOzbt4/bb7+d7/qu7+JVr3oV8/PzGGN2fhixy7z3bG5u8rnPfY73v//9PPjggywtLeGc46abbuLYsWMcPXqUdrtNCIHl5WWWlpY4ceIEJ06cYGZmhoMHD/Ka17yGf/gP/yG33HILWZbJ99w3WAiBuq45f/48H/jAB/jYxz7GyZMnWVlZYe/evdx8883s37+fo0ePwuTv1uPHj7OyssIjjzxCURTs27eP6667ju/93u/lNa95DfPz80RRJK/dN5j3nvF4zAMPPMB73/tevvrVr3L+/HmKouCGG27gpptuYv/+/czNzcHkB7hz587xxBNPcPLkSebm5ti7dy8veMEL+P7v/37uvPNO2u22/DBwFYQQyPOcxx57jD/+4z/mE5/4BOfPn6fX63Hw4EHuvvtuFhYW2Lt3L0zC6NmzZ3nyySc5c+YMWmsOHDjAbbfdxpvf/Gbuuecepqenr/q/dddUsLxSXddcunSJ06dPc/z4cZ588knOnTvHhQsXcM4BsLCwwOLiIrfffjvXXXcd119/Pddddx1TU1M7H05cRVt/EZ46dYrHHnuMM2fOcPHiRVZXV7fvc+zYMQ4cOMBNN93ELbfcwpEjRzh06JBUlp9BzjkuXry4/Rfh8ePHt78H67oGYGpqisOHD3PkyBHuvPNODh06xLFjx5ifn5dA8gwqioKnnnqKs2fPcurUKR566CHW1tZYWloCQCnFoUOHWFxc5I477uCmm27i8OHDHD16lCRJdj6cuEq896ysrHDy5EnOnz/Pgw8+yIULFzh37hxFUQCQZRnHjh3jyJEj3HLLLdxwww0cPnx4O7yIZ4b3nn6/z8mTJzl37hyPPvoop06d4syZM4zHYwCMMdx0003s2bOHm2++mZtuuomjR4+yb9++Z/Tfums2WAohhBBCiN0ltW0hhBBCCLErJFgKIYQQQohdIcFSCCGEEELsCgmWQgghhBBiV0iw/CtsnQoXQgghhBB/exIsd6iqil//9V/nwoULOy8JIYQQQoi/gQTLHR544AF+7ud+jne84x3keb7zshBCCCGE+GtIsLyC955f/dVf5cKFC7znPe/hwQcf3HkXIYQQQgjx15BgORFC4P3vfz//83/+TwCWl5f5T//pPzEcDnfeVQghhBBC/BUkWE5sbGzwjne8g9FotH3bpz71KT7wgQ8gw4mEEEIIIf73JFhOqpV/+Id/yOc///mn3T4cDvkv/+W/bM9UFUIIIYQQfz0JlsDDDz/ML/zCL+y8GYBHH32Ud77znVhrd14SQgghhBBXuOaDpbWWd7/73Zw8eXLnpW3vete7ePjhh3feLIQQQgghrnDNB8v777+f3/u938N7v/PSttOnT/Oud71r581CCCGEEOIK13SwHI1G/MzP/Ayrq6s7L/3fvO997+NDH/qQHOQRQgghhPhrXNPB8i/+4i/4/Oc/T7vd3n5rtVporUnT9Gm313XNb/zGb1DX9c6HEUIIIYQQgArXcAnuC1/4AmfOnHnabSsrK/zCL/wC3/d938c999zztGsAb3jDG4iiaOfNQgghhBDXvGs6WP5VTp8+zRvf+EZ+9md/lte97nU7LwshhBBCiL/GNb0ULoQQQgghdo8ESyGEEEIIsSskWAohhBBCiF0hwVIIIYQQQuwKCZZCCCGEEGJXSLAUQgghhBC7QoKlEEIIIYTYFRIshRBCCCHErpBgKYQQQgghdoUESyGEEEIIsSskWAohhBBCiF0hwVIIIYQQQuwKCZZCCCGEEGJXSLAUQgghhBC7QoKlEEIIIYTYFRIshRBCCCHErpBgKYQQQgghdoUESyGEEEIIsSskWAohhBBCiF0hwVIIIYQQQuwKCZZCCCGEEGJXSLAUQgghhBC7QoKlEEIIIYTYFRIshRBCCCHErpBgKYQQQgghdoUESyGEEEIIsSskWAohhBBCiF0hwVIIIYQQQuwKCZZCCCGEEGJXSLAUQgghhBC7QoKlEEIIIYTYFRIshRBCCCHErpBgKYQQQgghdoUESyGEEEIIsSskWAohhBBCiF0hwVIIIYQQQuwKCZZCCCGEEGJXSLAUQgghhBC7QoKlEEIIIYTYFRIshRBCCCHErpBgKYQQQgghdoUESyGEEEIIsSskWAohhBBCiF0hwVIIIYQQQuwKCZZCCCGEEGJXSLAUQgghhBC7QoKlEEIIIYTYFRIshRBCCCHErpBgKYQQQgghdoUESyGEEEIIsSskWAohhBBCiF0hwVIIIYQQQuwKCZZCCCGEEGJXSLAUQgghhBC7QoKlEEIIIYTYFRIshRBCCCHErpBgKYQQQgghdoUESyGEEEIIsSskWAohhBBCiF0hwVIIIYQQQuwKCZZCCCGEEGJXSLAUQgghhBC7QoKlEEIIIYTYFRIshRBCCCHErpBgKYQQQgghdoUESyGEEEIIsSskWAohhBBCiF0hwVIIIYQQQuwKCZZCCCGEEGJXSLAUQgghhBC7QoKlEEIIIYTYFRIshRBCCCHErpBgKYQQQgghdoUESyGEEEIIsSskWAohhBBCiF0hwVIIIYQQQuwKCZZCCCGEEGJXSLAUQgghhBC7QoKlEEIIIYTYFRIshRBCCCHErpBgKYQQQgghdoUESyGEEEIIsSskWAohhBBCiF0hwXKHLMt4yUtewuLi4s5LQgghhBDib6BCCGHnjUIIIYQQQvw/JRVLIYQQQgixKyRYCiGEEEKIXSHBUgghhBBC7IqrvsfyxKURIQRirQgKPIrm/xUKAIVSoBSEAArQKqBobmvu09CA0s39rvwqjAatm/sqdfmRA6G5LxDC5PeBycefPL5q3qe5dvlBQ2iuXfnfzWNe8WsArdT24yvAB/BMvs4Aza1//VPePG5AqeZ+de1xIRBCoKwttXWYyBBHEQBGa7LIPP2Jmfjbv7SKMPmc1BW/Z/K5N5/31vN1+XnzITDXjdk/mz7t0YQQQghxbbrqwfIjX1pCB0ekAa1II4NWCo8iMpNoqRRGgQtgrSdMwmI8uc1PQmUaKZIIKhcoa9CTYGgUGK2agDkJilo1AbIJROB9wIWAc5NEGQAVth9j635bz45qPjEIobl9OwYHlJ68P2CUwoWA9wE9ub3yzeesAI/G4yFsJcHLYddPHkMTMLq5Vla2CeHA8saQtUFBd6pLt93aDntTaQSTQHulrZDaaMLyVjgOYTs+bl/j8pe4fZ/maw14D56Ad83XZn3A+cDNBzrce9PM9iMJIYQQ4tp11YPlpx5aRnlHPAmFrUgTUGjdvCk1qfpNwlZpPbVrAqJWYD2AQgORDoTJbdY2yU2rpj6pNcRaoXXA+8njThb+Qwg4D843VbetquJlTSBUzf80QatJlnBFIFOTIBmZJsQa3VT7rLsczraCo29yNEwCZJi8aQXWBVwARyCEpmYYG0WkmkplGml8CCxv5lxYHzE73aXTzvBAXjtacTSJuJNPavLBn/7CXg6PXHntiht3/kHY+hwDk+coQPBNBdU5cCFw4742L7pRgqUQQgghnoE9ltMpTGWKqUyTGE1QCqX1ZCn88rK1D00l0nq2bw2hqUbqJq5ROqgnIa6pTjaVSa2bkFT7QO2aUGc9VDZgXcCHSfkS1URUpSZVTUWsFalRZBG0YkViJoF3O2wqksl9kkmgVCqACjjv8X5S3QuhiWpKoTUkRhFPfk2j5i3STcidfMmTx2++DmjKh2HyXFgfqBxUTuF88xxEQKqbx9cGjGm2DWxVaZ/+f5crunpS1W2Kxnr7vs3z17wptRX2m8fTGrQOKN28j55Ug7fCshBCCCHEVa9YPvLUMt4H1GRZWysFSjfL16b5b++bINXsLWySi5qEya3KmwtNxYwrKnx6knJCaJaht8KUVk1Ig4CZhCYmVbjKQj3ZOxipMAl1itg0lUbrmyC3Vac0GqLtZXaFdZ6ispS1xUQRWpvmc1Jg1GQ5nCY0hubDElDY0FRMrWuW+puKaRMk9WRpXqvJV6yapfvlXsFSP2dxKmNxurX9uKr5Ai/vg9yqPTZPF/EkSAbATK65ALUH55vPz1+Zb9XTK5k+BAKq+XXruXcBHwI37G3zvOunt+8rhBBCiGvXVa9YNqEOQBFN9g5uhRXroKwDpQ1UFqq6qTLWLlD7pnrpJvsV2VqqpQl6T6ucXXHIZztkqq3KH7jgJ6GuuY8BIgVK6csRNjSfm1JbYXJS8ZvcFkLAej/ZF6koa49Gobc+uGoCpPcK5xWVh6KGkYVxDYWF0issGhsUgWZLAKjtpXkbFB6NC3qyNxPSJCLQHHzaqipmBrpxIN2qIm5VKScV3HYEU0lgKoYsar5WPXnxmwpnE/QnmXryNU4CuFKoK7YoNL9e/iFg++UUQgghxDXvqgfLMHlDK8L2EnezRF3UkNeevPbN3krfhErrArUNWNvsR/S+eRSjLlf1/KSC6QL4oKh9U5Grt5fAm9ut99jJEnpTiWv2MYbQVCZrP9l/eblgBzTBS0/CaVUHSgtlDWXtKKqaUVGTVzW1881SuJ8sv/tA5QNlgBpwQeEmFcori8XNfsbmc/nruODIy4oQfHMiXk32eE4qoYQmfm6FRkMgmfzeTarAlYPSN2/2itdjK1T+VdRfs4xu9NYRJiGEEEKIZyBYKjWpxrnLh1a2ws32QZqnncjeKqM1VbowWcZtKo/N4zWVu0nYUQGjQlOVm5QXm6pis1fQqKZS2uwZbKqRTdXt6SGpCWLNLVtVue3q3PYdA5WdHLwJzYnv2vmt6IzRkBqINUSTEH35q21aCjVBMjDaOE1vcxnrHM65vyJgBhJjWJhqYSZ7PhWKoAKFh3xS/Qw0fZa2PlcHjJxiaDUjqyi8mlRILz+vaMVWsVbpyZtqPr+mSru1B/OKgLm1p/Wq/wkSQgghxLPVVY8FlQsUdSCvPYWF2m4FvybYxEbRSRXTLc10ppnKFK20OUEeTw6+JEZNfq/JYk0cKbzSaKVI4+Y+xjTL14mBJAJjmpPk0FQ2m1jV7OcMQTVhdfuEePM5hUmvxq2MFyanuJv9lQGjA4kJRPUKJoxpJRFaN4/lt3aEbp923zoEczm+hjDZWRk8px77NP/z//drnDr9GI4rq5lhEvKa2yrrJsvUW+GxWUbfCuBbS9hqciiq2Rs5CetNc6QmVKomTDbL3FtvW0G9CetKNfdulsonn//2AZ/ma9kO20IIIYS45j0DwVJR+6ZvZRppZjqKbqrIIk1qmmqiUYosVmRJExSzSJEYPQmJinai6CTNr7FWxDrQjgJaN5XQ2jUVR+chTPZSVjVUbrI0vh1um5Pl1k+Ww7kcRlsxpFHze2OaeqYPzQEWPzl444NiY+lJfu8P/j9srp9nXIfJXkiFC4raQV4HCtu8z6SQ2YS2yfPhJ+179u07xPrKCh//099h0FuHSbi8oraI1pqZdnK5+ft28XSrArr1+8ueFjS3HmdrSXvStkkDOgTM5PexgswEOnGgFUEnglQHIib3UU2UNU3bdyGEEEIIeCaCJUrTTgxzbc1sR9NONEmsSeKmIrm1RB1HevtQztbeQz9puwNMekdOYlUAaJqqbwWdEJr3jaMrl2ub0+Ox1s1yslJEqmn7E+mmjVA8OfEdtk5OOyhtE0adb3pi1jZQOk8+WufJ4w+ysLBAVQ0ZljW59ZNJO5N9lDsioJpUS5vPsfm6jBszGvTIi5q1lWUeffjTWGefthyuJqVBH8KkRdCV1cVJ9XL7EE5TYeTKN/z27VuVSDV5vhSXHyPRgdnEM5/BTBJoR44IR6aboJmZQKICiQ5E1Li63P4chRBCCHFtu+rBspPATNb0gaydp6iawzhKNdXIVqLIYt0Eye39lFccxnHNsi5s7U9s/ru2Hh+2RiE2oa2pWobLoW7Sqmhr6d1s7RXUzVK50U0ltZ5UPa2bnMye9L0MKOrQtCdyQUO1wZNPPcmXvvI1ls+fgLoHNPsjVbgcBrmycjh5JCahUqtAvnGaRx5/nKVLSwwHI5bPP0pRjHdUHwMheOraEYK/HCa3guGkx+a2ncHzaUveW0vYHpQnBEsIFlsPKKoVesNLbA5XWe0vs9o7y/rgInmZU9YFzjtUCOAdF1af4uT5By5/TCGEEEJc0656sMwMlwPTVuNv24RL7wO1hboOFLWnsh5rPbVtQuLWXsHSBsalI68849o17YmcorRNkNyKY1o3rX68bz7Y1gSZLWprSXhSGVWTSTfNfktwqO3WRluHVibviVaa9bVl4ihmZXWNpfOnefRLf06wV561njSHnFQMt0zOohNCIFYVp089wpnzZzFGQfAMeqsEdzk8brUDirRippNMDtQ0j7T9Oe2sPk5ipgoQfKCqK6wtca7AuQJb9xmOzjMcnKY3OM5wdIr+8HEGo1Oc3zjO105+gUdOfZGTFx/l7OpjPH7uK5y4dIZBWeEJ9PIeT575GCurZ7a/LiGEEEJc2656sLST1kJ+qwllaH6fV4Fh6RhXnlEdyGsoqmZyDqrp8qgny7pNGGWyP3JyIjuEZpb15NBNE66ax3aT6qffavY9OYndBLMmaU4+FbRq9lk27cab++e1o3LNEndTCQygPArLaNSj0045efoMvdWzrF16snncyaNuLTlvvZ+a7I9sPoVANV7noUcf4tTp06yurRCwWOfQZit+N4+lUajgGeVVU+Glef8Q/ORt+xj9dlVUEbDeMsg32ew/wmb/K/T6D7O2+RWWN77AysaXWN14lM3eKXqDcxTlmN5gwLlL5zl9/gIra2ssry1z5sJZvnb8SY6fO8el9TXWRyPOrB5nde0szl5ZVRVCCCHEteyqB0vnmorjqPQMSsew9IwrT+WagzSVDRSTKmRhJ43EbdML0k56E0WTk9lGQTQZwxib5r+dv9z+xwbV9JJ0TVXUTg71+LC1BN6cmLaTvpNbFdEmcm49NYrKumZG+daS8qR8qZRiNBpC8Gxu9lhfvYTPl1HOToIkREZjVPOm1Nbg8YAKnuA9vljl0vIKUZxw43XHaCUpcZKRxBGbgzU2Rj0GRc6gGKGVY7oVoSb7JZ1zFHXFxnCdshyBt3jfLJVvxVLvawajh1jd/BxPnvtLzq88wurmV1npfYlza1/i7PKTrG5e5KlzJzi7dJ6Lqxeoqoo4jrCuZGn1ImfPLXPxwgpLl47z2IkH+NLjn+b4iU9gCEx1k6e9vkIIIYS4dpmf/umf/umdN34jnVsZwKTfpHOeixurbI7HGBWRRIYomszhjlRzCtw0S8CRVsTm8qGbJJr0qZzU9Gxomo+HyXxtmKwJ0/SuTEzTgkjRBMTmhHez3L21UL11BjtsrStPKp6l9WijiCYtiyYdJHHlBhfOP0XlAkmSEEeag/sW6cwdJk0zIh1oJZrZxJNGkEa6mQ9ua+amMjqJpRgu8/hTT/Glrz7YHDZKEg5ffwv7jx7l3IUv8cgTf87Fpa+y3l9mKptlcbqDCs2e0Evrpzhx9jOsrJ9mrdej8iXWK1pJCz2ZQz4YXWRUPMSl1dMsr20yqtYxUZ9h3qfXH7K+2aebJaz3B6yuj3BuSFWvMB5tYqI+So1QKpAXirm5QLedY+0yeXEOb0uuO3gjd930gq1nXAghhBDXsKteseyNc7x3DMYDTi6d4Imzn+fB41/k1NJ5irpu2t3o5i0xW6MaJ+Fva//j5BBPNTnQ00zJefrhlO3Nh1c0Vg8B/KRB+//9xPbWKZfL1UilmgM9zUnyZl+lmlQelVKk3b0cPHCIQ/v3UFY1x0+cZXa6w8Nf+wL9jSVSl9M1NToUtGPPTOYI+Sozac1UVHJgNiUf5Qx6fUajEVGckrU7dGfmefzEn7O69mWcXWejf4anTj7Ag49/gQeeeJDz68t89fiHOXHykyxdeoRLS4/y1Uf/lK88/n5OXPgsa4M1huMxtS0p6w2Kch1rLXleYe2YsqzY6I8Z5WPKasQo76HVGGOGBNYYjJYZ5BfxYUAcWapqjTK/iHcrOH+Juj5P8DVuclBJCCGEEIJnomL54fu/TJR0OL92keMXnmBzkNNq7aNynk57mnaSNG2EJhNzwtYYxNA05kYFwqRXpOfyKJjtQDkpVG4famluAaUJO0JjU5Xkae+7/R6TqTiBwLi2KBRxZJrPYXI9S1OMG7B3fgZX5ezds4cbrjvGzTfcyOOPPoKnWSoPRHhvWV9f44H7P0s7axMbKPIBWdbh5JnTTE9PMz/Xod3JOHrb80AtsbqyTFU7VleHjIYFUdTm/PnHWdu8xOr615p9BUqjcYzzPmU1oCjWOb9yjlMXz+MoIJwiL5cYj0uKoiJrBbSBonDYSmGUJ80CPhTEpsLanNhMEbxnppsxHlds9sYo7fGUGFM3E9FVRESLm4/ezm3X3f20504IIYQQ16arHiw/+Mk/ZlSXpNkicdRlnK/T6y2RVxXrwz775/djIoObjB7cnoIDTeXxihC4dTp6RyTcESqbEPjXuXxt+8TP5Pbmg24FzK2qZdMHcivgKrqthGK4hFawsGc/L3juiwiu4vqjRzi4b57ZmWmmOy0++YmPMzXVYTDsceTIMUwUYaKEp06cYH7vHk6fPsFNN91AOjVLe2EBHXUpig2UsoTgmZpqkURtTDQkjWK0HpEmKVEUk2YV6AqjHbauOXP2HMoP6LZWiOIRvf4GwemmyXwKznta8SypWcB7R6RTPBGxNija7J2/lVY7IUtigm8xOz2DUW3aacpsu01dJ1SlJ0sM1x+8iVuO3XXlUyqEEEKIa9RVXwof5yc5c+5zOGeZ784S/JA4nWZq6iD9/hp5XTRtgWDSlAeMDtt7K5smOle02ZnYrlJOTnk3k7sDkZ6MJCRglCfSzSxxozxKeVRoxvNc3l251UC8CZcheJz3k36YW9XNZrShUpq4e4Dp2X0c2reHuW6buqrZt/8ISazobayileLM6ae46abrGQwHGGNYXVvGGM309Axnzp/nq1/7Gj7AqbPLdPbsYTR8khBiOt0F2q2YNIvYs6dLCDWdrEO7ldBttdBYwKFNSbsFnZah29Ic3R9zYLFGqR6DwTq2qsmSDmncxVUxER1MaFNWzYEohSM1njgOJEnNOD9OWazhfUWgpttpszCzwFQ3wweITfP8eV+Tl+OnvQ5CCCGEuHZd9WD5lUfO84UHHuGxp75Mbiump48SaygGJzky26Lor1AWFbEOGAWxasYKJjoQq0CsA5ECvd0uCCLVXDNXhMPmtHhzXxM8kfJEqpl8o0MzztA8vaX403Zcbt+mmtPm5ookuxUulQJMzN7rXsRNd7yEucU9LO47SF3lDHqbzMztYTTqUVVj+v1NkiTh+utvYnZugdW1VZSCe+55IXML+2l1uywcOEoU7ceWQ6r8FJHJKEuHc4HRqEAREUct6jJg65q6LqnqEdbXeO9JzB50FNi7J6XdVtS2Jh8XlKVrKrI6waiYLJkmi/Yy3VrkwMIBWmmXbjZHHE0z1Z4nNm28i3HO4IPF+Zq05fF+RFWPWNtYo65y6rKmKusrni0hhBBCXMuuerBcWhvz1NkVvvq1z/Do8c/T620wk7U4NHeAvXMHubC+yZnVNYL3xKo5cVPbJiwmURMom+A4CZOTamPwTWUy081ca60CYTKSsZ7MDbcuYEPTS7Oe9LYMV6TIrRGLWwdSFE1l0qjmEJHWTRVzK7zqScDVwbO4eJhbbnkB1tY4a5maWcTamsFgk7JyeA+t1jT79x9GqYjDh44QAsxOT3PgwBE603sZD3PKccH+hZexMDXPVHuBNEnJkohua4pOlhAbS/CW4LsEEjqtmDTKiKMuxsyQJjN02gsk8QI6pHin8MFS2wHe98jLEcPRCuNyFaWHVG6V/ngV64ds9lboD5bpj5awfoC1A0xUs9nvUdVjXCgI2gEWlKWoR4yL6vITKIQQQohr2lUPlsZoullEMcxZmDrIbPcQexavZ3b2ACrqkHZmSZMEpVQzq3trjKMP+MmSdOXCdljc6lnpaP77ytGPtVfUO/paNn3ZLwfIy83SGyEEauvw3l9xUHxr+bt5wrZvA7SvMBqiKCZJMtrtDsrEaKNZX10iH+fkRc2NN95GWdZ84csPs3/ffrIswzmL956987PcfutzmJ5ZhKCIQ4vD88/lrqO3c9fNL2emPcOBPdfRac+QxB3aaYdynGFUG83kSQglw/EJkrhu2gONPd4mlLWhKDSjsWUwGtPr5yytbrKxOSC4GmcdiYmo65qqsoBqvnYqKls2Wwp0hPMWj8M6S5IoshSCt1fMYRdCCCHEte6qx4IsNowry8X1DU6cOcnK+hK1j9BRi0v9ER7NTKeL84rKhaa1kIfcwbCC0k/6T04qj00boitum0zjaZqdN3slmbQaYkegvLI6ufVrM1bSbU/wYWvizxXhc2u53GhPIDT9KU1Eu92iKmsiE5GPBk2l0MG+fQdY740YVzU3HD1ElqY0HTGh3WoTaTiyfx/f+vJXEGno5yVnlvrkY7hh8TZuPPhC1lZXqPKcqgjsW9jLzNQi3dY+Wski7WwfaTxHGk/TSqZQPgFnKMqatY0By6ubLK+vUtiCjc0xG2s5wWoqa6mtJXjH2saAoqjBB1ppDArKssLWlixuE5xiOCwpy5qyqtkYFJw+v0GeS8VSCCGEEI2rHiyDMyQ6YVDknDx3Eq8Nw7KmX5YMx0PW+mss9zYYVAUhWEpb4ryFyehC5ya9Eyf/7X1z+GZrrGFgcj/fXPO+mXATQlPx9N5tj3Vs3nfr9sljbR0M2nq8K4aLNwd6mqgaQsA7SIym1Urxk89FqWZvY1HkdLrzdDrTtNod5qa7zHbbLMxN46yl199EKUUSJyzMzrOxsUG/P+To/n20sowoSnnq3AoXV9a44eAt3HjgLtppxp75Weo6p8j7bG4sMxit0uuvsb6xynC4QVkMKIoR+IiqsuigKPKCqnToYPAuEOuUhdkZ8lFNkXsuLQ+xlUZrwziv6Q1z6sqTxC2Cj2nF02wOcnq9Gu8C1sJgUJEXMC7sFa+uEEIIIa5lV73d0P/5+79LhKGom72CexcPcPTQdRRVSV6MCb7m3OpjDKslrB3z5Pkn2RwOqb1nY7TOxfUlahco6or+eDRpcg55VVLVNcOioLJ1U41zlkE+wjlP7Ry1c4yLgn6ek1cVta0Bxbgq6Y2HRNoAgaKyTZXSBypbY52jtpbIaHyY7L3UmqIsyQx0Wykh2O2T4oN+D5OkdLpTpGmLudlZZmdmmJ+bp9PuMM5HZFmGMYbNjU3K2qGUIWtltFptev0e3ju0UqysrYKvuOu2u/EE1tbOsTi/l7W1HsPREB/GeO8Z5yXGGNqdLnUNvmozGPeJTERlK4xRKGUYDgoiFXFw71HWN3vk+ZhxXjHVmcLZClt7tDZordEqZjAaY9QUqxtrjPIRSWIoC8/y6hCC4sajt/CKe16x82UWQgghxDVIha014Kvk5u/+dlbX1oiDYaY7xXPuupd2K6LTiSmqNaZmaxyKmekZ8lwTbEqiI5KWoaotzmqm2h6FQpsZYjVNmqZUZYUxmtptoE2GCinajNgYPEoW30In6wKGEBR5XhCUI05i2skMxgTyMqfVmifWESpYUGbSYqhEm4hxbtm3sIfga1pZm8ykdEzNzYf202238cERxxHD4YC6rsnznCRJ6HanCSGgUERxjLUOYxSj0Qhjms+nKErWNgfMzs7w5OnzDIqKjd4mJooYj8cM1pc5cng/L3vhixiOlnn85HHOnV9mXPSYmvFUlWe9t0qrazBRQlnVKNdlNF6h021zafk8caqobGBzrSBLY+66+SWcuXCGvFqltGMW52fQOlDkjtmpaZTxbPZGjIuCA/M38+hTj2JDzt7FLt4rzpxbwtrAG77tu/nxH/o3O19mIYQQQlyDrnrF8nf+r/dQV2PW8xrrYCqO8L4iTi1zC5osGRJURvAxw56mLBxGG4bjGmcDwVt8OM365lmU6jAe5fRHg0n1boWxPcVw5CmrIZV/ggsXHmUw7FO6iwzGfWpfkdcFeVkxHuf40Ce3pyiqivMXB6xt9inKIcPxJsNiDa/65MWQtfU+/f4aw3ydlY0linyTPVNd5qdnaLVaJEmMczVRlBBCIIpisqw1CY8BhSGKIsbjnKqqcc6htWYwGDI11WVuZhrrHOcuLrHZH5DGGoKnLEvitEVe1iyt9dk7v49YJ8x0p7nuyPUcPXgD3iqcc7RbEaNhQb9XEUUZ47xPZlpsbgwgRHTSKYaDkiTKWJw5xPrmOgRPFAeCh9GwwNaGulDU1pLnjjRJWZjax7mL57C2IksTCAofPAA3HLqFl93z8p0vsxBCCCGuQVd9j+XN16ccPRiTaI1GU4wHaDMmTQoi3Wdz4wKuHNNOAlPtEcGv432NVo6pTiBOBni/Sl0ts9k7iQtD8nyE0Rvk9gTrvadY752k9mcoy0ts9sZcvHSKkycfZ239STx9grLN6e9a4cKAjf5xVlYvUZYVo3HFYFQ1exKVJ4od1nu0AWUsRVVCCEylMXvm50iSBICyLKhrS57nWFsRRRpjDEmSEEcxWZY1gdI7lFYYE1GW9eRUdSCOosneyyFlXuC9Y3a6TSuNAKhrx8Zmny8/doLKGW6+/kb2zi1ybP91vOS5r+Qlz30Ve+du4LqDtxHrDr6yjIc1zhrqXFH0NZ14lizNaGdtIpPSTlpMtadJTUYWdzAqRjmNsobxwFGOA+trI5yDNE6JSMEZxkMHdUQ7mSKN06e/wEIIIYS4Zl31YDk7owihYqalaEcGHQ8x0VkGw4c5f+FRzp1bB19QDUtgiXFxgvF4gz3zgSTJSZJlattjbSNnc2ONvFhiqrvB1PRFBv2TjAZ9Th5/hEH/cTZXVrG1Y2Ojz8rqgIuXNlm6NKAsApuDZlSirYZcurDOUyeOMx73CeSEYMmLnMrlBCxVWRF8xfLGiN6gopV2yG1FbUviSGOMpqxqLly4xKC/yebGOrautquVqKaimGUZM9Mz9PsDiqJAKUVZ1ayvr5MXBaPxmL0L85w/c5rTJ89w7uxZzp5+imALktgQx4airDh9cZX13og983tI0xZGa6bbs9x8+C72zB5k3+JecBGRylBB0846dFtT7J05jHEZ7WiWSMXMdNrMT3c4uLCPufYce6f3005myOIOoY6YbS1ycHEfc1MzzHfnueHgDcxOzYPThDqiGnv01f8jJIQQQohnqau+FP5/ffz/y2a/xzBXTE23OHZdBIzpdGr6/Zzl5ZI8d8zNTDMqL7Gy1mN1rWB2ZpbF2Rl8uMBgsMGgb8nHJTqK2be3i7VDRqMRRV6zslrT7RjwitXVio1ehbPgfUoadYnjDlPtDpGp0GaNfr9HXgTmFuaYmemSJYZWC+LEYLTCOw1eUdWeVmpIY8/RA7Psm9lLJ2tzaWWN4XDEeDSk3+8z6PfZs2eRdruLc47IRBRFQVVVVFXTnkfrpt3PxUvLhOCIoohLSxf51Gc+wcc+/udUVc6RI4cZDPu4uiKKI4JvJgBVzjIuatbXV4mNJzKGACRJRl1bqrpifnYBQuDAnoN0Wl2SKGHP4n6GwxGH9h1icW4vRjtio5nqzLBn9gAve8GruOeul/C8O17APXe/iHvufhF33PIcOq0pqqpkemaGOI5ppW2OHDzA3sUF7rztTm694fadL7MQQgghrkFX/fDOd/y//w/WNpdxIeXVL72FNAucOX+KKC4ZDCvOn6mYnZ7nOXdfx5nzp3jiyRFRkvK6b/kH3Hx0L6dXPsXJC2cZDCzr64abj93OXbddx8rmKR589ARRBP1hzZ75jCqvWV6uKWygrBzWdlicn+V5z72Fm44dpnIDTp19mJMnNhmOArffeZTbbrqJ6XaXONIoNFp5bAgoDUbpZsSj0cxmB7lt3z2MxzVPnjpLpGC626HTSvDecujgQdKsTZ7nBD/pk6lAK9ME4KJAJykPPvIIuJqX3vtifuXX383/+sTH6A82mWrP8P96wxuaPaXO052epqwgbXWaAOk8iVHcdGiW+akWOkrQJiZJW+TFmJWNJdZ7a0xNTbO2vkoSRdx47FZAMd2ZotPqoHSEVorYRKDYbssUQkBpjZ/09fS+afO0Odxkae08Z5aOkxhHUVc8/86X8OK7X7nzZRZCCCHENeiqr2PmpSUva/btaXHdwUWu279A8JZer2Rj1dLre46fXuXxp05SVI6qtvR6OWk6ImvnKO2pqsDJ0yUnzo7oD4Z0WoH9e2cxsWEwqlAh4K1DqYgkNfQGNRsDSytzFMUG3W6PvYs1rWyENgFtFHlesba+RiermZsOTHcV01Mw3TXMT0XMdSKm2xHddsRUK2U6nsU7T1FUfOozn+azX/wU55Yu0mp3mF/chw8Kay1xHIMKFGXO2toaeT6mO9VlOBzxtYcf4Qtf/BJffuhxvvLgg5w5dwZ8RaeTMTOb0Wm1qOsx3tcMBz2cHTHordLvN0vtlfWcuNjj/HKPCxcv0e/30caTpglxbJifm2G20+G1r/oOXn/fG7j9htu57fpbWZhdJIpijFYYrQnBNw3ft/aExjHGGLRWKKW2m8fPdma48dBtvOzu/4PZqWOkcYc0zna+xEIIIYS4Rl31YBmASCtacYoNJRjPzFyHODYoZShrTxKnJLEmzRx796X4AGujdYb1BpUrKIvA2obn4kbF8fNL9MY5Rgf27svQWpGkYGJFf2hZ3ahYWi+AgDEwN9OlnXYxRBBAq0CnFdPttMhHnrrwqAA6KKKg0UGjgkGHGBMS4pDS1jPsmztKksTEkSeMV6k3Vzlx8iSVC6wsr6JVhPfN6XBjDHmeU1UlS0tL2NrS7rQpqgqUoj8c8Wcf+zinTj7J2voao9GIO+68g+GwObXtQk2Rj3CuYqrbQoWauhyTj0cMc8vFjZL1MZxb2uT02RVG45LD+45x710v4/l3vJip9jR6MnvRWot3DnzAKD3pvXl5YLrfqlr65tT3VrB0rgn5ZVXTGwzxbobgD5DFne33FUIIIcS17arvsfzIp9/P/v0Zhw/NMDUVEXRFlIB3JcOx49KlEgzMzMTccuMic9NdDu7rcv2xaWIz4sKliwwHNYNBIHjFwnTKof0pcVbig2Jxbpojh2dwwZNXgVY7Y3om5fqjsxw5PM3+fR327kmJTI0xNXHsJiMgAwvzKfv3piSJxYcC5wusL8nrPsN8HeuGeD9grnOEzExjtKHVauHRtDsdLi2vsr6xyfPufg6ddrtZWp7Mhry0dJEoiuh0O6RJxsr6Bo89eZyiLOn3+5w8fYJBfx2tDXfccSeHD+1nZmaG4XA4qSo60jTFaN1MH0KhQqAoCgIa6xVF7VlZ63H63AU2Ngc42+xV1VpPTsHXWGu3K5Na68sVycmvAYWfLNs3muDpvce7Zkn8zIUlHnzkUU6ePs/Cwn5uvv7I019kIYQQQlyTrvoey9f96+/gnudNcXD/HFopjA5YV/LI42d4+OEhZ5bHZEnEjTfM8vIXHCZJDCgwRqG1Zzwu6A8dPhg67YzpTps0TZoT2IDRGqMVzgWU0kSxATQKg9aGSMcoHVAEtI4gaKwPBG/QKiaKIiKtMLrZKxkwaCJCgNhEtOIW3fgY0605sihrRjjWjuGwxvoa0CzOz5GlKZExKB1wzrO+vsb09BTeB4bDnC985aucOH0aUORFzYULZxkPNwk47n7O87B1H2sd7XYHax3eh6ayqBTOK6Iow1qw3gMxSZrRanchBGxdkedDvK1YnJvnVS+9hwN79+ImS/NJkuC9x9qttks1SitCgKAUURRPlr8D0CzpG6MpihLrLF966DgPP3GCwXCDV73khXzP675958sshBBCiGvQVQ+W7/nou4liMMYTqCE04aWsHIOhQxsNwZCkgelOhpmMF1TKoJVGKd1U0bRHK4PCoHRzqEYp3xy4QeNDSQC02lrtb+6jVYRRCY4KPZnEQ1CAapaLlUIBkW7jQkkIfvJxm+s6aLJ4iuBgvrNAIOBrSJI2wzwn+ECr1aKVJrSyFoFmWfnS0kXKsmR6eoYsa/Ohj/0F670NlpZXaXemqIohg0EzYvG666+n2zGsra1O9jvGhNAsU2utieKEsnQENHleYj2kSYt2d5ooSqld1YTL0QCtNJ1Wi+sOH+Ceu+9kdmaqecony97bb8E34zFV039TTZbItdYURdNXc9AfEhR85suPcGFpg6oa88oXP59/+O2vvvIlFkIIIcQ16qoHyz994Leo6ghPH5QDQBGacKcUipjYTGH9EKM0KFAqoPCT37cxJFRhHUVoZmpr1WTD4FAkRDqjDpsQmtGPoTnfDDTBMjEHqNwy4JqlYCDgaI5G1yilSPVhPGt4ikm1UEOIiE2GYZZEdzk8exej8YjF2b1kSZe8qojjmOA9SRQ3ITCKKMuS1bVl+v0+09PTZFmHT3/pKywtLXPx0hJRHNNqJdi65NLFC9x0840U+QbGRFhbY0xCFEXEcUy/P0Abw3hcopQhigz9wbiZNd7u0urMkiQptspZX19DT0ZJlmXBnvk5Xv6i53P04AGca77erf2Vzjusb0L+1tJ3mqbEcUxVVTjn6A+GnL+4xFNnzrGyMcJ6x0uefztveO0/eNprLIQQQohr01XfY/nVkx+mKPs4v4HyY6zt430fF4ZYPyCEnKoeULtlQugT3BAbeji/gbWbWF/gfYFzS+iwivE9WmoDHdZQfogKOVBCGOFDBaHGuQrvyqaWuRWkXA8fmik63peo4FE4FJ6m0VCKdzUKhQoaFRTgSXQHFWC+fYSVzYt0WnOsrF5iZmqRqiqpyopWlpGmKSGEpsqpNXk+JssyQggYE3H63AWGeUGWtYjjlKIYo/AYpZiZnUZpCARGw+Ek7DWPY21NXU8CcWiCdb8/wFpLMR6jo7gJyGjiOKEsC5hUOZeWLnD6/CVMnDLd7aAnj1HXNUzea1L63Q6XIYRm6dx5qqpibWOTR554kqquSOKYQ/v3cttN1z/9RRZCCCHENemqnwq3lcWWY1xpcGVMqAyhSvBFjC9j6rzC1x5lU3yl8LUhlBpXRrgywpeBuipwVcCVKa7qkFcd8rJLUaUUlacoh9RlwFtDUTryMsd5CyEQrMfWmwQPzlpsPaaoKsqywtY1ztbUdUVVbxB8hast3jrquqAqC+q6DxiKuo8NPbRyJFnAGEXwoakQRhHee6Io2l5STpOMfJyjtUHpiDwvgGa0Y3cS8rRqlqLjJEahcDaQpi3StGnpU5QlURSTJk0lcetQzsLCPIpAZAxlPiIfDXC2Js1azC7uI45S6qoGFJeWLvKJz3yWP/7oX9Ibl+RFsd270lpLcBYdPGbSfmhrL6YPHmsdG5s9hsMxZT4mhCbgCiGEEELwTARLQqBwAyo/Zuz6jN2IcT1kXA8o64LKlVSuT277FG5MYUeUrqD2FhcC+Apbj3DOM6orBnZAr8wZ1ZZhVTCuCkbliLwuKOsxtS3QtFEhwTmoXE1tLdZ6vAcfPImKiJTBuoB1jtoVVHaM9TW1r8jrgryy1N6xOd5kfXCOfnGeUblOb7i03ZonjprDP1pp4jh+2j5FpTVnz51lqtul3WrR6nTodrsYY7B1xdzsNKPRiLm5RYIPpGlGkiQoZYiThACT7QIG65qP570nSVqUZTOZBxVwdYnC42xNcJY4ikiyjCRr0e5M0c4yBoNNLl66xIf+4rM8dvoStQsobTBRhPOeehKu67LAWktV1VjrSdKU2dlZpqdnyPMx62tLOGef/voKIYQQ4pp11YOl0pYQCko7pLZD6rrAqIjImKaVTqio3Ija5xAUzlusddSubJZtbUVwFYpmakwI4KkJWGLTITJtTNQmTaYxBiLlgZrKWspiTFkOKOoNbMipwxgfNMHlOJfj/AjrcnywFH7AqFpnXK9RMSboGk9NlnQI3pKXA/bPX4/XjqIsUNpgraXT6VBVFX4SNre0Wy0OHTrIZm+T8xfOk+cFUZwSJwmdbptWKyFJU8q6IIo0ZVlMmqsrvFcoHTWTfIqcdrtDXTuyVocQwDo3OYCkUUZTVxVlWWDrmvF4SHM0SdHuTjM1M4tSGqNhbe0SDz7+BB//wtc4t7xG7QK1b9ovOR8oypKNzXUGwwGD4ZBxUdJqt2EyPrLMC8pi+LSvUwghhBDXrqseLBPVIcKQoIl1s5zrfY13AecKCBWxbmF8gqFNpjukpkUUIjQ1UaTQOkYpQ6I7pCol0RmRSlDeAxaNw9ZjrLXU3lP5QXNYyJQobUFbUDXeB0o3ZuyGVGGEDTnBNI8fqWjS19EQKYNREJkMj0NFEELCmZUHWdp8FG0M1tZ0Op2m76QxTa/JK85FOefI84KFhQWSuGnns7Gx2fSWrCsUgbquyMdjvHf4YNFaEUdx027IeUajEa1WB2MivIeqqieBswVaY+KIKIpRKmDrknw8pq6K7UNKkYnRUUqStiirEoLH1iXrm5t88eHjPHryHL3BmLXNHqu9PqOixrrA5uYmw/GIi8srDMclM3OL6ChCqabxuxBCCCEEz8jhnRMfpq5KvFZobYh1G6MzUJ6gmqXuzLRJohSMJ9KqCUrkqAhQAY0nhMGkF6WGUBJU3owgDB6jAs6PCVQYE0h0jDG+6V+pLZHRaDwGhdZh67zKJCw5rBtMZoN70igi1galPUYboAZVo3RBmmUc2HMTvdElqmHE4vzeyaGWBKXUdtsegCgyk3ZHhv5gQFHXbPSGZFlKVeWgAsE7ut0W2gSqsqCqKqBpiK70pO6oI8raNj0ngThKUDqiKEtCaHpQGhM1gT0EIqPxgaaVEBptDJ3OVLNs7h0GcM4Spxlrm0NWNwasbWyysdnnwqVl8qrGBSjLmsE4Z3V9E+eh1Z3BB8++hXme/5y7dr7MQgghhLgGXfWKZWVH1CrHqRwXHD4MGJfL1K4PIUfrGKtKfKhQocS6EusKYq0xIUYFDyoQmQ46anpXah01oyKJiYjRShOZhFbcJdERWhkiMhSeybujlSIyiixKSKOYLIlpR4YsSmlFXVKTkZgMoyI0GhNAh4oQSgwRwXtGww2WV07iKkeUWpz3FMVo0li84ZzDe89oPG6ar0eGqakuvc0e49GANE2IIsN4nBOCI06aAJqkCd45lII4TolMgnPNfkdjYtKshdaG2tnJfWLSNGU0GhFCQJlmBngIAa08BIt1VRN0FUx1p/GupqxKinzIeNDD2SY8Lq33ubiyztmLl3j0yRM8/MRTfO3RJzh+6iyb/QGDQZ8QPLPze5ienXva6yuEEEKIa9dVD5aYCq/KZvk7jLAUkFQ4U1L4ESUFloJKDajCkFINsSbHqpoqjHA4lEkIKqL0FaWvqEMNRNShhMhjKXGq6UxZh4D1lsrnVM5ivcdPcl/lasZljgsB5z0ueJwrsd7jfEUITRse5x3WWVyomlZECvCGTnuGNDVMzSRkrQxFYHZ2Dh/c9lL41tvWnsvBcIBzAes8SRKTj8c451FKUdtmik8Umckp7uZktvM13jviOCVNEuI4Jo6T7abpTXh11HVFu51R1U3fSR8CZVU3S/LBUeYjQvCTiUIQRQl1VWNtTVkMKYshITiM0dTO4XygspZev8/q2ir5eMQ4H+O8pSrGKKA7NXP5tRVCCCHENe3qB0sVA4EQ3KQFEMSqg7IJ3kPwFudrdNiaNmOpfYl1FcFP9iK6EaXrUdmC0g2p3JjK1VS+oPJFE+x8hfU5dV0RgkdNdnaqEONsjLUxcZQQgqKuPd5FVDV4F+OtAx+w1lFWBc4HtIkx2qBQ4B229uT5Gv3hKoPRiLNLT4AG7yB4ttv3bM3jZruljwOtKOuSbrvL8qVLKBXwKJK0TRTFbG6sExmFMk3rojiKIDTti6I4BqAoSrIso9VqTdr+aKqqmiyfg60tWZaRJBGgmgk+cUxd5E04jiKSJAMFVVEwHo3IhwOqYkTwrqnobrc0cmgNo1GfIh9RFDnO1dhqjLPNxxNCCCGEuOrB0pCiQ9Ysa0/OK0fBEBnIojbKpwSvUappD2RUTESCQmNUjPUl43qMcwEdYoxuY3QXFWI0LSLdRquYJGqjVUYUd0CDVi0CCUpFgMYHhXcJse6iacJXFk1jVEJiZtB08c6gQgoYIALfIopaxPEMSWrQKmVu5iiVrYhSx6hcI2ulpGmG0mw3GW96WsaURYm1NZcuXiLSEVVVMDs7g7MOhcIYTbfbhslBnjRJSdMEhcfaZkyj94GqakZNWmsnwRm0VjjXBFlb10TGEJwl0gajFFppgvXNmEutGA16hBDIsowoirGuJijf7O0sxtS2aTcUvEUFiOOENEkgWPCWYjxiPB5RluXOl1gIIYQQ16irHiwjwHiIVIxRhjhqoU0z3UZjiCNNohOCtxiVolVMpBK0jql8AGJCnRCsQZOiQ4QKmkhptApYV+Ga0yrNErSr8A4UMZGOCFgCHq1SQkipXE4Uxc3McK/RKkPpCI8hTjKSuEVsUhSGgMe6QGVHpFlGFMcM80soXVK7PkvrTzEcDPG+WdreenPOEscxrVYLpRRT0x3ue/mLuP7IQQLQancwWhHFCmuLZr65AmcrrGtGTG5VDlHN1xXHEcZotNKkcYIxmixrNQHcNNXLvMgpqwrrmwbncRJjdIR1HqMVRT6mLMrmdqNxdtIgviwgeIxRaAJ1VVJXFUmaEccxztVoDQTfbAsQQgghhHgmgqWzzekZYwxGA85SVhUKRaQNKEvlcqq6wFlQLgWvSJkh1hmx6dJKWhitUT4QqQ4RLcAQiMmiKSIVo0kwOqYVTdGJ5gihRBlHEmdobUhNRGIgNgbrSuLIoJQDVaJVRStVdLJZImOIdCAykMQRRlcolWO0IY4CWRTRbcUkpmZj+BVWe6epqorINEvWzlnKqpluY52j0+4S64hhf8hz77iNNE4YjnJW10fEkca7iqzdYTgc44NvRkwaSNOYNEspixxjDFVVUtcVcZxgfTMVpywr6romL3KqugQcZZETPNRVxXDYpyhzrK1w3qONQmvFxsYaw0EfW9fUVY4yCu9qosg0AddV5MVge2Slq2ustZRlsyQuhBBCCMEzEiyDwYeI0jpCSPEhmszBTtEqInjI8xxXe7Su0Tgi3cL7Ed4Pqd0aQY1weohVI2zoUbGBVX2Kao2yukgUBWKjMarARBU6rjFGE1wJviSNQOGIlKGVtIh004wnUKO1Q6kSHwrKarC9H1QFgyZDOYN3iroeo1RMZQsG+SbWO1Apm8UpalthrZ0shQeqqmr6XLbbhOCp6pLxeEASx8zOzKBVjG5KkQwGPaqyIImzZupNXWCMbparraXdyvDekaYpURSjjcaYiDhK8NajtcHoJtTWdXOAaGu5HMB7h7V105ZIK5SCNE2oy5wiH+FchbMFdZU3lcq6Imu1SZMU7yyBgImaZvatVgs/mQIkhBBCCHHVg2UctTAmxivf9IqMNHEUg3Y4RqRJh5mpBTqdFpgaZyqIKrRu9gZGRmN0RKQS4iQjjgNJBIkxtFtdKq8p65o6NIdKfPDUvoAQUBhUiKmqEk+NU0XTuijSRDomMtOEoAlBoYiwtsD5Eq8CNrimiZBKiKM2SgdqWzOsNqn8kHE9xAfHsL7I+bUHGQwGWFdD8CjnqOsSFQJaKWKtabfbzMzO8OLn302n3aLTzdDa0mo1AS5rJZgoxvvQnNouc7SiqRLWJcYYtDZNQ3YdE4Km3emitSHLUiITNQ3RtaEsSoL3tFpZcyrcumYuumtOkidxQhxFjAa95nCQr/Guwrqq+TjGkKbZpC8nKK1xrtnfGRmz8yUWQgghxDXq6gfL2JJFhiRSGO1xrsD5Ak9FpFtoYzDaYyKF0gZPQeUKamVBGZzTGO2IYo3RmuAd0IQdhZmMefRUdkDtKqqqJM9rytKDN5MT45pROaIom8M0ZQ3jakxZbVKUQ2xwVHVJlnYwOqaqCkbjPqNqA6tyagr6xTKro6dYH11klPcZFT2G5Zg0aVGrPu2pbjPVZvUCZ049iVaKoshRSjE7N0ccxWyur7K+cp4wXqbbMQz7SxD8ZOnc4ayl2coYCDSVRudq0jSmzMcYrZiamsZEhoDBRCnKGJzzTZBVihACURQ1S+dliVaKqi6p6xJtDEpD1spIWxlaK4rxmKAUWkMcR2jdHCrywRHFEVEUYasKZ2uqssBaWQoXQgghROOqB0vnKmo/QuMIQaFVuDz9xmi0g8x0MSgirUjMNCpEeG9RKIIKVL6atCrSEDSKBK06KGLiqIv3CkKKUV2ydJ4kjoiMJVBivW16QZoYhSZ4TWpa4D2lzanrgtGoR1k7nI+aGeVeoZVCK0tRrTHMl8jzESa06cR7GObNyejajemNL3D24lP0epe49PAXufjEw1TjEd5anLMM+n2KomI4HFGWNR/84Af44B//AatnT1JXJUVREHBoo0iSCBOZZk+krQAPIVCWBVka4V3dVF+9o560/YlMhIki4jhBT07WhBBwrunFGbzD6Ga/qNbNqXVra4wxpFlKVY1BBdI0IfimQXsx2depJhOEmuV3MwmcshQuhBBCiMZVD5beqWYWtvcYNJGeBEgVYesh1ud4VWNDQWVrhmWfvK5ABzApRrXQIUOrKZK4Q5x0Mdo0+/+ChVCSphlZnAGKwWi9mRfumgbp/eEmZVWilQECzjbTfZIkhaBJ4ow0bpMlHXwo8a5oWveEGqUijOoSqZROOsvC1CKLM/s5vHCULEnptjuEUGHdkHG+xqmvfZH5xb3cfvfz8LbCTg7W1HWJ1oq1tVXuvfelaBNx8vhjhGCo6oI0jsjSlLIsKMoc75sm5t5bUB6jmwNQIXiCb5qxR0aTpjFxEhF8IIpiiqKkqqrt59s7h4kibF1RFvlk2bwFSpFmKUmS0O10MVpTFgUER/COJI6bxlAayrJAK7W9jzRcMQ9dCCGEENe2qx4s0yzCmAgwWOcpSk3tDaWvKayjqAP9YoP18SoAAUteDtgY9hmOe1hnqeqaUb7GKL9IXq4yqno4fLNc7Evwzb6/vOyTpV0S40miCIIiMhHWlTg3xrkKExtsqOjlQ2oPKrSJojnWxwOG+Qab4xV0rKnciLLqo7wmMfPEaoaNwQb94Sq1HVJXFutyxvk6nXSaufYiq0vnOH/hPMNBj5XlJS5dOEsra5EXY9ZWllicm+X8hTOcOXuOfr+PUTFJZPDeMh6Pmj2RvhnLaIymLMeEYCnKAudqvK8p8lEzAjJJMEaRxjGdTgutNVpr4rjpUVnVzX7SqsqJ4ripDmsmzdMT0qxNq9Oh3W2RRIYQPGUxoi7zpsG8Au+a7u/ON9N8nLOY6Kr/ERJCCCHEs9RVTwWlq3DKUfmcfrmMMznDoofyGXEUU9g+qMB0tpcoinGuopNBN0tpJzGJUSRJRSttTkM3B3I0eTkirwq8g7LcYFys0soiAjnex/jJJJlOa5osaRM8RMbgXI1SMQRN7cbUk4bmRbFBP1+F2LExXCWJY7RWZPE0wTvKsEagJo7atFuLpGmCrz3taIE06ZLGUyStjK996dOUteXLD3yeM2dOsb6+xKMPfZXpbgvvHfd/8X76wxHD0Yher789ClKb5kR5CE1D9KLI8d4BzSjIplrogeY2RXMwqKrKy+2cJgdrnHO4qsZVJXVVTj4GaK3JsqayG0URSZo0IySdI44jvHMUxZiybCYYQRNwnbN4b5uT6Sba+RILIYQQ4hp11YOlDSW1WkcnBVGqGLsxS701Kl8xrioqN6RwgUHVZ1gMqVwJxqN00xzc+8kca+dQOsaGFkp1iaJAZDzKKDAadIYLCeCp6j657WNdRbvVxeuKwhXUOCyKwThnONygKEfkdZ/SbtBtp2z0Njh3cYknT51hlHucg8oP6Y2XGQ6HWOvxQU0m+sTMTl/HzNQ+sqgLWlEpzcqlc5w+9RRZu8tDDz3In//ZhxgO+iSxYTzs8+Ajj9FqdWllU7SzFkmSErxHq2bLQIDm9HVs0BpsXVMUOcEH/OS0eV0W6EnrIG0UdW2pazuZzFMTvCcymuFwQG9jrVkad83+ybLMgdCMnVQaZ5v2SsYogmoavdu6aZdUVSW2rprWTM5PQmZzeEoIIYQQ4qoHS42mLj2Dfk6wllRr0miax8+c4fSlVZRJ8K5iXGzQGw1Z7405cW6ZUxcu0Rv1ye06hMleTTdHoj2JARUUo3KNym4CgbIestFbxgdFljUtfiCisgXjesigGrE5XGc4WqGTRuyZ28d0d4pAifc1sVYsTC9wcPFGbjl2A2mUQIgYV2O0jum0OrSyNsGXbPSeIi82OXvxYfKqxGSO0hXc/tx72b9/P9Q5hw8fYnNjhbOnj7OycoETxx/n7OkT4ANzs/P4EOjOxAxHPayrGA6bCT6E0OyDDGCMopg0Ja/qHOcdWdZhNBrgXUV/0MM7T103+x8Bothg64pef5OyyPHO4p3F2ZrxaEQcRWiavZreNafhizKntlVzuCk4vKvRNNN6mmAZiOOYum6mAgkhhBBCAJif/umf/umdN34jPfjUJ7C2JGKK6fZ+2ukiraRpgeMdOF9hiAkOprtzLC2t4YJlqpuQJqBMIIQIHzS27JHGCT54vKuI4rg5VOIca70RQUUUVUFsMrTOQGkql1NUlqock5oY6yCJDUZltJIUaKbzRCYhTadJ4zZp3CY2HeraktsCFwKlLWglHRITk8QtnHfYUBBHAYKmk+xhdvoAt95+N4sHDmO85/TJJ+gNh2z2+mitKKsxo3HOzFSHe+99HiGylGUFQWGdQ6lmuT+EgLUVeZ7jfXPyu6yaJufN2Rmz3fbHB0/w4EPTq7KZVe6aqmNdk6QxSinKopzsy4zQRhECBDwoR1XlANRVDSictaBAqaayaW2N1ookTTl25Ci333Lz019kIYQQQlyTrnrFMs0MkemQZhmVLRjlAyJdsn+xzcx0SifrYlRMO5khwnPL9QdZmFfEsWdcjdnsFaxv5FxaWefi2ib98YiiHKNjQyebQStNEsOe6SmmWl20jvFaN+FSeXTQRK7D3NQCaWqYnZ4mSzK67WnqMtBOZ5pxjD5CBUcn7hKFFFvXGJNggOFgSJXHRMyxsrbBcFgzne1npr1AHLUpypKN/DQzi/tAx4SyZro7RVlbkjRjce8elldXGeaOfXv2MD83zfT8LFmaMT091eyR1Ao1GQnpvWc8buZ+O2/xk32Yza+X2wm5usY7R1kWGK0hOFxdoggkSdLMF9em6U2paSqfZY53njhupvUkJiaOIqqiIoSAItButzCTFkPOOaJIN1OFrIOmbbwQQgghxNUPlr3BgNrmDMsVKjfE2yGGLsEqEgNpnNJux8xOHyJWCXtmDnJk7hhT0QyuMKwtj1g+NyRUhm6WUZc1ITjKvJmTXbvAKK8xsWWqG6ONZTDosd7bwNU1sUmZnjIEFzA6RQOurhiNlzHaE3yMURFQY+uKouqT1ytYCrKsSxzHHNi7jyP7FzG6ZGF2P512Qm3HeAveKtIUTp17gFE+xOuY1eXzhCjlhS+4lz3z8wwGAypnWd9cZXZ+npmFReZm95CmGWVRNP0j8cRxs4fROUe71SKOIiIT4UPTTiiEQAhNJVFrjfeefDxqlrW9mxzuaZatqyonjmNMZCiLnCjSOFejNYTQhMUkiXG+GUWpI00UR6RpTFCBKI4oy4IoMkRR0swRJzTThYQQQgghnolgGek2w2JEf1hga4smwYcabQx1KKlqy8p6j0dPPEpvWLLZ6+OqKVIzw3RrLzccPcqRI9NMz8e0WgntrIMJU9hhxHicg4uoypiVjXVqOyIiIVQtvPV4F/ChpFnZjdHKU9U9nK/xviRKa5Sucb4mSlNMnFLXFb1+n/XNFTYHFynKAeO8T24r0FD4NfqjTca5oz8asT5cZ3M4IrcFK/3jTM/McvjGO0Apbrv9ThYWFxgMhwzznP0H9zMYbtLpdHjO3S9kprtIq9VCaYXSGo+btA0C510zicgHojjBmJgAON8c1HHOEicx3U4XRVNpjCKNNk3/yVarQ6BpG6SNJtCcOG9mmsNoNGzGMypPVZUoFM57dBRNDuk0TdSbUZIKa23THF0apAshhBBi4qoHy35vg1acMd+ZpywLRvkIlCVLI6wdkpdDhhs1bdNlfbNgZWVMWdbUlUc5QycztDsxPjjiOCaKI0wcYToJWbqfLN3Dnvn9HJg/SDFWVFWFiT3GKGqfMBjnlLVjbnqRxHRRoY3SCXUwjMaO8TinqgNFOaQoCmam55iemmZuqku71SJLurTSFloldNJ9tNMpOp0uKvWkrZgQCpKkzdTULKv9FXr9HmmagTGMyz6nz5/mzPIST54+xYnTJ9ExHDxymNnpBW6/7QXMzu6l0+kSRRGb6z3yPKcsa4qibnplWstoNKQoxqST3pVKebKshYkM4yIHBVVZMB4OKfMxBE+SpsRxSmxitNK02x3SJCZrpSRJjNYaZ5sT5HVd4awljqPteeLQ9MpsxjzqZoxksLISLoQQQohtVz1YZhmsry+hqFmYWaTb7bLSG7HRy2mZBbLIcN3RfczMajotmF9sUTMG0yEvamoL3c5BZjv78bZN7R2rwwtYcmLVIVYJdVEx6Dm0zmgni2S6QzedoxivE6GZ6c5R2ZxgZ6jKNt4ZptsHiU1EpCNiPU8xhk42z2ZvGa2m0CalkyySJLME06ZfrLM2XmJka8auoj9eoaz7dLsdNofnWNlcxqmKJ09+jSeffJj29BQbgzWKesC+fVMcODgF9Nh3cI7VtQ0CsDi7h+fe8WKmuwvkeUESRcRRs7exqiq01kRRE+xarQw/CYHWOpRSTTVRAXiMaVoPoRRaN+MXkzQD1TQ2L8tmTKMxuqlgeodzFdYWKKWI4mh7KT1JErQ2ONcEW2trgm9ml4NULIUQQgjRuOqnwr/6xP/CuwoTaVppTGRaVFUFwVHbmunuHOO8oKhKAhFxFAg2oKNNAo6pqWm0CZSlJThNkec4KgbjTQIlijFKB7J0mlh3ieKCVmbw3qPjlG57liSOgIqyKokiR9LK0DrBuR61HwDQyzeprcVQEJkOcZwyyM8RTGCY96nKguE4ZzDoo9WYVjKFd5raW9qtaZyrGQ5HrKxf4KMf/RgbvVX64yWSFI5dd5QQNKOx5diRO3jxPS+nqiqytKk65sWI2o4xkSbPS8qqpq4tAU8UJSilSNNmuo7zYTtshsB22FRAXdfNzHATN/08q5wkSSazwGPyIidJI4qinIRWjQ92csBHQ4AQmvngVVVO5pZbtNGAx1nL0cNHuPuOu3a+zEIIIYS4BqlwlYc9/+Yf/XOWVk+jEsPi3AyRilnb2EAZz+zULCuba3SyBTqtBWanZ1FU1NUQ64ds9JcwUcZM9yC93iZJbIiNoaZP6SuKYkw7nSbVcxzceytLy0uYqCJJDQFDf7zCzHRCXde0sllGoxHeNUGp055Bq4jhaIneSBE07JnZSxQpRvmYNIqo3TrBtekN+kwvRDzx5DKd9gyH9u2lGA1Jspja5Xgb0W5n2CrgbY0PCQdmj/HoQ2d5/q2vY9+eQ+zbd6CZjKOgLErquiKOE6q6YjDq86nP/RnDUY/BaIRzYK3Dh0CaZtS1o9Xq4FwzwNu7gPOeIi/R2lCWFVqpZlLOpCWRtRX93gZZlmK0Ymqqw7gY0W530CZBoWl3Ugb9NYqinATY5vCQ1hpQmChGKU0IgaIocLXlFS99OW/+R9+/82UWQgghxDXoqi+Fl5ViurOHmfYMWiX0x0MwjiRtEZRmKlskijpYH1heO0uR9+iNlvAuZnHuZhZmjmFIiZTCmIh8pAh+hpQ52hzEF7MMhxXjvE+c1kx1FwkklFVBp92iFR1iODQsLW9Sux5RrEnSmIDFe0cnO8RtR1/MkYVjKCqsr6hsgSYi2JrZqXkWZvdzaeVhdGyp64rPf/FBLqyscvriGc6dG9EfOFY3xsRxShR3MCajcJZ77n0h9zz/JRw6dIRWq0WapoxHY6I4bnpjlgWj0ZCFuQVe8qJXs7Cwv5nuA4AiSVLiOKHVaqOURhuDUhDFzWlxCHhvUSpgbY13Hq0nE3xCYGpqCq0UWiv6g37zGNoQRzFplhAmPS+TOMIYhdY0h320RnG5/VFdV7i6merThE4hhBBCiGcgWHqvKa1jmPfojfsUvkYnbbQxoAztqTmSOCH4nMqNqHyFiVoE7TEmEJkZ8rwgaI8NNSUV47xmnA/odjMWF7tMzaRYcpLUsDk+T+U97dYMSZSwunoaRU6aBlQwKN+htopxbhnnQ0q3TlWtsD44TZbOY1RMpDzrvUuU1rA5WmFl/SItcyPz3Tn2zi9yw9FDHDsyy5GDcyzMt+m2U2weuLSySm9Y0U6niU1GmRfUdTNje2tizfr6Ot43h2vKqqY/HPD5L36OqrTcfP3tHNh7iCRSxIkhTVso1eyzjOMYa5vJN2VZUFUlcdy0IGpmejenwZ1tgqYxmiiKMUZT1RVRZFCA1gYfXLOEbqvmRPqkCbr3Hq0NURThvEVrhXNuciAqAgV13Uz4EUIIIYS46sGyP6hRSUYr20NMi/WVDUKI0KHNcOzY6K1xdvkEvbxHYXPWBxtYG/ABxoXi7KXHydotslZCO52m2+4y1W4z6lnwbYajAlsqqtyxsnYBypjEBxKb4ccxjpJO2zCTLdBiFl8EqqElClDXm5TFmP5og72zt2NMF0JNlmXMz3WZ6nRBVSzMT3Nw8Tra0RT7FvZwx63XEceaTjrN0QNHmZ+b5fChfRzbfzOL0/uZ7iwwrs5ThyGdTnvSf7Jpan7s2DHSNMV7z/TMNHsW93LP8+/l8MEjoBRRbPBek6VTdDtTZFkHYyKAZtQjajJBR6FUII4jvGt6UcZJDKoJmkoFnKtAQZrGaKUmp8EV3nlsXVNVFSFAbR1aR5OKpibPc4yJ8AG886gAZVGglN5urC6EEEIIcdUP73zpyQ+ijWM8tOChle1F6RFZkuL8iL3zC0TK0EmnKcc9Iq3opBHBp8RKo1WMUgWbvVVadNnsrZDnPYKLOLDnKNq3aGcLRG6Rm/e/hKnuPrrdLu24g9GKLGkxEx+gpbporVBJzfTUDLUbEycJLniSdBYdEi6tHMfVNd3O/GQ0ImRpiyyNKcoRWZIw3V2kKgbgNc4pprt7WO9v4NGsbyxh4oKgLKlJUSHjyN7nTfYpekLwOOexzmK0Rk/GJ47zEf1+nzRtszC/SBKnPP+uF/K8O17Aof0HGY6HZGkL7z1KKZTSKK2b/pMK+psbkxPf0aSfpYHgUcrjfU3wljRLm6VsY9AmbnpfKqiqEgho1VQnm4k7EXGcUVUVRVFQFmUzblIbjh45wnPuvHvnyyyEEEKIa9BVr1i2swRrS5LMMzM3i3cFwcXEkWEmnSUfWQwB7wNBRxxYvJHMHKa30UPRIsJTlRXtZJEqNNN2tM44sOcQQXmCMgw21rHFkLreZK1/itoO2RicQGNoxdM4Z6ioGbsRVR1wXkGUMswrjGnjraU3epLpzhR7Fm5gbX0TzRTaZNSVI02mwUSkaYfaDRiXJe30MHEyxzDvcXDvUbqtLu0sY6a9SF1HXFrZpAojimqI9w4UGBNRliXWWoajEWVVEZjsadSKPB9j68Dz73whNxy9sRn52J3hRXffy6vu/RZe9eJXcHT/YVppRvCeOIqpq4osy5q9kFWO9zXaeJRyzfK4cphIT6btRM1BH63QxhCCw+imvZGejHAMIVDXFVVV4J0jTZtT5QGPk6k7QgghhLjCVQ+WK5vrrI8uMRhvcvzUExR2nVgFgqup/YjReInSFvhQEeoIlGdmYZG0G2GyESrR5NaBMSTZLGm2SBxP44xmfTBgc7xBa6ZF3T7P8c1Pc7H3BKeWjnOpl3Nu/SwFgb5fYeTWMAranRYWh3cGY1KKKlBXgSiZoXI5o/IiSarRyqO8ReM5t3yCfDRiXFoG4x6j0rK0donaljhnGQwvMBydpd2Omn2MWIrKsdHfYLl3pjlk45qpN0mSMBqNcd4TFGRpSitrMTs9x8LCAlpp0jQliqIm5FlPWddkaca+hf18y0u/hTe9/nu49/kvZLo7TVEWZO2MdifF+QLnSnobq4xHfQb9TaqiaqbtoEnTNnGUNGMhjaGua6IoghCwdXOYSStFCJ66bloSbe3hbA76+KYfkRBCCCHEMxEsvYuhzBhs1GRxl7mpKbqZZarboTfaxDBFO+3gqyGzXc3KximG5Sm0HlFUI/Jqg0DFoNhkUGygYktNTdJqc/LiCTbGF8ndCG9nGPY7rK+XrKxvkHYDaReqcJ6RXWVttIE3CmvB6IxItcjUPImaoTcc4b0mjheI1ALatKl9TVVX5FVFsClR6DDcCKwvezaGY5Y3l9kYrLI+uMDa5hq1NTjnuLB+kWHZp91RmFixMThFbS0hBJSGoiya6qVWOFs3+yqjqBmbWFtC8JPT4BFZlgGeOE4IoelfaYyBALdcfwuv/dZv5+477sTbGmdrkjjF1jVKNyfBI6NJshilwDpLWRZ4AsZERMZQVc2p9BCa2eDN+aImOGqt8c4RnEerpp9lCAHr5PCOEEIIIRpXPViePf0Uxx+9wOqFHrNTXVrpPKNCMRxXKJegE89c9zoO7LmOhcU5uu0OFy89TrfVoa7GrK+vgnd0shk2+z16ox5RpCmKTVrGcnDfHhKdcmDxJhbn2xw81OboYU0cVbSyFpu9DVwFtoR2vJe2WqSlp2lnLeIU0sQTxwXO52hgNMrpD0Y4l6B0Ql5agjVMzWQsLCzQaSUksaXVSqhsDyhxzlOOamqbMz2VkbUV3emEmekOg/I0ZTXGOQsolALvLMY04ydRUFYVJ06f4CsP3s9jTzzIVx78Ipu9TS4tX2JtY71pcg5Y73CuaSUUQkBrw43X38ixI8dQSuODawJlFBECjMfjyWjvZvoOKky2Eqhmqk5dN/0qTRMiAaq6mRGuFPjQ7Aet6grnLWUxbsKwEEIIIcQzESzn5+eZnY3pdmbBwcraJeYXDnNh7TymNU3lujx6+vM8ceYpzpztsblRsLwcc+mSo7+haUeHmOvcyFR7ijgZc8vRW2jFjtr1ue6m/bQSjdIbDPOzLM4cwJdg6w44R6gr0iQjTbrMdWYZDAcsL19kXGyyvnGB/mCD2o2Zbs/jcnBujDIlSVKRJBp0hHMVhRswGI1Z33yMob2ErfrMdGZYnFpgvruPqQ6k7ZzS1pioII6h9f9v7+5Bo9rTOI5/z/9/XuYlmczk7RKNL9ebhV3ubTY2NtuLjWghiIVYaG9hLVha2IoEsUhhGStBBEUCgRW7xUIWsiR3E27eTCbzcmbO6xYne2EHvbcJLtz5fcrh+cOBaX78z3meJ/DI85g4P+Tn7X+QZglxVAS5SrVKFCf4QYBjDK7n0QnbbO9u0+q2Wfv3Gu1Oh6mpaU58d6K40bSGHLBHW3dGR2s0Dw+pjzU49/0PVEeqZGlaDIDPi9AaBEHRmGMtaZIVoTRNCLsdkjTC9SyeZ4/GGOUkcUSe50RRRBRFpEmEMeB7ljyN6fba9Prh4F8sIiIiQ+rbB8v6BI1GA5Mbeu0evlth76BJlmSQWTrtJhNjc/z4w9/wAx8/aHDiu5OM1ep4JmFqCg47W2ztbBB2erT766R5E98mtJtt9j/vsX/QYWt7m2bzkJwRRqtnCIIZ9totrHGxJqfZ3aUT7VFrNOh0Qgw+nu+Ck5Jkh9TrDdJsj4wOxs0JvFGMzZkYr1Epl2l1djh58izfz/zEuZPnqNd8xmrjRGlOP7aUyxME5RQHn4ODJgcHIWPBDFVvls29fxKnxU5ucuj1+xjjUilXyPOMJImZHJ/i1OwZ/vynHzkzewZrHUqeT+D7WGPJgJLn47kuvu/TC0Mmx8cpl0p0u22ifkQQlAjKJcJ+F2McytUq1rUYx2Bdi+taypUAxzhYp1jhGMfFbEzHAc8rmoGyLIG82CXeC9tEUZck7WMNRSOSiIiIyP8jWPqlBExCZSImMTA9OcvOL5sEdpSNtXVmp6cxTkSUdKhV6wSeR573aIzXqIzUqZRmGPEmcNKAmam/0Av7uG6NMHRx3DpuEFAZsVTrfXBa1KqGuNfBYJisTxKlKb1eyPRkDbec0OyvkdCk3f3MiFthrDQB+KR5nyAYJUtzetFn1n55Rz/epBe38LyMxkiF5uEOnhljevQnrLH8vLWK4/jEEWxu7DBd/Stle5rp0Tn6LYco6tJqb+DQohVu4xgDxhAEJay1xElMq9UmSYrGmXKpTKVcxrWWsVoNYy2+7+N5xYB01/Ow1v46S7IX9lj91yorf1+h1WrR7/eL5+91cZycdqt5NAMzx5hii44xRXOQ4xRjiYrvOHPStBhl5LqGPCu+9cyyhH4/JAy7uK57tIZScyxFRESk8M13hYuIiIjIH9M3v7EUERERkT8mBUsRERERORYKliIiIiJyLBQsRURERORYKFiKiIiIyLEY6mCZJAnv3r3jxYsX7O/v//p7lmUsLS2xsrLyP/UiIiIi8nVDHSwdx2FjY4Pbt2/z7NkzOAqVr1694s6dO+zu7g4eEREREZGvGPo5lnEcc+PGDZaXl1leXiYIAq5du8b58+d5+PAhlUpl8IiIiIiIfMHQB0uAjx8/cvXqVS5cuIDnebx584b3798zOTk5WCoiIiIiX6FgCaRpysLCAvfu3cP3fR49esTNmzcHy0RERETkNyhYHmm1Wpw9e5aJiQlevnzJ3NzcYImIiIiI/Iahbt75rziOefz4Mb7vs7W1xZMnTwZLREREROR36MYS+PDhA9evX+fu3bt8+vSJxcVFXr9+zfz8PI7jDJaLiIiIyBcMfbAMw5ArV65grWVpaYnNzU0uX77MqVOnWFxcpNFoDB4RERERkS8Y6lfhSZKwsLDA+vo69+/fx/d9Tp8+zYMHD3j79i2Li4uDR0RERETkK4Y6WK6trfH06VNu3brF/Pw8AMYYLl68yKVLl3j+/Dmrq6uDx0RERETkC4b+VbiIiIiIHI+hvrEUERERkeOjYCkiIiIix0LBUkRERESOhYKliIiIiBwLBUsRERERORb/AVfkxa3L8kDBAAAAAElFTkSuQmCC)"
      ],
      "metadata": {
        "id": "gHLoAykBUGb8"
      }
    },
    {
      "cell_type": "markdown",
      "source": [
        "3. Many-to-one architectire:<br>\n",
        "A many-to-one architecture, as the name suggests, takes a sequence of input\n",
        "and maps it to a single output value."
      ],
      "metadata": {
        "id": "T2cgXWhRUOlh"
      }
    },
    {
      "cell_type": "markdown",
      "source": [
        "![image.png](data:image/png;base64,iVBORw0KGgoAAAANSUhEUgAAAeYAAAHvCAYAAACBnHwHAAAAAXNSR0IArs4c6QAAAARnQU1BAACxjwv8YQUAAAAJcEhZcwAADsMAAA7DAcdvqGQAAIONSURBVHhe7d13WBTX+zbwe+ko2BAQpKkoqIAKWGPD3iuWGDWWGGsSNWqsscTeotGvJbHX2Lsm9t4LqCjY6F16WZbdnef941V+2dEYWBYY4flcF1cuz3NmIbs7c085c0ZGRATGGGOMSYKeuIExxhhjRYeDmTHGGJMQDmbGGGNMQjiYGWOMMQnhYGaMMcYkhIOZMcYYkxAOZsYYY0xCOJgZY4wxCZHxBCOMMcakQKVS4fLlywgPD9doNzc3R+PGjVG5cmWN9vx6+fIl7t27h379+kFfX19cznH58mUIgoBWrVqJSwWCg5kxxpgkZGZmom/fvvD394eHhwdkMhkAICoqCgqFAnPmzEGfPn3Ei2lt27ZtmDhxIqKjo2FsbIzExEQ8evQIXl5eKFeuXE6/L7/8EgqFAocPH9ZYvqBwMDPGGJOE98FsaWmJzZs3Q0/v/19tjYqKwqpVq7Bjxw7cvHkTVatWFS+qlZiYGLx+/RqNGzeGnp4erl+/ji+//BKHDh1CgwYNcvo9e/YMgiDAzc1NY/mCwteYGWOMSZqtrS1+/PFHlCtXDteuXctpT09PR1hYGIKDgxEXFwe1Wq2xHABkZGTk9ImPj9foU7p0adjZ2UEmkyEsLAzR0dFQqVSIiopCcHAw0tLSAAAVK1aEpaUlsrKyEBoaCoVC8Y/fAAiCgJiYGCQmJua0paamIjQ0FMHBwXj79i0EQdBY5lM4mBljjEmeiYkJypcvj7CwMBAR/Pz88OWXX8LT0xPu7u5o3rw5Vq9enROaRITnz59j4MCB8PT0hJubG1q0aIFt27ZBqVQCAA4dOoR69eohOzsbbdu2xeDBgxEbG4sBAwbAw8MDx44dAwD88MMPGD16NIKDg9GsWTOcOXNG429LSEhAjx49sHfvXgDAtWvX0Lt3b9SrVw8eHh5o27YtNm/enOtw5mBmjDEmeWlpaQgLC4ODgwNCQkLg6+sLS0tLPHnyBMnJyVi6dCnmz5+PJUuWQK1WIzk5GWPHjoW+vj4CAwORkJCAYcOGYdq0aTh//rz45REUFIRz586hcuXKuHz5MtLS0jBw4ECNPk5OTvDy8sKhQ4c02p8/f46YmBh07NgRISEh6NatG5o0aYI3b94gISEBc+fOxcKFC3Hw4EHk5uoxBzNjjDFJe/LkCaZNmwYzMzN07doVGzZsQMWKFbF06VLY2NjAwMAAXbt2xeLFi7FlyxZER0cjNjYWb968QZ8+fVCxYkWYmJjg+++/x8yZM2FtbS3+FbliYmKCrl274vTp00hPT89pP378ODw9PWFvb49ly5ahadOm+Omnn1CuXDkYGRmha9euGD9+PJYtW4bs7GyN1/wYDmbGGGOScuDAAVSpUgWOjo5wdHRE9+7dkZSUhD///BMVKlTA7du34enpCQsLi5xlZDIZWrVqhYSEBAQGBqJs2bIoX748Fi9ejDNnziA6OhqGhob4/vvv4enpqfH7cksmk6Fjx46QyWS4cuUK8O409rVr19CrVy8olUrcu3cP5ubmOHHiBPbv34/9+/fjwIEDSE5OxqNHj5CUlCR+2Q9wMDPGGJMUHx8fHDhwAAcPHsTBgwdx4sQJ7N27F/Xq1QPeDawqX758zu1U71lYWEBPTw/x8fGwtrbG0qVLYWZmhuHDh6NFixbo2rUrNm/erDFIK6/Kly+PFi1a4NChQ1AqlfDz84NCoUDTpk2hVquRmJiIBw8eYMOGDVi/fn3Oz+XLl9GsWTNkZmaKX/IDHMyMMcYkpWLFivD29kb9+vVRv3591K5dG+bm5jn1smXLIiEh4YPBVHFxcRAEAdbW1tDT00Pbtm1x/PhxHDx4ED/++CNMTU0xefJkTJ48OWcAWF6ZmJigZ8+euHDhAlJTU/H333+jXr16cHBwgL6+PipWrIjhw4fj4sWLuHTp0gc/ubnVi4OZMcbYZ6Vp06a4e/cuYmJictqICH///TesrKzg6uqKwMBAzJo1C8nJyWjSpAlGjhyJAwcO4Pvvv8fly5cRFRWl8ZrvqdXq/7wO3LFjR7x9+xZnz57FuXPn0LNnT+jp6cHIyAiNGzfGxYsXkZGRkdOfiHDr1i3MnTsXKpVK47U+hoOZMcbYZ2XMmDHIzMzElClTEBERgezsbBw8eBCzZ8/GqFGjYG1tDUNDQ+zZswfffPMNXr58CUEQ8ObNG1y/fh2urq4fHQBWpkwZyGQy/P333xAEAUT00VHUFSpUQIcOHTB37lwYGxvD29sbAGBgYICJEyfi3r17mDNnDt6+fQulUonz589j8ODBkMvlH5x+/xgOZsYYY58VW1tbHDt2DFlZWXB1dYWxsTFmzpyJ5cuXY8KECdDX10e1atVw9OhRWFhYwNvbG/r6+mjYsCHs7e2xbt06mJiYiF8WtWvXxrx587B582bo6+tj0KBBH520RCaToXfv3jmzhtna2ubU7O3tce7cOTx9+hSVK1eGkZERJk6ciOHDh2Px4sWfnJP7PZ6SkzHGmCQQEVJTU6GnpwczM7P/PLrMyspCRkYGBEGAsbExzM3NP1hGoVAgIyMDarUaBgYGKF26NIyMjDSWr1ChQs5ygiAgNTUVSqUSJiYmMDMzy5kBrEyZMjmvm52djdTUVJQuXRqmpqY57e/J5XJkZmZCEASYmJigVKlSuQplcDAzxhhj0sKnshljjDEJ4WBmjDHGJISDmTHGGJMQDmbGGGNMQjiYGWOMMQnhYGaMMcYkhIOZMcYYkxAOZsYYY0xCeIIRxhhjJQIRQalUQqlU5syBLZPJYGhoCENDww9mDSsqHMyMMcaKpffx9vbtW1y8eBGPHj1CeHg4oqKicp4gpa+vj0qVKsHe3h4uLi5o3rw5atSoAZlMVmRBzcHMGGOs2Hnz5g0OHjyIw4cPw8/PD56ennB3d4eLiwsqV66MChUqAO/mtI6IiMCrV6/w9OlTPHz4EGZmZujVqxcGDhyIunXrQk+vcK/6cjAzxhgrNgICArBx40YcPXoU7u7u6N27N9q3b49y5crBxMTkXx8kIQgCFAoF0tLScPPmTezfvx/Xr1+Hp6cnxo8fjy+++AKGhobixQoEBzNjjLHPXkpKCtatW4etW7fCzc0NY8eORYMGDWBubi7umisKhQKvX7/G2rVrcf78ebRp0waTJ09GlSpVxF11joOZMcbYZ4uI8OLFC0yePBmhoaGYM2cO2rdvj1KlSom7akWlUuH27dtYuHAh3r59i/nz56NNmzYFenq74F6ZMcYYK0CCIODatWvo168fjIyMcOrUKfTo0UNnoQwABgYGaNq0KXbt2oWOHTvi22+/xY4dO6BSqcRddUZ/zpw5c8SNjDHGmJQREa5evYoRI0aga9euWLVqFSwsLApsJLWpqSmaNWuGSpUq4ccff0SZMmVQr169Ajly5lPZjDHGPjv3799H3759MXjwYMyaNetfB3XpGhHh0qVL6N27N/744w/06tVL5+HMwcwYY+yzEhUVhc6dO8PHxweLFy+GkZGRuEuBIiLs2rUL06ZNw549e9C8eXNxl3zhYGaMMfbZUKvVGDp0KJKTk7FlyxZUrFhR3KVQqNVqTJ06FTdv3sTBgwdhY2Mj7qI13R5/M8YYYwWEiHDixAncvHkT8+fPL7JQxrsZw6ZNmwYDAwOsWbMGarVa3EVrHMyMMcY+C+np6Zg9ezbGjh2L2rVri8uFrkKFCpgxYwaOHTuGJ0+eiMta42BmjDEmeUSEo0ePIiMjA0OHDi20wV7/pWXLlvD09MTmzZshCIK4rBUOZsYYY5KXlpaGTZs24fvvv0fZsmXF5SJjZGSEESNG4NSpU3j16pW4rBUOZsYYY5L3/iETAwcOLLB7lbXl5eUFFxcXnDhxQlzSCgczY4wxyTt69Chat26d81QobZw6dQru7u7w8/PTaI+OjoaHhweuXr2q0Z5bpUuXRocOHXDo0CFxSSsczIwxxiQtLS0Nd+/eRbt27cSlPPHy8kJ2djbOnj2r0X727FmYm5ujVq1aGu150bZtW7x58waxsbHiUp5xMDPGGJO0+Ph4REVFoV69euJSnlSqVAmtW7fG0aNHkZ6entN+7NgxtGrVChYWFhr988LKygpOTk54+PChuJRnHMyMMcYkLTExEWlpaahZs6a4lGfdu3dHeHg4Hj16BLw7jX3r1i306tUrX9euy5QpA0dHRwQGBopLecbBzBhjTNLCwsJQsWJFnTw1qkGDBrCyssJff/0FIsLx48fh6uoKZ2dncdc8MTIygr29PcLDw5HfCTU5mBljjElaUlKSzm6RKl++PLp27YqjR48iOTkZhw4dQq9evWBubi7ummcWFhZIS0sTN+cZBzNjjDFJi4+Ph4ODg7hZa127dkVaWhqOHDmCe/fuoXfv3uIuRYqDmTHGmKQZGRkhKytL3Kw1FxcX1K5dG1OnTkXz5s1hZWUl7lKkOJgZY4xJmo2NDaKjo8XNWjMzM0O3bt2QmJiIPn366Gx6T6VSqZNnM+f/FRhjjLECZGFhgaioKJ3NRQ0A1apVQ9myZdGxY8d8jcZ+TxAERERE6OTxjxzMjDHGJM3W1hYqlQrx8fHiklbS0tKwf/9+9OzZM1/3Lv9TZmYmIiMj4eDgkO+g52BmjDEmaRYWFqhYseIHU2nm1b179/Djjz9iwIABuHbtGqZOnSruorWUlBS8evUKHh4e4lKecTAzxhiTNAsLCzg5OeHGjRviUp7o6enB0NAQTZo0wcWLF/N97/I/BQYGIiMjQyfPiZZRfu+EZowxxgrYq1ev0KxZM5w/f14n4adLcXFx6N69O8aMGYNBgwaJy3nGR8yMMcYkz87ODk2bNsWmTZugVqvF5SJ17do1pKSkoEOHDuKSVjiYGWOMSZ6JiQnGjx+PLVu2ICoqSlwuMqmpqVi7di369+8PS0tLcVkrHMyMMcY+Cw0bNkTbtm0xd+5cKBQKcblI7N69G0lJSfjmm2/EJa1xMDPGGPss6OvrY968eTh9+jT+/vtvcbnQPX/+HCtWrMCECRN0cv/yezz4izHG2Gdl5cqV2L17N7Zt2wZ3d3dxuVCkpaWhT58+sLa2xtq1a3XyEIz3OJgZY4x9VjIyMjB8+HCkpaXh999/R+XKlcVdCpRCocCUKVNw+/Zt7NmzB9WqVRN3yRc+lc0YY+yzUrp0aaxcuRIKhQLjxo1DbGysuEuBkcvlWLlyJQ4fPoz169frPJTBR8yMMcY+V2FhYRg0aBCMjIywZcsW2Nvbi7voDBEhPT0d8+fPx7Zt23D06FE0atQo39NvfgwfMTPGGPssOTg4YP/+/ShfvjyaN2+OS5cu6fRBF/8UFBSEXr164e+//8bFixfRuHHjAgllcDAzxhj7nFlbW2Pr1q0YN24c+vbtiwkTJiA0NFTcTWvJyclYsWIFOnbsCAcHB5w6darAZx7jU9mMMcY+e2q1Gnfu3MEvv/yCiIgI9O3bF71794aLi0uen7dMRIiNjcWJEyewZs0amJmZYcKECejSpQtMTU3F3XWOg5kxxlixkZqaiosXL2Ljxo2IjIxEzZo10bNnT3h4eMDS0hIVKlT4IKgFQUBycjLi4+Px8uVLnD9/HleuXIGBgQGGDh2K7t27w9bWtsBOXYtxMDPGGCt2MjMz8fDhQ5w7dw5Hjx4FEaFcuXIoV64crK2tUaZMGQCAUqlEaGgoUlJSkJSUBKVSiebNm6Njx45o1qwZypcvX2iB/B4HM2OMsWJNpVLh5cuXePnyJaKjoxEREYHs7OycepUqVWBtbQ0nJyfUqFEDpUuX1li+sHEwM8YYYxLCo7IZY4wxCeFgZowxxiSEg5kxxhiTEA5mxhhjTEI4mBljjDEJ4WBmjDHGJISDmTHGGJMQDmbGGGNMQjiYGWOMMQnhYGaMMcYkhIOZMcYYkxAOZsYYYyVKdnY2MjMzxc2SwcHMGGOsRLlw4QJ++ukncbNk8NOlGGOMlRgJCQno2bMn/P39ceTIEbRq1UrcpcjxETNjjLESY//+/bh9+zZSU1OxcOFCjecySwUHM2OMsRIhJCQEq1evhlKpBABcuXIF+/btg9ROHHMwM8YYK/YEQcC6devw8uXLnDaVSoX58+cjNTVVo29R42BmjDFW7D179gybNm2CIAga7S9evMD69euhVqs12osSD/5ijDFW7HXr1g0nTpwQNwMArKyscOPGDTg7O4tLRYKPmBljjBVrf/31F06ePCluzhEXF4eFCxdCoVCIS0WCg5kxxlixlZqailmzZv3nAK/9+/fj+vXr4uYiwaeyGWOMFVs3b97E7NmzNYI5JiYGUVFR8PT01OjbokULTJ06FYaGhhrthY2DmTHGWImyd+9ebN68GefPnxeXJIFPZTPGGGMSwsHMGGOMSQgHM2OMMSYhHMyMMcaYhHAwM8YYYxLCwcwYY4xJCAczY4wxJiEczIwxxpiEcDAzxhhjEsLBzBhjjEkIBzNjjDEmIRzMjDHGmIRwMDPGGGMSwsHMGGOMSQgHM2OMMSYhHMyMMcaYhHAwM8YYYxLCwcwYY4xJCAczY4wxJiEczIwxxpiEcDAzxhhjEsLBzBhjjEkIBzNjjDEmIRzMjDHGmIRwMDPGGGMSwsHMGGOMSQgHM2OMMSYhHMyMMcaYhHAwM8YYYxLCwcwYY4xJCAczY4wxJiEczIwxxpiEcDAzxhhjEsLBzBhjjEkIBzNjjDEmIRzMjDHGmIRwMDPGGGMSwsHMGGOMSQgHM2OMMSYhHMyMMcaYhHAwM8YYYxLCwcwYY4xJCAczY4wxJiEczIwxxpiEcDAzxhhjEsLBzBhjjEkIBzNjjDEmIRzMjDHGmIRwMDPGGGMSwsHMGGOMSQgHM2OMMSYhHMyMMcaYhHAwM8YYYxLCwcwYY4xJCAczY4wxJiEczIwxxpiEcDAzxhhjEsLBzBhjjEkIBzNjjDEmIRzMjDHGmIRwMDPGGGMSwsHMGGOMSQgHM2OMMSYhHMyMMcaYhHAwM8YYYxLCwcwYY4xJCAczY4wxJiEczIwxxpiEcDAzxhhjEsLBzBhjjEkIBzNjjDEmIRzMjDHGmIRwMDPGGGMSwsHMGGOMSQgHM2OMMSYhHMyMMcaYhHAwM8YYYxLCwcwYY4xJCAczY4wxJiEczIwxxpiEcDAzxhhjEsLBzBhjjEkIBzNjjDEmIRzMjDHGmIRwMDPGGGMSwsHMGGOMSQgHM2OMMSYhHMyMMcaYhHAwM8YYYxLCwcwYY4xJCAczY4wxJiEczIwxxpiEcDAzxhhjEsLBzBhjjEkIBzNjjDEmIRzMjDHGmIRwMDPGGGMSwsHMGGOMSYiMiEjc+DkRBAGxsbEIDw9HYmIi3r59C0EQoK+vj/Lly6NChQqws7ODjY0N9PX1xYszHcrIyEBoaCiio6ORkpKC9PR0AECZMmVQpkwZ2NjYwN7eHmZmZuJFmQ6p1WpERkYiMjISqampiI+PhyAIMDAwgIWFBcqVKwc7OzvY2tpCJpOJF2c6lJqaitDQUMTFxWmsE+XLl4eZmRlsbGzg6OgIU1NT8aJMh1QqFSIiIhAZGYnk5GScOXMGly5dwowZM2BhYQELCws4OjrCwsICenpFf7z6WQZzWloa7t+/j0uXLuHSpUtISUmBqakpSpUqBT09PRgZGUGtViM7OxtZWVmQy+UwMzNDixYt0L59e9SpUwflypUTvyzLI5VKheDgYNy9exfHjx9HQEAAjI2NYWJiAkNDQ5iamoKIkJ2djezsbCgUCmRnZ8PDwwNt27ZF48aNUb16dfHLMi0kJibC398fFy5cwNWrV5GYmAgzMzOUKlUKBgYG0NfXh0qlglKphEKhQGpqKipVqoRWrVqhZcuWqFOnDu8w6YBarcbLly9x9epVnD9/HoGBgTA2NoapqSkMDAxgbGwMAMjKykJ2djbkcjlUKhU8PDzQq1cveHl5wd7eXhLh8LmLj4/Ho0ePcPbsWVy7dg1ZWVkoVaoUjI2NYWxsDD09PSgUCuBdpmRlZcHKygqtW7dGixYtUK9ePZQqVUr8soXiswlmIkJsbCxOnDiB3bt3Iy4uDq6urujSpQvc3NxQsWJFlC9fPueNVyqVSE9PR3JyMuLj4/Hs2TOcPn0az549Q/ny5TFgwAD07NkTlSpVEv8q9h+ysrJw//59bN++Hffu3YORkRFat26N1q1bw9bWFhUqVECpUqVQpkwZEBHS09ORkZGBpKQkhIaG4urVq7h48SLkcjkaNWqEESNGwMPDA0ZGRuJfxT5BEARERUXh0KFD2LdvH9LT0+Hu7o5WrVrB3d0d1tbWKFOmDMzNzWFgYIDs7Gykp6cjNTUVMTExePjwIS5cuICXL1/C0tISgwYNQseOHWFtbS3+Vew/yOVy3L9/H5s2bYKfnx/Mzc3Rrl07fPHFF6hcuXLOOvF+5yclJQUZGRlISEjAmzdvcO3aNVy6dAlEhGbNmmHw4MFwd3fndUIL4eHh+PPPP3H48GFkZmbC3d0dHTt2hKurKywtLWFubp6zTrw/cEtISMgJ8lOnTiEkJAS2trYYMmQIOnTogAoVKhTu2SX6DGRkZNCePXuoUaNGVKtWLfrtt9/o1atXpFarxV3/06tXr2jNmjXk7e1NDRs2pO3bt1N6erq4G/sItVpNz549o+HDh5OTkxMNHTqULl26pNX7l56eTpcuXaIBAwaQk5MTjRo1il68eKHVZ1oSpaSk0Pbt26lOnTrk5eVFGzdupJCQkDy/fyqVioKCgmjlypXk4eFBDRo0oCNHjlBGRoa4K/sIlUpF/v7+NHDgQKpatSp98803dP36dcrKyhJ3/U8pKSl08uRJ8vX1pWrVqtGECRPo9evXJAiCuCsTEQSBUlJS6H//+x/VqVOHvvjiC9q8eTOFhYWJu/4npVJJAQEBtHTpUqpWrRo1b96cTp48qdVnqi1JB7MgCBQcHJyz8V65ciUlJiaKu2klLS2N/ve//5GTkxN17tyZQkJCeAX4BIVCQTt37qTKlStTjx496MGDB3kOgX9z//596tSpEzk7O9P27dtJpVKJu7B3BEGgoKAg6tKlCzk6OtKGDRtILpeLu2klOTmZfv31V7KysqKBAwdSVFQUrxP/QhAEUiqVtHr1arK3t6fBgwdTQECAuJtWVCoVXblyhVq3bk01atSgQ4cO8TrxCYIg0OPHj6l169bk7OxMO3fu1Nk6ER8fT3PmzKHKlSvTmDFjKDo6ulDWCckGsyAIdOXKFXJwcKBevXpRSEiIuItOREdH05dffkk2Njb0999/6yxsipOUlBQaOXIkWVpa0v79+wtkI6FUKmn79u3k5OREI0eO1OoovCQ4efIk2dvb04ABAygqKkpc1ong4GDq0KED1ahRg65duyYuMyJKSkqinj17krOzMx0/frxA1omsrCzauHEjlS9fnqZOnUoKhULcpcRTqVS0Z88eqlSpEn3zzTeUkpIi7qITAQEB1KpVK6pXrx49ePBAXNY5SQazSqWiI0eOkIWFBS1YsKBAN9KCIJBCoaDly5eTjY0N/fnnnxzO/xAeHk4dO3akBg0aUFBQUIHuLarVanr8+DE1bNiQunXrRm/fvhV3KdHWrl1LlStXptWrV+vsiODfZGRk0KxZs8jR0ZH27NkjLpdor1+/ptatW1PLli0L/EybWq2m+/fvk4uLC/Xv35/XiX9QqVT022+/kYODA23atImUSqW4i04lJSXRxIkTyd7ens6dOycu65TkglmtVtOhQ4fI1taWtmzZUmjn9ZVKJW3cuJGqVq1Ku3fv5nAmopiYGOrQoQN17dpVq2s12hAEgV6/fk2NGjWiPn366OzSxedMEAT6448/yMnJiQ4fPkzZ2dniLgUiKyuL1q1bR87OznTkyBFxuUQKDw+n1q1bU4cOHSguLq5AQ/k9QRDo1atX1KRJExowYAAlJSWJu5Q470PZ2dmZDhw4UCBnLD4mIyODli5dSpUrV6arV68W2OcvuWC+evUqVa9endasWVPo4ZidnU3r1q0jV1fXAt8jkrqMjAwaOHAgtWnTptBC+b33Ywu8vLxo5MiRJXogklqtpvPnz5OdnR3t2LGj0DZA72VnZ9Py5cupRo0adPv27QLbEH0OEhMTydfXl9q1a0cxMTHicoF78eIFeXl50cSJEwv8jInU7d+/n5ydnWnfvn0FfqQslpWVRb/88gtVr15dZ+MKxCQVzKGhodS0aVP64YcfCu2oQCw7O5tmz55N3t7eFBoaKi6XGMuXL6e6deuSn5+fuFQoBEGgJ0+ekLOzM61du7bQA0kqQkJCqFatWvTLL78U2Xsgl8tp/PjxVK9evQK7hid1SqWSZs2aRfXr16dXr16Jy4Xm0qVL5OrqStu3bxeXSgTh3eDHqlWr0rp164psncjMzKT+/ftTp06dKD4+XlzON8kEs0qlovHjx1OrVq2K/FRNYmIidenShb799tsi++CLiiAI5O/vTzY2NpI4fblt2zZydnam+/fvi0vFnlwup2HDhlGHDh0K7ZLOv0lISKAmTZrQTz/9VGQ7zUXp/Pnz5OzsTGfPnhWXCt369evJxcWFXrx4IS4Ve3K5nDp16kSDBg2izMxMcblQxcTEkLu7Oy1ZskTnZ3clE8yXLl2iatWqSWYUqJ+fH1WuXLnEndJWKpXUsWNHGjVqVJGHAb37ewYOHEi+vr4lblTqmTNnyM7Ojp4/fy4uFYk7d+5QmTJl6OHDh+JSsSaXy+mLL76gKVOmSGJHPTU1lXr06EFDhgwRl4q9ffv2kY2NDUVGRopLReLo0aPk7OxM/v7+4lK+SCKYlUoltW/fnsaPHy+Za1hqtZp++eUXql+/viRWxsJy8uRJsrS0lMwXn97dquDq6kqnTp0Sl4qtxMRE8vHxoXnz5klmnRAEgcaMGUNffvllibrGuX37dvLw8KDw8HBxqcg8evSIbGxs6Pr16+JSsfX27Vtyc3Oj33//XVLrRN++fWno0KE6zQlJTMh67do1BAcHY8SIEYU77dkn6OnpYfjw4YiKisKVK1fE5WIpMzMTGzZswJgxYyQ1Vamrqys6d+6MtWvXQq1Wi8vF0pUrVxAfH49hw4ZJZp2QyWSYMGECrl27hkePHonLxZJKpcLKlSvx9ddfw9bWVlwuMrVr10aPHj2wYcMGCIIgLhdLx48fR3Z2NgYMGCCpdeK7777DrVu38PjxY3FZa5II5t27d6NFixaoUaOGuFSkLC0t0bdvX2zbti1nsvPi7OXLl7h16xaGDBkiqUn09fT0MHDgQAQHB8Pf319cLnZUKhW2b9+Ozp07o3LlyuJykapatSp8fHywc+fOErGTdOPGDaSlpaFPnz6SWicMDQ0xbNgwHD16FPHx8eJysZOWloZDhw5hyJAhKF26tLhcpBo0aIDq1avjyJEj4pLWivyblpKSglOnTmHw4MEwMDAQl4uUgYEBBgwYgL///hsJCQnicrFCRDh58iSaNWsGJycncflfERFCQkLw7NkziJ+HIpfL8eDBA53s1Li6usLV1RVnz54Vl4qdN2/e4PXr1+jevbu49ElJSUnw9/dHZmamRrsgCHj69KlONuB6enrw9fXF/fv3ERMTIy4XK2q1GkePHkXr1q3zdAZJrVbjwYMHiIuL02gnIoSHh+PVq1c6OcqtVasW6tWrh1OnTn2w7hU3b968wbNnz/K8TrzfPj1//vyD90hX2ycjIyP0798fx44dy3msZ34VeTDfuHEDlpaWcHV1FZckwdvbG+bm5rh//764VGRCQ0MREhKik5X7vbS0NFy5cgWdO3cWlz6JiHDkyBH4+PggLS1No3bq1Cn07dsXSqVSo10bJiYm6NKlC06ePCkuFanbt28jKytL3Jwvd+/eRbly5VCrVi1x6ZOCgoLQpUsXnD9/XqM9ODgYffr00dnZhkaNGiE9PR3Pnz8Xl4rM8+fPdb6joFQq8ddff6Fnz54wNDQUl/8VEWHIkCFYuHAhVCpVTrtSqcSYMWOwffv2D0JCGyYmJujYsSP++usvZGdni8tFIjExEY8fP9b533Pr1i3Y2dnleZ0gIhw6dAg+Pj4fhObJkyfRr18/nWyfGjRoAAA6W8eKNJgFQcCtW7fg5eWl1fORVSoVli5din379n3wRb9+/TqWLVuGjIwMjXZttGrVCleuXPngdxSVs2fPok2bNti8efMHR0faiouLQ0RERM4XLLf09PTQs2dPpKen5zy2DgCys7Nx6NAh+Pr66uw5v40bN0ZQUJCkzl507doVo0aNQlBQkM52lG7dugVvb2+ULVtWXPqkOnXqoHr16jh+/LjGd/XKlSuwsLCAt7e3Rn9tWVlZwcPDA3fu3BGXisyePXvQvHlz7NmzBwqFQifranR0NEJDQ9GoUSNx6ZMMDAzQv39/XLx4UeO7+vbtW1y6dAkDBw6Evr6+xjLa0NPTQ8uWLXH//n2dbQfyKyoqCr6+vhg/fjxCQ0N1sk4QEa5cuYJWrVqJS/9JT08PvXr1QlpaGi5fvlxg2yd7e3vY2dnBz89PXNJKkQfzkydP0KhRI61OYxsYGCAxMRGLFi1CcnKyRm3ZsmV4+/atTq5H1K9fH69evdL5kVF+vH79GiNHjkSLFi1w9erVfK8AoaGhyM7OzvMeKQBUqlQp57rj+z3liIgIPH36FF26dBF315qFhQXs7OwQEBAgLhWZrKwsbN++HQ0bNsTcuXORmJgo7pJn74M5r0xNTdGzZ0+cOXMGkZGROe2HDx9G+/bttdr5/Tfe3t6SOouEd2MkvvrqK3Tu3Bm3b9/O9zrh5+eHmjVrolSpUuLSf+revTuCg4Nx+/btnLaTJ0/C3d0dVatW1eibH97e3oiIiJDUzmp6ejrWr18PT09PLFq0CHK5XNwlT9LS0hAeHg5PT09xKVdsbGzQsmVL7NixI2f7FB4ejoCAAJ1tn4yNjeHt7a2zAWBFGsxqtRovXryAs7OzuJRr3bt3x9u3b3Hv3r2ctrCwMPj7+6NPnz4afbVVtWpVxMfHIzU1VVwqUkSE+/fvo23btvj666/x5MkTcZdce/XqFZydnbXaQTI2Nkb//v1x+fLlnOtqly5dQpkyZfJ8BP4pZmZmcHBwwMuXL8WlIpeSkoJffvkFjRo1wqZNm7TeiXv/0PaaNWuKS7nStm1bGBkZ4dKlSwCAFy9eICgoCD169BB3zRdXV1dERETk+/pcQbhw4QJatWqFb7/9Fi9evBCXcy0wMBC1a9fW6ui2Vq1aqF+/Pg4fPgyVSoX09HQcOXIEAwcO1God+zeGhoZwdXXFq1evxKUil5iYiFmzZqF+/frYv3+/1qe34+LioFarYW9vLy7lyj+3T2/fvgXebZ/Kli2r0+2Ts7Mznj17Jm7WSpEGsyAIiI+P1/oNx7vbBqpUqYKDBw/mtJ09exbOzs6oVq2aRl9t2draIjk5WTKni8Sys7Oxa9cutGvXDrNmzUJUVJS4y3+Kj4+HtbW1uDlXZDIZunXrBkEQcO7cOSgUChw8eBBdu3aFsbGxuLvWTE1NUbFiRcTGxopLkkBEePnyJcaOHYsuXbrg6tWreb5+lZCQgNKlS2t1lIZ3O5ENGzbEoUOHAAAnTpxA9erV8zSgLzfKly8PPT09ye2svpeVlYUtW7agTZs2WLRokVbfmaioKNjb22sVzHp6ehgwYADu3LmDsLAwBAcH49GjR+jUqZPOb/WxtrbW6v+vMBARAgICMGTIEPj6+uLatWsa191zIzk5GSqVChUrVhSXckUmk6F79+5QqVQ4e/ZszvapW7duMDIyEnfXmr29/QcD/rQlI11cjNFSZmYmSpcujZSUFJQpU0ZczrXly5dj/fr1uHPnDipWrIg2bdqgc+fOGD9+vE5WgvDwcLRt2xZz587N0+jMgnLy5EksX75c3Ay82yC4u7tj4sSJ6NGjR67f1zFjxqBChQqYP3++uJRrX331FdLT0zF9+nSMHj0aW7duRZ06dcTd8uXbb7+FIAgYNGiQuFQkOnbs+K+n6sqXL49+/frhu+++g6ura65ut3n27Bn69euHo0ePar1juXfvXnz33Xfw8/ND3759MWzYMHzzzTfibvly9+5djBw5EnPmzNHpKXJtbd68GTt37hQ3AwD09fXh4eGB2bNno02bNrm+vDV27FhYWlpizpw54lKuvHz5Em3atMHChQsRHh6Omzdv4vjx4+Ju+TZs2DCYmJigX79+4lKhCw4Oxo8//vivl3SsrKzw1VdfYcyYMbk+U3r37l189913OH78uNYHDwAwYMAAZGZmYurUqRgzZgy2bdsGDw8PcTetBQYGonHjxkhKShKX8kwSwZyWlpavC/ABAQHo3LkzVq5cCU9PT9SvXx/Xr1+Hi4uLuKtWwsPD4ePjA2NjY50MKsmv5ORkREdHi5tzGBgYwNPTE7t27UL16tXF5Y8aOXIk7O3tMXPmTHEp106cOIGxY8eic+fOiIyMxMGDB3W6R4p3wXz06FGt9551LTAw8JPfCSsrK0yfPh3fffddroL5/v37GDduHA4ePAg7OztxOVciIyPRunVrdOvWDXv27MGtW7fydVbqYx4/fozevXujVKlSeT4rUBDi4+NzTlN+jKGhIVq0aIEtW7bk+r3IbzCr1WoMGjQI8fHxUKlUGD58OAYOHCjulm+jRo3CuXPndHp2SlsKhQJhYWGfPCq2tbXF3Llzc72zqKtgPn78OMaNG4fOnTsjKioKBw4c0On26cWLF2jYsKFOghniqcAKU0ZGBunp6VF0dLS4lCfp6enUtWtX+vrrr2n16tXUvXt3nU5wHhISQq6urvT69WtxqUj8/vvvBOCDH5lMRra2trRkyZI8P1B9ypQp9N1334mb8yQtLY2cnZ3JxMSENm/eLC6TUqmk5OTkfE34PmLECJo/f764uciYmZl98DkAIGNjY+rWrRvdvn07T/+/758mFRQUJC7lmlKppNGjR5ORkRH169dPY85ztVpNycnJFBcXRykpKXn62/7p5s2b1KhRI4qLixOXisTMmTM/+AzerxOVK1emNWvW5PnJWGPGjKHZs2eLm/Pk0KFDZGpqSk5OThQREaFRS09Pp/j4eIqPj8/Xg0G6d+9Oq1atEjcXiSdPnpCNjc0HnwMAMjExof79+9ODBw/Ei33SnTt3qH79+vnOibS0NKpatSqZmJjQli1bxGUiIkpJSaHU1FRxc648ePCAKlSoIG7Wyn/vwhcgPT09nZyXL126NPr06YPDhw9j8+bN6NWrF0xNTcXdtBYfHw8TE5M83ctY2IyMjDB8+HBcv34dU6ZMgYWFhbjLJ1lYWPzr6afcMjMzQ+fOnWFtbY1mzZqJy9iyZQs6duyo9eednZ2N9PT0fJ1dKQw1atTA3r17cejQITRs2DBXR8rvGRkZISsrK19HoQYGBvD19UV2djb69u2rcSR1+vRpTJgwAVu3bsXYsWNx8eJFjWVzSy6XQ6lU5un/rbCVKlUKY8eOxZ07dzBu3LhcX9Z5z9zcHImJifka3d2gQQM4ODigRYsWGrO4BQYGYty4cVizZg0WL16M2bNna/2ZJyQk5Hl9L2yenp44ePAgdu7cmefR1aampiCiD+68ySszMzN06dIFlSpV+uj2KTY2Fl27dsX48ePFpVyJi4vT2ViOIl2r9PT0YG1trZPbX9q0aYOyZcsiNDT0gyHwoaGh2LhxI9atW4fQ0FCNWm5ERkaiXLlyub42Vdg6deqEGzduYOPGjahSpYq4nCvVq1fXyYQRMpkMTZs21bglRC6XY9iwYTh37hxMTEw0+udFZmYmYmJitD7FW9BsbW2xdOlS+Pn5oUePHlqNvq1UqRJkMlm+B/PIZDJUrFgRHTp0yGkLCwvDli1bsHr1akyZMgUrV67Exo0btbrVJioqCqVKlUKFChXEpSL3/t7627dv47ffftN6WlMnJycEBwfne+pRU1NT+Pr6arQFBgZi8uTJmDNnDpYsWZJzn602Xr16letLVoXN3t4eGzduxO3bt9GpUyet1ony5cvDwMBAJzPXvd8+fWw7uWrVKjRt2lTrbVRAQAAcHBzEzVop0mDW19dH3bp1dRLM5cuXh5eXFzp37qwxMUNISAhmzpyJhg0bokGDBpgwYQJCQkI0lv0vAQEBsLa2hrm5ubhUpNzc3LBr1y4cPHgQXl5e+Tp6qVq1KhISEvL15b9+/TpOnDiBoUOHaoxkVSgU6NWrF6ZNm5avazrp6ekICQmR3Jzq5ubmGDNmDK5fv46JEyfC1NRU60GHMpkMNWrUyNdEBeHh4Vi2bBm++eYbjY1M5cqVsW3btpzvsVwuh1wu1+qI0M/PD7Vr19b6/7OgeHt749ixY9i1axfc3d3z9ffVrl0b/v7+WgdzZmYmfv/9d5QvXx5ffPGFRq1Hjx6oVasWZDIZIiMjERMTk+tr3/8UFRWF9PR0ODo6iktFqnz58pgwYQJu3LiBESNGwNDQUOvPwtLSEiYmJnj9+rW4lCfXr1/HyZMnP9g+4d2ZJD09PbRr106rv/P9tLfu7u7ikla035LrgJ6eHjw8PPDgwYN8z9CVmJiI4OBg9O3bVyOgTpw4gY4dO6Ju3brw9vZG165dcfToUY1l/8v7CR+kcirb0tIS8+bNw19//YWvvvoqX0HwXsWKFWFlZaXVlHKzZ8+Gm5sbhg0bhq+//hpNmzbVqJcrVw5dunTRek/0vcDAQGRnZ0tq+tZOnTrh9OnTWLlyJapUqfLBCq+N5s2b48aNG3kOhEuXLsHNzQ2tW7eGoaEhJk2apLEu6Ovr55zOzcrKwqJFi9CxY8c8H/WqVCrcvHkTjRs3FpeKjK2tLRYtWoQzZ86gc+fOWt9u9k8eHh5ISkpCWFiYuPSf3NzcUK9ePZw9exZz5sxB+fLlxV0QGhqKmTNn4ueff4aFhYVWwXzz5k3Url1bMmfzjIyM0KtXL5w5cwZLliyBvb19vrdNxsbGqFevHm7duiUu5cqsWbNytk9Dhgz5YCcpMTERv//+O0aOHKn1NiohIQEvX77U3Shv8UXnwhYQEECVK1em4OBgcSlXnjx5QlevXqWvv/6aWrdu/cGgr1GjRtHdu3dz/n337l0aN25crp/nmZSUROXLl5fUw+GzsrJ0+uxPevea/fv3p5kzZ4pL/+n58+d08eJFevDgASkUCnE5R0BAALVv316rQRxqtZomTZpEAwcOFJeKlPj7pguXL18mb29vCgkJEZc+KT4+ni5evEjXrl2j5ORkcTlHQkICjR8/nhYuXEjp6eni8n96+vQpubu70+PHj8WlIpOWliZuyjeFQkHt27enNWvW5Hp78d7Fixfp4sWLFBYW9sEAO7VaTcHBwTnrSnp6Os2aNYs2b96cp9+TnZ1Nw4cPpwkTJuh8e6AthULxyW2Atk6dOkUuLi5aDcz61PZJqVTSxIkTadKkSXTnzh3asmUL+fr6kr+/v0a//3Lnzh2qWbOm1jkmVqRHzHg3Q46NjQ3Onz//ydtO/s2ECRMwaNAgKBQKrFu37oNBX4IgaBw16OnpQa1W5+p3ERFOnTqF6tWra31PaUEwNjbWyZHZPxkbG6Nr1644cOBAngehuLq6wsfHB56envk6Vf0p8fHxuHbtmsY1UykQf990oW7duhAEIc9zUVesWBE+Pj5o2rTpR+fZVqvVCAoKwqRJk1C7dm1MmTJFqyOtCxcuwMbGRqdTS+ZXQQwINDQ0RIcOHXD8+PE8n9Hz8fGBj48P7O3tP7jERET46aefcibbMDIygoWFBVJSUjT6/ZfU1FT8/fff6Natm863B9oyMjIqkG1AnTp1YGZmhmvXrolL/+lT2yeZTIZOnTqhfv36CAkJQVRUFNLS0hAREaHR71OICCdOnECNGjWKx+Cv9/r164d9+/ZpNYvQuXPnEBISgr1793702mOVKlU03uSQkBDY2dl9sLJ8TFZWFrZu3YoePXoUyIovNT4+PsjKytJ6J+nfpKSkYNq0aVi5ciVCQkLwyy+/YN68eXnaAbhx4waSk5PRrl07canYKVu2LDp27Ijt27drPY3hx4SGhqJfv36IiYlBUFAQpk6digULFuRp8JdCocC2bdvg6+urVah/TmQyGfr27YuHDx8iMDBQXNaavr4+5syZg/379+PHH3/E+PHjERISgsGDB+f6tO/7MChVqtRHRxgXN5UqVUKTJk109mSu9/T19dG6dWv07dsXffv2Rbt27VCzZk106tRJ3PVfxcfH46+//kL//v3FJe2JD6GLQnh4ODk5OdHJkyfFpXwLCgqifv36UWRkJIWGhlKnTp0oMDBQ3O2jLl68SOXKlaPY2FhxqVhSqVQ0e/Zs6tix4wenfIpSRkYGtW3blmbNmiUuFVtPnjyhGjVq0N9//y0uFak9e/ZQzZo1P7gntzgbPnw4DRw4UON+8KIWHx9P3t7etHbt2jyd/v6cPX78mCpUqEDPnj0Tl4rUH3/8Qd7e3nmeO+JTJBHMgiDQvHnzqGXLljr9n6N3r/348WOaN28ezZ49mx4/fpyrL3JycjL5+PjQjBkzctW/uIiLiyNLS0s6evSouFRkduzYQW5ubvTq1Stxqdh6f029TZs2ktlJksvlVLt2bVq5cmWJWif8/f3JyclJUjtJ69atoxo1ahTItXWpUigUNGrUKOrdu3e+JmTRpaioKKpZsyb9/vvvOl0nJBHM9O5/0NvbmxYtWiQuFTq1Wp3zxY+KihKXizW1Wk0rV64kb29vCg8PF5cLXVhYGNWpU4d+/fVXnX7xPwevX78mNzc3WrdunbhU6FQqFS1YsIDq1q2r851nqRMEgX766Sfy8fGh+Ph4cbnQPXnyhNzc3Gj79u3iUrH38uVLsra2piNHjkhie/DDDz9Q27ZtKSEhQVzKF8kEMxHRgQMHyMXFhS5evCguFaqbN29SjRo1aPfu3eJSiZCWlkbNmzen0aNHazVqV1cUCgUNHjyYunTpovMv/udArVbTtm3byNHRkZ4+fVpkGyJBEOjq1atkY2ND58+fL7K/oyhFRUVR48aNacqUKUV6tJaUlER9+vQhX19fysjIEJeLPbVaTb/99hu5uLjk+pJkQRAEgY4cOUJOTk506dIlcTnfJBXMWVlZNGnSJKpXr16RzUv95s0batasGX333XeSOYVYFO7du0c1atSgNWvWFMmGSKVS0fLly8nV1TXPty4UJ3K5nEaPHk2NGzemmJgYcblQBAYGkqenJ02bNq1EhvJ7Fy5cIBcXF9q6desHt0AVhqysLJo1axbVq1dPctdZC5NcLqe+fftSly5dtLr1Mr8EQaBnz56Ro6MjrVq1ipRKpbhLvkkqmOkfe4TNmjWjxMTEQt0QxMXFUY8ePahTp06SOGVV1P7880+qUqUKbd68uVDvk1QqlbRnzx6ytLSk06dPF8lGUEqSk5OpadOm1L1790IfiPjmzRvy8fGhHj16FMg9258TtVpNf/zxBzk4ONDx48cLddukVCpp6dKlVK1aNTp79qy4XOJERkZSw4YN6ZtvvqGkpCRxucAIgkAhISHk4eFBI0aMILlcLu6iE5ILZno3AUKzZs2oUaNGhXaNNyoqijp06EBNmzalsLAwcbnE2rlzJ9na2tLWrVvFpQKRnZ1N27ZtI3Nzczpw4ECJD+X3YmNjqXHjxtS1a9dCO0p48+YNNW3alLp161YiLyV8THZ2Nq1du5bKly9PJ06cKJTvp1qtpuXLl1OlSpXor7/+EpdLrOfPn5O7uzsNHDiw0A6knj17RnXq1KEOHToU6JlESQazIAgkl8upd+/e5OLiQpcvXy6wFUAQBLp79y45OztTz549KS4urlD3hKVOEAQ6fPgw2djY0A8//FBge4j07sjwxx9/JGtrazp27Bh/DiKxsbHUpUsXcnd3p+vXr4vLOvXXX39RlSpVaMiQIZSYmCgul2gqlYp27dpFZcqUoYULFxbomYTExEQaPnw4Va5cma5evcrrxD8IgkDBwcHk4+ND9evXL9DT+yqVio4cOUJVq1alUaNGFWgok1SDmd696ZmZmTRz5kxydHSkmTNn6nyvKCEhgRYtWkSWlpY0bdq0PD+vtaRQq9V0584d8vb2pqZNm9KNGzd0empbpVLR+fPnqXHjxtS0aVO6desWb4D+xdu3b2ny5MlUpUoVWrJkic6/s7GxsTRjxgyyt7enBQsW6Pz1iwu1Wk3nz58nDw8P6tChA929e1enBw/Z2dl05swZ8vb2pmbNmtHz5895nfgXsbGxNGbMGKpUqRKtW7dO5wNWIyMjady4cVSlShVauXJlodzPLtlgfk+hUNCZM2eoefPm5OXlRRs3bsz3UW1cXBzt2bOHGjduTA0bNqQjR44U+B7Q504QBIqJiaHvvvuOnJ2dacyYMXT//v18vW9KpZIePnxI3377Lbm6utLkyZNL1MQV2pLL5XTs2DFq3LgxNWrUiPbv35/vo9qYmBjavHkzeXp6UvPmzeny5cslevBjbgUHB9M333xDLi4uNGnSJHry5Em+dloVCgXduHGDBg0aRK6urjRjxowSd3uaNjIzM2nPnj3k4eFBPj4+dPTo0XxdexYEgaKiomjVqlVUq1Ytat++PV27di1f27u8kJEu5zcrQHFxcdi3bx+2bt0KmUwGX19fdOzYEfb29ihfvvwnp9gUBAFJSUkIDQ3FqVOncPr0aajVanz11Vfo27cvbGxsxIuwf6FUKnHz5k389ttvePHiBWrVqoWvvvoKHh4esLW1/WAuWjG5XI6YmBjcv38fhw4dwuPHj1GrVi1MmjQJXl5eknmCl9QREaKjo7Fr1y7s3LkTZcqUQc+ePdG2bVtUrlwZFSpU+M914u3btwgLC8Pp06dx6tQpqFQqfP311/jqq69QoUKFXE8PWdJlZWXh+vXrWLlyJcLCwuDp6Ym+ffvCw8MD1tbWMDY2Fi+iQS6XIyoqCo8ePcL27dsRHBwMLy8vjB07Fp6enlo9w7gkIiKEh4djx44dOHToEMzNzdG9e3e0bdsW9vb2KFeu3Ce/02q1Gm/fvkVwcDBOnTqFU6dOQV9fH2PHjkX37t0/+oSwgvLZBPN7sbGxOHv2LPbs2YM3b96gUqVKcHR0hJubG5ydnTUm709NTUVISAj8/f0RHByMqKgoODk54auvvkL79u05kPNBoVDg0aNHOHz4MI4fPw5TU1PY2dnB3d0dVatWhZ2dnUbIvnnzBs+fP0dgYCCioqKgUCjQsWNH9OvXD97e3pKZhP9z8z6gT58+jT///BPh4eGwtrZGjRo1UKtWLTg5OWmsE+8fjxoQEIBXr14hLi4Orq6u+PLLL9GmTRtYWVlpvD7LPblcjrt37+LAgQM4c+YMypUrh8qVK6N27dqoUaMGHBwccvpmZ2cjLCwMr1+/RkBAACIjI6FUKtG3b19069YNbm5uvJOaD+8Pwvbu3Yu4uDjY2tqiWrVq8PDwgJOTk8Y874mJiXj58iWePn2K0NBQxMXFwcPDI2fu7MIM5Pc+u2D+p9DQUNy7dw+PHz9GUFAQQkNDNZ4CY2xsDCcnJ7i5uaF27dpo0KABHBwcPrnXxPIuIyMDDx8+xMOHD/Hs2TMEBwcjOjpao0+lSpVyVgxPT094eHjo5Jm57P+o1WqEhITg4cOH8PPzQ1BQEN68eaPxsBBTU1M4OTmhVq1aqFu3Lry8vFC5cuVPHl2zvEtLS8OjR4/w6NEjPH78GG/evMHbt281+tjZ2cHZ2Rk1a9aEt7c3PDw8tH4eMPs4tVqN4OBg3L9/H0+fPsWTJ08QHh6usU6Ym5ujSpUqcHFxQd26deHt7Q1bW1uN1ylsn3UwM8YYY8UN7yYzxhhjEsLBzBhjjEkIBzNjjDEmIRzMjDHGmIRwMDPGGGMSwsHMGGOMSQgHM2OMMSYhHMyMMcaYhBTLYFar1eImVsgEQYAgCOJmVkSys7PFTayQ8XZJOqS+fSp2wZydnY3FixcjJSVFXGKFRBAEHDhwAHfv3hWXWBFISUnBqlWrNKarZYVLrVZjy5YtePnypbjECpkgCNi1axeePHkiLklGsQpmIsLx48cxZ84cnDhxAjzbaNEICQnB7NmzsXz5cj5Sk4Bdu3Zh0aJFOHfunLjECsmLFy8we/ZsLF26FCqVSlxmhejFixeYO3cuVq5cKd3PQvQYyM9aamoq1a5dmwCQm5sbP9u3CKjVapo0aRIBIFNTUzpy5Ii4CytE0dHRVKVKFQJADRo04Gf7FgGFQkHffvstASAjIyO6fft2vp4nz7SnVqtpzJgxBIDMzMzo7Nmz4i6SUGyOmNVqNf73v/8hICAAAPD06VOsX79e3I0VsPv372PLli3Au8fgzZ07F3K5XNyNFZJly5YhJCQEEH02rPDcuHEDe/bsAd5daps2bRpfVigiV65cwe7duwEA6enpmDlzpsaTpiRDnNSfq4CAAKpUqRIByPmxtramBw8eiLuyAqJUKqljx44an4Genh4tX76c1Gq1uDsrYM+ePSNTU1ONz8POzo7evHkj7soKSHJyMrVu3VrjM5DJZLRjxw5xV1bAsrKyPvgs9PX1aePGjZI7g1EsjpizsrLw22+/ISYmRqM9NjYWy5Yt4+ucheTEiRO4fPmyRpsgCFi+fPkHnw0rWAqFAtOnT//gbEVkZCSWLFmi0cYKzoEDB3D16lWNNiLC8uXLERERodHOCtbevXtx7do1jTa1Wo0FCxZ88KzsolYsgvnGjRvYt2+fuBkAcOrUKfz999/iZqZjGRkZmD179gdBAAAxMTFYsmQJ7yAVEiLCuXPncPr0aXEJRITdu3fj1q1bPDiygEVFReHXX3/96KnSJ0+eYNOmTXwLVSFJTU3FggULProNCgsLw+rVqyU1EOyzD+aUlBQsXboUycnJ4hIAIC0tDYsXL0Zqaqq4xHREEARs3rz5k7cfbN26Ff7+/uJmVgASEhKwePHij26E8O7a2vz585GVlSUuMR1au3YtAgMDxc3Aux2kP/7445PrDNMNtVqNtWvX4tWrV+JSjvXr1//rZ1UUPvtgPnLkCK5cuSJu1nDv3r2cwRdM994fEX9KWloaFi1axINeCpggCPjzzz9x8+ZNcUnDX3/9hdOnT/NRcwEJCAjA77///slJLN4fUUvpSK04Cg0NxapVq8TNGhITE7Fw4ULpbJ/EF50/J/Hx8eTu7q5xMf/ffuzt7SkhIUH8EiyfsrOzacKECR+83x/7MTQ0pMOHD4tfgunQmzdvqFq1ah+89x/7qVOnDq8TBWTAgAEkk8k+eM/FP2ZmZvTXX3+JF2c6olAo6Jtvvvngff/YT6lSpejMmTPilygSMiqGu8wmJiZ49eoV7OzsxCVWSHx8fDB69Gj07dtXXGKFzN/fH2PGjMHOnTtRtWpVcZkVArlcjgEDBqBXr14YNGiQuMwKWcuWLTFu3Dj4+vqKS5Lw2Z/KZowxxooTDmbGGGNMQjiYGWOMMQnhYGaMMcYkhIOZMcYYkxAOZsYYY0xCOJgZY4wxCeFgZowxxiSEg5kxxhiTEA5mxhhjTEI4mBljjDEJ4WBmjDHGJISDmTHGGJMQDmbGGGNMQjiYGWOMMQnhYGaMMcYkhIOZMcYYkxAOZsYYY0xCOJgZY4wxCeFgZowxxiSEg5kxxhiTEA5mxhhjTEI4mBljjDEJ4WBmjDHGJISDmTHGGJMQDmbGGGNMQjiYGWOMMQnhYGaMMcYkhIOZMcYYkxAOZsYYY0xCOJgZY4wxCeFgZowxxiSEg5kxxhiTEA5mxhhjTEI4mBljjDEJ4WBmjDHGJISDmTHGGJMQDmbGGGNMQjiYGWOMMQnhYGaMMcYkhIOZMcYYkxAOZsYYY0xCOJgZY4wxCeFgZowxxiSEg5kxxhiTEA5mxhhjTEI4mBljjDEJ4WBmjDHGJISDmTHGGJMQDmbGGGNMQjiYGWOMMQnhYGaMMcYkhIOZMcYYkxAOZsYYY0xCOJgZY4wxCeFgZowxxiSEg5kxxhiTEA5mxhhjTEI4mBljjDEJ4WBmjDHGJISDmTHGGJMQDmbGGGNMQjiYGWOMMQnhYGaMMcYkhIOZMcYYkxAOZsYYY0xCOJgZY4wxCeFgZowxxiSEg5kxxhiTEA5mxhhjTEI4mBljjDEJ4WBmjDHGJISDmTHGGJMQDmbGGGNMQjiYGWOMMQnhYGaMMcYkhIOZMcYYkxAOZsYYY0xCOJgZY4wxCeFgZowxxiSEg5kxxhiTEA5mxhhjTEI4mBljjDEJ4WBmjDHGJISDmTHGGJMQDmbGGGNMQjiYGWOMMQnhYGaMMcYkhIOZMcYYkxAOZsYYY0xCOJgZY4wxCeFgZowxxiSEg5kxxhiTEA5mxhhjTEI4mBljjDEJ4WBmjDHGJISDmTHGGJMQDmbGGGNMQjiYGWOMMQnhYGaMMcYkhIOZMcYYkxAOZsYYY0xCOJgZY4wxCeFgZowxxiSk2ARzVlYWIiMj4efnB0EQ8Pz5c4SHhyMjI0PclRWw+Ph4KBQKvHnzBg8ePMDr168RHx8PQRDEXVkBysjIQFRUFIKCgpCeno6goCBER0dDLpeLu7ICpFarER8fD7lcjuDgYDx48AAhISFISEgQd2WFIC4uDgqFAq9fv87ZPiUmJoKIxF2LjIyk9NfkQXh4OPz9/XHz5k08ePAAb968QenSpWFgYICMjAyYmZlBoVBAoVDA1tYW9evXR9OmTeHl5QUbGxvo6RWbfZIiJZfL8ezZM9y+fRs3b97E48ePoVKpkJmZCUtLSxgZGUEulyMrKwvGxsbw8PDAF198AS8vL7i7u8PY2Fj8kkxL4eHh8PPzw82bN3Hr1i1ERETAzMwMBgYGOe+/UqmEXC6Hg4MDmjVrhsaNG6NOnTqoVKmS+OWYluRyOfz8/HD//n3cvHkTT58+hVqthkKhQPny5WFsbIyMjAxkZWXBxMQE9erVQ6NGjdC0aVPUqFEDhoaG4pdkWsrIyEBAQADu3r2LW7du4fHjxxAEAenp6bCysoKhoSEyMjKgVCphbGwMT09PNGzYEPXr10etWrWKbPv0WQWzQqGAn58f9u7di4sXL8LAwAB16tRBo0aN4OrqCgsLC5iamsLQ0BAqlQoZGRlITk5GUFAQbt68CT8/PxARGjZsiMGDB8PLy6vI3vjPXUREBM6ePYvdu3cjISEB5cqVQ6tWrVC3bl1UrlwZpUqVQunSpYF3K0dmZiaio6Nx584d3LhxA4mJiahQoQKGDh2KNm3awNramneWtCCXy/HgwQNs3boVjx49goGBAWrWrIkvvvgC7u7uMDMzg5mZGfT19aFUKpGRkYG0tDT4+/vj6tWrePXqFQCgRYsW+PLLL3lnSUuCICA8PBxnzpzBnj17kJqaCisrKzRv3hze3t6wtraGqakpSpUqBQBIS0uDXC5HaGgo7ty5g9u3byMtLQ2VKlXC119/DR8fH1hbW4t/Dcul8PBwnDp1Cvv27UNSUhIsLS3RvHlz1KlTB/b29jAxMcnZPqWlpSErKwvBwcF49OhRzvapUqVKGDZsGFq3bo2KFStCJpOJf02B+SyCWaVS4fnz51ixYgWuX78OLy+vnGC1trbO1RtGREhISMDdu3exZ88ePHjwAA0bNsT3338PDw8PGBgYiBdhIkSElJQU7Nu3D7///jtkMhkGDhyIVq1aoWbNmrne01cqlQgMDMT58+exefNmmJub49tvv0WPHj1Qvnx5cXf2EUqlEk+fPsWCBQvw4MGDnGD18vJCxYoVxd3/VUxMDO7cuYPdu3fD398fjRs3xvTp01GtWjXo6+uLu7OPiI+Px969e7Fjxw4QEYYPH45WrVqhevXquX4PFQoFAgICcsKkTJkyGDduHLp27Qpzc3Nxd/YRRISkpCRs374du3btgkwmw6BBg9CmTZs8nYl4fxbw3Llz2L59OypUqIBvv/0W3bt3R7ly5cTdCwZJXFpaGv3666/k5ORE/fr1o9u3b4u75JlKpSI/Pz/6+uuvydHRkebOnUtyuZwEQRB3Ze+o1Wp6+PAhtWjRgmrUqEGbNm2ipKQkcbc8S01NpY0bN5KzszN16tSJ/Pz8SK1Wi7uxf0hISKA5c+aQnZ0dDR06lJ4/f57v90ylUtG9e/eoX79+ZG9vT2vWrKH09HRxN/YParWabty4Qc2aNSMPDw/as2cPZWRkiLvlWVxcHK1cuZKqVKlC3bp1o2fPnvG26T+o1Wq6ffs2NWrUiOrUqUObN2/Wyfbp7du3tHLlSnJycqIuXbqQv79/vte13JB0MEdFRVGHDh2oevXqdPLkSVKpVOIu+aJSqej8+fNUs2ZN8vHxobCwMHEXRkTZ2dm0ZcsWKl++PP3www8UHx8v7pJvUVFRNHr0aLKxsaHt27eLy+ydV69eUevWral27dp07tw5cTnfBEGgI0eOkL29Pfn6+lJkZKS4C3sXBCtWrKAKFSrQ9OnTKSUlRdwl38LCwujrr78mS0tLOnbsmM63f8VFdnY2bdiwgSpUqECTJk2i5ORkcZd8i4iIoCFDhpC9vT3t27dPXNY5yQZzQEAAVatWjbp3707R0dEFtscoCALFx8dTnz59yMXFhR4+fCjuUqKlp6fTtGnTyNbWlo4dO1age4tKpZL27dtHdnZ2NGvWLHG5xLt+/TpVr16dhgwZQrGxsQW6ToSFhVG3bt3Iy8uL/Pz8xF1KtPT0dPrhhx/I0dGRzp8/X6CBmZ2dTdu2baNy5crRypUrKSsrS9ylREtPT6fvv/+e7Ozs6PTp0wW+fdq+fTtVqlSJfv75Z3FZpyQZzA8fPiRXV1eaMGFCgez9iAmCQBkZGTRmzBiqU6cO3b17V9ylRMrIyKAffviBPDw86Pr16wUWBP+kVqvp0qVL5ODgQDNmzKDs7GxxlxJHEAS6ceMGOTg40OzZswvk6Oxj4uPjaeTIkeTm5kaPHz8Wl0uk9PR0Gj58ONWuXZv8/PwKbZ34+++/qUqVKrRgwQIO53fS0tLou+++y9lmF8ZnoVKp6MKFC+To6EgLFiwosO2T5IL51atX1KRJExo1apROrtfkRVpaGo0dO5YaNGhAAQEB4nKJolaracGCBeTu7k63bt0SlwvU+3B2dHSkFStWFNiX/3Px8uVLcnFxoRkzZlBmZqa4XKBSUlJo5MiR1KhRI4qIiBCXS5SsrCyaOnUqubm50b1798TlAnf27FlydnamP/74o0CPDD8HSqWSZsyYQZ6enjoZd5QX/9w+bdy4kZRKpbhLvkkqmJOTk6l///7UpUuXQjsqEEtJSaH+/ftT165dC+VoXaqOHTtG1atXpxMnTohLhUIQBDp69Cg5OjrS6dOnC2VvWIoSEhKoffv2NGjQIEpNTRWXC0VsbCx169aNevfuTQqFQlwuEdRqNW3fvp1cXV3p4sWL4nKh2bx5M9WoUYOuXLkiLpUou3btImdnZzp//ry4VCgEQaA///yTnJyc6PLly+JyvkkmmNVqNa1cuZLq1KlDL168EJcLVUhICNWvX5+WLl1aIgMhOjqaqlevTkuXLi2QvcG8mDVrFnl7e1NISIi4VOypVCpasGAB1apVi+Li4sTlQvXixQtycnKiLVu2lMijtadPn1LNmjVp48aN4lKhUigUNHHiRGrcuDG9fftWXC4RQkNDqWrVqrRu3boCvb6fGz/++CM1bdqUoqKixKV8kUwwP3v2jGrWrEl79uwRl4rEqVOnyNbWlp4/f16iwlmlUtF3331HHTp0KLIjtH9KSUmhpk2b0oQJE0rU50Dvxlo4OjrS2bNnxaVCJwgC7d27l2xtbUvc3QuCIFD//v3J19eX5HK5uFzooqOjqWHDhjR//vwSt04olUoaOnQo9erVq9Av63xMfHw8eXt70+zZs3X6WUgmmL/55hvq1auXJL749O560vDhw8nX17dEHSH4+flRqVKlJDU6/cqVK1S9enW6f/++uFRsZWZmUr9+/Wjo0KHiUpFq3749TZo0qciPVArT+fPnqWrVqvT06VNxqcicPn2arK2t6fXr1+JSsXbv3j0qU6YMBQYGiktF5syZM1SzZk169uyZuKQ1ScyB+OTJE5w/fx4TJkyAiYmJuFwkjI2N8eOPP+Ls2bMICgoSl4ul7OxsrF69Gv3794e7u7u4XGQaNWoELy8v/O9//xOXiq2HDx/iyZMn+PHHH8WlIvXzzz/jyJEjOVN5lgTLli1Dt27d4OLiIi4VmebNm6Nx48bYsGGDpB6+UJCysrKwatUqDBs2DM7OzuJykWnVqhVq166NzZs3i0tak0Qw7927F15eXvDy8hKXilS1atXQtWtX/PHHH1CpVOJysRMZGYnTp09jzJgxkpqi1MjICKNGjcL169fx+vVrcblY2r59O7y9vVGzZk1xqUg1aNAAVapUwd69e8WlYunp06fw9/fHiBEjJLVOlC5dGiNHjsTWrVuRmZkpLhdLISEhOHfuHEaMGJHrqU4Lg5GREYYNG4ZTp04hKipKXNZKkQdzdnY29u/fj/79+8PU1FRcLlJGRkYYOHAgTpw4geTkZHG52Dlz5gycnZ1Rt25dcemTkpKScP36dSQmJua0ZWZm4u7duzp7tF3dunXh5OSEixcvikvFTnh4OG7evIkBAwbk6cEeWVlZePDgwQdHs35+fjrboTEwMMCgQYNw7tw5xMfHi8vFChHh2LFjaNasGapWrSouf1JgYCAePXqE7OzsnLbw8HDcv39fZ48/bdy4MaysrHDu3DlxqVg6ceIE6tSpg1q1aolLn5SYmPjB9ikjIwN3797VaMuP+vXrw9LSEpcuXRKXtJL7tb6APHjwAADQrFkzcUkSWrVqhZSUFAQEBIhLxYpcLse5c+fQs2fPPO+NpqenY/To0fj555+RnZ0NQRCwfft2fPPNNzrbmy9btix8fHxw9OhRcanY8fPzg7m5eZ53kARBwMaNG9GnTx/ExMQA716rd+/eePbsmbi71po2bYqkpCSdhb1UZWdn4/jx4+jcuXOeL7Hdu3cPHTp0wNWrV4F3O6/ffvstdu/erbNTz+bm5ujSpQtOnToFpVIpLhcraWlpOH/+PHr16iUu/af09HSMGjUKs2fPztk+bdu2DSNGjNDZ9qlixYpo1qwZTpw4IS5pR3zRuTAJgkBLly4lX19frWezyczMpKSkJI3BKAqFgpKTk3U2QKVv3740b948cXOxEhISQnXq1KEbN26IS/9JEAQ6dOgQmZmZ0YULFyggIIDc3d1p165d4q758uDBA7K0tKS0tDRxqViZPHmy1oO+goKCqEaNGjR58mTKzs6mjh070ujRo3U+qLJ9+/b066+/ipuLlZiYGDI2Nqbo6Ghx6T8plUrq1q0btWjRgmJjY2nNmjVUq1Ytnc8zf+bMGXJ3dy/2cy68fPkyZ7a1vBIEgQ4ePEhmZmZ08eJFevr0Kbm5udHu3bvFXfPl8uXLZGtrq5PcKdIjZrVajQcPHuTrucgnTpxArVq1cPz48Zy2OXPmoFu3bkhKStLoq60mTZrg0aNHUCgU4lKxERkZiYSEhDwfpQGATCZDr1690K5dO8yZMwcTJkxArVq10KdPH3HXfLGxsYGVlRUCAwPFpWLlwYMHaNy4sbg5V2rUqIHp06djw4YNmDFjBp4/f47p06fn+YjvvzRq1AiPHz8WNxcrT548gbOzs1aPIjUwMMDixYvx4sULzJ49G6tWrcLcuXPz9EjO3Pjiiy/w/PlzpKWliUvFSnh4OBQKBVxdXcWl/ySTydC7d2+0bdsWc+bMwcSJE+Hm5gZfX19x13ypUqUKjIyM8Pz5c3Epz4o8mF+8eAEPDw9xKdd69eqFLl26YNasWYiLi8O9e/ewZcsWLFq0CBYWFuLuWqlevTrevn1brL/8L168QPXq1XMe5K6NFStW4NWrVwgKCsLcuXNhZGQk7pIvZmZmcHBwwMuXL8WlYkOlUuHFixf5GhXv6+uLNm3aYNmyZVi6dCkqV64s7pJvHh4eePr0KdRqtbhUbDx79gy1atXK86Wd91xdXTF16lRs2rQJTZo0Qe/evcVd8s3c3BwODg548eKFuFSsPH/+HDVq1ND6AA4AVq5ciRcvXhTY9snc3ByOjo46ucRTpMEsCAJiYmJgb28vLuWagYEBpkyZArVajSVLlmD8+PEYOnQo6tevD5lMJu6uFVtbWyQnJ+vseoQUxcXFwc7OTtycJ6VKlYKhoSGys7ML5L0yNTVFhQoVEBoaKi4VG3FxcTA3N8/XA9n19fVhZmYGAEhNTdXZNc1/en/kp6uzUlL06tUrODg45GkA3j/JZDKYm5tDJpMhIyOjwK4DV6lSBdHR0eLmYiUyMhJOTk7i5jwxNTWFoaEhlEplgWyfTExMUKFChZzxHfmh3TdOR4gIsbGx+Q6EqlWrYurUqfj999+RlJSEyZMnw9DQUNxNaxYWFlCpVMX6lqnw8HBYWVmJm/Nkzpw58PDwgIODA5YuXarzL7+BgQFKlSpVrI/SMjMzoa+vr/VRGgD8/fffuH79OkaOHImFCxciJCRE3CXfjIyMIJPJNEYdFzdqtRpmZmZaB3NISAhWr16N4cOH4/bt2zh8+LC4i05YWVkV+2COj49HpUqVxM15MmfOHNSpUwd2dnYFsn0yMTFBuXLldHIninbfOB0SBCHfIaqnpwdPT08IggBLS8t8nY4tqbKzs7U+SiMiXL58GadPn8b8+fMxb948XL16tUSMoNa1xMREmJqaan1NOCwsDMuWLcOECROwZMkSGBoaYtmyZcjKyhJ3zZfSpUsD70bLsg+pVCosXLgQtWvXxvz589G7d2/Mnj0bb9++FXfNt3LlyiEjI0PcXOxou4P0z+3TggULMG/ePFy5cgXHjh0Td80XmUyWrx3qf9Lu/1SHZDJZvo9EMzIysHjxYjRt2hQPHz7EkSNHdHavYElhYmKi9UY2OTkZP/30E8aMGQM3Nze0bNkSvXr1wqJFizRuuE9PT9f6d5QUFSpUQFZWllYDDZVKJdatW4fSpUtj6NChKFu2LObPn48jR47k3F8pl8sRHR2NyMjIfB0xvA+CMmXKiEsMwPnz53Hp0iVMmTIFFhYWmDBhAvT09LBkyRIIggClUon4+HhERETg7du3+dpeJSYmar0j9znR9j1KSkrClClT8N1336F27drw8fFBz549P9g+qdVqxMTEaL2TQ0Ra/41iRRrMMpkM1tbW+bpmSEQ4fvw4/Pz8sH79eowdOxbTp0/X2QwsePfB5vf0otRVrlwZsbGx4ub/pFQqsWbNGhARxo4dC319fRgZGWHChAkgIqxatQp49x4OHjwYv/32m/glck2tViMrK0tSMzDpmomJCbKzs7XaWb148SJOnDiBn3/+Oecac48ePdCyZUssWbIEL1++xE8//YQ//vgD27dvx08//aT1xDlKpRJEVKw/C0NDQ2RmZuZ5Y5ucnIxJkybl7KgCgKOjI6ZOnYqNGzfiyZMn+O2337BgwQIcOHAA06dPz9fZpcTExAIZ4CclFhYWWp2uf799kslkGDNmjMb2Sa1Wa2yP7t69i4YNG2L//v0ar5FbCoUCycnJWo3i/4D4/qnClJWVRR4eHnTmzBlxKdeCg4PJzc2Ntm3bRvTuaUTOzs40evRore+NFjtz5gw1bdq0yB+9V5B27NhBzZs3FzfrxO3bt6lVq1bUu3dv+uWXX8TlXEtNTaV27drp/P5DKVEqlVS5cmW6fv26uJRvv//+Oy1ZsiTn31u3bqU1a9Zo9Mmt/fv3k7e3d5E/FrQgrVq1inr37q3z/8e0tDT6888/c+7Hj46OpqZNm4q75Zqjo2ORPZe4sKxZs4a6dOkibtaZ5ORk6tevH33//fe0ZcsWcTlXkpKSyMfHhw4fPiwu5VmRHjHr6+ujVq1auH//vriUK3K5HDNnztS4Z7ZMmTJYvHgx9u/fj4sXLyIsLAwTJ07EpEmTMHToUK3uvXz58iUsLCxgbm4uLhUbLi4uCA0NRXp6uriUbzKZDFu3bkXDhg3FpTxJT09HZGQkqlWrJi4VGwYGBnB1dS2QB6d8/fXXmDBhQs6/4+PjtTplDgBBQUFwc3Mr1kfMLi4uCAwM1OrsxaeYmZmhX79+MDMzg1qthr+/P6pXry7uliupqamIjY3VevnPhaurKwICAgpssOGKFSvQt2/ffN0hlJaWhtDQUJ1sn4o8mD08PPD48WOtNhBGRkZYuHAhNmzYoDHgq2vXrrh79y7q1auHX3/9FR07dsSyZcswc+ZM/Pzzz3meH/XOnTvw8PAo1tdxrKysULZs2QKZerRBgwZwcHDI9+1r4eHhiIuLy9c9vp+D+vXr50zlqEtGRkYwNDQEEeH58+f4+++/tZ5k4erVq5J76IyueXp64vXr11qf7v8vx48fx08//YTVq1ejffv24nKu3L17F1WrVi321/odHR1hamqq88mFiAjnz59HZGQk2rVrl69t1Js3b6BQKHTy4JkiDWaZTAYfHx/4+fnlOSzxLtgdHBw+OKdvZGSEqlWrIjMzE2/fvkWLFi0gk8lQrVo1lC1bFm/evNHo/ykKhQKXL19Gy5YtxaVixdLSEg4ODrh586a4JBnnz5+Ht7d3sR9137hxYzx79kyra/7/Ra1W486dO/j5558xf/58rY4QQkJCEB4eXuyDuWzZsnB3d8eFCxfEpXxJSUlBWFgYunXrhuXLl2PNmjXYuXNnnkdsq9Vq/PXXX2jcuHHOKPniqlKlSrCzs8OtW7fEpXzJzMzErFmzcnIoODgYL1++zPMkRkSEs2fPomnTpvm+ywhFHcwA4OXlBUEQcPfuXXEp39LS0mBkZKQxw0ulSpXydAP41atXUapUKdSrV09cKlZKly6NVq1a4dChQ3ke7FIYkpOTcfHiRXTu3FlcKnbq16+P7OxsPHnyRFzKF7lcjp07d2LdunVYvHgxGjZsqNUtKDdu3ICVlZWknk9cEAwNDdGhQwecOHFCp7ebvXr1CpMmTUJERATwbsAfEeX5/vzMzEycPXsW7dq100kYSJm5uTlatGih8ztu9PX1MXXqVJibmyMhIQEZGRlIT0/P88jshIQEXL16FR07dhSXtJL3tVLHDA0N0bt3b+zZs0enX368m+lFpVJpfJCJiYmoUKGCRr9/o1QqsX37dnTp0qVYX19+r2vXrggKCtLqOvynXLx4EZMnT8b58+dx5coVTJ48GadOnRJ3+yR/f3+EhYVpfcrvc2JjY4MGDRpg7969Ot0I7d69GwsXLoSpqSk2bNiAKVOmYN++feJun6RWq7Fr1y74+Pjkej36XOnp6cHX1xdXrlxBeHi4uKw1Ly8vtG/fHosWLcLkyZMxb9489O3bF9bW1uKu/4qIcPv2bcTFxaFr167icrHUs2fPjz7WND9MTEzQvXv3nB8vLy80bNgwz88M8PPzQ2xsLNq0aSMuaUc8Gqwo+Pv7k5OTE929e1dcypeMjAwaOnRozhNJUlJSqE2bNhQTEyPu+lHPnz+nUqVK0bNnz8SlYkmhUNCwYcNo5MiROnlCiq6oVCr6+uuvaciQIeJSsXXp0iVydnamR48eiUtF6urVq2RnZ0eBgYHiUrHVrl07mjp1qqTWibS0NOrUqRNNmTKFBEEQl4sluVxOffv2pbFjx0rqs1AoFNS9e3f64YcfxCWtSSKYBUGgYcOGUd++fSkzM1Nczpfnz5/TN998Q8uXL6eBAwfSlStXcvVFlsvl9NVXX9HgwYNJrVaLy8VWUFAQlS5dWlKBcOnSJapevbrOd9ykTKFQUL9+/SS3M9KuXTv6/vvvdX4LkZSdPXuWqlWrRo8fPxaXiszp06fJxsaGIiIixKViSxAEunv3LpmZmVFQUJC4XGSOHz9OLi4uOv1+SCKYiYiePn1KNWvWpH379olL+SIIAqWmplJkZCQlJCTkKpSJiE6dOkV2dnbk7++f62WKA5VKRWPHjqUuXbpI4rnHKSkp1LJlSxo/fryk9pILw4MHD6hq1ar0119/iUuFTq1W0/79+8ne3p5CQ0PF5WJNqVRSv379qH///jo/cNBGTEwMNWnShObMmSMuFXtKpZIGDx5Mvr6+lJ6eLi4XuqSkJGrSpAnNmDFDp9snyQSzWq2mJUuWUJ06dejVq1ficqF69eoVNWzYkObOnSsulQiRkZHk6upKK1asKPIjo19++YUaNGhAb968EZeKPaVSSbNnz6a6devS27dvxeVC9fr1a6pRowZt3LixRJ1Beu/x48fk5uZGGzduFJcKlUKhoClTptAXX3xRrCc8+pTg4GCqUqUKrV+/XqdhmFcqlYqmTp1KX3zxBYWFhYnL+SKZYKZ3s6/07t2bunTpQikpKeJyoUhOTqZBgwZRhw4diuxvkIL9+/dTtWrV6NSpU0VyxkAQBDp58iQ5OjrSqVOnxOUSIz4+ntq3b0+DBg0qsiOE2NhY6tatG/Xu3ZsUCoW4XGL88ccf5OLiQleuXBGXCoVarabt27dTjRo16Ny5c+JyibJz506qXr06Xbhwoci2T3/++Sc5OjrSxYsXxeV8k1Qw07s98/r169O3336rsyk1cysrK4umTJlCXl5ekrqGURRUKhX9/PPPVKtWLbp69WqhfvkFQaAHDx6Qo6Mj/frrr5SdnS3uUqK8fPmSHB0daebMmYUezklJSTR69Gjy8PAoUdczP0Yul9OkSZOoTp06FBAQIC4XKEEQ6MSJE1S1alX63//+VyLPWvyTSqWiKVOmUN26dXV6bTc3BEGg+/fvk7W1NW3YsKFAzipKLpiJiAICAsjOzo7GjRtHmZmZBR4KgiCQXC6nn376iZydnenq1aviLiVSVlYWTZ06lZydnen27dsF/jnQP0LZycmJJk2aVKKP0N4TBIHu3btHdnZ2NGvWrEK7zpmamkojR46k2rVr09OnT8XlEik1NZWGDRtGNWvWpDdv3hTKOqFWq+ncuXNUqVIlWrlyZYnfUX3v/V03derUoYcPHxbKZyEIAl28eJGcnJxoxowZBfZZSDKY6d11XldXV+rduzdFRUWJyzr19u1b6tGjB9WsWZPu3bsnLpdoWVlZ9PPPP5ONjY3OB+aJqdVq+vPPP8nKyoqmTZsmLpd49+7do+rVq9OAAQMK/PpiWFgYdejQgTw9Pen58+ficomWmZlJ48aNI2trazp//nyBHr0qlUravHkzlS1bltauXVtgQfC5Sk1NpQkTJlDlypUL/JKXUqmkTZs2UaVKlWjBggXisk5JNpgFQaCIiAjq1KkTubu705EjR3T+pVQqlXT27FmqXbs2tW3bll6/fl0oe12fG4VCQVu2bCFbW1saP348xcbGirvkW0REBI0cOZKcnJxo06ZNBXJ66HMnCAIFBgZSu3btqE6dOgVynVGtVtPRo0epatWq1KdPHwoLC+N14iMUCgWtWLGCbGxsaPr06QUyOC84OJiGDh1KDg4OdOzYMV4n/kVmZiatXbuWrK2taebMmRQfHy/ukm8hISH07bffUpUqVWjXrl0FPuhMssH8XkpKCi1cuJBcXFxo0KBBdPPmzXy/KUqlkvz9/embb76hqlWr0owZMyg5OZk3QJ+gVqvpzp071Lx5c/Lw8KAtW7ZQQkKCuFueJSUl0aZNm8jd3Z06dOhAt27dyvfnW9zFx8fTvHnzqFq1ajRy5Eh6+vRpvo/alEol3b17l7788kuqVq0a/fbbb5ScnCzuxv5BqVTS+fPn6YsvvqD69etrPMoxP2JiYui3336j2rVrU5cuXXImSGL/TqlU0q1bt6hZs2bk6elJ27Zty/f2SRAEiomJoVWrVpGbmxt1796dHj16lO91LTdkRETi2cCkRqVSwc/PD6tXr8a9e/fg5eWF4cOHw83NDRUrVszVfL9EhLi4OPj7+2PPnj14+PAh6tSpg7Fjx8Lb27tYP75OV4gISUlJ2LVrF7Zt2wYTExP06dMHHTp0QJUqVXL99C25XI5Xr17h8uXL2LlzJ9RqNUaNGoXevXsX+2kedUWpVOLhw4dYtmwZAgIC0Lx5c/Tv3x9ubm6wsLDI1TohCALi4uLw6NEj7NmzBw8ePICnpyd++ukn1K5dO1evwYCYmBjs2rULO3bsQNmyZTFo0CA0b94cVapUgbGxsbj7R2VmZuLNmzc4evQojhw5AgMDg5x1org/OUpXiAiJiYnYunUr9uzZg1KlSuGrr76Cj48PqlatqvHMhE/JzMzE69evcfbsWezatQtGRkYYNWoUevXqhbJly4q7F4jPIpjfUyqVuHfvHnbt2oXz58/D0tISNWvWRMOGDeHu7g4rKysYGBiAiCCTyaBSqZCUlIRHjx7h9u3bCAgIQGJiIlq1aoWvvvoKDRo0yPWHxTSFh4fjzJkz2LVrF5KSkmBvb48mTZrA29sbDg4OKFWqFGQyWc5j1ORyOZ4/f44HDx7g/v37CA0NRdmyZTFs2DB06dIFlSpVytcj10qq7Oxs3LhxAzt37sTt27dRoUIFuLi4oFmzZnBzc0OFChU01gmlUon4+Hg8ffoUly9fxuvXr5GWlgYfHx98+eWXqF+/frF/IEJBEAQBISEhOHHiBHbt2gW5XI4qVaqgQYMG8Pb2RrVq1WBkZJSzsyMIAtLT0xEcHIx79+7h7t27CA8Ph42NDYYOHYo2bdrkae5spik8PBxHjx7Fn3/+idTUVDg6OqJRo0aoX7++xvbpvbS0NLx48QIPHz7E/fv3ERERAQsLCwwZMgRdunRBxYoVNV6/oH1WwfxP8fHxuHXrFq5du4Z79+7hxYsXMDAwgJGREVJTU2Fubo7s7GwolUrUrl0b9erVQ7NmzeDt7Q0bGxs+GtARpVIJPz8/3Lx5E9euXUNAQADi4+Ohr68PIyMjmJqaAgDevn2LSpUqoV69emjatCnq168PDw8P3jHSoYiICNy+fRu3b9/GnTt3EBQUBCMjIxgbGyM9PR3m5ubIzMyEIAioWbMmGjdujMaNG6Nhw4awsrISvxzTkkKhwIMHD3Dv3j1cv34957G2BgYGMDU1hZGREVQqFVJSUmBnZ4fatWujRYsWaNSoEdzd3XnbpEPZ2dnw9/fX2D69ffs2Z/v0/izf27dvYW9vDzc3NzRr1gxNmjRB7dq1oa+vL37JwiE+t/25UqvVFBsbSytXriSZTEaLFi2iqKgovl5ZBAICAqhy5crUrFkzev36NYWEhFBGRoa4GysEkZGRNGPGDDI1NaVVq1bl+gEuTLcePXpE5cqVo86dO9ObN28oJCSEbwUsIo8ePSIrKytq3749hYSESPKzKDa7Znp6ejAwMMCGDRtARNi2bRsUCkXR7fGUYGvWrEFkZCTu37+Phw8fwtHREaVKlRJ3Y4VApVJh+/btkMvl2Lp1q7jMCoFCocCKFSuQnJyMU6dOISwsDI6Ojny2qAio1WqsXLkScXFxuHr1Kh4/fizJz6LYBLNKpcKaNWvw4sULAEBQUBDWr18PlUol7soK0LVr13Ke8SuXyzFz5kykp6eLu7FCsnTpUkRGRgIAAgICsGXLFnEXVsAuXLiAI0eO5Px79uzZSEtL0+jDCselS5dw/Phx4N32ad68eZLcPhWbYH758iU2bNig0bZz5048ePBAo40VHIVCgcWLFyMpKSmn7cWLF1i/fj0EQdDoywreo0ePsHXrVrwfRqJSqbBu3ToEBgaKu7ICkpSUhOXLlyMjIyOn7dq1azhw4EDO58IKh1wux9y5c5GSkpLT9ujRI+zYsUNyn0WxCGa5XI7ly5cjJiZGoz06OhorVqyAQqHQaGcF4/jx47hw4YJGGxFh+fLliIqK0mhnBSsrKwvz5s1DZmamRntkZCSWL1/OO0qFZN++fbhx44ZGmyAIWLFiBUJDQzXaWcHau3cv7ty5o9GmVquxePHiD7KjqBWLYL5x4wb2798vbgYAnD59GqdPnxY3Mx1LS0vD7NmzP7oTFBcXhyVLliA7O1tcYgWAiHDx4sWcU3bi2u7du3H//n3JHSUUNxEREfjtt98++r1/9uwZNm/eDLVaLS6xApCamopffvkFSqVSXEJ4eDjWrFnz0VpR+eyDOS0tDYsXL/7X6wQZGRlYvHjxB0cOTHcEQcCmTZvw/PlzcSnH1q1b4efnJ25mBSAhIQE///zzvx4VZ2Vl4aeffvpoYDDdICKsWbMGQUFB4lKOTZs2ISAgQNzMdEytVmPVqlUICQkRl3L873//w7Nnz8TNRUc8TPtz8/vvv5O+vj4B+NcfAwMDWr16tXhRpiPBwcFkZWX1wfsu/unUqROlpqaKF2c6tmLFig/e+4/97N27V7wo05EnT55QuXLlPnjPxT99+vSR3K06xU1QUBCVKVPmg/de/NOnTx/J3Nb52U4wAgCJiYno3bv3B3ul0dHRsLKy0rhVqmLFirh+/TpPb6djSqUS8+bNw+bNmzXaExISUKpUqZwJRgDA0NAQa9euRdeuXTX6Mt0JCwtD//79NY4OlEolUlJSUK5cOY2pZ2vVqoUDBw6gfPnyOW1MN8aMGYOjR4/m/Pv9dLampqYa64SZmRk2btwIHx+fnDamO9nZ2Zg+fTr27Nmj0Z6QkIDSpUtrTCNsZGSEbdu2oWXLlhp9i8JnHcxKpRJv37794JRd1apVcePGDdjY2OS0yWQyWFpa8nSDOiYIAhITEz+4ttynTx8MHjz4gxA2NzfnnaMClJ2djbdv32pcP3727BmmTZuGNWvWwMHBIaddJpPlTGPLdCsuLk7jmmVWVhbGjh2LTp06oXfv3hp9y5YtCzMzM402phuCICAhIeGDyza+vr4YOnQoOnfurNFerlw5lC5dWqOtKHzWwfxvTExM8OrVK9jZ2YlLrJD4+Phg9OjR6Nu3r7jECpm/vz/GjBmDnTt3omrVquIyKwRyuRwDBgxAr169MGjQIHGZFbKWLVti3Lhx8PX1FZck4bMf/MUYY4wVJxzMjDHGmIRwMDPGGGMSwsHMGGOMSQgHM2OMMSYhHMyMMcaYhHAwM8YYYxLCwcwYY4xJCAczY4wxJiEczIwxxpiEcDAzxhhjEsLBzBhjjEkIBzNjjDEmIRzMjDHGmIRwMDPGGGMSwsHMGGOMSQgHM2OMMSYhHMyMMcaYhHAwM8YYYxLCwcwYY4xJCAczY4wxJiEczIwxxpiEcDAzxhhjEsLBzBhjjEkIBzNjjDEmIRzMjDHGmIRwMDPGGGMSwsHMGGOMSQgHM2OMMSYhHMyMMcaYhHAwM8YYYxLCwcwYY4xJiIyISNz4ubt8+TIaNWoEExMTcYkVkkePHsHW1hbW1tbiEitkaWlpePHiBWrVqgVTU1NxmRUCtVqNZ8+ewdLSEpUqVRKXWSF7+PAh7OzsYGVlJS5JQrEMZsYYY+xzxaeyGWOMMQnhYGaMMcYkhIOZMcYYkxDJB3NMTAwaN26MqlWravx06NABe/bsQVZWlniRPElLS0OnTp2wceNGcYnlwrp169CyZUtxM2OS1KtXLyxYsEDcLEkxMTFo06YN9u3bl9OWnJyMmTNnolatWqhevTpOnDihscy/mTFjBr766itxc4kzYsQITJw4UdwsOZIPZrVajfDwcAwcOBB79+7N+XFzc8OkSZPw22+/QalUihfLNT09PVSqVAnm5ubiEsuFMmXKwMbGRtzMmCRFR0cjMTFR3Fzkfv/9dwwePBgKhSKnTV9fHzY2NjAzM8tp27ZtG3bt2oVp06Zh9+7daNKkSU7tUxISEhATEyNuLnEqVqyIChUq5Px7/fr1GDJkCFQqlUa/oib5UdmRkZFo2LAhFixYgK+//lqjtnjxYuzYsQOnT5+Gk5OTRo0xxsQaN26MJk2aYMWKFeJSkZo9ezZOnjyJGzdufPI2zx49eqBs2bLYvn27uPRJo0aNwsuXL3HhwgVxqUSbMWMGzp49i5s3b8LQ0FBcLjL6c+bMmSNulJK0tDRs2rQJrVu3Rt26dTVqZmZm2L59Ozp06ABLS0tcv34da9aswZ9//omLFy+CiODg4AADAwMAgL+/P1asWAFPT0/8/fff2LBhA+zs7PC///0Pcrkc1atXBwAoFApcuHABq1atwoEDBxAXF4dq1arB2NgYMplM428o6U6ePInNmzejbdu2AABBEPDmzRv873//w7Zt23Dnzh1YWVnB0tKS37sikJSUhIMHD2L9+vU4dOgQHj58CAsLixL7eWzevBl2dnaoVasWli9fjt27dyM2NhY1a9bU2DCr1Wo8efIEa9euxc6dO/Ho0SPY2NigQoUKOe+bSqXCo0ePsHHjRuzYsQNnzpxBUlISqlevDgMDA8hkMixcuBDh4eFwd3f/x18BzJo1CykpKTA1NcWECRNw+fJlhIWFISgoCJcvX0bdunWhUqnwyy+/wNDQEK9fv8b8+fNx4cIFpKam4t69e3jy5AkyMjKwc+dONGrUSOPvP3z4MPbv34+mTZtCT08PJ0+eRGJi4gcHN8UJEUGhUOD06dNYtWoVjh07htTUVNSoUSMnA1avXo3Hjx+jfPnymDhxIq5cuYKwsDAEBgbiypUrOHfuHCIiIlCvXj2N9ePKlSvYvn076tevDyMjo3/81oIh+VPZn6JSqaBUKpGeno6ffvoJvXv3hkqlgqurK5KSkvDll19i0aJFOf0jIiJw8OBBbNy4EV999RV27tyJqKgoHDt2DE+fPs15zblz52L48OEoXbo0HB0dsXDhQgwYMABJSUn/+O0MAJ48eYJDhw7l/Pv27dto06YN/Pz8UKNGDTx79gzNmzfH9evXNZZjBS86OhotW7bE0qVLYW1tjWrVquHGjRto2rQpbt26Je5eYrx48QKDBg1CVlYWrK2tMWfOHAwfPhyZmZk5ffbu3YsWLVogNjYWrq6uePXqFdq2bYszZ84A73ZA169fj9atW+P169dwdXWFsbExJk2ahIEDB+a8zunTp3Hnzp2cf7939OhRPHr0CCYmJnB1dUXFihVhYmICFxcXVK9eHUZGRsjMzMSRI0fw8uVLlC9fHi4uLjA1NUWFChXg6uoKR0dHPH36FMeOHfvgct7Dhw9x4sQJSPyEqE4JgoCvv/4a3333HaytrWFmZobx48dj9OjROX0uXLiAa9euwdTUFK6urrCwsMj5DJydnaFWq7Fy5coPLnf89ttvSE1NRenSpTXaCwxJXEREBFWuXJm2bdsmLtHUqVPJzc2Njh07Rg4ODnTy5EkSBIGIiARBoNmzZ5OLiwslJiYSEdHJkyfJysqKatSoQZs3b6aMjAxKTk4mDw8PWrJkCRERPX78mBwdHenAgQMkCAIJgkBBQUHk5OREx44d0/j9jGjhwoVUrVq1nH/7+vpS9+7dSaFQkCAIlJ2dTb6+vjRixAjKzMzUWJYVHLVaTatWrSIXFxeKiYnJ+S4nJydTs2bNaOTIkaRSqcSLFXuNGjUia2trunv3bs578vLlSypdujTt2rWLiIieP39O1apVoy1btuT0EQSBNm3aRLVr16bo6GhKTU0le3t7WrVqFanVaqJ325yjR48SAIqIiCAioi+++IK+//57jb+BiMjNzY1mzZqV8++ff/6ZPD09SS6X57RFRESQq6srbdq0KaetUaNGNHHixJx/L1myhDw8PCglJSWnjYhoxowZ5OXlRdnZ2URENHLkSGrVqpVGn+JEEAT6/fffydLSkl6+fJnzmZ0+fZrKlClDFy5cICKirl270sCBA3OWmz59Onl7e+e8Tw8ePCA7OzuNbX1oaChVrVqV7ty5k9NW0D6bI+br169j+/btOT9dunTBzp07MWfOHHTo0AEPHz5Ew4YNcffuXezYsQM7duxAbGwsMjMzkZCQkPM6SUlJmDBhAoYMGYJSpUp9cDpPpVIhOzsboaGhEAQBMpkM1atXx4MHD9C+fXuNvuxDcrkcCQkJSE5Ohkwmg4GBAbZs2YKVK1d+8toZ0y2ZTIYRI0bg1q1byMrKwvnz57Fjxw4cOnQIKpUKkZGREARBvFiJ0KpVK3h6ekImk0Emk8HZ2Rnt27fH4cOHoVAocOnSJejr66N///45fWQyGdq0aQM9PT3cvHkTpUuXxqNHjzB48GA8fvwYf/75J3bs2IHnz58DAMLDw8W/lhWgzMxM/Pnnn+jduzecnJxyPrMmTZrg+++/R5kyZcSLfJSLiwtcXV1x4MCBnLZz587Byckp51JnYfhsgvnu3bvYt29fzk/NmjVx7NgxdO/eHWq1Grt370bz5s0xadIk7N27F/v27cPt27fFLwNjY2O0bt0aenof/1+vVq0aWrZsifnz56NHjx747bffcPPmTchkMhgbG4u7M5H+/fvjxYsXaNOmDaZMmYKTJ08iISEBpUuX/mAniBUcmUyGjIwMTJgwAV26dMGCBQuwb98+7N+/H6GhoeLuJYq1tTX09fU12qpXr47o6GhkZGQgKCgI4eHhqF+/Ptzc3HJ+2rdvj5cvX+LFixeQyWS4fPkyWrVqhdGjR2PLli3Yt29fzqluVrgUCgVCQkJQp06dnOvJAFC2bFn88ssv8Pb21uj/b0qXLo2ePXvi0qVLOaPY9+3bh44dO6JcuXLi7gXm4+kkQRMnTsTp06dzfpYtWwYvLy8YGBjg+PHjWLBgAUaOHIk9e/bk9JkwYYL4ZWBsbPzJI7cyZcpgzZo1WLlyJWQyGdatW4e+ffuia9euuHLlirg7E+nXrx/2798PHx8fnDt3DiNHjkTbtm2xcOHCfN9zznJPqVRi1qxZuHPnDn799VccPHgQp0+fxrFjx9CsWTNxd/ZuZ+b9f11cXLBmzRqNn/Xr1+P06dPo168fAgICMGLECLRr1w47d+7EyZMncfr0aaxdu1b8sh9V0LfnFPTrSxER6WTnv23btjAyMsLFixfx5s0bPH36FJ06ddLJa+fWZxPMn3LhwgXUqlUL48aNg729PWQyGdRqNe7evSvu+p8yMzOhVCoxaNAgHD9+HFevXsXu3buRmZmJWbNmITk5WbwIe0etViMpKQmenp5YvXo17ty5g7/++gvdu3fHvHnzcO/ePfEirIAoFAqcPXsW3377LVq3bo2KFSsCAFJSUnJOt5ZUMTExUKvVGm2BgYGwt7eHmZkZXF1dkZGRgQYNGsDHxyfnp1mzZnB1dYWtrS2uXbuG0qVLY9q0aXB2doaRkREEQfhgoJeJiYnGoDK8uwU0Pj5eow3vgiWvTExMkJWVpXFZIisrC4GBgRr9ijsjIyNUrlwZz5490/hsk5KSMGXKlE9+5wVB0Hjv7ezs4O3tjaNHj+LkyZNo0KBBod+OWyyC2czMDAkJCcjIyADevdEXL17E0aNHQUR5+sJfv34djRo1wqlTp6BWq2FlZYVmzZqhTZs2H6wATJNCoUDPnj3x448/Ii0tDYaGhnB3d8eQIUMgk8k0Jk9gBUsmk6F06dKIjIzMGbErl8uxefNmBAYG5mmdKG5u3bqFx48fQxAECIIAf39/XLhwAb6+vjAyMoKPjw9kMhl27twJtVoNIoJarcapU6fg4+ODwMBAmJmZISUlBSkpKSAiCIKAoKCgnCPm9+9v9erV8fDhQ8THx4OIoFKpsHr16g/C2tjYGLGxsR+Mrv4vzs7OCA0NxYsXL3L+jsuXL5e4uyBKly4NX19fHDp0CMHBwTmf2ZkzZ7BhwwaNcUb/ZGRkhNjYWI0zDKampujXrx9OnTqFTZs2oUePHihVqpTGcgWtWATz+1sd2rZti7lz52L06NH4/vvv8e2330KpVObpFGqjRo3g4+ODgQMHYtSoUZg7dy6GDh2KTZs2Yfz48RqzxjBNpUqVwvfff49Dhw6hc+fOmD17NqZPn45OnTqhe/fuaNSokXgRVkBMTU0xffp0rFu3DkOGDMHcuXPRs2dPXLt2Db169UJ6enqJDedhw4Zh3LhxmDx5MiZNmoQOHTpg4MCB6NKlCwCgRo0amDt3LqZOnYpBgwbl3D757bffYvTo0ahTpw66d+8OFxcXtG/fHtOnT8ekSZPQo0cPDB8+HHg3/wIAfPPNN4iOjkbv3r0xd+5c9OnTB+np6fDw8ND4m9q3b4/U1FQMHjwYc+fOxZMnTzTq/6ZNmzaoV68e+vXrh2nTpmH06NFYvHgxBg0aJO5arMlkMowcORJeXl7w8fHBtGnTMHLkSHz33XcYPXo0mjZtKl4EANCxY0ckJyfnfM4BAQEAgObNm8PKygrh4eHo1KmTeLECJ/kJRgRBQHp6Or744gvY2dmJywAAS0tL9O7dG0qlElFRUahRowZ+/fVXuLi4QKVSoU6dOrC2tkZ2djZkMhlatWqV88B4QRCQmpoKLy+vnElEOnfujObNmyMyMhKJiYmoVq0alixZkrMnzf5PZmYmypUrBx8fHwBArVq1cubkDQ8Ph0qlwo8//oiJEyfC1NSU379CIpPJULt2bXTq1AmvX79GWloafH19MX36dJQrVw5KpRKtWrX6YBBUSfD111+je/fuePbsGdLS0jB69GiMHz9eY3BnrVq10KtXL8TExCAuLg4ODg5YtGgROnfuDD09PRgZGaFPnz4oU6YMQkNDUaFCBSxZsgTNmjWDSqVCtWrVUK1aNdjY2KBjx45ITU1FUlISunbtih9++AFyuRzu7u5wcXEBANjY2KB79+4IDg5GSkoK3N3dUalSpZxT6g4ODsC7U7MeHh6oVasW8G7azh49eqB06dKIiopCzZo1MWfOHJQvXx7lypXLmWAkNTUV9vb2xXrnWF9fH71794aDgwOCg4NhamqKyZMnY8SIETmDfZOTk1GjRo2cyapsbW3RvXt3vHnzBikpKfDw8ICtrS0MDAxw584duLi44Msvvyz09UTyU3Iyxhhjhen9A0QWLVqELl26FPoBBQczY4wxBuD+/ftISEjAjh07EBcXhxMnTnzyLp6CwsHMGGOMvXssaGBgIBo2bIgZM2bA2dlZ3KVQcDAzxhhjElIsRmUzxhhjxQUHM2OMMSYhHMyMMcaYhHAwM8YYYxLCwcwYY4xJCAczY4wxJiEczIwxxpiEcDAzxhhjEsLBzBhjjEkIBzNjjDEmIRzMjDHGmIRwMDPGGGMSwsHMGGOMSQgHM2OMMSYhHMyMMcaYhHAwM8YYYxLCwcwYY4xJCAczY4wxJiEczIwxxpiE/D/j/Zdoj+ugYQAAAABJRU5ErkJggg==)"
      ],
      "metadata": {
        "id": "gS16NvjWUP1w"
      }
    },
    {
      "cell_type": "markdown",
      "source": [
        "4. Many-to-many architecture:<br>\n",
        "In many-to-many architectures, we map a sequence of input of arbitrary\n",
        "length to a sequence of output of arbitrary length."
      ],
      "metadata": {
        "id": "mXgpbZDHUYie"
      }
    },
    {
      "cell_type": "markdown",
      "source": [
        "![image.png](data:image/png;base64,iVBORw0KGgoAAAANSUhEUgAAAvEAAAGvCAYAAADSVIr7AAAAAXNSR0IArs4c6QAAAARnQU1BAACxjwv8YQUAAAAJcEhZcwAADsMAAA7DAcdvqGQAAKYGSURBVHhe7N13VFTX+zXwPYAioghWUFSwIIK9Kyj2LvYejTWJMWo0akwsKcaWRGOMXWOLXWPvXRR7x4KiIkgRpEqf9rx/vMovXGO+0mdwf9ZyrXCeMxgvw5l9zz33XJWICIiIiIiIyGiYKBuIiIiIiMiwMcQTERERERkZhngiIiIiIiPDEE9EREREZGQY4omIiIiIjAxDPBERERGRkWGIJyIiIiIyMgzxRERERERGhiGeiIiIiMjIMMQTERERERkZhngiIiIiIiPDEE9EREREZGQY4omIiIiIjAxDPBERERGRkWGIJyIiIiIyMioREWUjERFRTgkODsapU6cQGxuLkiVLolWrVihWrJiyG6XT3bt3cebMGWVzqk6dOsHR0VHZnMbjx49x+vRpDBs2DKampsoy/Q9arRZr165FlSpV0LRpU6hUqjR1jUaDgwcPwtraGs2bN09TI+MUFRWFbdu2oVevXihRooSynKU4E09ERLlCq9Vi9erVaNKkCbZt24br169j1apVaNq0Kfbv3w+9Xq98CaXD+fPnMW3aNHh7e+P69etv/YmNjVW+5C23bt3C5MmTodVqU9sOHTqE69evp+lH77Zv3z5Mnz4dycnJyhLCwsIwdepUBAUFKUtkpF68eIHx48fnyM+UM/FERJTjRAQ7duzA2LFjsXLlSrRu3RoFCxZEXFwc/vrrL/z+++9Ys2YN3NzclC+l97R8+XIsWrQIZ8+ezfCMYFxcHMLDw+Ho6AgTk/8/79e0aVO4u7tjzpw5yu6kICJYv349Pv30U/j4+MDJySlN/e+//8ZXX30FLy8vlCtXLk2NjNP9+/dRp04dXLx4EbVr11aWsxRn4omIKMfFxMRgwYIFGDlyJDw9PVGwYEEAQOHChTFixAg0b94c8+fPR0pKCvD6g/HKlSuK7/L/Z5sfP36cpi0yMhJnz55NnTFWq9Vp6vR/dDod/Pz8cOzYMRw6dAiXLl1CfHx8aj0+Ph5Pnz6FiCAwMBCHDh1CVFQUnjx58taMfGxsLM6fP49Dhw7h8uXLSEpKSq0BQEpKCq5evYpDhw7h3LlzePXqVZp6XqRSqdC1a1fkz58fBw8exD/nTbVaLfbv34+GDRvC3t4eeB36/fz8cPjwYRw5cgQBAQFprkglJCTg5MmTiIqKSm3D6yVpXl5eqb8vSUlJuHz5Mg4dOgRvb2/ExcWl6f+h8PX1xR9//IE9e/YoS//5fn316hXOnj2L2NhYhIWF4cSJEzh8+DBCQ0PT/AwBIDExEV5eXjh69OhbY9Ebly5dwrx583Dz5s2sHY+EiIgoh924cUNsbGzk1q1bypKIiBw6dEgqVKggDx48EBGRcePGSdu2bZXdpGbNmjJr1qzUr8+dOyfu7u7SuHFjadq0qdSrV0+GDh0qUVFRaV73IVi2bJlUrVpVwsPDlSUREUlMTJRvvvlGatWqJW5ubtKkSROpWrWqdO3aVUJDQ0VEZMeOHWJtbS3Jycmyd+9eadq0qVhZWUnZsmWladOm8s0334iIyJ07d6R58+apx71+/frSr18/CQoKEhGRFy9eyNChQ6VOnTrStGlTqV69urRu3VqCg4PT/D/lVZ6entK8eXOJj49PbXvy5IlUqVJFNm/eLCIiKSkpMn/+fHF1dRU3Nzdp2LCh1KhRQ1atWiXJyckiIvLo0SOxtbWVs2fPpn4fEZENGzZI1apVJTQ0VIKDg+Wjjz6SOnXqiLu7u1SvXl06deqU+jPN62JiYuT48eMyfPhwcXd3l2HDhqWOI2/cvn37rfdr//79U9+PN2/elCpVqsjKlSulQ4cO0rx5c6levbpUq1YtzZgVHBwsffv2FRcXF/Hw8JC2bdvKDz/8IObm5nLjxo3UfuHh4fLNN99Is2bNpEePHrJ7924JCQlJrWcUQzwREeW4v/76S2xtbVPDidKDBw/E0dFRTp06JfKeIT4oKEgaNmwoU6ZMkejoaNHr9eLv7y+tWrWSadOmiUajUb48T1u2bJk4ODjI8ePH5dq1a6l/7t+/L3q9Xvbu3St2dnZy4MABSUlJEY1GI+fPnxdHR0dZsWKFiCLEv+Hu7i5TpkxJ/ToqKkpatmwpI0eOlIiICNHr9fL8+XPp06ePfPrpp5KcnCwLFiwQFxcX8fX1FZ1OJ35+flK3bl355ptvRKvVpn6vvGrr1q1iZWUl9+7dS9NWqVIlCQgIEL1eL7t27ZISJUrIwYMHRaPRSEJCgqxfv17KlCkjBw8eFHnPED9r1iypVauW+Pn5iU6nk/v370utWrXku+++S/OavESr1cqjR49k2bJl0rJlS2nevLksXLhQnj59+tb7KzIyUlq0aCGffvqpREREiIhIYGCg9OrVSz7//HNJTk6Wmzdvip2dnTRs2FCOHTsmOp1OwsPDpWnTptKvXz9Rq9Wi0+nk888/F3d3d7l//77odDp5+PChtGvX7q0Q/0ZQUJBs3bpVOnXqJM2bN5fp06eLj4+PJCUlKbu+Fy6nISKiHJeYmAhra2uYm5srSwCQ2p6eS88nT55EXFwcJk+eDGtra6hUKjg4OGDSpEnYvHkzYmJilC/J80JCQjBq1CgMHDgw9c/06dMhIqhVqxa2bt2KJk2aICwsDI8fP0ahQoVgZ2cHHx8f5bd6p6tXr+Lu3bv46aefUKxYMahUKtjb22P8+PE4ffo0AgIC8PjxY1hZWcHe3h4mJiaoWLEi/vzzT3z88cepa+3zslatWiFfvnzYt28fRAQ6nQ579uxBo0aNUK5cOSQlJWHZsmXo06cPOnbsCDMzMxQsWBAfffQRWrRogXXr1kGn0ym/7b/y8/ODjY0NSpcuDRMTEzg7O2PNmjUYMGCAsqvRi42NxdmzZzFq1Ch89NFHOH/+PKZPn46DBw9i3LhxcHR0fGtXpcuXL8PX1xc//vhj6i5YZcuWxfjx43HixInUG1JTUlLQtWtXtGnTBiYmJihRogT69OmDO3fuICUlBaGhoTh06BDGjBmDqlWrwsTEBE5OThg9enSav++fypQpg759+2LXrl34+eefodPpMGTIEAwcOBAHDx5ERETEW8t1/kve/80hIiKDkz9/fsTHx79zB5o3u6GYmZkpS+90+/ZtxMTEYNy4cRg8eHDqn6VLl+LZs2cICQlRviTPq1ixIi5cuABfX9/UPzt37oSJiQlKlSoFX19f9O/fH506dULr1q3RqVMnXL9+/Z0/l39z+/ZtaDQaTJw4Mc1x//nnnxEYGAh/f3+4ubnB19cXffv2xcaNGxEQEICKFSuiSpUqb227mBcVL14c7du3x6FDhxAXF4fAwEDcuHEDXbt2BQAkJyfD398fDRo0SPM6ExMTNG7cGL6+vm+tg38Xd3d33LhxAwMHDsSWLVsQGBiIypUrv3VTbV6waNEidOrUCSKCv/76Cxs3bkTz5s1T77H5N7dv30ZKSspb79dff/019f2K1xMJ9erVS/NaKysrJCYmQkTw7Nkz6PV6uLq6pulTsWLFNF//m/z586N+/fqYNWsW9u7di2bNmqFz586YMGFC6n0N74MhnoiIcpyjoyMSEhLw/PlzZQl4faMeAJQsWVJZSuOfYTM5ORnFixdHo0aN0vxp164d/vjjjwzv0JJXLVu2DDNmzICnpyf27duHoKAgPH78GB4eHsqu/yk5ORlFihR567i3bt0a8+fPR8WKFdGrVy+sXbsWJiYm+OKLL+Dq6ooOHTpg79696TphMGZdu3aFj48PAgMDcfnyZZiZmaFx48bA6xtatVrtv560FihQAFqtNs02n0qvl0cDAD766COsWrUKarUao0aNgqurKzp37oyDBw8qX2b0evfuja+//hoXL17E1KlTsWbNGsTFxf3neyo5ORnW1tbvfL9WqFABeB3iLSwslC9PpVarYWpq+tbP7H1m0vV6PeLj43Hy5ElMmTIFy5Ytw4QJEzBmzBjky5dP2f2dGOKJiCjHVa1aFba2tv8aLEQEx48fR+nSpVM/UPPly/fW0pro6Gi8fPky9euKFSvCwsICn3zyCT7//PPUP5999hlGjhwJW1vbNK//0G3atAlDhw7FZ599BgcHB+D1g2reZ3/rfwaVSpUqQUQwYsSINMd91KhRGDlyJCpWrAgTExN06dIF+/btQ3h4OA4dOgRbW1v07dsXAQEBab53XtW6dWtYWlpi37592L17Nxo1aoQyZcoAr9/fxYsXx9OnT9O8RkTg6+uLUqVKoWjRolCpVDAxMYFGo0nT7+nTp9DpdBARmJqaokePHjh48CBCQ0Oxf/9+WFtbo3fv3ggNDU3zOmPn7OyM6dOn4/r16+jfvz+OHDmCatWqYfLkyfDx8Uk9Jv9UqVIlAHjn+/V/PQDtjWLFiiEhIQFhYWFp2iMjI9N8/U96vR4hISGYM2cOmjVrhu+++w6tW7fGhQsXMH/+fNSvX/+t5T//hSGeiIhyXPHixfHJJ5/gu+++w4MHD9LUjhw5gjVr1mDcuHGwtLQEAFSoUAH3799HREREar/ly5cjOjo69evWrVvj5cuXOHToUGobXs84u7m5fbDb7L1Lvnz5EBcXlxpyNBoN/vzzT/j6+iq7pmFmZpbm5Mnd3R2mpqbYtGlTmn5bt25Fw4YN4e/vj8GDB+Ojjz5CUlIS8ufPDw8PD8ycORMpKSlpfoZ5mY2NDdq0aYPVq1fDy8sL3bp1S60VKlQIPXr0wJ9//plm2cyTJ0+wbds29O7dG+bm5rC0tISVlVWarT2DgoKwfv164PUsc+/evTFy5EgkJyfDwsICLVq0wIwZM5CcnJxn7wsxNzdHjx49sH37dnh5ecHKygo9e/ZE+/btsW7dujTbpr55cu6WLVvSfI/NmzejYcOG732i4+LiAhcXF6xfvz7N1p7r1q1TdkVKSgoOHjyIXr16oXHjxoiKisLq1atx/vx5fPzxxyhatKjyJe/F9Pvvv/9e2UhERJSdVCoVatWqhfj4eIwdOxbPnj3DgwcPsGLFCvzyyy+YOHEiPv7449RZKXt7e2zbtg07d+5EbGwsli9fjpiYGJiamqY+0r5kyZLInz8/JkyYgGfPnuH+/ftYsWIFVq9ejeXLl8PZ2fmDWH/9xrVr13D58mUMHTo09WTon4oVK4affvoJvr6+ePLkCX7++WdERkaiVKlSMDc3R/fu3XH//n3s378fEydOTF02EBERgTVr1iAyMjJ1HbejoyPGjh2Lx48f4+HDh1i7di3++OMP/PTTT3B3d4eVlRUWLVqEgwcPIiwsDKdPn8akSZPQoUMHfPrpp+mafTRm5ubm+PPPP1GmTBlMmTIFhQsXBl7/PtSrVw/nzp3D7NmzERcXhyNHjuCrr75C27ZtMWnSJJibm6NgwYJISEjArFmzEBkZiUuXLuGHH35A9+7d8eTJEwwbNgy2trZYsGABjh8/jhcvXuDEiRP45ptv0LVrV4wYMSLP/w5YW1ujWbNmGDVqFGxsbLB3714kJCSgbt26AIAiRYrAzs4u9f366NEjrFmzBosXL8bs2bPRsGFDhIWFYdu2bejRo0eah3Ddvn0bZ86cwahRo2BhYQEXFxfMnTsXZ8+eRWBgIBYuXIiyZcviypUrGDFiBOzs7AAAp0+fxsqVK9GjRw/89ttv6NKlC0qXLp36fTOKIZ6IiHKFmZkZPDw80KZNGwQFBWHLli2IjY3Fpk2b0L179zRrQwsVKoQuXbogMTERz58/R/PmzVNvAqtevToqV64MlUqFOnXqoFWrVvD390doaChcXFwwf/581KlTJ8+HF6XExERYWlqiadOm/7oLkJOTE9q2bYsnT54gIiICPXr0wMSJE2FpaQkzMzM0bdoUycnJMDU1Rdu2bVODdr169eDk5ISHDx9CrVajcePGqFWrFrp06YKAgAAEBwfD0dERc+fORbNmzWBiYgJHR0f0798fJiYmePz4MRITEzFu3Dh8+eWXyJ8//wfzsylWrBj0ej06dOiAZs2apfl3m5mZoXv37ihXrhzu3LkDtVqNSZMmYdSoUaknYSYmJqhbty6qV68OX19f5M+fHz/88AOcnZ1hZmYGd3d3VKtWDf369YNWq8WTJ0+g0Wgwfvx4jBkz5q3123mVSqWCqakpnJ2d0bVrV9SoUSP1365SqVC1alV07twZgYGBCAoKQoUKFTB37lw0bdo0dbmSWq2Gu7t7mlnypKQkFChQAC1atICZmRns7Ozg6emJkJAQREVFoV+/fujbty/i4uLQpk0bFClSBABQrlw59OzZE7Vr14aFhUWWvd9VolwsRERElAt+/PFHHD16FIcOHUr98CMion/HEE9ERAbhzp076NixIwYOHIgqVaqgQIECeXJvayKirMAbW4mIyCBUq1YNGzZswNOnT7Ft27b/3CaOiOhDx5l4IiIiIiIjw5l4IiIiIiIjwxBPRERERGRkGOKJiIiIiIwMQzwRERERkZFhiCciIiIiMjIM8URERERERoZbTBIRkcHSaDTw9/fHo0eP8Pz5cyQnJ6eplylTBg4ODnBycoK1tXWaGmWOiCA8PBw+Pj4IDAxEbGxsmrqNjQ0cHR1RqVIllClTJk2NMi8+Ph537tzBs2fPEB4ejn/GNQsLC5QpUwZOTk5wcnKCSqVK81rKHLVajcePH+PRo0cICQlBSkpKas3U1BSlS5dGxYoV4ezsDAsLizSvzUkM8UREZFDi4+Nx9uxZHDhwAKdOnYJer0e5cuVQsmRJFC5cOLWfRqPBy5cvERoairCwMNSqVQudOnVC+/bt4ejomOZ70vvRarW4ffs29u7di8OHDyMkJAQODg6ws7ODjY1NaljU6/WIjo5GeHg4/P39YWtri86dO6NLly6oU6cOQ2UGiAiCg4OxZ88eHD9+HFevXkWpUqVQtmxZFC9eHGZmZql9ExISEBYWBn9/f6hUKnTs2BEdOnRAs2bNYGlpmeb70vuJiYnBmTNnsH//fpw+fRr58uWDg4MDSpUqhQIFCqT2U6vVePnyZeqJbaNGjeDp6YnWrVvD1tY2zffMbgzxRERkEKKiorBx40asXbsWpqam8PDwQJcuXVClShVYWlrCwsIC+fLlS+2v1+uRnJyMxMREhIeH4+TJkzh06BCePHmCZs2aYcyYMahZs2aav4P+XUpKCk6fPo3FixfD398fNWrUQJcuXdC4cWNYW1ujYMGCyJ8/f2o4FxGkpKQgOTkZMTExuHLlCvbv34/Lly/D0dERX3zxBdq3b5/m50X/Tq/X4+7du1ixYgUOHTqEKlWqoHPnzmjevDlsbW1haWkJc3NzmJj83wporVaLpKQkxMXF4eHDh6nBU6VSYfjw4ejbty+KFy+e5u+ht4kIXrx4gQ0bNmD9+vUoWrQoPDw80LFjR1SoUAGFCxdGgQIF0pxA6fV6JCUlISEhAcHBwTh27BiOHz+O58+fw9PTEyNGjECVKlXS/D3ZhSGeiIhylU6nw549ezBr1ixYW1vjk08+gYeHB0qWLAlTU1Nl9/8UFxeHe/fuYe3atTh79iy6deuGCRMmoGTJksqu9Nq1a9fw008/4dmzZ+jduzf69OmD8uXLI3/+/Mqu/0mr1eL58+fYuHEjtm7dChcXF0ydOhU1atRIE0Dp/4SEhGDx4sX4+++/0aBBA3zxxReoXr06LCws0nU1Q6/XIywsDCdOnMDq1auh0WgwadIkdOrUKd0/xw9FUlIStm7dinnz5qFcuXL44osv4ObmBhsbm3S/X2NjY3Hz5k0sWbIEPj4+GDRoED7//HPY2Ngou2YtISIiyiUvXryQzz77TCpVqiRLly6VqKgoZZcMUavVcvHiRWnVqpXUr19fzp07J1qtVtntg5aUlCR//PGHuLi4yJdffil+fn6i0+mU3TLk0aNH8tlnn4mLi4ssXbpUEhMTlV0+aDqdTk6fPi1ubm7SsWNHOXfunKSkpCi7ZUhERIQsWrRIXFxcZPTo0RIWFqbs8sF7+vSpfPTRR+Ls7Cxbt26VV69eKbtkSGJiohw4cEDc3NykefPm4uPjI3q9XtktyzDEExFRjtPr9eLr6yutW7eWNm3aiI+PT5YFyH+Kjo6W77//XipWrCibNm3KsqBk7GJiYmTMmDFSo0YN+fvvv7PluKjVatm+fbvUrFlTJk6cKJGRkcouHySNRiNr164VZ2dn+emnn7LsxPWfdDqd3Lx5Uzp37iwtWrQQX19fZZcPkl6vl6tXr0rDhg2lZ8+e8vTpU2WXLPHixQsZP368ODk5ycGDB7NlbBOGeCIiyml6vV5u3boltWvXluHDh2dLiPknrVYrW7ZskYoVK8qiRYuyJbAak9jYWOnZs6c0bNgw22cKRURu3rwpTZs2lSFDhmT7z9rQaTQaWbBgQeoMsFqtVnbJUi9fvpSRI0dK3bp15dGjR8ryB0Wv18vly5elZs2a8vXXX2fZ7Pu7aLVa+eOPP8TR0VH279+fLVcCGeKJiChHPXnyRBo2bChjx46VpKQkZTnbHDlyRCpVqiQbNmzIlg9UY5CUlCSffPKJNG3aVIKDg5XlbOPn5yfNmjWTkSNH5ujP3JDo9XpZu3atVK5cWQ4fPpxts7NKcXFx8umnn0qtWrUkNDQ020/aDNW1a9ekZs2aMmXKFElOTlaWs83SpUulQoUKcujQoSz/mfPGViIiyjFRUVEYOnQoLC0tsWbNmjRbt+WE7du3Y9q0aVixYgVatGihLOdpWq0WCxcuxMqVK3Hs2DE4ODgou2Srhw8fom/fvujXrx8mT56c7psHjd358+cxYMAA/Pbbb+jevXuO/vuTkpLw8ccfIyEhATt27EDBggWVXfK0oKAg9OvXDw0aNMCcOXNgbm6u7JKtFi5ciGXLluHvv/9GtWrVlOUMY4gnIqIcodfrMWfOHOzduxcHDhzItR1jfvjhBxw9ehS7d+9GqVKllOU8SURw7tw59OrVC3v37kWjRo3StftJVvHy8sLgwYOxfv16eHh4KMt5VkxMDNzd3TFkyBB8+eWXabYszCnR0dFo0qQJhg4diq+++irdOz8ZK7VajdGjRyM4OBhbtmxBkSJFlF2ynVarxRdffAF/f39s3bo1y3atybnTQCIi+qBdu3YN69evx/z583MtwAPAV199BSsrKyxcuFBZyrNiYmIwadIkjB49Go0bN86VAA8Abm5uGDFiBMaPH//W03fzsu+//x5ly5bFqFGjciXA4/UTdt/8/t27d09ZzrMOHz6Ms2fP4ueff86VAA8AZmZm+PHHH/Hy5UusW7dOWc4whngiIsp2arUaP/74I7p16wZ3d3dlOUcVKlQI33//PXbt2oXr168ry3nShg0boNVqMXnyZGUpR5mammLMmDHIly8fVq9erSznSb6+vli/fj3mzZuX68tY6tevj4EDB2L69OlITExUlvOc+Ph4zJw5E2PGjIGrq6uynKNKliyJH374AatXr8aTJ0+U5QxhiCciomx35swZ+Pv7Y8SIEbk2C/xP9erVg7u7OxYvXqws5TmhoaFYt24dvvnmG1hYWCjLOc7KygrfffcdFixYkOdn43U6HebNm4ePP/4Yrq6uuf7eV6lUmDBhAm7cuIFr164py3nOrl27oFKp0Lt371w/9gDQpk0blC9fHuvXr1eWMoQhnoiIst2qVavQpUsXVKpUSVnKFWZmZhg1ahQuXryIBw8eKMt5yvHjx5E/f3506tRJWcoVKpUKHh4eKFq0KPbs2aMs5ymhoaHYvXs3PvvsM4NZg25vb49+/fphzZo10Gg0ynKeodPpsHr1agwZMsRg7n0pUKAAvvjiC+zfvx8vXrxQltONIZ6IiLLVkydPcPfuXfTp0ydHd+T4X1xcXODk5ISjR48qS3lGYmIidu7ciQEDBrz3LLxer8eVK1dw5swZZQlPnjzBiRMnoFarlaV0KViwIAYMGIB169bl2SApIti5cyeaNGkCJycnZfmdtFotdu3a9daSC71eDy8vL9y9ezdNe0b07t0b165dQ0hIiLKUZ9y+fRsRERHo2LHje8/C63Q6HDt2DLdv307TLiK4fv06Ll26hMzuB9OoUSNYWlri/PnzylK6Gc5oSkREedKlS5dQrlw5VKlSRVnKVQULFkTXrl2xf/9+ZSnPeP78OQICAtC8eXNl6Z1UKhVu3LiBjz76CNHR0Wlqs2fPxr59+zI9q6xSqdCzZ09cunQJcXFxynKekJycjMOHD6N79+7vHSIBwMTEBEuXLsXcuXPTnOCEhIRg/PjxCAwMTNM/I+rUqYNChQrhypUrylKeceLECdSoUQNlypRRlt5JpVJh165dmDRpUpp7BpKSkjBu3Dj4+Pik6Z8RRYsWhYeHBw4cOKAspRtDPBERZSsvLy/Uq1cPlpaWytL/FBsbC29vb8TGxqZp1+l0OHfu3FshM70aN24Mf39/hIWFKUt5wr1792BhYZGum/pUKhU6dOgAnU6HU6dOpbZHRETg3Llz6NOnT6ZDPF4v63B0dIS3t7eylCfExcXh1q1baN26dbpDfL9+/XDmzBlERESktt+4cQN6vT5Lbgw3MzNDq1atcOLECWUpzzhz5gxatGiB/PnzK0vvZGJigu7du+PRo0d4+PBharu/vz8ePHiAHj16pOtn+S6tW7fGjRs3kJCQoCylC0M8ERFlqytXrqBJkybK5vcSERGBIUOGvLV2+vbt2xg8eHCmQ3yJEiVga2uL+/fvK0t5ws2bN1G3bt10b2tYqlQpNG3aFJs2bUptO3v2LGxtbVG1atU0fTNKpVKhYcOGuHLlSqaXKBiiJ0+eoHDhwnB0dFSW/qd27dohJiYmdUmTTqfD3r170b59e1hZWSm7Z0jdunXh5+eXJ6+EaDQa3LhxA25ubsrS/1S3bl1YW1unzpTr9Xrs2bMHLVu2RLFixZTdM8TBwQHm5uZvLZlKL4Z4IiLKNpGRkYiNjUXlypWVpfdSrlw5NG7cGLt27YJer09t37dvH9zc3GBvb5+mf3oVKVIEtra28Pf3V5byBB8fnww9IbJAgQLo06cPTp48mTobvH37drRv3x5FixZVds8QExMTuLq6wt/fH1qtVlk2eg8ePMjwErKyZcuiZcuW2LNnD1JSUhAQEIA7d+6ga9euyq4ZVr58eaSkpLx1lSsvCAoKQsGCBVGiRAll6X8qXrw4OnXqhIMHDyI+Ph5xcXE4dOgQBg4cqOyaYdbW1rCyssr0PQkM8URElG1evnyJwoULv/dNlUr58uVDz549ceHCBfj5+QGvb/zbvXs3unfvnq5L5f8mf/78KF68OEJDQ5Ulo6fRaBAdHZ3hE53WrVujSJEiOHjwIEJDQ+Ht7Y3OnTtnyXKCN8qVK4fQ0NA8eXNraGgoKlSooGx+b/3798fVq1cRFBQEb29vFChQADVq1FB2y7CSJUtCrVbnyZn4kJAQlCxZMsPjQ7du3RAWFoabN2/i3r17eP78OVq0aKHslmFWVlYoWLAgXr58qSylC0M8ERFlm7i4OFhZWaFAgQLK0ntr2LAhSpYsiWPHjgEArl+/jsTERLRs2VLZNUPs7OwQExOjbDZ68fHxEJEMP6WyUKFC6NixI3bu3InDhw+jZs2aqFixorJbplhbW0OtVufJ5TShoaGZejKxm5sbVCoVzpw5g927d6N3795Z+rCoNwH3n1e48orExERYWFhk+N6NKlWqoHz58jh8+DB2796Nbt26Zfj36N+YmpqiYMGCiI+PV5bShSGeiIgMWsmSJdGhQwfs2LEDer0eW7ZsQevWrVG4cGFlV1IwMTHJcJAxMzPDoEGDcPz4cfzxxx/o1q1bhm5O/lCp1epMhe4SJUqgS5cumDt3Lp48eYLWrVsru9A7REZGwsrKCvny5VOW3ouVlRV69eqFNWvW4OjRo+jRo4eyS6aVKFGCM/FERJS3vdkx4vbt27h//z527dqFjz/+ON03a35oTExMoNVqM/VU1EaNGqF8+fLw9/dHx44dlWX6D9bW1ml2l8mI7t2748WLF3B0dMzwfSUforJlyyIqKipTzzNo27Zt6n83btw4TS0rBAcHZ+im539iiCciomxTsmRJREdHp9lzOSOqV6+OatWqYezYsShSpAjq1Kmj7JJh/v7+GV43bsjezERm5sZFlUqF5s2bo02bNm/dJKjX67Fu3Tq0a9cuTXt6BAUFoUiRIhm+WmDISpQokekQX61aNZQsWRJ9+vRJnVVWq9VYtmwZRo8ejcmTJ2P06NEZ2qUpLi4OIpLh2WpDlj9/fsTHx2fqhunSpUvD2dkZPXv2hLm5eWr7xo0bMWLECHzzzTcYNmwYzp49m+Z17yMlJQUpKSmZPvYM8URElG1KliyJmJiYDIWMfypcuDC6deuGM2fOoGfPnmk+/KKiorB27VqsWbMm3fu9x8fHIywsLFNrlw2VSqVC+fLl8ejRI2XpvSUlJcHLywuDBg1665iPHz8ep06dyvBsp4jA398fdnZ2mQ4zhqhixYpp9hrPiBs3bsDa2jrNVom+vr64du0aFi5ciHnz5sHDwwN//vlnmte9jxcvXsDCwiLLtqw0JOXLl8eLFy+QkpKiLL03f39/REVFwdPTM017bGwsFixYgNmzZ+Pzzz/HunXr0n2y8OrVKyQkJMDW1lZZSheGeCIiyjYWFhZwdnbGnTt3lKV0UalUaN26NUxMTNC3b9/UHVIiIyPxww8/oGrVqnBxccFPP/2Urm3bXr16hfDwcDg7OytLeUKNGjVw69YtZfP/dO7cOaxZswYDBgyAg4MD2rRpk2ZXGrVajc6dO2PChAkZ3q1GRHD37l1Uq1YtT87EV6lSBffv38/QSc7GjRuxaNEijBs3DkOGDEHZsmVTa1WqVMHChQuRL18+qFQq6PX6DF3p8vPzQ+HChbNsy1BDUqJECVhaWmboBHbv3r1YtmwZPv30U7Ru3fqtHYFGjx4NKysrqFQq3L9/H6VLl073+zciIgJRUVEoV66cspQuDPFERJStGjZsiHPnzmVqFwy9Xo/Lly+jUaNGafbePnDgAKpXr46GDRuiUaNGqFmzJnbs2JHmtf8lICAAr169QqVKlZSlPKFu3bq4f/9+upfU3Lp1C4cOHUK1atWwbt26t3YXsrW1RZs2bTK8hR9ebxV67ty5bFlvbAjs7e1RtGjRDJ1EHTp0CF5eXpg2bRpGjBgBE5P/i2vm5uapN3U/f/4cS5cuRa9evf7x6vdz/vx51KlTJ1M/Q0OlUqnQuHHjDC11OXv2LE6ePIkBAwbgu++++9eAvnfvXnz77bfYtm0bGjdunO4T2bt378LCwgLly5dXltKFIZ6IiLJVs2bNcO/evQytD46NjcXhw4exfPly/Pbbb5g6dWqaQHP58mW4urqmfojWq1cPjx8//sd3+G9Hjx6Fm5tbnt3ppmLFijA3N8e1a9eUpf80ZswY7Ny5E7NmzUKpUqXSHVLex7Vr16DT6eDq6qos5QkFCxaEm5sbjh49mu4tNDdv3oydO3diwIAB//qMBRHBgwcPMG7cOMyYMSPdV5JiY2Nx/vz5PL3jTcuWLeHl5YVXr14pS/9pwYIF2LlzJ7744ou3tpWMjY3Fw4cP4enpidmzZ2PBggXYtGkTXrx4kabff9HpdNi/fz9atWr1rycI6cEQT0RE2apBgwZISEjA1atXlaX/KTQ0FHPmzMHu3bsxa9ast26iVKlUaQJSesJSREQETpw48daa17zEzs4ONWvWxP79+5WlXKXT6bB161b06NHjrVn+vCJfvnzo2rUrtm7dmqm12UpqtRpbtmzB/PnzMXv2bLRq1SrNie37OHHiBGxsbPLsCRReh/hnz55laEnNu0RERGDs2LHw9/eHiECtVkOlUqXr+AcEBMDHxwft27dXltLt/f9WIiKiDLCxsUGnTp2wbt06JCUlKcv/ydnZGV5eXjh+/Dh69er11odlkyZN4OPjkxrer1y58t6Puj9z5gzi4uLQvHlzZSnPMDU1xaBBg3Dw4EE8f/5cWc6wFy9eYPbs2Vi+fDlMTU3x7bffYu3atcpu7xQREYFdu3Zh8ODBmZ6NNGStW7dGYmIivLy80nWC+V9u3LiBFStWwNzcHBs2bMDUqVOxZcuW9765UqfTYf369ejUqROKFSumLOcZ5cuXR7NmzbBhw4b3Pjb/S8WKFTFu3DisWLECU6dOxaZNmzBu3Lh03Rh/4MAB2NjYoEGDBspSuqkkq95VRERE7+Dr64tevXph0aJFWfakVQCIjo7GrFmz0LFjR4gIDhw4gClTpqBUqVLKrmnExMSgd+/e6NChAyZMmKAs5ylxcXHo168fGjZsiBkzZijLOU6n0+Hnn3/GwYMHcf78eWU5TxERzJkzB2fPnsXu3bsz9fCnrHL27FkMHToUR48ezfN7z1+4cAHDhw/H9u3bUb16dWU5x4WEhKBr166YMGEC+vfvryynG2fiiYgo2zk7O6Njx45YtGhRph81/k82NjaYNm0aIiIiEBERgW+//fZ/BngRwb59+xAREYF+/fopy3lO4cKFMXbsWGzYsAFPnjxRlnOcn58fVq5cie+++05ZynNUKhU+//xz+Pn5Yd++fVk2G59RarUaM2fOxMCBAzP9oCFj0LBhQ9StWxcLFy7M0C5BWenNcxUKFSqEDh06KMsZwhBPREQ54osvvsCzZ8+wbt26TO1Uo2RtbY0+ffqgb9++bz2Q6N88fvwY8+bNw7hx41C6dGllOU/y8PBA8+bN8c0332TZ0oKMiI+Pxw8//AB3d3e0adNGWc6TrK2tMWPGDHz33XdZuqQpvUQEq1atQmhoKMaMGfNBPPH4zVKvixcv4sCBA7l6EnXjxg2sX78e3377LaytrZXlDOFyGiIiyjG7d+/GxIkTsWnTJjRq1EhZznYJCQn46KOPUKhQIaxcufJfd/7Iq4KDg9GiRQuMHTsWo0ePzpYdZ/6LTqfDH3/8gaVLl+Ls2bOws7NTdsmztFotBgwYkGY2NieJCG7duoWWLVti+/btH8wJ1BsrV67EwoULsXfv3lxZQhQZGQlPT080bdoUP/30U5adQHEmnoiIcoynpyeGDh2K4cOH49mzZ8pyttJqtZg2bRrCwsLw888/f1ABHgDKlCmDNWvWYOrUqThy5EiOz0ru3r0b8+fPx6pVqz6oAA8AZmZmWLJkCR49eoTvvvsuS3ereR9Pnz5F37598fXXX2fpPSnGYvDgwWjevDkGDx6MoKAgZTlbJSQkYOTIkbCyssI333yTZQEeDPFERJSTTE1N8eWXX8LDwwNdu3bNsSCv1WoxZcoUHDt2DMuXL8/0486NlZubG1auXIlBgwbhxIkTORbkt2/fjq+++gpz585Fs2bNlOUPQokSJbBlyxbs378fc+bMydBTVjPC19cXnp6eaNu2LSZPnpyndwN6lwIFCmDOnDkoX748Bg0alGNBPiEhAcOHD0d4eDjWrFnz1r7zmcUQT0REOapQoUKYN28e3N3d0b59e1y+fDlbw2RMTAyGDRuG48ePY/PmzahevXqOLyUxFCqVCr1798bcuXMxZMgQrFq1Kltv+NNoNFi8eDG+/vprzJo1C/369ftgjz0AuLi4YP369dizZw/Gjx+PqKgoZZcso9frcf78efTu3RutWrXCggUL3tqi9UNSpEgR/PHHHyhTpgx69OgBX19fZZcsFR4ejn79+iEsLAybNm3KlokD0++///57ZSMREVF2Mjc3h4eHB7RaLSZMmAALCwvUqFEjSy816/V63L59G/369YNGo8HGjRvh7Oz8QYdIvA7yNWvWRJUqVfDjjz/iwYMHqFGjRpbPEgYFBeHrr7/G7t27sWjRInh6embpz9cYqVQq2Nvbo0WLFti6dSs2bdqEqlWrwt7eXtk1U+Lj47FkyRJ8++23GDx4MGbMmAFzc3Nltw+OpaUlWrRogYCAAMyYMQOlSpWCs7Nzlp7c6HQ6nDlzBv369YO9vT1Wr16NMmXKZM+4I0RERLlEq9XKoUOHpGbNmtKpUyc5c+aMqNVqZbd00ev14u/vL9999504ODjItGnTJDIyUtmNRMTHx0e6du0qtWrVkvXr10tMTIyyS7rFxMTI6tWrpXr16tK9e3e5d++e6HQ6ZbcPXlhYmHz99ddSpUoV+eabbyQoKEjZJd2Sk5Pl+PHj0qFDB6lbt67s2bMn079PeVFiYqJs3rxZXFxcpGfPnnL9+vVMv0f1er08evRIPv/8c3FycpJ58+ZJfHy8sluW4u40RESU60JCQvDbb7/h4MGDcHFxwdChQ1G/fv10PQkxKSkJvr6+2LlzJ/bu3Qt7e3tMnToVbm5uWTrTltfExcVhx44dWLFiBfLnz4/BgwejVatWcHBweO/jptfr8fTpU3h5eWH58uUAgDFjxqBr166wsrJSdqfX1Go1Lly4gAULFiAgIABdu3ZFz549UbVqVeTPn1/Z/Z1evHiBK1eu4M8//8TTp0/h6emJzz77DGXLllV2pddEBAEBAfj5559x7tw51KpVC0OHDkWtWrVQtGhRZfd3io+Ph4+PD7Zt24bTp0/D1dUVEydORK1atd779yejGOKJiMgg6PV63L9/H9u2bcPRo0ehUqlQq1YtNGvWDM7OzihSpAjMzc1hZWWFpKQkpKSkIDY2FuHh4fD29oaXlxdiY2Ph6OiIoUOHwsPDA5aWlsq/ht4hODgYR48excaNGxEbGwsHBwe0bNkSNWvWRPHixVGwYEFYWlpCRJCYmIikpCS8fPkSN27cwNmzZ/HkyRMUKVIEgwcPRufOnVGyZMnsWUKQByUkJMDb2xsrVqzA06dPYWNjg5YtW6J+/fooU6YMChcujAIFCsDc3BwJCQlITk5GTEwMHjx4gNOnT+PWrVtQqVTo1KkT+vfvj8qVK3+QN7BmhE6nw927d/Hnn3/i/PnzyJ8/Pxo3bozGjRvDyckJVlZWMDc3R6FChdKMO8+fP4e3tzfOnTuH+Ph41KpVC8OGDUODBg1ybOkSQzwRERmcly9f4ubNm/Dy8sL58+cRHR0NCwsLmJiYoGDBgkhJSYFer0diYiJMTExQs2ZNeHh4oHHjxqhQocIHv/Y6MxISEnD37l14e3vD29sbfn5+MDc3R4ECBWBmZgYRgVarhVqtRkpKCipUqJB67GvWrIkCBQoovyW9J51OBz8/P1y4cAHnz59PDedvjr2ZmRnUajW0Wi2Sk5NhZWWFxo0bo1WrVqhVq9Z7PeyM3i04OBg3b97EqVOncOnSJSQlJaUee3Nzc6jVauh0OiQmJiJ//vyoVatW6slWeq5cZRWGeCIiMmh6vR6xsbEICwtDYmIiYmJiUmfkbWxsYGtry9CejRISEvDixQskJSUhMjISAGBjY4NChQrB1tYWBQsWVL6EsoharUZ4eDhiYmIQFxeH5ORkFClSBAULFoStrW2WPfmT3qbT6RAZGYmIiAgkJSUhNjYWlpaWsLS0TB13cvtqB0M8EREREZGRydl5fyIiIiIiyjSGeCIiIiIiI8MQT0RERERkZBjiiYiIiIiMDEM8EREREZGRYYgnIiIiIjIyDPFEREREREaGIZ6IiIiIyMgwxBMRERERGRmGeCIiIiIiI8MQT0RERiUpKQl6vV7ZTNlMo9FArVYrmymHiAgSExOVzZQDkpKSlE0GgSGeiIiMhohg0aJF8Pb2hogoy5SNDh06hPXr1/MEKpeEh4fj22+/RUxMjLJE2SgxMRHTpk2Dv7+/spTrGOKJiMhohISEYNasWZg0aRISEhKUZcomCQkJ+PHHH/HDDz/g8ePHyjJlMxHB2rVrsWTJEmzcuFFZpmwiIjh79iz++OMP/PTTTwY3ccAQT0RERkGj0WD69OmIi4vD5cuXsXXrVmUXyibLly/HrVu3EBwcjIULF0Kr1Sq7UDZ69OgRlixZAq1Wi19++QXBwcHKLpQNYmJiMHv2bGg0Gqxbtw5Xr15VdslVDPFERGQULl26hA0bNqR+PXPmTISEhKTpQ1kvLCwMc+bMSV1Gs3HjRly4cEHZjbKJTqfDvHnzEBQUBAAIDAzEnDlzlN0oG/z11184f/48AECv1+PLL780qBNYhngiIjJ4cXFxmD59OnQ6XWpbYGAgfv31V2g0mjR9Kevo9Xp8//33iIyMTG2Li4vD7NmzERcXl6YvZY+TJ09i586dadrWr1+Pa9eupWmjrPX48WMsXLgwTdvFixexZcsWg1lWwxBPREQGTa/XY8eOHTh37pyyhPXr1+PWrVvKZsoiN2/exJo1a5TNOHXqFHbt2qVspiyWkJCAefPmvXXCFB8fj+nTpxvUrHBeotVqsWTJkn+9mXXmzJmIiopSNucKhngiIjJoQUFB+OWXX/51V5SoqCjMmzcP8fHxyhJlUkpKCqZOnfqv20pqNBrMnz+fy5my2bZt21KXcyidOHEC+/btM5hZ4bzkypUr+Ouvv5TNAAA/Pz8sWrTIIE6gGOKJiMhgabVarFy5Er6+vspSqgMHDuDIkSPKZsoEEcG+fftw/PhxZSnVvXv3sGrVKmUzZZGQkBD88ssv/3oShde/G9OmTeMJbBZLTEzEnDlz0iwhU1qyZMl/jkk5hSGeiIgMlo+PD/78809lcxopKSn45ZdfEBYWpixRBr18+RKzZ8/+16sfb+j1eqxYsQK3b99WligLLFq0CI8ePVI2p/HgwQOsXLnyP39OlD779u3DiRMnlM1pREZG4pdffsn1h0CphNdhiIjIQB0/fjzNB6qI4PDhw7C1tUWdOnVS201NTTFo0CBUrVo1tY0y7uHDh2+thb916xaeP3+OLl26pGlv27YtWrVqlaaNMic5ORm///57mrXXEREROHjwIHr16gVLS8vUdjs7O3z++efInz9/ahtl3Jo1a/Dw4cPUr5OTk/H333+jefPmKFOmTGq7hYUFxowZg2LFiqW25TSGeCIiMhp6vR7Dhw9HvXr1MHr0aGWZstGKFSvg5eWFTZs2KUuUAx48eIBBgwbh4MGDKFWqlLJM2SQ2NhadO3fGvHnz0KRJE2U5V3E5DRERERGRkWGIJyIiIiIyMgzxRERERERGhiGeiIiIiMjIMMQTERERERkZhngiIiIiIiPDEE9EREREZGQY4omIiIiIjAxDPBERERGRkWGIJyIiIiIyMgzxRERERERGhiGeiIiIiMjIMMQTERERERkZhngiIiIiIiPDEE9EREREZGQY4omIiIiIjAxDPBERERGRkWGIJyIiIiIyMgzxRERERERGhiGeiIiIiMjIMMQTERERERkZhngiIiIiIiPDEE9EREREZGQY4omIiIiIjAxDPBERERGRkWGIJyIiIiIyMgzxRERERERGhiGeiIiIiMjIMMQTERERERkZhngiIiIiIiPDEE9EREREZGQY4omIiIiIjAxDPBERERGRkWGIJyIiIiIyMgzxRERERERGhiGeiIiIiMjIMMQTERERERkZhngiIiIiIiPDEE9EREREZGQY4omIiIiIjAxDPBERERGRkWGIJyIiIiIyMgzxRERERERGhiGeiIiIiMjIMMQTERERERkZhngiIiIiIiPDEE9EREREZGQY4omIiIiIjAxDPBERERGRkWGIJyIiIiIyMgzxRERERERGhiGeiIiIiMjIMMQTERERERkZhngiIiIiIiPDEE9EREREZGQY4omIiIiIjAxDPBERERGRkWGIJyIiIiIyMgzxRERERERGhiGeiIiIiMjIMMQTERERERkZhngiIiIiIiPDEE9EREREZGQY4omIiIiIjAxDPBERERGRkWGIJyIiIiIyMgzxRERERERGhiGeiIiIiMjIMMQTERERERkZhngiIiIiIiPDEE9EREREZGQY4omIiIiIjAxDPBERERGRkWGIJyIiIiIyMgzxRERERERGhiGeiIiIiMjIMMQTERERERkZhngiIiIiIiPDEE9EREREZGQY4omIiIiIjAxDPBERERGRkWGIJyIiIiIyMgzxRERERERGhiGeiIiIiMjIMMQTERERERkZhngiIiIiIiPDEE9EREREZGQY4omIiIiIjAxDPBERERGRkWGIJyIiIiIyMgzxRERERERGhiGeiIiIiMjIMMQTERERERkZow3xGo0Gr169QkREROqfyMhIJCUlQUSU3SkL6fV6xMfHpzn2ERERiI+Ph06nU3anLJaUlITIyMg0xz42NhYajUbZlbJYSkoKYmJi0hz76OhoJCcnc9zJZjqdLnXcSU5ORnx8PCIjI5GYmAi9Xq/sTlksMTERCQkJSElJSX3vx8XFQavVKrtSFktJSUF0dDSio6Oh1WoRFRWF6OhopKSkKLtSFtNoNIiLi4NGo0kd+9+MO4Yw5qvEEP4v3oNarUZkZCRu3ryJixcvwtfXF7GxsUhKSkrTz8bGBmXLlkW9evXQpEkTlClTBpaWllCpVGn60fvT6XR49eoVHj16hDNnzuDevXuIiIjAq1evUo+riKBw4cIoWbIkXFxc4O7ujqpVq6JIkSIwNTVVfkt6TyKChIQEBAUF4ezZs7h16xaCg4MRHR2dpl+BAgVgbW2NihUromnTpqhfvz5sbGyQL1++NP0ofZKTkxEREYGrV6/i4sWLePz4MWJiYtKcMJmamsLGxgb29vZo1KgRGjVqBDs7O1hYWHDcyQStVouYmBg8fPgQXl5euHfvHqKiohAXF4fnz5/DwsICJUqUQJEiRVCqVCnUqlULbm5ucHR0hJWVFUxMjHaOKtfp9frU43zu3DncunULoaGhePLkCeLj41GuXDkAQKFChVCsWDE4OzvD3d0drq6usLa25riTCSKCpKQkhIWF4fLly7hy5Qr8/f0RGxuLuLg4BAYGokKFCqljfoUKFdC4cWM0btwYRYsWRYECBTjuZIJGo0FUVBRu3bqFCxcu4MGDB4iMjMT9+/dhZ2cHS0tLAIC1tTXs7OxQu3bt1HHH0tIyx8cdgw/xycnJ8PLywrp163DhwgVYWVnB3d0d1apVg6OjI4oVK5baNzExEaGhoXj06BG8vb1x+/ZtVK1aFd26dUOfPn1QqlQpBsp00Gg0ePDgATZs2ICTJ08iJiYGjRs3Ru3atVGhQgWULl069XhqNBqEhYUhICAAV69exfnz52FjY4NWrVphxIgRqFy5MszMzDi4vCedToewsDBs2bIFBw8exJ07d9CgQQM0atQIlStXhp2dHQoWLAi8HvQjIiIQFBSEO3fu4Pz583j16hXc3NwwePBguLu7M1Cmg4ggMTERR44cwaZNm3D58mXY2dmhadOmqFatGuzt7WFjY5PaPzY2Fi9evMD9+/fh7e0NPz8/1K5dG7169YKnpyeKFi2a4wO7MUtJScGdO3ewZs0anD59Gmq1Gk2aNEHdunVRoUIF2NnZpfbVaDSp4fLSpUu4cuUK7Ozs0KFDBwwZMgTlypVjoEwHrVaLoKAgbNy4EQcOHIC/vz/q16+PRo0aoUqVKihdunTq8dTr9Xj58iUCAwNx5coVXLhwAXq9Hh4eHhg5ciRq164Nc3NzjjvvSUQQFxeHPXv2YMuWLbh58yYqVaoEd3d3VKlSBeXKlUPhwoVT+8fExCA0NBQ+Pj44d+4cnj9/jgYNGqBv377o0KEDT2TTKTk5GRcuXMCGDRtw4cIF5MuXL3XML1++PEqVKpXaNykpKXXc8fb2xo0bN+Dk5ISOHTti4MCBabJRthMDpNfrRaPRyMGDB8Xd3V1Kly4t06dPl9u3b4tWq1V2f6fIyEjZsGGDtGjRQmxtbWXq1KkSFRUler1e2ZX+Qa/Xy/3792XgwIFSvHhx+fjjj+XYsWOSlJSk7PpOycnJcuzYMRk2bJgUKVJE+vXrJ/fv3+ex/x/0er28fPlSpk+fLqVLl5aWLVvKxo0bJTIyUtn1nfR6vdy5cyf1ezRt2lQOHjwoarVa2ZX+Qa/XS0pKimzatElcXV2lUqVK8vPPP8vjx49Fp9Mpu79TUFCQLF26VOrVqyeVK1eW3377TWJiYvje/x90Op1cvnxZ2rVrJ7a2tjJmzBjx8vKS5ORkZdd3io2NlT179kjPnj2lZMmSMnz4cAkMDOSx/x/0er08f/5cxo0bJ6VKlZLOnTvLjh07JDo6Wtn1nbRarVy8eFEmTJggJUqUkJYtW8r58+fT9Zn9IdLr9RIfHy/Lly8XZ2dncXV1lUWLFklAQEC63rcBAQHyyy+/SPXq1aVq1aqycuVKSUpKStf3+NDo9XrRarVy4sQJadGihdjZ2cmUKVPkxo0botFolN3fKSoqSjZv3iwdO3aUkiVLyqRJk+TFixc5cuwNMsQ/ffpUunXrJra2trJ8+fJ0hcd/o9Vq5dy5c9KuXTspV66c7NixQ9mFXktKSpIZM2ZIsWLFZNSoUeLn56fskm4BAQEyZswYsbS0lO+//17i4uKUXej1+3T79u3i4OAgbdq0kdOnTyu7pFtsbKzMnz9f7O3tpWfPnuLv76/sQq/duXNHWrZsKRUqVJC1a9dm+qRHq9XK0aNHpXHjxuLi4iJHjx5VdqHXXr16JWPHjhVra2v57rvv5OXLl8ou6ebn5yeDBw+WYsWKye+//56uD+UPiUajkeXLl4utra306dNH7ty5o+ySbtHR0TJz5kwpWrSofPLJJxIWFqbsQq+dOXNG6tatK7Vq1ZJ9+/Ypy+mWkpIiW7duFVdXV2nSpIlcuXJF2YVee/HihQwaNEiKFi0qs2fPTtdJ67/R6XRy6dIl6datm5QoUULWr1+v7JLlDCrE63Q62bt3r5QvX14+/vhjCQsLy7IzGb1eL8nJybJx40YpW7asjBo1ShITE5XdPmhPnjyR+vXrS5MmTeTq1avpmn38X968uevXry/NmjUTX19fZZcPWmxsrIwaNUocHR1l/fr1kpKSouySYXq9XkJCQmT48OFSsWJF2b17t7LLBy0lJUVWrVoldnZ2MnHiRImOjs7ScSchIUEWLFiQejWQYfL/6PV6uXHjhlStWlU6dOggjx8/zrJjL68D6vHjx8XJyUm6desmL168UHb5oEVEREj//v3FxcUly6/W6fV68ff3l27duomzs7OcP39e2eWDlpycLPPmzRN7e3uZOXOmxMXFZdl7X6/XS0xMjMyYMUNKly4tS5cu5bjzDzqdTk6cOCHly5eX3r17S2hoaJYe+5SUFNm+fbuULVtWhg4dKlFRUcpuWcZgQrxarZaFCxeKvb29rFy5MktDzD/p9Xp5+PChNGnSRDp16pStB9dY6PV6OXfunFSqVEnGjBkjsbGxWfaGVoqNjZXPPvtMqlevLt7e3sryBykkJES6dOkizZs3lwcPHmTpydM/paSkyJ9//ikVK1aUBQsW8DL362Myc+ZMqVSpkvz999/Z9kH3ZqlB9erVpX///hIfH6/s8sHR6XRy5MgRKVOmjMyYMSNbL/2HhIRIr169pF69enL37l1l+YP07NkzqVOnjnh6eqZ76UZ6xMfHy+zZs8XR0VG2bNmiLH+Q3kzauLi4yKlTp7JtLNZqtXLkyBGpUqWKfPXVV9k2vhkTjUYja9askbJly8rixYvTtVwvPfSvl6i1aNFC2rRpI4GBgcouWcIgQnxKSor8+uuv4uTkJEePHs22N/Qb+tfrjlu1aiWenp5ZcunWmHl7e0v58uXl559/zrY39D8lJSXJd999J66urh/87ExUVJS4ublJ3759JTg4WFnOclqtVg4ePCjOzs7yyy+/KMsflJSUFPnxxx/FxcVFvLy8su3k6Q29Xi+BgYHSrFkz6dWr1we9rEyn08nBgwfFwcFBli1blqUzwO8SHx8vX3zxhdStWzdLlowYs2fPnknNmjXls88+y5GJLLVaLevXr5dKlSrJ5s2bleUPSmxsrAwdOlTc3d1z5D4xnU4nN2/eFBcXlw8+yOt0Olm+fHnqFemcyJpRUVHSp08fadasmQQFBSm7ZJpBhPiNGzdKlSpV5MiRI9n+hv6nsLAwadOmjfTr109iYmKU5Q/C/fv3pXr16jJ79uwc/eVOSUmRGTNmfNAfqElJSdK9e/ccP5HU6XRy8uRJqVChwgf7garT6WT+/PlSrVo18fLyyrFxR6/XS2hoqNSrV0/GjRuXIyfNhsjb21ucnZ1z/DJ/QkKCfP7559K0adNs+UA1Bi9fvhQPDw8ZMWKExMbGKsvZRqPRyIYNG6Ry5cpy7NgxZfmDoNVqZfLkydKgQYMcXVKq1+vl1q1bUrVqVfnxxx+zPbwaqj179oiTk5Ps2bMn2ydt/ikuLk66du0qXbt2zfLP+lwP8VeuXBEXFxdZt25drryx/P39pU6dOjJz5swcmQ0yJJGRkdK5c2f59NNPc+X+gISEBBkxYoS0a9cuXbuv5AVarVZmzJghtWvXzpUwodVqZf369eLo6Cg+Pj7Kcp539OhRqVKlihw+fDjHAvwber1eHjx4IBUrVpSVK1fmyriXmwICAsTd3V2mTZuWowH+jaioKOnRo4cMGjRIEhISlOU8LSUlRT777DNp3rx5jgb4N9RqdeoOKh/iTfZ//fWXODk5yaVLl5SlbKfX6+Xy5ctSpkwZOXjwYI6Pe7nt7t27UqtWLVm2bFmujDshISHi7u4uEydOzNLJm1wN8bGxsdK6dWsZP358lv6j0uvUqVPi5OQkZ8+eVZbyLI1GI3PmzBE3N7dc3TkgODhYmjVrJj/88EOOnhnnJr1eL+fPn5eSJUvK5cuXc20wTUlJkS+//FJatmyZ6R2gjEl4eLjUr19ffvvtt1wZzN/4+++/pUKFCnL79m1lKc9KTk6WUaNGSZcuXeTVq1fKco7x9fWVOnXqyMqVK5WlPEun08nOnTulQoUK8uDBg1wbd+Lj42XgwIHSr1+/XP39y2lPnz4VR0dH2bBhQ6591un1elm2bJlUq1YtVyaPcktCQoL07t1bPvnkk1yZsHzj8uXLUrVqVdm7d6+ylGG5GuKXLVsmjRo1ypG1wP/LtGnTpF27djmyPtAQvNkR4sSJE8pSjjt+/Lg4OzvLzZs3laU8KTY2Vlq2bCnfffddrg3mb0REREj16tVl9erVufahntOmTp0qbdu2zfUldFqtVkaOHCkfffRRrn6w5KTDhw9L1apV5dq1a8pSjvvrr7+kZs2a8vTpU2UpTwoJCZF69erJqlWrlKUc9+jRI6lcubLs379fWcqzhgwZIoMGDcr133W1Wi0dOnSQiRMnfjCrD/766y+pW7euQfyu//rrr9K0aVMJDw9XljIk10L8y5cvpVq1arJ161ZlKVeEhIRI/fr1Deb/JztpNBoZNmyYDBs2zCAu5aekpMioUaNk4MCBuR5qs5ter5eNGzeKk5NTrlzOVtLr9bJjxw6pUKFCrofanODn5ycODg4Gc0O1r6+vODk5iZeXl7KU5yQmJkrHjh1l+vTpylKuiI+Pl65du8rkyZOVpTxHp9PJnDlzxN3d3SCWEL25J6V+/fofRJC8deuW2NnZyf3795WlXHHlyhWpWLGiwfz/ZKeYmBipV6+erFixQlnKFZGRkeLm5ia///67spQhufZM3u3bt6N06dLo0KGDspQr7Ozs8PHHH2PFihV49eqVspyn3L59GxcuXMCoUaNy7tHA/yF//vwYNWoULly4gPv37yvLeUp8fDxWr16NL7/8ElZWVspyjlOpVPD09ISVlRW2b98OEVF2yVPWrl2Lhg0bol69espSrqhSpQp69+6NxYsXIyUlRVnOU7y9vfH8+XN8/PHHylKusLS0xLhx47Bv3z4EBwcry3lKWFgYdu7ciQkTJqBgwYLKco4zMTHBkCFDEBkZiePHj+fpcUen02HhwoUYMGAAnJyclOVcUb9+fbi5uWHFihXQarXKcp6ye/dumJmZoVu3bspSrihatChGjRqFv/76C9HR0cpyuuVKiNfr9fjzzz8xYMAAgwgyb3Tt2hVRUVG4evWqspSn7Nq1C7Vq1ULt2rWVpVzj5OSEJk2aYOvWrcpSnnLz5k08ffoU/fv3V5ZyTb58+fDFF19g48aNSExMVJbzjOTkZKxbtw6ffPIJzM3NleVc06dPH9y9exd+fn7KUp4hIli/fj3atWuHihUrKsu5pn79+ihbtiz279+vLOUp58+fh0ajQfv27ZWlXGNjY4Phw4djzZo10Ol0ynKeERUVhR07duDTTz81iEmzN4YPH46TJ08iJCREWcoz9Ho91q9fj/79+6NkyZLKcq5p3bo1VCoVvLy8lKV0y5UQf/36dURFRaFdu3bKUq6yt7dHkyZNDGZAf73cSdmcKa9evcKxY8cwaNAggxpQzM3N0a9fP+zYsSPL/80ZkR3HXkSwc+dOdOzYEdbW1spyrlGpVOjZsyfu3bsHf39/ZTlXZMfxP3v2LIoXL46GDRsqS7mqRo0acHR0xLFjx5SlXJEdxz44OBiXLl1Cz549laVcVahQIfTq1Qtbt27N8n9zRmTHsddoNNi6dSsGDhwICwsLZTnXqFQqDBgwAAcOHDCYq99ZffxFBLt370adOnVQoUIFZTlXNWnSBBYWFrh8+bKylCuy+tgDgK+vL0JCQuDp6aks5apSpUqhVatW2LlzZ6b/zbkS4s+cOYOGDRuiaNGiylKu69y5M86ePYuEhARlKce9ePECBw4cgFqtVpYy7O7duwCAatWqKUu5rmHDhhARXLt2TVnKcWq1Glu2bEFMTIyylGGRkZG4fv06OnfurCzlOmtrazRv3hzHjx9XlnLF9evXs3RplYjg0KFDaNu2rUEFmTd69OiBw4cPQ6PRKEs5LigoCGfOnMnS2dHr16/D1tbWYJYT/FOrVq0QEBBgECewSUlJ2LdvX5Z+/gQHByMgIADNmzdXlnJd2bJlUatWLZw6dUpZyhUHDx7M0qVVGo0GJ06cgKenJ0xMciVuvZOZmRk6duyIAwcOKEu54t69ezh37hz0er2ylGFeXl6oUqUKSpUqpSzlOk9PT1y9ejXTS2py5V3l7e0NDw8P5M+fX1nKdc7OzsiXLx8ePnyoLOW4qKgojBgxAu3atcPp06eV5Qx58OAB7OzsULZsWWUp1xUuXBjVq1fHzZs3laUcp9VqsXjxYtSoUQN//fUXkpOTlV3SLSIiAi9evDCY9dhKzZo1w5UrV7L0pDGjrly5Ajc3N0yZMgVhYWHKcrpptVqcO3cOHh4eBvdhCgA1a9bEq1evEBQUpCzluBcvXqBv377o3r17lv0uXrx4ES4uLrCxsVGWcl3x4sXh6OiI27dvK0s5LiUlBT/++CPq1q2L3bt3Z3qWDgACAwORlJQEV1dXZSnXmZiYoFmzZvDy8srS8JZR+/fvR506dTBnzhzExsYqy+mWlJSE27dvo0WLFlCpVMpyrmvSpAmePn2Kly9fKks57uHDh2jfvj2GDBkCX19fZTlDrly5giZNmqBAgQLKUq4rV64cbGxsMp01c+XT7ObNmwYbZEqVKgULCwuDWSem1Wpx5swZeHp6Yvjw4Xj69GmmBvZr166hbt26BjmgmJubw9nZ2SA+TPF69vb58+cYPnw42rdvj9OnT2fqJqCnT5+iaNGiBrU2759cXFzg7++P+Ph4ZSlXxMbG4pdffoGbmxtWrVqVqf8vvV6Pe/fuoX79+sqSQShbtixEBKGhocpSrlCr1di/fz9atWqFr776KtPjoY+PDxo2bGiQ446VlRUqVapkMPckiAgePnyIfv36pc7WZSbg+vr6wsXFBZaWlspSrlOpVKhfvz78/PwM5sbuly9fYtq0aXB3d8e2bdsy9f8VGxuLsLAwg7zyDQAODg5ISkpCVFSUspQrkpKSsHHjRnh4eOCnn35CRESEsku6XLt2DfXr1zfIcad48eKwtrbGkydPlKV0yfEQHx8fj4iICDg6OipLBsHS0hJlypTB48ePlaVcFR8fjzVr1sDd3R1z587N8DIPf39/g7qx7J9UKhWqVq2Kp0+fKku5SqPR4OzZs+jatSs+++wz3Lt3T9nlvTx9+hSVKlUyyAEFACpWrIjo6OgsueqQVfR6PZ48eYIvvvgCXbp0yfCSk8DAQBQqVMggl/Dh9YBeoEABg5gR+6fo6Gj89ttvaNKkCZYtW5bhEyk/Pz9UqVJF2WwQVCoVHBwc8OjRI2UpV6nVahw4cABt27bF5MmT8ezZM2WX9/Lo0SOD/bwFgMqVK+P58+cZ+r3OLnq9Hnfv3sWQIUPQo0cPeHt7Z2h52ZMnT1C2bFmDupH+n+zt7ZGUlJTpJR1ZSUQQHh6O77//Hh4eHvjrr78ydHVYrVYjKCjI4O5FeMPc3BwODg4ICAhQltIlx0N8REQEihcvjnz58ilLBqNEiRKIjIxUNhuE0NBQTJs2DS1btsTOnTuRlJSk7PKfgoOD4eDgoGw2GPb29lm6JjErxcXF4c8//0T79u3x008/pXvWNCAgwOCPfWxsbIYGzOymVqtx5swZ9OvXD8OGDUv3iVRYWBhKlSplsCdQJiYmKF26dJYsHcpqIoKAgACMHTsWHTt2xOHDh9M1O5mSkoLk5GSDPYHC6y2GDSnI/FNMTAzmz5+Ptm3bYtGiRemeNY2OjoadnZ2y2WBYW1vj1atXGQrJ2S05ORmHDh2Cp6cnxowZk+5Z0/DwcJQpU0bZbDAKFiyIQoUKZXhSMDvpdDrcv38fI0eOhKenJ86fP5+uK1Lh4eGwtrY2yHug3siKvKOSzKzNyIBnz56hZcuWuHXrlkFtL/lPc+bMwdatW+Hi4qIs5ajY2FicOHHinTMUFhYWaNOmDRYsWPDes+uurq5Yu3YtGjRooCwZhJs3b8LT0xPu7u7KUo7SarU4derUOz8wTU1NUb16dfz8889o06aNsvyvvvzySxQvXhzTpk1TlgxGyZIl0bBhQxQqVEhZylF+fn64fv26sjlV6dKl8cUXX2Dy5MnvtcvSoUOH8Msvv+DEiRPv1T83DBw4EOHh4ShevLiylKMiIyNx5syZd447hQsXRteuXfHzzz+/VzgMCQlBq1atcOjQIYOdEV6/fj1+//33XL9akJKSgtOnT78zVJmZmaFJkyaYM2cOmjRpoiz/q+HDh6NGjRoYN26csmQQUlJSULRoUbRr1y7XZ6yvXr36zqCuUqng6OiIr7/+Gp988omy/K+2bduGDRs24ODBg8qSwfD09MTLly9zfYLp+fPn8Pb2Vjansra2xqBBgzBr1iwULlxYWX5LYGAg2rRpg3PnzhnsEtbFixfj2rVrWLdunbL03hji/8WsWbNw/vx59OjRQ1nKUSEhIfjll1/euVNByZIlMXToUIwZM+a9z/aNIcR3794dU6dOVZZylFqtxoIFC965tMfCwgLt27fHt99++973dxhLiB8/fnyuB8kzZ85g8+bNymbg9ax1zZo18c0336BHjx7vFcoPHTqEefPm4dSpU+/VPzcMHDgQlpaWub5u/9mzZ1iwYME7l1WVKVMGo0ePxsiRI9/rfRIWFobmzZvj4MGDBntpe/369VizZg0++ugjZSlHJSYmYv78+Xj+/LmyBLxev9+jRw9MmTLlvU84DD3Ex8fHo3Tp0vjxxx9zfd3+xo0b37l3d758+dCoUSN888037/2QSmMI8R07dkTp0qVzfevdGzduYPny5crmVJUrV8bYsWMxdOjQ93qffCghHspHuGa3gIAAKVu2rEE/4v2LL76QmTNnKptz3N27d6Vo0aICIM2fggULSq9eveTq1aui0WiUL/tPNWrUkFOnTimbDcbhw4elTp06yuYcFx8fL40aNXrr2JuZmUn9+vVl+/btkpiYqHzZf5oyZYp8+eWXymaD8erVKylZsqT4+/srSzluyZIlbx17AFK2bFmZNWuWvHz5UvmS/3T16lVxcnJK9+9LTurVq5esXLlS2Zzjrly5IkWKFHnr2BcqVEiGDx8u9+/fF71er3zZO2m1WrG3t5e7d+8qSwbjzz//lJ49eyqbc1xUVJTUrl37rWOfP39+ad68uRw5ckRSUlKUL/tPw4YNk/nz5yubDcaTJ0/E0dFRoqOjlaUc98knn7x17E1MTKRy5cqyePHidOeW7du3S5s2bZTNBqVWrVpy/PhxZXOO27lz51vHHoAUK1ZMxo0bJ8+ePUvXuBMUFCTlypWT0NBQZclgTJ06VcaMGaNsTpccXxNva2uLiIiIdK2pzEkigqCgIJQoUUJZynVmZmaoXbs2Nm/ejE2bNqFevXowMzNTdvtPZcuWzfANUjnhxYsXsLe3VzYbhDJlymDOnDk4cuQIevfune61dvb29gaxheC7vHjxAsWKFcv1S9r/pkiRIhg+fDiOHz+Ob7/99r1mgP+pePHiePHiRbrWVOYknU6HoKAglC5dWlnKdfnz50fTpk2xe/durFq1ClWrVk3XvQWmpqawsbHJ9A432en58+fvtTQop6lUKjg5OWHJkiXYv38/2rVrl+6tmUuVKvXOmX1DEBYWhsKFCxvk1q8lSpTA+PHjcezYMYwePRpFihRRdvlPZcqUQWBgoLLZYMTFxUGn0xnUwwffsLCwQJcuXbBv3z4sXLgQ5cuXT9e4Y2tri/j4eIN5kNi/CQsLy3TeyfHfmvz588POzi5LH+SSleLj4xEVFYXy5csrS7lGpVKhdOnSmDdvXuouKekdyN+oXLmywR57EcH9+/dRuXJlZSlXWVpaYtSoUTh79iwmTpyY4Rv0qlatigcPHhhskHzy5AmKFStmUHvq5suXDy1btsTevXuxcuXK915CoGRnZweVSmWwQTI0NBRqtTrdJyfZycTEBJUrV8by5ctx9OjR1EeFZ4STk5PB7fj1hk6ng5+fX66vCVaytrbG119/jTNnzmDEiBEZvk+lUqVK8PX1zdTWxNnp0aNHKF++fIY/07KDubk5unbtikOHDuHnn3/O8HujfPnyCAwMzPCuTtktKCgI5ubmBhXi39xvtmHDBuzcufO97/1QMjU1RYUKFQw27yQmJiIwMDDT9wnleIgHgPr16+PGjRsGOagEBwcjISHBYB6GVKhQIXz22We4dOkSJkyY8F43dPyX2rVr4/bt2wa5A0lSUhLu3r2L6tWrK0u5wtTUFM2bN8fp06exZMmS9755+F3KlSuH5OTkd66zz2137txB+fLlM/0eywoqlQqVKlXC2rVrcfDgwUw/pMnExAQ1atTApUuXlCWDEBgYiHz58qFcuXLKUq4oWrQopkyZAi8vLwwdOjTdV52UatWqhYsXLxrkmB8TEwN/f3+D2cs7f/786Nq1K7y8vDB79uxMXyGoVq0aAgMDDXLHNRHB9evX4erqahBXAN/cb7Nz507s2LED9erVy9S4U7hwYVSsWNFgnn2i5OfnB0tLS4OYPFCpVChVqhRmz56Nc+fOoVevXpk+satTpw6uXr1qkONOeHg4IiMjM32fUMbfnZnQpEkTeHl5GeSSGh8fH5iammY6sGWFMmXK4Pjx41i6dGmWnVRUq1YNkZGRBnmJLy4uDnfv3kXjxo2VpRxnbm6OBQsW4PTp01n2sIiSJUvCwcEBt27dUpYMwsmTJ+Hh4ZHuJVrZoX379rhy5QoGDhyYJVcGzMzM0LRpU5w6dSpTD+zKLlevXoWtra1B3IBVqVIlnDp1CrNmzYKtra2ynCENGjTA48ePER4erizluuDgYAQFBaFOnTrKUo4rWLAg/vzzT+zZswfVq1fPknGnTJkysLS0xJ07d5SlXKfX63H06FG4u7tnyb81sz7//HNcvHgRnTt3zpJtsC0sLFCrVi2cOHHCIIOkl5cXXFxcDGImvkGDBrhx4wYmT56c7mVL7+Lu7o6rV6++c3OQ3OTv74+kpKRM74KYKyG+U6dOuHHjhsE92AQAdu3ahTZt2mRJcMgsa2trODk5KZszpWrVqsiXLx8uXLigLOW6U6dOoUSJEgaxnMbMzCzLd/ApXLgwmjRpgj179ihLuS44OBgXL15Eq1atlKVc4ejoCBsbG2VzhqlUKrRt2xaHDx9GYmKispyr1Go19u7dC09PT4PYOcfGxibDywfepUGDBoiNjU33/v45Yf/+/ahdu7ZBzEaam5vD1dVV2Zwptra2cHZ2xpEjR5SlXPfgwQNERESgWbNmylKuqF69eqavOv2TmZkZunfvjr179xrcMsqkpCQcOnQInTp1UpZyhb29fZbfE9S0aVM8ePAA/v7+ylKu+/vvv9GqVatMv99yJcRXqFABlSpVwq5du5SlXOXr64t79+7B09NTWcozLCws0LNnT2zZssWgroQkJCRg06ZN6N+/v0HMyGQHlUqFnj174uTJkwZ1o5mIYMuWLfDw8MjyQdSQuLu7o3DhwgYXZq5fv46IiAg0bdpUWcozrK2t0a5dO2zcuNGgHuoTERGBw4cP5+lxx9TUFAMHDsTu3bsN6oFWOp0Oa9asQbdu3VCwYEFlOU9QqVRo1aoVnj9/jhs3bijLuer48eMoXLjwe2+RbIzKly+PevXqYceOHcpSrnr27BnOnz+Prl27KkvplishXqVS4dNPP8WGDRsM6gmFW7ZsQbly5QxmTXZ26dq1K0JCQgxqffCtW7dw79499OnTR1nKU5ycnNC4cWNs3LhRWco1ycnJWL58OYYNG2YQ61Kzi6mpKYYNG4YVK1YgLi5OWc41q1atQuPGjTO9NtLQ9evXD1evXjWoG81OnDiBuLg4tG7dWlnKU+rXr48yZcpg9+7dylKuCQsLw5YtW/DZZ58ZxBWo7FK4cGEMHToUv/766zsfoJbTtFotlixZgvbt2xvkTnxZRaVSYfjw4di/f79BTZzt2bMHxYoVQ6NGjZSldMuVEI/XS2pMTU2xY8cOg7jM9PjxY+zYsQOjR4/O9OUNQ1exYsXUR3i/64EuOSkhIQELFixAv379DObGvuxiYWGBcePGYfHixQaxU4per8fq1athZWWFtm3b5tnZyDeGDh0Kf39/HD9+XFnKFZcvX4aXlxdGjhyZp4MMXt9UX716daxYscIg7kuIiIjA0qVLMXLkSBQrVkxZzlNsbGzw6aef4tdffzWI2XitVotly5ahdu3aBnEvQnYyMTHB6NGjcfLkSYOZjT9+/DiePn2KoUOHZurGXWPQsmVLFC1aFGvXrjWIrBkYGIj169dj9OjR7/XQqv9JuXF8Ttq2bZvUqFFD7t27pyzlKI1GI5988okMGDAg3Q/wMVZ+fn5Sq1Yt2bx5s7KU4zZu3CguLi4G8ZChnJCcnCx9+vSRIUOGiE6nU5Zz1LNnz6R06dJy4MCBdD1Iw5gtWbJEGjVqJMHBwcpSjkpMTJSOHTvKhAkTRK1WK8t50rVr16Rq1apy+PBhZSlH6XQ6WbBggbi5uaX7wWHGKioqSlq2bCkzZsxQlnLcpUuXxN7eXi5fvqws5Vlff/21tG7dOt0PjMpqcXFxUq9ePVmwYIFotVplOU86cuSIuLq6yo0bN5SlHKXRaGT8+PHi6ekpr169UpYzJFdDfHJysgwcOFD69OkjsbGxynKO2bx5s7i6usqdO3eUpTxLr9fL+vXrxdXVVR4/fqws55gHDx5I7dq1DeJJlTnJ19dX7O3tZffu3bkWnuPi4qRXr14yaNCgD2Ywl9dP4+3QoYOMHTtWkpKSlOUcs2DBAqlVq5Y8e/ZMWcqztFqt/PTTT9K4ceNcPYm6cOGCuLq6yoEDB5SlPM3b21vKlCkj586dy7VxJywsTNq0aSMTJkxQlvK0ly9fSo0aNWT27Nm5dtKu0+nk66+/lubNm0tUVJSynGep1WoZN26cdO3aNVefDLx//36pWrWqXLhwQVnKsFwN8SIijx8/lnr16smsWbPS/TjprHD9+nVxcnKSNWvW5PqsaE6Lj4+XESNGSMeOHXNldiAsLEy6dOkiw4YN+2CugLyh0+lk/fr14ujoKHfu3MnxD1S1Wi0zZ84UV1dXCQoKUpbzvJs3b0rVqlVlxYoVOX4Co9fr5fjx41K2bFk5fPhwjv/sc1tkZKR4enrK4MGDJT4+XlnOds+ePRM3NzeZOnVqroWp3KLRaOSXX36RatWqSUBAQI6/9xISEmTs2LHStGnTDypEvnHixAmpUKGCHDhwIMfHHZ1OJzt27JAyZcrI1atXleU8LygoSDw8PGTKlCmSnJysLGe7O3fuSPXq1eWPP/4QjUajLGdYrod4EZHTp09L1apV5bfffsvRIP/48WOpU6eOfPvtt7nyQzUEISEh0qJFC+nfv3+WXd55H9HR0TJs2DBp3bq1hIaGKssfBK1WK+PGjZN69erJgwcPcuwDVa1Wy+LFi6VSpUpy9uxZZfmDsXXrVqlcubLs2rUrxz5Q9Xq9XLx4URwdHWXBggVZOpgbk4cPH0rDhg1zfOyNjIyUjh07Sr9+/T7IECmvr4APHjxYWrZsKeHh4cpytklOTpa5c+dKjRo1xMfHR1n+YCxZskSqVKkihw8fzrGJQ51OJydPnpSyZcvK9u3bc+zvNTSXL18WV1dXmTNnTo5mTX9/f3Fzc5NPP/1UEhISlOVMMYgQLyJy4MABcXR0zJEgr9frxdfXV2rVqiUjRoyQuLg4ZZcPypuZqf79+0tsbGy2h8nIyEj5+OOPxd3dXfz8/JTlD0piYqKMHDlSGjRoIHfv3s32wTU5OVkWLVoklSpVkkOHDinLHxStVisrVqyQypUry7Zt27I9UOt0OvH29hYHBweZM2dOjp04GKpLly6Js7OzTJo0KUeuxAUFBUnnzp2lVatWH+zEwRtxcXHSunVrad26tTx9+jTbx/y4uDj58ccfxdnZWU6ePKksf1C0Wq3MnTtXKleuLIcPH872cUCr1cqhQ4fE0dFR5s+fryx/cE6fPi3Ozs4yZ86cbF9Oqdfrxd/fXxo2bCiDBw/OlhUPBhPiRUSOHTsmFStWlK+++irbZoXVarUcPnxYKlasKF9++WWOfHgYg6CgIGnUqJG0bNlSnjx5ki2Dul6vFz8/P2nbtq20bNkyV9fiG5LExEQZNWqUODs7y+HDh7MtTEZFRcnEiRPFycnpgw/wb2i1WlmzZo04OjrK7Nmzs+2EPjk5WbZt2yblypWTmTNnKssfrBs3bkjdunWld+/eEhYWli3jjk6nk5s3b0r9+vWlV69eH3yAfyMiIkIGDBggderUEW9v72wLky9evJAhQ4ZIzZo1xdvbW1n+IGm1Wvn999/F0dFRVq5cmW0TlwkJCbJo0SIpV66cLFu2TFn+YHl5eUnFihVl5MiR2RKs5fXP+MKFC1K5cmUZMWJEtmVagwrxIiJ3796Vxo0bi5ubm9y8eTPLBha9Xi8REREyZcoUKVGihCxZsiRbPjCMWVxcnHz00UdSvnx52bp1qyQnJ2fJMdLr9aLRaGTt2rVSunRpGTly5Ad7KftdtFqtLF68WEqXLi2TJk2SqKioLDn28jrEXLp0SZo2bSr169eX27dvK7t88E6fPi2urq7SsWNHefDgQZZdEdHr9RIcHCyffPKJ2Nvby44dO5RdPnghISHi6ekpVapUkf3794tarc6S975er5fk5GT5448/pESJEjJlypRcWYNvyJKTk2XatGlSunRpmTNnjrx69SpLjr28HtOOHTsmNWrUkA4dOnzwV13/zb59+8TJyUkGDRokgYGBWXbsdTqdPHr0SPr27SuVKlWSo0ePKrt88B49eiTu7u5Su3ZtuXTpUpZmzejoaPnuu+/ExsZG5s+fn20Tc2KIIV5e33D5448/SsGCBeWzzz7L9O4NcXFxsmTJEqlUqZK0bNlS7t69q+xC/7B161ZxcHCQli1byunTpzN185dGo5HDhw9L06ZNpWzZsrJ169ZsfUMbu2vXrkmLFi2kQoUK8vvvv2f67N3X11c++eQTKVasmMyYMSNXd4EydFFRUTJu3DgpWrSojBs3LtO7p0RGRsr8+fOldOnS0q1btw9mC9WMWrJkiZQoUUK6desmly5dytSJlFqtlr1790r9+vXF2dlZTpw4kanvl9edPn1a6tWrJzVr1pStW7dmemb41q1b0rNnTylRooQsXLgw25ctGLOgoCAZOHCgFCtWTGbPnp3p3VOCg4NlypQpYmdnJ8OHD5ewsDBlF3otKSlJ5s6dK0WKFJHBgweLr69vpsaJhIQEWblypTg5OUndunXl0qVLyi5ZziBDvPxj6cWgQYPE2tpaunXrJlu3bn3vN2RKSoqcO3dOJkyYIOXKlZMGDRpkyeD0IdDr9RIVFSU///yzVKhQQRo0aCC///67PHz4UNn1X+l0OvH19ZXff/9dateuLfb29jJ79uwcWW9v7N7MHv7999/SuHFjKVu2rEyePFm8vb3f+2QqLCxMtm3bJl26dBEbGxv57LPP5OHDhzz270Gr1cr169elT58+YmVlJQMGDJCdO3e+9yXXhIQEOXXqlHzxxRdSqlQpadOmjRw5ciRTHwwfijdXLSZOnCilS5cWDw8PWbZsmQQEBCi7/iu1Wi23b9+WWbNmiZOTk1SqVEkWLVokSUlJfO//D3q9XuLj42X58uVSrVo1qVixovzwww9y7dq195p00el0EhgYKGvWrJE2bdpIsWLFZOzYsfL8+XMe+/eg0WjkzJkz0q5dO7G2tpZPP/1UTpw48d7L++Lj42X37t0yePBgKVasmHh6esq5c+c47rwHvV4vgYGBMmbMGClWrJh06tRJNm3a9N7L7lJSUuTKlSvyzTffiIODg9SpU0f++uuvHLthXyUionwAlCHRarV4/vw5Nm/ejOPHj+Phw4coX7486tWrB0dHR5QsWRKFCxeGiCA0NBQvXrzAtWvX4OPjgyJFiqBhw4bo378/3NzcUKBAgTz/RMqspNfrER0djX379mHv3r24efMmLCws0LhxY1SuXBklS5ZEsWLFoFKpEBERgfDwcNy/fx+3bt1CbGws6tSpg549e6JLly4oUqRInn8yXFYSESQmJsLb2xvbt2/H+fPnERcXh/r166NatWooXbo0SpYsCTMzM8TFxSEyMhJ+fn64ffs2Hj58CGdnZ7Rr1w4DBw5E2bJlYWZmpvwr6B1EBFqtFo8fP8aGDRtw5swZ+Pv7o1KlSqhfvz4cHBxQsmRJWFhYQK1W4+XLl3j+/Dlu3bqFW7duoXTp0nB3d0f//v1Rp04d5M+fn+NOOuh0OoSHh2PPnj3Yu3cv7t69i6JFi6JBgwaoUqUKSpQoAWtrawDAy5cvER4ejjt37uDq1aswNTVFgwYN0LVrV7Rr1w5WVlY89umg1+sRHx+P06dPY/fu3Th37hw0Gg0aNWqEatWqwc7ODsWKFYOJiQlevXqFiIgI3L9/H7dv30ZgYCBcXV3h6emJfv36oUSJEnn+KcRZSUSgVqvh6+uLtWvXwtvbG4GBgahZsyZq1qwJe3t72NrawtzcHCkpKXj58iWePn2KW7du4e7du3BwcICHhwcGDRoEZ2dn5M+fX/lX0H/Q6XQICgrC1q1bcezYMdy/fx9ly5ZF/fr1U7OmlZUVACAkJARhYWG4ffs2bt26BXNzczRu3Bj9+vVDs2bNYGFhkWPjjsGH+DdEBPHx8YiIiMC1a9dw9+5dBAQEIDY2FjqdDgBgZWWFokWLolq1aqhTpw4cHR1hZWWFfPnyKb8dpVNycjKio6Nx9+5d3LhxA0+ePEF0dDRSUlIAAPnz50fRokVRuXJl1KpVC66urrCxsYGFhYXyW1E6abVaxMTEwN/fH9euXYOvry/Cw8ORkJAAvH6sd9GiRWFvb49atWqhVq1aKFGiBAoVKpRjA0le9SbUhIaG4saNG7h79y6eP3+OuLi4NONOqVKlULVqVTRq1AhlypSBlZUVA0wmvTmRjYqKgo+PD27fvo2nT58iJiYmddwpWLAgihUrhkqVKqFu3bpwcnJC0aJFGWCygEajQXR0NPz8/HDt2jU8fvwYERERqeNO/vz5YW1tjfLly6NOnTpwdXVF8eLFUahQIeW3onTS6/V49eoVQkNDceHCBTx69AjBwcGIi4uDiEClUsHGxgYlSpRA7dq1Ubt2bZQuXRqFChXiuJNJIoKEhARERETg+vXruHv3Lp49e4aYmJjUMb9gwYIoXrw4qlatirp166JSpUooUqRIrmRNownx/0ZEkJKSAr1eDwAoUKAAZ3tzkEajgUajAQCYmZnxgzMH6XS61CBjYmKCAgUKKLtQNuG4k7vUajW0Wi3wOkjyKlPO0Wq1UKvVAMf8HKfX65GSkpIa4jlBlnPeXCV5E+LNzc0N5mTJqEM8EREREdGHiNNHRERERERGhiGeiIiIiMjIMMQTERERERkZhngiIiIiIiPDEE9EREREZGQY4omIiIiIjAxDPBERERGRkckTIf7JkyfKJsoBISEhqQ/+oJyn0WgQEhKibKZsptfr8fz5c2UzERFRjjL6EB8TE4MhQ4bg4MGDyhJlI71ej4kTJ2LhwoWpTzGjnHXkyBEMGTIEUVFRyhJlI19fX/Tp0wcPHjxQloiIiHKMUYd4vV6P9evXw9vbGzNmzEh9DD1lP29vb+zYsQO//fYbAgIClGXKZtHR0Zg1axZOnTqFjRs3KsuUTVJSUjB//nxcvnwZP//8M09giYgo1xh1iPf398fvv/8OEcHNmzexevVqiIiyG2WxhIQETJ8+HVqtFi9evMAvv/zCE6gctmHDBly/fh06nQ6LFi3C48ePlV0oG5w/fx47d+6EiGDXrl04c+aMsgsREVGOMNoQr1arsXjxYvj7+wMARASzZs1CWFiYsitlIb1ej+3bt8PLyyu1bdOmTbhy5UqafpR9AgICsHDhQmi1WgDA06dP8fvvv0Ov1yu7UhaKjY3FnDlz8OrVKwDAq1ev8OOPPyI5OVnZlYiIKNsZbYi/fPky1q9fn6YtNDQUv/76a2q4oaz34sULzJ49O80Vj7i4OMyaNSs13FD20ev1+O233xAYGJjaJiLYsmULLly4kKYvZa0dO3bg3LlzadouXLiA7du3p2kjIiLKCUYZ4uPj4/Hbb78hOjpaWcKKFSvg4+OjbKYsoNVqsXTp0n9dunHy5Ens37+fy5my2dWrV7Fu3bq3Zt0jIyMxd+5czgpnk+DgYCxYsOCt3Zi0Wi2+//573lxMREQ5zihD/IEDB3D48GFlM/A64M+cORPx8fHKEmXS3bt3sWzZMmUz8DrMzJs3D8HBwcoSZRGNRoOffvoJsbGxyhLw+kRq9+7dymbKJBHB0qVL4evrqywBr+/NWbhw4VsnVkRERNnJ6EJ8WFgYfvnll/+ccdy/fz9OnDjBWeEslJSUhLlz5/7njKOPjw9Wr17NMJMNRAT79+/HoUOHlKVUycnJmDNnDmJiYpQlyoTbt29j1apV/zmeLFiwAM+ePVM2ExERZRujC/GbNm3CvXv3kC9fvtQ/KpUKZmZmab5esGDBvy63oYw5f/48Dh8+nOa4m5iYwNTUNE3bunXr8OjRI+XLKZNSUlLw3XffpTneZmZmUKlUaY6/n58fVq9erXw5ZZCI4Ndff0VMTMxbY84/v1ar1fj+++/fWm5DRESUXVTyX9NLBujGjRtISEhI/To+Ph5ff/01Pv30U9SoUSNN37p166JgwYJp2ihj/Pz88OLFi9SvRQRz585F5cqV0atXrzR9K1euDFtb2zRtlDlJSUm4du1amrY7d+5g1apVmDVrFqysrFLbCxcujFq1aqXpSxmj1Wpx9erVNDfLBwQEYObMmZg3bx6KFSuW2p4/f37UrVsXZmZmqW1ERETZxehCvFJsbCw6d+6MuXPnws3NTVmmbCIiGDZsGOrUqYMxY8Yoy5QDvL29MXXqVOzevRs2NjbKMmUTX19fDBw4EAcPHuTJKhER5RqjW05DRERERPShY4gnIiIiIjIyDPFEREREREaGIZ6IiIiIyMgwxBMRERERGRmGeCIiIiIiI8MQT0RERERkZBjiiYiIiIiMDEM8EREREZGRYYgnIiIiIjIyDPFEREREREaGIZ6IiIiIyMgwxBMRERERGRmGeCIiIiIiI8MQT0RERERkZBjiiYiIiIiMDEM8EREREZGRYYgnIiIiIjIyDPFEREREREaGIZ6IiIiIyMgwxBMRERERGRmGeCIiIiIiI8MQT0RERERkZBjiiYiIiIiMDEM8EREREZGRYYgnIiIiIjIyDPFEREREREaGIZ6IiIiIyMgwxBMRERERGRmGeCIiIiIiI8MQT0RERERkZBjiiYiIiIiMDEM8EREREZGRYYgnIiIiIjIyDPFEREREREaGIZ6IiIiIyMgwxBMRERERGRmGeCIiIiIiI8MQT0RERERkZBjiiYiIiIiMDEM8EREREZGRYYgnIiIiIjIyDPFEREREREaGIZ6IiIiIyMgwxBMRERERGRmGeCIiIiIiI8MQT0RERERkZBjiiYiIiIiMDEM8EREREZGRYYgnIiIiIjIyDPFEREREREaGIZ6IiIiIyMgwxBMRERERGRmGeCIiIiIiI8MQT0RERERkZBjiiYiIiIiMDEM8EREREZGRYYgnIiIiIjIyDPFEREREREaGIZ6IiIiIyMgwxBMRERERGRmGeCIiIiIiI8MQT0RERERkZBjiiYiIiIiMDEM8EREREZGRYYgnIiIiIjIyDPFEREREREaGIZ6IiIiIyMgwxBMRERERGRmGeCIiIiIiI8MQT0RERERkZBjiiYiIiIiMDEM8EREREZGRYYgnIiIiIjIyDPFEREREREaGIZ6IiIiIyMgwxBMRERERGRmGeCIiIiIiI8MQT0RERERkZBjiiYiIiIiMDEM8EREREZGRYYgnIiIiIjIyDPFEREREREaGIZ6IiIiIyMgwxBMRERERGRmGeCIiIiIiI8MQT0RERERkZBjiiYiIiIiMDEM8EREREZGRYYgnIiIiIjIyDPFEREREREaGIZ6IiIiIyMgwxBMRERERGRmGeCIiIiIiI8MQT0RERERkZBjiiYiIiIiMDEM8EREREZGRYYgnIiIiIjIyDPFEREREREaGIZ6IiIiIyMioRESUjYbq1atXCAsLw4MHD3Dnzh08e/YML168wMWLF1GtWjWULFkSDg4OcHFxQe3atWFnZ4fixYvD1NRU+a0onVJSUhAeHg4/Pz/cuXMHT548wb59+2BtbY0KFSoAAMqUKYNKlSqhevXqqFy5MkqVKgVzc3Plt6J00ul0iIiIQGBgIO7cuQNfX188e/YM4eHhuHfvHho1aoRSpUrB0dERVatWRc2aNWFrawtLS0uoVCrlt6N0iomJwYsXL+Dj45P65/Tp02jSpAnMzc1hYWEBBwcHODs7p447RYsWhYkJ50iIiCj7GHyI12q1eP78ObZt24YTJ04gICAARYsWRbVq1eDs7AxbW9vUvvHx8Xj27Bnu3buHe/fuoUSJEqhTpw769euHOnXqwMrKKs33pv+m1+sRERGBkydPYs+ePXjw4AE0Gg1q1KiBKlWqwNHREWZmZgAAtVqNwMBAPH78GLdu3QIAVK1aFV27dkWHDh1QrFgxBsp0EBHEx8fj2rVr2L59O65du4bIyEi4urrCxcUF5cuXR+HChYHXP6fQ0FA8ffoUt27dQmRkJCpVqoTWrVujZ8+eKFeuXOrPid6PWq3G06dPsXnzZpw7dw4BAQEoXbo0atasiQoVKqBkyZKpfaOiovDs2TP4+Pjg6dOnKFWqFJo0aYL+/fvDxcUFBQsWTPO9iYiIsoLBhni9Xg9/f38sXLgQu3fvRs2aNdG3b194eHigbNmy/3OWKz4+HlevXsX+/fuxa9cuODg4YPTo0ejSpQsKFCig7E7/ICKIiorC+vXrsWbNGpibm6Nfv35o164dqlatinz58ilfkoZGo8G9e/dw4sQJbN68GcnJyRgyZAhGjBgBGxsbhvn/ITExEUeOHMEff/yBZ8+eoWfPnujQoQMaNWoES0tLZfc09Ho9goODcebMGWzduhW3b99G9+7dMXbsWFSoUIFXpf4HrVYLHx8f/Prrrzhx4gRatGiB3r17o0mTJrCzs1N2f0tUVBQuXbqE3bt34+jRo6hbty7Gjh0LNzc35M+fX9mdiIgo48TA6PV6iY+Pl5kzZ4qNjY0MHz5cbt++LTqdTtn1vUVGRspvv/0mlSpVkk6dOomPj4/o9XplNxIRrVYre/fuFVdXV2nUqJHs3LlTkpKSlN3em0ajkT179kjDhg3FyclJ9u3bJ2q1WtmNXr/3fXx8pGPHjlK+fHmZP3++REVFKbuly9WrV6Vfv35SpkwZmTNnjrx69UrZhV4f+5cvX8qkSZOkVKlSMnr0aHny5Emmxong4GCZOXOm2NraSt++fcXf3z9T34+IiOifDC7E379/X5o0aSI1a9aUy5cvZ+mHXnh4uIwbN06KFSsma9euzdLvnRckJibKyJEjpXTp0vLnn39KSkqKskumLF26VIoXLy6ff/45w+S/WLlypdjZ2cmYMWMkIiJCWc6Uc+fOScOGDcXDw0N8fX2V5Q/e5cuXpWbNmtK8eXO5ffu2spwpQUFB8tFHH4mdnZ3s2rVLWSYiIsoQgwrxR44cEUdHRxk9erTEx8cry1lCq9XK0aNHxc7OTiZNmiQajUbZ5YMUGBgoHh4e4uHhkekZyHfR6/Xy9OlT8fDwkBYtWkhISIiyywcpOTlZxo8fLxUrVpRDhw5l6qrTu+j1eomJiZHx48dLhQoV5NixY8ouH6xt27aJnZ2d/PDDD1l+4vpGSkqKrFu3TkqVKiVz585VlomIiNLNYEL8nj17xNHRUX7//fdsX26h1+vF19dXKleuLBMmTJDk5GRllw/K48ePpXbt2jJgwAB59epVtgT4f4qIiJA+ffpIgwYN5OnTp8ryB0Wj0ciAAQOkbt26cvv27Ww/9snJybJgwQJxcHCQvXv3KssfnM2bN4ujo6P89ddf2X5Cr9PpxNvbWypUqCBTp04VrVar7EJERPTeDCLEnzlzRpydnWX58uXZ/kH6T3fv3hVXV1f59ttvs20GztCFhYVJmzZtZPDgwZKYmKgsZ5vY2FgZNGiQtGnTRkJDQ5XlD8akSZOkVq1a2Xb1499oNBpZvXq1ODo6ysWLF5XlD8bu3bulUqVK8tdff+VYoNbr9XLr1i1xcHCQxYsX5+h4R0REect/b/GSA/z9/TFp0iT06dMHQ4cOzdGt8FxdXbFhwwZs374dW7duhYFu1JNtkpKSMGPGDJiYmGDhwoWwsLBQdsk2VlZW+PXXX5EvXz5MnToVKSkpyi55mohg/fr12LlzJ9auXQtHR8cc27XHzMwMH330EYYOHYqRI0ciLCxM2SXP8/HxwdSpUzF58mT069cvx3btUalUqFGjBlatWoXZs2fjxIkTH9y4Q0REWcP0+++//17ZmFNSUlLw1VdfwcrKCnPnzs2V/ZTt7OxgY2ODuXPnokWLFmn2f87L9Ho9tm7dim3btmHNmjWwt7dXdsl2lpaWqFmzJv744w9YWlqidu3ayi551pMnTzBw4EAsWLAALVq0+J9bpmY1MzMz1K5dGxcvXsSZM2fg6emZ4/8PuSUxMREjR45Ew4YNMX78+Bx/IJlKpUrd7vO3335D+/btYW1trexGRET0n3L1U/vw4cO4fv06pk2blvrgmtzQr18/NGnSBD///DMSExOV5Tzp2bNn+P333zF58mRUqVJFWc4xrq6umDRpEn777Tc8e/ZMWc6TkpOTMX36dLRv3x7du3fPtfBsZWWF2bNn4+zZszh+/PgHMyO8bt06REVFYeLEiTl69Unp008/RcmSJbF48WJoNBplmYiI6D/lTnp4/TCmX3/9FcOHD4eLi4uynKPy5cuHCRMm4MaNG7h48aKynOfo9Xr8+eefKF26NHr16qUs5yiVSoXu3bvD2dkZixcvVpbzpHPnzuH8+fP46aefcnT52L+pUKECJkyYgO+++w5JSUnKcp7z8uVLLF68GJMmTULp0qWV5RxlYWGBGTNmYP/+/Xjw4IGyTERE9J9yLcQfPnwYOp0OH330Ua7NRP6Ti4sLevTogWXLliE5OVlZzlOePHmCffv24YsvvjCIp9cWKlQIY8aMwd9//43AwEBlOU9JSkrC0qVLMWzYMJQpU0ZZznEmJiYYMmQIwsLCcOzYsTw/G79582aULVsW7du3z7F7EP5LgwYN0KxZM6xatQo6nU5ZJiIieqdcSc96vR6rVq1C7969UaJECWU51/Tr1w8PHz7EnTt3lKU8Zf/+/bC3t4eHh4eylGvq1q0LV1dX7Ny5U1nKU/z8/HDt2jUMHz5cWco1hQsXxieffIINGzZArVYry3mGTqfD8uXLMXToUBQqVEhZzhWmpqb46KOP4OXl9cEsJyMioqyRKyH+8ePHuHv3Lrp3764s5SonJydUq1YNhw4dUpbyjOTkZOzevRuDBg1K1yx8QkIC5s+fj1WrVkGv1wMAtFotpk+fjjNnzii7p5ulpSX69u2Lbdu25dnZYBHB1q1b4ebmhnLlyinL76TVarFy5UrMmzcvde20TqfD77//jh07dii7p5tKpcLgwYNx9uxZhISEKMt5xtWrV5GcnIx27dopS/9p586d+OGHHxAVFQW8noTYvHkzli1bpuyaIY0bN4aVlRXOnj2rLBEREb1TroR4Ly8v1K9fH7a2tspSrjI1NUW3bt1w+PDhPLvl4cOHD5GcnIz69esrS//J0tISlSpVwuTJk3Hp0iWICNasWYNdu3ahZs2ayu4Z0rJlS4SEhODJkyfKUp4QFxeHq1evwtPTU1n6T2ZmZmjcuDGmT5+OAwcOQERw+PBhLF++HNWqVVN2zxB7e3vUqVMHp06dUpbyBBHBwYMH0apVK1hZWSnL/6levXpYvXo1Vq9eDRHBrVu38P3336Nq1arKrhmSL18+9OjRAwcPHsyzJ7BERJT1ciXEnzx5Ek2aNMnQzhCxsbH4448/cPTo0dS2lJQULFiwALdv307TNyNq1KgBnU6XZ4PknTt3YGVlBQcHB2Xpf2rbti06d+6M8ePHw9/fH1OmTMGiRYtgY2Oj7JohNjY2qFatWp69uTg8PBwBAQFo3LixsvQ/VatWDV999RUmTpyIhw8fYsqUKfjyyy+zLEgCQPPmzXHu3DlotVplyejpdDp4eXmhZcuW6d4T3sHBAd9++y3++OMPXLx4EVOnToWnpyeaN2+u7JphDRs2RFBQUJ6+EkJERFkrV0L8rVu3UK9ePWXze7GysoJWq8Wnn36Khw8fQq/XY+nSpVi3bl2WbJVob28PS0tLPH/+XFnKE+7evYv69esjX758ytL/ZGFhgR9//BEhISFo0aIFevfunaVBxsLCAtWqVYOPj4+ylCcEBwejQIECGTqBUqlUmDp1KvLnz48OHTqgQoUKGDBggLJbptSuXRsBAQFISEhQloyeTqfDzZs30bRpU2XpvQwZMgTVqlVDv379EBkZiUmTJim7ZErZsmWh1+sRGhqqLBEREf2rHA/xKSkpePr0KWrUqKEsvZc363crVKiAH3/8EXfu3MFvv/2GRYsWpWuN97sUKlQIxYsXx9OnT5WlPOHBgweZmr11cHDAwIED8fz5c3zyySfpntX8LyqV6v+1d59RUV1dH8D/gwxIkSK9iihIkaYRJBQLElsSo9EYNMbEFguvsUQSgahRUWMUo/ERQ0yijy3B3tDEhkgUFCxIURKVDkMZmpSZYea8Hx6Z5Vw00hSF/VuLD5y975V1kZl9z5y7D+zs7Dpsu7309HT07t27xV1RNDU18fnnnyMrKwtTpkxp870VevXqhcLCwg65V4JAIABjDEZGRtxQk6ipqWH+/PkQCAQYO3Zsi8/zLMbGxlBSUkJxcTE3RAghhDzVSy/iCwsLYWRkBBUVFW6oyfT09LBs2TJcunQJkyZNwpgxY+Dr68tNaxEejwcjIyOUlJRwQx1CZmZmq3ZnzcvLw8mTJ2FpaYlNmza1+dILc3NzFBYWcoc7hNzc3BbNwjeora3F7t270bNnT0RGRqK8vJyb0ipmZmYoLy/vkM+DCAQCeaHcEiKRCHv37oW5uTn27duHvLw8bkqr8Pl8WFlZITc3lxsihBBCnqpl72itwBiDsrJyi2cjG3h5ecHX1xf5+fn47LPPWvzm/DSmpqYQCATc4Q5BKpW2eAZXLBZj48aNcHBwwN69e3H8+HFER0e36cN4hoaGbV6cvioePXqE7t27c4ebhDGGbdu2gc/nY9++ffjnn3+wc+dOeaegtqCpqQmpVNqmv89XRXFxMUxMTFr8unPkyBFkZGRg165dUFdXx7ffftvmfd2VlZXb9PdJCCGkY2u7yvcly8zMRFpaGlRVVREVFcUNtwqfz++QhUxrXbx4EadPn8bKlSvh6emJTz75BMuXL6clAC9BRkYGNm7ciDVr1sDd3R2BgYGIiIhAWloaN5U8Q0uXfuXm5mLdunVYsGABvLy8EBQUhCNHjlBLSEIIIe2qXYp4mUzWqiK5oRuNi4sL1q9fj8jISCQmJnLTWqygoAD6+vrc4Q6Bx+O1aEOf7OxsrF69GnPmzIGdnR2UlJQQGhqKqqoqbNmyRb6sJjs7u1UdNsrKyqCqqsod7hD4fD4ePXrEHX6uqqoqLFy4EJMnT4aHhwd4PB6mT58OMzMzrFu3DrW1tRAIBEhISMCNGzdQVVXFPUWTiESiFs9Uv+q0tbVRXFzc7NcdsViMb775Bn379sW7774LHo+HkSNHws/PD8uWLUNVVRXKy8uRkJCAK1eutGoZXlsvTSOEENKxvfQi3tDQEMXFxS0qJBucOnUK8fHxCA4OxoQJE+Dp6YnQ0NA2W8srEAigp6fHHe4QTE1NkZ2dzR1+rq5du2L58uUKO40aGhri4MGDeOuttyCVSnH9+nVMmjSpVRsQCQSCZm2E9DoxNzdv0ZpnHo+H//u//0NISIh8NllHRwc//vgjPv30UyQnJ2PVqlV48OABrl27hpCQkBb9LeTn50NLS6tD3kQZGhqiqKio2UU8YwwTJ07Et99+K9/lVV1dHWvWrEFoaCgKCgqwePFipKamIisrC8uWLWvRQ/EymQz5+flt/sAsIYSQjuulF/Hq6urQ09NrUSGJx8to1q9fjzlz5qBPnz5QV1fHqlWrkJiYiH379kEkEmHfvn0IDQ3Fxo0bm1001dTUID8/v1UPIL7KevbsiYyMDO7wcxkaGmLYsGGNtqt3dXWFr68vLl68iI0bN8LCwkIh3hyMMaSlpaFHjx7cUIdgZWWF9PT0ZheSmpqaGDlyJHR0dBTGbWxs4Ofnh6SkJIwdOxYBAQGYOXMmZDIZUlJSFHKbIjs7G3p6eh2yiDczM0NlZWWzZ8pVVVUxbNgwmJmZKYybmppixIgR6NatGwIDAzFt2jQEBATA1ta2RRtmCYVCiMViGBoackOEEELIU730Ih6PN665fv06d7hJxGIxlixZotAj297eHvv374eBgQH27duH/Px8LFu2DHZ2dli7dm2z+l4XFhairq6uVcXoq8zV1RU3b95s8wfobG1t8eOPP8LGxoYbajKxWIy0tDS4urpyQx2CnZ0dKioq2rz7zty5c+Hn5wc8vgl9+PAh1NXVuWnPlZqaCgsLi0Y3ah0Bn8+Hk5MTbt68yQ21iomJCVxdXVFUVISUlBQkJiY2ezdkPJ6cYIzBxMSEGyKEEEKeql2KeG9vb8TFxUEikXBDz2Vra4v3339fodDo0qUL/P398fbbb+PIkSOYMWMGVFRUMHr0aCgpKTVr5jkjIwMikQjW1tbcUIfg4uKC/Pz8Zn9C8TzW1tbQ1tbmDjdLZWWlfDOqjkhPTw/GxsZtXkg2qKurQ0REBOzt7Vu0F8CFCxcwYMCADjkT36VLF7i7uyMmJqbNb2BlMhlOnDiB6OhoiESiFrXPTUlJga6uLkxNTbkhQggh5KnapYgfNmwYEhISUFZWxg21Wl1dncKbqK6uLkpLSxVynoUxhhMnTsDLy6vVBemryt7eHiKRCMnJydxQu0tOToZMJmvxRmCvuu7du8PNzQ3nzp3jhlqFMYbq6mqEhoaisrIS69at46Y8V1VVFc6dO4fhw4dzQx2CkpISRo4ciejo6DbbzEomk+Hy5cvIzs7G9OnTERQUhHnz5iEiIqJZNwqMMRw/fhxDhgzpkDdQhBBCXox2KeLd3d2hpqbWorWjz8Pj8RTeQOvr66GmpqaQ8ywFBQW4cuUKxo8fzw11GLq6uhg1ahT27t3b5n2uW0MikWDnzp2YMGEClJWVueEOQUlJCRMmTMCBAwdQWVnJDbdYcnIyZs+eDS8vL6xevbrZ148xhoMHD8LJyQm9e/fmhjsMPz8/lJaW4saNG9xQiygpKaGkpARBQUEoKChAXV0dTp48iT59+jRr34rU1FSkp6dj9OjR3BAhhBDyTE1/p2ljs2fPRmRkJCoqKrihVrGxsUFmZibwuF1hTk5Ok7udHD16FJqamujXrx831KFMnDgRd+7cQWpqKjfUYrGxsQgODkZtbS3y8vIQHBzcrLaf9+/fR2xsLD788ENuqENxdXWFtbV1m+5tkJSUBENDQ1y/fh3BwcEICQlp1oOtjDFs374dkydPbtFa+teFmpoaPv74Y2zduhV1dXXccIuMGTMGS5cuRWRkJFauXAl/f3/MmDGDm/av9u/fD0dHR/Tp04cbIoQQQp6Jx5rbKqONFBcXw9vbG2vXrsW4ceO44Ra7f/8+1q9fD1dXV6SkpGDIkCEYN27cc2fGiouLMXz4cCxcuBBTpkzhhjsUsViMadOmQUtLCz/88EOLN8FpK2KxGIGBgaivr8eOHTue+7t6nTHGcOjQIYSEhCAxMbHFu+e2FcYYjh49ivnz5+P27dst3lH2dfHw4UN4eXnh0KFD8PT05IZfugcPHsDf3x/bt2+Hv78/N0wIIYQ8U5cVK1as4A6+DBoaGpBKpYiMjMTIkSOhpaXFTWmR7t27w8fHB+bm5vDz80P//v2bVKSGh4ejuLgYISEhTV5+87rq0qULevbsifDwcDg5ObV7O83Lly9j69at2LBhQ4fvzsHj8WBhYYHjx4+juLgYPj4+7brBUllZGT7++GN8+eWX8PLyatef5WXQ1dVFSUkJoqKi8M4777TrGnSpVIqvvvoKBgYGCAwMBJ/P56YQQgghz9SuU57Tpk2DpqYmNm3a1KLNaZ5FR0cHPXv2hLGxcZMK+Li4OOzduxfBwcHQ1dXlhjskJycnTJ48GV9//TWEQiE3/NIUFBRg2bJl+OCDDzrsA61cmpqaWLVqFTZv3oykpKRm941vK2KxGGvWrIGenh6mTJnS4Qv4BgsXLkRxcTF++umndt0l9fjx47hw4QKWLl3aoZcxEUIIeTHatYjX0tLCqlWrEB0djYMHDzaro0NbycvLw8KFCxEQEABvb29uuMNSVlbG7Nmz0a1bN4SEhLRqB92WqqmpQVhYGDQ0NLBo0aIOvYzmSTweD15eXggMDMTcuXPbvG98U8hkMhw6dAiHDh3Cli1b0LVrV25Kh2VoaIiVK1ciIiKizTsFNQVjDOnp6QgKCsLSpUvh6OjITSGEEEKeq92W0zQwNTWFlpYW1qxZA0tLS9ja2r60GcGysjJMnz4dpqamWLVqVaebDVNXV4erqys2bdoEoVAIT0/PJn1y0RZEIhHCw8Nx7tw5RERENPnh445CSUkJHh4e+PPPP/HHH39g8ODB0NDQ4Ka9EFKpFGfPnkVQUBBWrFiBt956i5vS4fXq1QtisRjh4eF44403Gu3I+qIwxpCdnY2AgAAMGjQIixcvblFfeUIIIaTdi3gejwcHBwd06dIF33zzDXr27AkbG5sXWsgzxiAUCjFjxgzU1tZi27ZtMDAw4KZ1CgYGBnBzc8PKlSvx6NEjeHh4NLtFYXPV1tZi06ZN2L9/PzZt2gR3d3duSqfA5/MxePBg7N27F7GxsXjzzTdf+IOuUqkUf/75JxYuXIh58+Zh+vTpneYTkCfxeDy4ubkhLy8PW7ZsgaurK0xNTV/4605WVhY+/PBD9O3bFxs2bHhpN26EEEI6nnYv4vH4QUtXV1d07doVK1asgLa2Nuzt7V9IMSmTyXDv3j1MnToVALBz585OvUsij8eDubk5Bg4ciJCQEOTm5sLd3R1du3Z9IQWNUCjEsmXLcOzYMWzduhVDhgzhpnQqmpqaGD58OPbt24fjx4/Dzc0N+vr6L+Ta19XVYc+ePQgNDcXcuXMRGBj40j55eRXx+Xx4eXkhNzcX69atg7m5OXr37v1CrolUKsXNmzcxdepU2NraYvv27VTAE0IIaR32CpFIJOzw4cPM2tqazZ49mxUUFDCZTMZNa7Gamhr222+/MRsbGzZ9+nT26NEjbkqnJZPJWHp6OhswYAAbMmQIu3HjBpNIJNy0Fquvr2eJiYnMx8eH+fj4sLS0NG5KpyYUCtmsWbOYnZ0d2717N6utreWmtJhMJmPZ2dls9uzZrHfv3uzgwYOsvr6em9ZpicViFhERwaysrNiXX37JhEIhN6XFZDIZq6ysZBEREaxnz54sJCSEVVdXc9MIIYSQZnulivgG9+7dY2PGjGG9evViO3bsYNXV1S0u5mUyGZNIJOzKlSvs3XffZT169GB79+7lppHHKioq2JIlS5iRkRFbvHgxy8vLY1KplJvWZPX19SwrK4stXLiQ6ejosC+++IJVVlZy08jja7Vz505mbW3N3n33XRYbG9uqGymZTMYePXrEIiMjWe/evdk777xDN0//IikpiQ0aNIj17duX7d69m4lEola97ojFYnbx4kU2dOhQZm9vz06dOsVNI4QQQlrslSzi2eOC5sCBA8zGxobZ2NiwsLAw9uDBA27av6qoqGD79+9no0aNYnp6euyLL75gAoGAm0ae4ubNm2zChAnM0NCQzZ49m129erVZBaVEImHx8fFs5syZTEtLi40bN47dunWrxUVRZ1JYWMi+/PJLpq+vz0aOHMmioqKaNTMvk8lYVlYWW7lyJbO0tGRvvPEGO3z4MBOLxdxUwiESidiOHTuYtbU169u3LwsPD2fZ2dnctH9VVlbGdu7cyby8vJipqSkLCwtr09l9QgghhDHG2m3H1qZ4fJOB6Oho7Nq1CxcuXICFhQV8fHzg5uYGS0tLGBoaQltbGwCQnZ2N4uJi3L59G0lJSYiLi4O1tTUmTpyIqVOnwsjI6IWsNe6oGGNITk7Gjh07cOLECchkMgwePBgeHh6wsrKCgYEBjIyMAABFRUUoLi7GvXv3cOvWLZw/fx5KSkoYO3YsZsyYgb59+wKP1+CT52OMQSAQ4JdffsHhw4eRnp6OoUOHwsPDA3Z2djAxMYGxsTGUlZVRWVmJ4uJiPHz4ECkpKTh37hwyMzMxfPhwTJs2Df7+/lBWVqZr30SMMYjFYhw+fBi7du1CXFwcnJ2d4eHhATc3N1hYWMDExARqamoQi8UoKChAQUEBUlJSEBcXh5s3b8LZ2RkBAQGYNGkStLS06NoTQghpc690Ef8kiUSC8vJyxMfH4/Lly3jw4AEEAgGEQqG8x7m+vj60tLRgZWUFV1dX+Pn5wdLSEqqqqvQm2gpSqRTV1dVISUnBpUuXkJKSgoKCAgiFQlRXVwOPd+Dt3r07TE1N4eDgAF9fXzg7O0NDQ+OFPCjYWTDGUFdXh8zMTFy8eBE3btxAbm4uhEIhysvLwRiDsrIyDA0Noaenhz59+sDT0xOenp7Q0dGh4r2VxGIxysrKEBMTg4SEBDx48ADFxcUoLy+HWCwGj8eDvr4+dHV1YWFhgTfffBM+Pj4wNTWFiooKXXtCCCEvzGtTxD+pYaZMLBZDIpHId7zk8/lQVlaGqqoqFY4vCGMM9fX1EIlEqK+vh1QqBR53GGq49rR9/IsjlUohEokgkUjku43yeDyoqKiAz+dDVVWVewhpI4wx+bXnvu40XPvO2K6TEEJI+3gti3hCCCGEEEI6M5o2IoQQQggh5DXTrkV8UVER/vrrL/m66gYNG6P8/fff8o+sG+Tn5yMpKQlVVVWIj4+HUChUiBNCSHOVlZXhypUrqKmp4YaeKTc3FwkJCdxhQggh5KVo1yI+JSUFo0ePxvXr1xXGq6qq8MEHH2DBggUK4wCwdetWfP3118jJyUFAQACSkpK4Kc0mFAqRkpIif0CWENK53Lx5E++99x6ys7O5oWc6fPgwJk+ezB0mhBBCXop2LeLt7e2ho6ODK1euKIxnZWXhwYMHiI+Ph0QikY9LpVJcuXIFnp6eUFZWVjimNc6fP4/x48dDIBBwQ4QQ8lSjRo3Cf/7zH+5wi5SUlCAjIwO1tbXcECGEEPJU7VrEm5iYwNHREXFxcfJZcMYYLly4gF69eqG8vBy3bt2S52dmZiI7Oxve3t5PnAWora1FXl4ecnJyUF1d3WgJjkQiQXFxMXJycpCTk4OysjJ5LDc3FyUlJZBIJMjPz0dubi7NyD/+PVRUVCA3Nxc5OTkoKipSuKGqqalBfn4+GGMoKytDQUGBvFNNbW0t8vPzkZOTA6FQCJlM9sSZybM0XNMnrzMe37zm5OTIu9HU19ejqKgIOTk5KCwsVPj/KpPJkJeX16gYrK2tRUFBQaNzd1ZP/r0/evSIGwYe5xQWFiInJwcCgaDRtTMyMoKzs7P8+4KCAlRXVyscV1ZW1uj/f8PfTE5ODvLz83H//n1MmjQJY8eOxd9//62QSwghhDxLuxbxAODt7Y2///4bBQUFAIC6ujpcuHAB77//PhwcHPDXX3/Ji/J79+5BTU0NPXv2lB9fWFiIWbNmwd3dHY6Ojhg3bhwePnwoj5eUlCAoKAi+vr5wcXGBs7Mzhg4diqNHj4IxBk9PTyxZskS+OY6Pjw9SU1Plx3dGUqkUu3fvxsiRI9GvXz/5RjdLly6VFzzR0dHw9vbG9evXMWTIEPj6+kIgECA1NRVTpkzBgAED4OLigqFDh2L79u3yAp8827Vr1+Dh4dFoeVlCQgL69euH6upqVFdXIzQ0FF5eXnBxccGAAQMwf/58FBYWAgAqKirg7OyM8+fPK5wjJiYGPj4+yMzMVBjvjCoqKrBo0SK4ubmhf//+mDRpEu7evSuPM8ZQWVmJzz//HJ6ennBxccHAgQPx1VdfobS0VJ7366+/wsfHR/790KFDsWvXLnzzzTfw9vaGk5MT/Pz8cOHCBXmOTCbDH3/8gWHDhsHFxQXu7u4YO3YsbG1tkZiYqHBTQAghhPybdi/iPT09UVpaigcPHgAAysvL8c8//2D48OHw8PBATEyMfAYyLi4OlpaWMDU1BR7PlH333XcYOHAgsrKykJaWhoKCAixfvhxisRiMMYSEhOD8+fP49ddfIRQK8c8//8DX1xeffPIJxGIxcnJy8Ouvv8LGxgZ37tzBw4cP4ebmpvAzdjYXLlzAggULMHXqVGRmZkIgEGDDhg3Ys2cPjh8/Ls9jjOGzzz6DsbExFi9ejLq6OkydOhX6+vq4desWioqKsGnTJnz//feIiopq9AkJUTRgwACYmJggOjpafq2kUil+//13jBs3DlpaWvjqq69w6tQp7NmzByUlJYiOjsbdu3fxySefNJp9J40xxhAcHIzLly/j9OnTyM/Px9y5c/HDDz/Ic+rr6zFv3jxcu3YNJ0+eRGlpKaKiohATE4P58+dDJBIpnPNJ27dvh0gkQlJSErKysmBnZ4dFixbJP/27e/cuJk+ejKlTp6K4uBjXr1+Hvr4+cnNz6e+DEEJI87B2lpOTw6ytrdnq1asZY4xdunSJGRsbs6qqKhYVFcW0tbVZWVkZY4wxHx8fed69e/eYgYEBCwwMVDhfZGQkc3R0ZCUlJUwkErGDBw+yuLg4hZz79+8zACwxMZExxlhUVBTr06cPy87OVsjrrJKTk9nOnTtZbW2tfKympoYNGzaMzZ8/nzHG2IEDB1iXLl3YkiVLmEQiYYwxFhERwfr168dKS0vlxzHG2I4dO5iLiwuTSqUK46SxsLAw5ujoyIqKihhjjAmFQta3b1929uxZdv/+fcbn89mlS5cUjklOTmaWlpbszJkzTCgUsu7du7MTJ04o5ERHR7NevXqxjIwMhfHOpqCggOno6LDo6GiF8c2bNzMDAwOWnp7Obty4wQCw9PR0hZzY2FhmYWHBEhIS5Mf06tVLHrezs2ODBg1iVVVV8rHExERmbm7Orl27xhhj7LvvvmN2dnbyOGOMnT17lllaWrKUlBSFcUIIIeTftPtMvJmZGRwcHBAbGwupVIq4uDi4u7tDU1MT/v7+qK6uxvXr15GZmYn79+8rfHzN5/MxePBghfNpa2ujuroaUqkUKioqeOutt3Dnzh289957MDAwgIqKCvr06QM8nnEjjTk5OcHCwgKBgYFwcHCAiooKtLW1cf78+UbLYhYtWiR/yLih3d7PP/+M7777Tv5169Yt3L59m9qBNsGoUaNQWVmJGzduAADi4+Mhk8ng6+uLW7duQU9PD46OjgrHWFpawsLCgtodNkFycjJUVFTg6uqqMP7kNU1MTISJiYn8daKBvb09unXrJv/dPI2npyc0NDTk3zfsHt3QRreurg48Hu+JI/63465UKm20dp4QQgj5N+1exPN4PHh7e+P+/ft48OABrl69ihEjRgAAdHR04OrqitjYWNy5cwc6OjoK6+H5fD66dev2xNn+d74GNTU1+Oyzz/D9999j1KhRuHr1KgQCAW7evKlwDFG0b98+TJo0Cdra2vj5558hEAiQnZ2NIUOGKORpampCR0dH/n1lZSXq6urw8OFDhS+pVIo5c+ZQkdIEjo6OcHZ2xpEjRyCRSPDbb79hzJgxUFFRQW1tLbp27YouXbooHKOqqgo1NTVUVlYqjJPGqqqqoK6u3qi7Ffd1Q0NDo1GxraamBlVVVVRUVCiMP0lPT0/hOB6Pp/D9O++8g+zsbERGRkIqlaKoqAibN2+GnZ0dLC0t5XmEEELI87R7EY/Hs1fV1dVITEzEw4cPMXDgQHls0KBBiI+PR0xMDKytrWFgYCCPcd8guVJTUxEXF4fNmzdj5syZ6N27N3R1dVFUVMRNJU/Ytm0b3n//faxduxaenp7Q1dWFkpJSo5l07vW3tLSEvb09tm7dim3btjX6MjQ0VDieNMbn8zFmzBjExMTgzp07SEpKwvjx4wEA+vr6EAqFjTZHq6ysRElJCaysrAAASkpKjT4xEQgE/7qWu7MwMDBAaWkpqqqqFMafvAEyNDR86vVqOK7hOj/Nv70eAYCuri769euHzZs3w8rKCu7u7pDJZAgPD4e2tjY3nRBCCHmmV6KIt7KygpaWFn755RdIpVLY2dnJYz4+Prhz5w4uX74MT09PdO3aVeHYfyORSMAYg6ampvzNtaKiAps3b1bI4/F4qKmpodaSj4lEImhoaMhnK6VSKY4dO4a0tDRuqoJhw4bhzp07SE5Olo/JZDL897//RUBAAM3EN9HQoUPB4/Gwbt066OnpyTuWeHp6olu3boiKilIo0mNiYlBaWgofHx906dIFRkZGSE5Olj8oWVFRgT179sjzOzM3Nzd0794dx44dk1/DmpoahQe2Bw0aBD6fj99//13hYdNTp06Bx+Ohf//+8rHmkEgkWL16NbS0tHDu3Dn51/79+6krDSGEkGZ7JYp4MzMz9OnTBxcvXoSXlxfU1NTksTfffBNisRi3bt1q1B/+eRqWJixduhS//fYbjh49io8//lj+sXVDNw9bW1swxvD999/jzJkzzdq1sSP69NNPsX//fmzYsAFnzpxBSEgIjh07Bmdn53/dlt7Pzw+DBw/G9OnT8csvvyA6OhorV67E8uXLMW7cuOfOUpL/6dGjBzw8PHD06FGMGzdOfjOlpaWF8PBwbN68GStWrMDp06cRFhaG0NBQzJkzB3379oW6ujomTpyIH374AT/99BOOHj2KuXPnwtzcXGGtdmfVrVs3rFixAuHh4QgLC8OJEycQFBSk0APe2NgY69evR3BwMNavX4/Tp08jNDQUGzZswKJFi2Btba1wzqZSVlbGG2+8gfj4eLz99tuYNGkSJk6ciGnTpiEsLAxJSUl0o0sIIaTJuqxYsWIFd/BlU1JSQk1NDYRCIWbNmgUbGxt5TENDAzk5OTA0NMT06dPlhUh1dTVSUlLg5+cHMzMzeb5AIEB+fj7ee+896OjowNvbG2VlZfj999+RkpKCjz76CDNnzsTt27fh5OQEOzs7GBgYwMnJCWfPnsUff/yBHj16wN7eXn7OzsbJyQlmZmY4cuQILl68CFtbW4SEhEAmk+HRo0d4++23IRAIkJWVhYCAAPkabWVlZfj6+kJNTQ2HDh3C+fPnoaGhgeDgYIwePZqK+CZSUlKCSCTCxYsXERYWBn19fXnM3t4ezs7OiI2NxbFjx1BVVYWlS5di8uTJ4PP5UFJSQv/+/aGqqoqoqCikpqZi/PjxGD58OHJycjBixIhOv2zDwcEB1tbWOHr0KBISEjBo0CB88MEHuHfvHsaMGQNdXV24uLjA3t4eZ86cwalTpyCVSrF8+XKMHTtWflOVnZ2N8vJyTJgwAQBw9epV9O/fH05OTvJ/q7q6GqmpqfD394e6ujo2btyIQYMGYcGCBRgxYgRcXFygrKyMpKQk/Pjjjxg8eDCMjIzkxxNCCCHPwmPUnJiQV4pMJsP69etx5coVHDlypNGDrOT1lJSUhDfffBPXrl2Di4uLQuzu3bvw9/fHli1bMHbsWIUYIYQQ8jSvxHIaQsj/OqdkZGTgwIED2L9/P+bNm0cFfAdibGyMHj16IDQ0FH/++ScyMjKQkZGBv/76C2vXrkX37t3h4ODAPYwQQgh5KpqJJ+QVcfLkScyaNQu6uroICgrCRx99REV8B8IYQ1paGn7++WecPXsWpaWlwOPifujQoZg2bRoV8YQQQpqMinhCCCGEEEJeM7SchhBCCCGEkNcMFfGEEEIIIYS8ZqiIJ4QQQggh5DVDRTwhhBBCCCGvGSriCSGEEEIIec1QEU8IIYQQQshrhop4QgghhBBCXjP/D1ITxfMtV061AAAAAElFTkSuQmCC)"
      ],
      "metadata": {
        "id": "3z6SU1LMUaWy"
      }
    }
  ]
}