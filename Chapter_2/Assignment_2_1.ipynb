{
  "nbformat": 4,
  "nbformat_minor": 0,
  "metadata": {
    "colab": {
      "provenance": []
    },
    "kernelspec": {
      "name": "python3",
      "display_name": "Python 3"
    },
    "language_info": {
      "name": "python"
    }
  },
  "cells": [
    {
      "cell_type": "code",
      "execution_count": 1,
      "metadata": {
        "id": "NSbnBJUZA9C3"
      },
      "outputs": [],
      "source": [
        "import tensorflow as tf\n",
        "tf.compat.v1.enable_eager_execution()\n",
        "\n",
        "import numpy as np"
      ]
    },
    {
      "cell_type": "markdown",
      "source": [
        "With eager execution, we don't need to create a session"
      ],
      "metadata": {
        "id": "eLSU83wxBLpk"
      }
    },
    {
      "cell_type": "code",
      "source": [
        "x = tf.constant(11)\n",
        "y = tf.constant(11)\n",
        "z = x*y\n",
        "print(z)"
      ],
      "metadata": {
        "colab": {
          "base_uri": "https://localhost:8080/"
        },
        "id": "B2AW9XuWBFVG",
        "outputId": "da535d52-ee50-4978-9dba-ea917f3f3b50"
      },
      "execution_count": 3,
      "outputs": [
        {
          "output_type": "stream",
          "name": "stdout",
          "text": [
            "tf.Tensor(121, shape=(), dtype=int32)\n"
          ]
        }
      ]
    },
    {
      "cell_type": "markdown",
      "source": [
        "To get the output value"
      ],
      "metadata": {
        "id": "F1sXoK9uBiQz"
      }
    },
    {
      "cell_type": "code",
      "source": [
        "z.numpy()"
      ],
      "metadata": {
        "colab": {
          "base_uri": "https://localhost:8080/"
        },
        "id": "38xX2-Y5BWDs",
        "outputId": "02ba4123-14c5-456b-eeaa-822eba2e3379"
      },
      "execution_count": 4,
      "outputs": [
        {
          "output_type": "execute_result",
          "data": {
            "text/plain": [
              "np.int32(121)"
            ]
          },
          "metadata": {},
          "execution_count": 4
        }
      ]
    },
    {
      "cell_type": "markdown",
      "source": [
        "Math operations in TensorFlow"
      ],
      "metadata": {
        "id": "7XaQ_BCABrSP"
      }
    },
    {
      "cell_type": "code",
      "source": [
        "x = tf.constant([1., 2., 3.])\n",
        "y = tf.constant([3., 2., 1.])"
      ],
      "metadata": {
        "id": "Bt-cLAZ8BmFE"
      },
      "execution_count": 5,
      "outputs": []
    },
    {
      "cell_type": "markdown",
      "source": [
        "tf.add to add two numbers"
      ],
      "metadata": {
        "id": "Fq-_RflFB0hf"
      }
    },
    {
      "cell_type": "code",
      "source": [
        "sum = tf.add(x,y)\n",
        "sum.numpy()"
      ],
      "metadata": {
        "colab": {
          "base_uri": "https://localhost:8080/"
        },
        "id": "iBQ4hoXBBvDU",
        "outputId": "4d13e988-c637-4f61-bd0b-42a4de256cf5"
      },
      "execution_count": 6,
      "outputs": [
        {
          "output_type": "execute_result",
          "data": {
            "text/plain": [
              "array([4., 4., 4.], dtype=float32)"
            ]
          },
          "metadata": {},
          "execution_count": 6
        }
      ]
    },
    {
      "cell_type": "markdown",
      "source": [
        "tf.subtract function is used for finding the difference between two numbers:"
      ],
      "metadata": {
        "id": "QFNgNxS8B_oi"
      }
    },
    {
      "cell_type": "code",
      "source": [
        "difference = tf.subtract(x,y)\n",
        "difference.numpy()"
      ],
      "metadata": {
        "colab": {
          "base_uri": "https://localhost:8080/"
        },
        "id": "JlxawKmiB5k8",
        "outputId": "9f00ebab-6355-4556-a0f0-b78c9096e390"
      },
      "execution_count": 7,
      "outputs": [
        {
          "output_type": "execute_result",
          "data": {
            "text/plain": [
              "array([-2.,  0.,  2.], dtype=float32)"
            ]
          },
          "metadata": {},
          "execution_count": 7
        }
      ]
    },
    {
      "cell_type": "markdown",
      "source": [
        "tf.multiply function is used for multiplying two numbers"
      ],
      "metadata": {
        "id": "lJX3BabxCQ_g"
      }
    },
    {
      "cell_type": "code",
      "source": [
        "product = tf.multiply(x,y)\n",
        "product.numpy()"
      ],
      "metadata": {
        "colab": {
          "base_uri": "https://localhost:8080/"
        },
        "id": "3QvyVSUJCDlb",
        "outputId": "20e68881-3b19-44be-a0c6-ade2987047c6"
      },
      "execution_count": 8,
      "outputs": [
        {
          "output_type": "execute_result",
          "data": {
            "text/plain": [
              "array([3., 4., 3.], dtype=float32)"
            ]
          },
          "metadata": {},
          "execution_count": 8
        }
      ]
    },
    {
      "cell_type": "markdown",
      "source": [
        "Divide two numbers using tf.divide"
      ],
      "metadata": {
        "id": "3-bCHAGfCWO2"
      }
    },
    {
      "cell_type": "code",
      "source": [
        "division = tf.divide(x,y)\n",
        "division.numpy()"
      ],
      "metadata": {
        "colab": {
          "base_uri": "https://localhost:8080/"
        },
        "id": "ZwNOEieQCTh7",
        "outputId": "55f4db70-a60e-46b3-97ba-b5ba54ca50bc"
      },
      "execution_count": 9,
      "outputs": [
        {
          "output_type": "execute_result",
          "data": {
            "text/plain": [
              "array([0.33333334, 1.        , 3.        ], dtype=float32)"
            ]
          },
          "metadata": {},
          "execution_count": 9
        }
      ]
    },
    {
      "cell_type": "markdown",
      "source": [
        "Dot product can be computed as follows"
      ],
      "metadata": {
        "id": "1PRAaJbxCcWy"
      }
    },
    {
      "cell_type": "code",
      "source": [
        "dot_product = tf.reduce_sum(tf.multiply(x, y))\n",
        "dot_product.numpy()"
      ],
      "metadata": {
        "colab": {
          "base_uri": "https://localhost:8080/"
        },
        "id": "tE4MA4EzCZIz",
        "outputId": "7054ccf0-7d96-4c06-a87b-8e0854aaeddd"
      },
      "execution_count": 10,
      "outputs": [
        {
          "output_type": "execute_result",
          "data": {
            "text/plain": [
              "np.float32(10.0)"
            ]
          },
          "metadata": {},
          "execution_count": 10
        }
      ]
    },
    {
      "cell_type": "markdown",
      "source": [
        "find the index of the minimum and maximum elements"
      ],
      "metadata": {
        "id": "a0zhdvRuDJSz"
      }
    },
    {
      "cell_type": "code",
      "source": [
        "x = tf.constant([10, 0, 13, 9])\n",
        "print(tf.argmin(x).numpy())\n",
        "print(tf.argmax(x).numpy())"
      ],
      "metadata": {
        "colab": {
          "base_uri": "https://localhost:8080/"
        },
        "id": "T5AEbkMrCgrd",
        "outputId": "d2c07725-9eaa-457d-bd0f-ab8ac4d5e84e"
      },
      "execution_count": 11,
      "outputs": [
        {
          "output_type": "stream",
          "name": "stdout",
          "text": [
            "1\n",
            "2\n"
          ]
        }
      ]
    },
    {
      "cell_type": "markdown",
      "source": [
        "Squared difference between x and y"
      ],
      "metadata": {
        "id": "EH-Cv4jsDR01"
      }
    },
    {
      "cell_type": "code",
      "source": [
        "x = tf.Variable([1,3,5,7,11])\n",
        "y = tf.Variable([1])\n",
        "tf.math.squared_difference(x,y).numpy()"
      ],
      "metadata": {
        "colab": {
          "base_uri": "https://localhost:8080/"
        },
        "id": "ZYXWOTrJDNML",
        "outputId": "9fddfdd9-b08f-48f1-90ba-8fa7b02fcdc0"
      },
      "execution_count": 12,
      "outputs": [
        {
          "output_type": "execute_result",
          "data": {
            "text/plain": [
              "array([  0,   4,  16,  36, 100], dtype=int32)"
            ]
          },
          "metadata": {},
          "execution_count": 12
        }
      ]
    },
    {
      "cell_type": "markdown",
      "source": [
        "Typecassting: From one data type to another"
      ],
      "metadata": {
        "id": "4dvhjX0qDkds"
      }
    },
    {
      "cell_type": "code",
      "source": [
        "print(x.dtype)"
      ],
      "metadata": {
        "colab": {
          "base_uri": "https://localhost:8080/"
        },
        "id": "nNUmIug3DcGs",
        "outputId": "7cefc0a4-2708-4008-ed67-b1404f647e09"
      },
      "execution_count": 13,
      "outputs": [
        {
          "output_type": "stream",
          "name": "stdout",
          "text": [
            "<dtype: 'int32'>\n"
          ]
        }
      ]
    },
    {
      "cell_type": "code",
      "source": [
        "x = tf.cast(x, dtype=tf.float32)\n",
        "print(x.dtype)"
      ],
      "metadata": {
        "colab": {
          "base_uri": "https://localhost:8080/"
        },
        "id": "Y9B6sDV1D1yM",
        "outputId": "a70a208c-47aa-4144-cc60-bebbe2591f24"
      },
      "execution_count": 14,
      "outputs": [
        {
          "output_type": "stream",
          "name": "stdout",
          "text": [
            "<dtype: 'float32'>\n"
          ]
        }
      ]
    },
    {
      "cell_type": "markdown",
      "source": [
        "Concatenate the two matrices:"
      ],
      "metadata": {
        "id": "xmCoRsrRD-Ul"
      }
    },
    {
      "cell_type": "code",
      "source": [
        "x = [[3,6,9], [7,7,7]]\n",
        "y = [[4,5,6], [5,5,5]]"
      ],
      "metadata": {
        "id": "SNIW5AtOD6mk"
      },
      "execution_count": 15,
      "outputs": []
    },
    {
      "cell_type": "markdown",
      "source": [
        "Concatenate the matrices row-wise"
      ],
      "metadata": {
        "id": "-ypsZj-lEDv6"
      }
    },
    {
      "cell_type": "code",
      "source": [
        "tf.concat([x, y], 0).numpy()"
      ],
      "metadata": {
        "colab": {
          "base_uri": "https://localhost:8080/"
        },
        "id": "s71PXK7kEDUl",
        "outputId": "af960922-7826-49e1-e659-d179503f3b22"
      },
      "execution_count": 16,
      "outputs": [
        {
          "output_type": "execute_result",
          "data": {
            "text/plain": [
              "array([[3, 6, 9],\n",
              "       [7, 7, 7],\n",
              "       [4, 5, 6],\n",
              "       [5, 5, 5]], dtype=int32)"
            ]
          },
          "metadata": {},
          "execution_count": 16
        }
      ]
    },
    {
      "cell_type": "markdown",
      "source": [
        "Concatenate the matrices column-wise"
      ],
      "metadata": {
        "id": "sfy3PMXqEOU1"
      }
    },
    {
      "cell_type": "code",
      "source": [
        "tf.concat([x, y], 1).numpy()"
      ],
      "metadata": {
        "colab": {
          "base_uri": "https://localhost:8080/"
        },
        "id": "CVqkZCxuELSc",
        "outputId": "08434948-eda7-4444-ec4d-b49734bf1cd2"
      },
      "execution_count": 17,
      "outputs": [
        {
          "output_type": "execute_result",
          "data": {
            "text/plain": [
              "array([[3, 6, 9, 4, 5, 6],\n",
              "       [7, 7, 7, 5, 5, 5]], dtype=int32)"
            ]
          },
          "metadata": {},
          "execution_count": 17
        }
      ]
    },
    {
      "cell_type": "markdown",
      "source": [
        "Stack the x matrix using the stack function"
      ],
      "metadata": {
        "id": "ihMdJPnMEWGJ"
      }
    },
    {
      "cell_type": "code",
      "source": [
        "x = tf.Variable([[1.0, 5.0], [2.0, 3.0]])\n",
        "x.numpy()"
      ],
      "metadata": {
        "colab": {
          "base_uri": "https://localhost:8080/"
        },
        "id": "VtwENTP2ESz8",
        "outputId": "a01b886d-b412-410c-a453-826cf481df35"
      },
      "execution_count": 18,
      "outputs": [
        {
          "output_type": "execute_result",
          "data": {
            "text/plain": [
              "array([[1., 5.],\n",
              "       [2., 3.]], dtype=float32)"
            ]
          },
          "metadata": {},
          "execution_count": 18
        }
      ]
    },
    {
      "cell_type": "markdown",
      "source": [
        "The reduce_mean operation"
      ],
      "metadata": {
        "id": "991rWOVuElfd"
      }
    },
    {
      "cell_type": "code",
      "source": [
        "x = tf.Variable([[1.0, 5.0], [2.0, 3.0]])\n",
        "x.numpy()"
      ],
      "metadata": {
        "colab": {
          "base_uri": "https://localhost:8080/"
        },
        "id": "6NhSODPWEbys",
        "outputId": "a3061729-dc19-4d06-aaf7-2e714a4e8c54"
      },
      "execution_count": 19,
      "outputs": [
        {
          "output_type": "execute_result",
          "data": {
            "text/plain": [
              "array([[1., 5.],\n",
              "       [2., 3.]], dtype=float32)"
            ]
          },
          "metadata": {},
          "execution_count": 19
        }
      ]
    },
    {
      "cell_type": "markdown",
      "source": [
        "Compute the mean value of x"
      ],
      "metadata": {
        "id": "jwyDoiBBEwNH"
      }
    },
    {
      "cell_type": "code",
      "source": [
        "tf.reduce_mean(input_tensor=x).numpy()"
      ],
      "metadata": {
        "colab": {
          "base_uri": "https://localhost:8080/"
        },
        "id": "L4rErzRPEtXE",
        "outputId": "e37fe8c6-6cd6-4920-ec72-5d9a3d06ed8b"
      },
      "execution_count": 20,
      "outputs": [
        {
          "output_type": "execute_result",
          "data": {
            "text/plain": [
              "np.float32(2.75)"
            ]
          },
          "metadata": {},
          "execution_count": 20
        }
      ]
    },
    {
      "cell_type": "markdown",
      "source": [
        "Compute the mean across the row"
      ],
      "metadata": {
        "id": "ma3f_HXyE5hB"
      }
    },
    {
      "cell_type": "code",
      "source": [
        "tf.reduce_mean(input_tensor=x, axis=0).numpy()"
      ],
      "metadata": {
        "colab": {
          "base_uri": "https://localhost:8080/"
        },
        "id": "bF01ULfqEzH8",
        "outputId": "6f2fb32a-8ca1-4197-80bf-49297eeee048"
      },
      "execution_count": 21,
      "outputs": [
        {
          "output_type": "execute_result",
          "data": {
            "text/plain": [
              "array([1.5, 4. ], dtype=float32)"
            ]
          },
          "metadata": {},
          "execution_count": 21
        }
      ]
    },
    {
      "cell_type": "markdown",
      "source": [
        "Compute the mean across the column"
      ],
      "metadata": {
        "id": "qp3yMjJvFDQI"
      }
    },
    {
      "cell_type": "code",
      "source": [
        "tf.reduce_mean(input_tensor=x, axis=1, keepdims=True).numpy()"
      ],
      "metadata": {
        "colab": {
          "base_uri": "https://localhost:8080/"
        },
        "id": "JEGcidYyE_kE",
        "outputId": "8b4b4155-a9f3-4a72-eff2-2a654da8e9ca"
      },
      "execution_count": 22,
      "outputs": [
        {
          "output_type": "execute_result",
          "data": {
            "text/plain": [
              "array([[3. ],\n",
              "       [2.5]], dtype=float32)"
            ]
          },
          "metadata": {},
          "execution_count": 22
        }
      ]
    },
    {
      "cell_type": "markdown",
      "source": [
        "Draw random values from the probability distributions:"
      ],
      "metadata": {
        "id": "KvVHZ_0VFISX"
      }
    },
    {
      "cell_type": "code",
      "source": [
        "tf.random.normal(shape=(3,2), mean=10.0, stddev=2.0).numpy()\n",
        "tf.random.uniform(shape = (3,2), minval=0, maxval=None, dtype=tf.float32,).numpy()"
      ],
      "metadata": {
        "colab": {
          "base_uri": "https://localhost:8080/"
        },
        "id": "j7yCBSNXFGP0",
        "outputId": "655a9e99-cf92-4a67-ad72-0be4dd4795be"
      },
      "execution_count": 23,
      "outputs": [
        {
          "output_type": "execute_result",
          "data": {
            "text/plain": [
              "array([[0.5913557 , 0.7050874 ],\n",
              "       [0.56414545, 0.0860467 ],\n",
              "       [0.5919244 , 0.52158654]], dtype=float32)"
            ]
          },
          "metadata": {},
          "execution_count": 23
        }
      ]
    },
    {
      "cell_type": "markdown",
      "source": [
        "Compute the softmax probabilities:"
      ],
      "metadata": {
        "id": "-9qIaajxFWSE"
      }
    },
    {
      "cell_type": "code",
      "source": [
        "x = tf.constant([7., 2., 5.])\n",
        "tf.nn.softmax(x).numpy()"
      ],
      "metadata": {
        "colab": {
          "base_uri": "https://localhost:8080/"
        },
        "id": "GcVVIQlIFLxc",
        "outputId": "5d706ff3-ba9b-4322-ebe5-0d16218a6da1"
      },
      "execution_count": 24,
      "outputs": [
        {
          "output_type": "execute_result",
          "data": {
            "text/plain": [
              "array([0.8756006 , 0.00589975, 0.11849965], dtype=float32)"
            ]
          },
          "metadata": {},
          "execution_count": 24
        }
      ]
    },
    {
      "cell_type": "markdown",
      "source": [
        "Computing gradients"
      ],
      "metadata": {
        "id": "KWvsOw2zFl1G"
      }
    },
    {
      "cell_type": "markdown",
      "source": [
        "Define the square function"
      ],
      "metadata": {
        "id": "AcU16hGfFpAn"
      }
    },
    {
      "cell_type": "code",
      "source": [
        "def square(x):\n",
        "  return tf.multiply(x, x)"
      ],
      "metadata": {
        "id": "o9oLW6uaFhsd"
      },
      "execution_count": 25,
      "outputs": []
    },
    {
      "cell_type": "markdown",
      "source": [
        "Square function using tf.GradientTape"
      ],
      "metadata": {
        "id": "7czki0klF9vc"
      }
    },
    {
      "cell_type": "code",
      "source": [
        "with tf.GradientTape(persistent=True) as tape:\n",
        "  print(square(6.).numpy())"
      ],
      "metadata": {
        "colab": {
          "base_uri": "https://localhost:8080/"
        },
        "id": "s5_liITlFwQc",
        "outputId": "df38d032-4863-4580-ae09-df0679614e85"
      },
      "execution_count": 27,
      "outputs": [
        {
          "output_type": "stream",
          "name": "stdout",
          "text": [
            "36.0\n"
          ]
        }
      ]
    },
    {
      "cell_type": "markdown",
      "source": [
        "**TensorFlow 2.0 and Keras**"
      ],
      "metadata": {
        "id": "1-HF-k2fGQfi"
      }
    },
    {
      "cell_type": "markdown",
      "source": [
        "Defining a sequential model"
      ],
      "metadata": {
        "id": "za9bBBZZGTX1"
      }
    },
    {
      "cell_type": "code",
      "source": [
        "from tensorflow import keras"
      ],
      "metadata": {
        "id": "QU92pLS2GD7N"
      },
      "execution_count": 28,
      "outputs": []
    },
    {
      "cell_type": "code",
      "source": [
        "from keras.models import Sequential\n",
        "from keras.layers import Dense"
      ],
      "metadata": {
        "id": "StIANVuSGa-E"
      },
      "execution_count": 29,
      "outputs": []
    },
    {
      "cell_type": "code",
      "source": [
        "model = Sequential()"
      ],
      "metadata": {
        "id": "O8S5BbLOGck8"
      },
      "execution_count": 30,
      "outputs": []
    },
    {
      "cell_type": "markdown",
      "source": [
        "Adding layers to our model"
      ],
      "metadata": {
        "id": "c17biQahGj2z"
      }
    },
    {
      "cell_type": "code",
      "source": [
        "model.add(Dense(13, input_dim=7, activation='relu'))\n",
        "model.add(Dense(7, activation='relu'))\n",
        "model.add(Dense(1, activation='sigmoid'))"
      ],
      "metadata": {
        "colab": {
          "base_uri": "https://localhost:8080/"
        },
        "id": "KE5b-esdGeB0",
        "outputId": "75368f13-ccfa-45a5-c670-fff8953b00c0"
      },
      "execution_count": 31,
      "outputs": [
        {
          "output_type": "stream",
          "name": "stderr",
          "text": [
            "/usr/local/lib/python3.11/dist-packages/keras/src/layers/core/dense.py:87: UserWarning: Do not pass an `input_shape`/`input_dim` argument to a layer. When using Sequential models, prefer using an `Input(shape)` object as the first layer in the model instead.\n",
            "  super().__init__(activity_regularizer=activity_regularizer, **kwargs)\n"
          ]
        }
      ]
    },
    {
      "cell_type": "markdown",
      "source": [
        "Defining a functional model"
      ],
      "metadata": {
        "id": "6yNdVcZkHNrF"
      }
    },
    {
      "cell_type": "code",
      "source": [
        "input = tf.keras.Input(shape=(2,))\n",
        "layer1 = Dense(10, activation='relu')(input)\n",
        "layer2 = Dense(10, activation='relu')(layer1)\n",
        "output = Dense(1, activation='sigmoid')(layer2)\n",
        "model = tf.keras.Model(inputs=input, outputs=output)"
      ],
      "metadata": {
        "id": "br9n1nydGxC0"
      },
      "execution_count": 32,
      "outputs": []
    },
    {
      "cell_type": "markdown",
      "source": [
        "Compiling the model"
      ],
      "metadata": {
        "id": "JekwDYoXHWTM"
      }
    },
    {
      "cell_type": "code",
      "source": [
        "model.compile(loss='binary_crossentropy', optimizer='sgd', metrics=['accuracy'])"
      ],
      "metadata": {
        "id": "99Hf2OmcHTAM"
      },
      "execution_count": 33,
      "outputs": []
    },
    {
      "cell_type": "markdown",
      "source": [
        "Training the model"
      ],
      "metadata": {
        "id": "-B-o1P3QHmlD"
      }
    },
    {
      "cell_type": "markdown",
      "source": [
        "MNIST digit classification using\n",
        "TensorFlow 2.0\n"
      ],
      "metadata": {
        "id": "rweFUJczH1fl"
      }
    },
    {
      "cell_type": "code",
      "source": [
        "mnist = tf.keras.datasets.mnist"
      ],
      "metadata": {
        "id": "Ph_56uhIHe_M"
      },
      "execution_count": 34,
      "outputs": []
    },
    {
      "cell_type": "markdown",
      "source": [
        "Splitting the dataset into train and test"
      ],
      "metadata": {
        "id": "la53nIotIBKE"
      }
    },
    {
      "cell_type": "code",
      "source": [
        "(x_train,y_train), (x_test, y_test) = mnist.load_data()"
      ],
      "metadata": {
        "colab": {
          "base_uri": "https://localhost:8080/"
        },
        "id": "uzf14ApMH5Jc",
        "outputId": "4ea60359-df4d-453b-b5a6-f5f6d153b7a2"
      },
      "execution_count": 35,
      "outputs": [
        {
          "output_type": "stream",
          "name": "stdout",
          "text": [
            "Downloading data from https://storage.googleapis.com/tensorflow/tf-keras-datasets/mnist.npz\n",
            "\u001b[1m11490434/11490434\u001b[0m \u001b[32m━━━━━━━━━━━━━━━━━━━━\u001b[0m\u001b[37m\u001b[0m \u001b[1m0s\u001b[0m 0us/step\n"
          ]
        }
      ]
    },
    {
      "cell_type": "code",
      "source": [
        "x_train, x_test = tf.cast(x_train/255.0, tf.float32), tf.cast(x_test/255.0, tf.float32)\n",
        "y_train, y_test = tf.cast(y_train,tf.int64),tf.cast(y_test,tf.int64)"
      ],
      "metadata": {
        "id": "uurfz2VmIE7e"
      },
      "execution_count": 36,
      "outputs": []
    },
    {
      "cell_type": "markdown",
      "source": [
        "Model creation"
      ],
      "metadata": {
        "id": "vKRMfi97IJCR"
      }
    },
    {
      "cell_type": "code",
      "source": [
        "model = tf.keras.models.Sequential()"
      ],
      "metadata": {
        "id": "yLSYuCU9IHfF"
      },
      "execution_count": 37,
      "outputs": []
    },
    {
      "cell_type": "markdown",
      "source": [
        "Adding layers to our model"
      ],
      "metadata": {
        "id": "DX3n5YJtINDq"
      }
    },
    {
      "cell_type": "code",
      "source": [
        "model.add(tf.keras.layers.Flatten())\n",
        "model.add(tf.keras.layers.Dense(256, activation=\"relu\"))\n",
        "model.add(tf.keras.layers.Dense(128, activation=\"relu\"))\n",
        "model.add(tf.keras.layers.Dense(10, activation=\"softmax\"))"
      ],
      "metadata": {
        "id": "h30kCJoHIMtF"
      },
      "execution_count": 38,
      "outputs": []
    },
    {
      "cell_type": "markdown",
      "source": [
        "Model compilation"
      ],
      "metadata": {
        "id": "F3qTHCToIVGx"
      }
    },
    {
      "cell_type": "code",
      "source": [
        "model.compile(optimizer='sgd', loss='sparse_categorical_crossentropy', metrics=['accuracy'])"
      ],
      "metadata": {
        "id": "69D78FpPITyt"
      },
      "execution_count": 39,
      "outputs": []
    },
    {
      "cell_type": "markdown",
      "source": [
        "Model trraining"
      ],
      "metadata": {
        "id": "grnfTE5mIY7h"
      }
    },
    {
      "cell_type": "code",
      "source": [
        "model.fit(x_train, y_train, batch_size=32, epochs=10)"
      ],
      "metadata": {
        "colab": {
          "base_uri": "https://localhost:8080/"
        },
        "id": "c3IGke3IIYjl",
        "outputId": "01895756-adf6-4442-b278-c63beca6a1d0"
      },
      "execution_count": 40,
      "outputs": [
        {
          "output_type": "stream",
          "name": "stdout",
          "text": [
            "Epoch 1/10\n",
            "\u001b[1m1875/1875\u001b[0m \u001b[32m━━━━━━━━━━━━━━━━━━━━\u001b[0m\u001b[37m\u001b[0m \u001b[1m7s\u001b[0m 3ms/step - accuracy: 0.7218 - loss: 1.0162\n",
            "Epoch 2/10\n",
            "\u001b[1m1875/1875\u001b[0m \u001b[32m━━━━━━━━━━━━━━━━━━━━\u001b[0m\u001b[37m\u001b[0m \u001b[1m8s\u001b[0m 4ms/step - accuracy: 0.9167 - loss: 0.2930\n",
            "Epoch 3/10\n",
            "\u001b[1m1875/1875\u001b[0m \u001b[32m━━━━━━━━━━━━━━━━━━━━\u001b[0m\u001b[37m\u001b[0m \u001b[1m8s\u001b[0m 4ms/step - accuracy: 0.9336 - loss: 0.2331\n",
            "Epoch 4/10\n",
            "\u001b[1m1875/1875\u001b[0m \u001b[32m━━━━━━━━━━━━━━━━━━━━\u001b[0m\u001b[37m\u001b[0m \u001b[1m8s\u001b[0m 3ms/step - accuracy: 0.9433 - loss: 0.1969\n",
            "Epoch 5/10\n",
            "\u001b[1m1875/1875\u001b[0m \u001b[32m━━━━━━━━━━━━━━━━━━━━\u001b[0m\u001b[37m\u001b[0m \u001b[1m10s\u001b[0m 3ms/step - accuracy: 0.9521 - loss: 0.1701\n",
            "Epoch 6/10\n",
            "\u001b[1m1875/1875\u001b[0m \u001b[32m━━━━━━━━━━━━━━━━━━━━\u001b[0m\u001b[37m\u001b[0m \u001b[1m11s\u001b[0m 3ms/step - accuracy: 0.9566 - loss: 0.1510\n",
            "Epoch 7/10\n",
            "\u001b[1m1875/1875\u001b[0m \u001b[32m━━━━━━━━━━━━━━━━━━━━\u001b[0m\u001b[37m\u001b[0m \u001b[1m11s\u001b[0m 4ms/step - accuracy: 0.9618 - loss: 0.1342\n",
            "Epoch 8/10\n",
            "\u001b[1m1875/1875\u001b[0m \u001b[32m━━━━━━━━━━━━━━━━━━━━\u001b[0m\u001b[37m\u001b[0m \u001b[1m6s\u001b[0m 3ms/step - accuracy: 0.9645 - loss: 0.1201\n",
            "Epoch 9/10\n",
            "\u001b[1m1875/1875\u001b[0m \u001b[32m━━━━━━━━━━━━━━━━━━━━\u001b[0m\u001b[37m\u001b[0m \u001b[1m7s\u001b[0m 4ms/step - accuracy: 0.9686 - loss: 0.1105\n",
            "Epoch 10/10\n",
            "\u001b[1m1875/1875\u001b[0m \u001b[32m━━━━━━━━━━━━━━━━━━━━\u001b[0m\u001b[37m\u001b[0m \u001b[1m6s\u001b[0m 3ms/step - accuracy: 0.9727 - loss: 0.0993\n"
          ]
        },
        {
          "output_type": "execute_result",
          "data": {
            "text/plain": [
              "<keras.src.callbacks.history.History at 0x79fece9401d0>"
            ]
          },
          "metadata": {},
          "execution_count": 40
        }
      ]
    },
    {
      "cell_type": "markdown",
      "source": [
        "Model evaluation"
      ],
      "metadata": {
        "id": "hkOoLynZIfx7"
      }
    },
    {
      "cell_type": "code",
      "source": [
        "model.evaluate(x_test, y_test)"
      ],
      "metadata": {
        "colab": {
          "base_uri": "https://localhost:8080/"
        },
        "id": "Gu8jC5NsIc_M",
        "outputId": "8ded2f6a-21f3-4e21-b970-486d01f383d8"
      },
      "execution_count": 41,
      "outputs": [
        {
          "output_type": "stream",
          "name": "stdout",
          "text": [
            "\u001b[1m313/313\u001b[0m \u001b[32m━━━━━━━━━━━━━━━━━━━━\u001b[0m\u001b[37m\u001b[0m \u001b[1m1s\u001b[0m 4ms/step - accuracy: 0.9604 - loss: 0.1276\n"
          ]
        },
        {
          "output_type": "execute_result",
          "data": {
            "text/plain": [
              "[0.10943730175495148, 0.9661999940872192]"
            ]
          },
          "metadata": {},
          "execution_count": 41
        }
      ]
    }
  ]
}